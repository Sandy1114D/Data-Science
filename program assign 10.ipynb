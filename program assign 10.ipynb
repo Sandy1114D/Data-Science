{
  "nbformat": 4,
  "nbformat_minor": 0,
  "metadata": {
    "colab": {
      "provenance": []
    },
    "kernelspec": {
      "name": "python3",
      "display_name": "Python 3"
    },
    "language_info": {
      "name": "python"
    }
  },
  "cells": [
    {
      "cell_type": "markdown",
      "source": [
        "1. Write a Python program to find sum of elements in list?\n",
        "2. Write a Python program to Multiply all numbers in the list?\n",
        "3. Write a Python program to find smallest number in a list?\n",
        "4. Write a Python program to find largest number in a list?\n",
        "5. Write a Python program to find second largest number in a list?\n",
        "6. Write a Python program to find N largest elements from a list?\n",
        "7. Write a Python program to print even numbers in a list?\n",
        "8. Write a Python program to print odd numbers in a List?\n",
        "9. Write a Python program to Remove empty List from List?\n",
        "10. Write a Python program to Cloning or Copying a list?\n",
        "11. Write a Python program to Count occurrences of an element in a list?"
      ],
      "metadata": {
        "id": "_zKxaLMhTQHD"
      }
    },
    {
      "cell_type": "code",
      "source": [
        "my_list = [2, 4, 6, 8, 10]  # sample list\n",
        "sum = 0  # initialize sum to 0\n",
        "\n",
        "for num in my_list:\n",
        "    sum += num  # add each number in the list to the sum variable\n",
        "\n",
        "print(\"The sum of the elements in the list is:\", sum)\n"
      ],
      "metadata": {
        "colab": {
          "base_uri": "https://localhost:8080/"
        },
        "id": "DFLU-yMyTS9V",
        "outputId": "281048f5-fb56-45e5-a7e8-152aa97cffa9"
      },
      "execution_count": 1,
      "outputs": [
        {
          "output_type": "stream",
          "name": "stdout",
          "text": [
            "The sum of the elements in the list is: 30\n"
          ]
        }
      ]
    },
    {
      "cell_type": "code",
      "source": [
        "my_list = [2, 4, 6, 8, 10]  # sample list\n",
        "product = 1  # initialize product to 1\n",
        "\n",
        "for num in my_list:\n",
        "    product *= num  # multiply each number in the list with the product variable\n",
        "\n",
        "print(\"The product of the elements in the list is:\", product)\n"
      ],
      "metadata": {
        "colab": {
          "base_uri": "https://localhost:8080/"
        },
        "id": "C1M1TgmjTrO4",
        "outputId": "7d6c43fb-fec0-4d7d-e8bc-a50fa1fa12e7"
      },
      "execution_count": 2,
      "outputs": [
        {
          "output_type": "stream",
          "name": "stdout",
          "text": [
            "The product of the elements in the list is: 3840\n"
          ]
        }
      ]
    },
    {
      "cell_type": "code",
      "source": [
        "my_list = [10, 3, 7, 1, 9]  # sample list\n",
        "smallest = my_list[0]  # initialize smallest to the first element in the list\n",
        "\n",
        "for num in my_list:\n",
        "    if num < smallest:\n",
        "        smallest = num  # update smallest if a smaller number is found\n",
        "\n",
        "print(\"The smallest number in the list is:\", smallest)\n"
      ],
      "metadata": {
        "colab": {
          "base_uri": "https://localhost:8080/"
        },
        "id": "IWUxNWCDT201",
        "outputId": "7378f688-4ab3-44f6-94fe-c323411b7040"
      },
      "execution_count": 3,
      "outputs": [
        {
          "output_type": "stream",
          "name": "stdout",
          "text": [
            "The smallest number in the list is: 1\n"
          ]
        }
      ]
    },
    {
      "cell_type": "code",
      "source": [
        "my_list = [10, 3, 7, 1, 9]  # sample list\n",
        "largest = my_list[0]  # initialize largest to the first element in the list\n",
        "\n",
        "for num in my_list:\n",
        "    if num > largest:\n",
        "        largest = num  # update largest if a larger number is found\n",
        "\n",
        "print(\"The largest number in the list is:\", largest)\n",
        "\n"
      ],
      "metadata": {
        "colab": {
          "base_uri": "https://localhost:8080/"
        },
        "id": "sfclQL39Umzm",
        "outputId": "f29df398-e905-48bf-949e-769a53587014"
      },
      "execution_count": 4,
      "outputs": [
        {
          "output_type": "stream",
          "name": "stdout",
          "text": [
            "The largest number in the list is: 10\n"
          ]
        }
      ]
    },
    {
      "cell_type": "code",
      "source": [
        "my_list = [10, 3, 7, 1, 9]  # sample list\n",
        "largest = my_list[0]  # initialize largest to the first element in the list\n",
        "second_largest = my_list[0]  # initialize second_largest to the first element in the list\n",
        "\n",
        "for num in my_list:\n",
        "    if num > largest:\n",
        "        second_largest = largest  # update second_largest to the previous value of largest\n",
        "        largest = num  # update largest to the new largest value found\n",
        "    elif num > second_largest and num != largest:\n",
        "        second_largest = num  # update second_largest if a new value is found that is not equal to the largest\n",
        "\n",
        "print(\"The second largest number in the list is:\", second_largest)\n"
      ],
      "metadata": {
        "colab": {
          "base_uri": "https://localhost:8080/"
        },
        "id": "jjKIePPuU6HD",
        "outputId": "d0ee1e2f-c504-4f45-fea5-27491bca2276"
      },
      "execution_count": 5,
      "outputs": [
        {
          "output_type": "stream",
          "name": "stdout",
          "text": [
            "The second largest number in the list is: 10\n"
          ]
        }
      ]
    },
    {
      "cell_type": "code",
      "source": [
        "my_list = [10, 3, 7, 1, 9]  # sample list\n",
        "N = 3  # number of largest elements to find\n",
        "largest_elements = []  # empty list to store the N largest elements\n",
        "\n",
        "for i in range(N):\n",
        "    largest = max(my_list)  # find the largest number in the list\n",
        "    largest_elements.append(largest)  # add the largest number to the list of largest elements\n",
        "    my_list.remove(largest)  # remove the largest number from the original list\n",
        "\n",
        "print(\"The\", N, \"largest elements in the list are:\", largest_elements)\n"
      ],
      "metadata": {
        "colab": {
          "base_uri": "https://localhost:8080/"
        },
        "id": "6skEyCJvVLIz",
        "outputId": "283961b9-a968-45f1-bd79-fc4cb52cdd5c"
      },
      "execution_count": 6,
      "outputs": [
        {
          "output_type": "stream",
          "name": "stdout",
          "text": [
            "The 3 largest elements in the list are: [10, 9, 7]\n"
          ]
        }
      ]
    },
    {
      "cell_type": "code",
      "source": [
        "my_list = [1, 2, 3, 4, 5, 6, 7, 8, 9]  # sample list\n",
        "even_numbers = []  # empty list to store even numbers\n",
        "\n",
        "for num in my_list:\n",
        "    if num % 2 == 0:\n",
        "        even_numbers.append(num)  # add the even number to the list of even numbers\n",
        "\n",
        "print(\"The even numbers in the list are:\", even_numbers)\n"
      ],
      "metadata": {
        "colab": {
          "base_uri": "https://localhost:8080/"
        },
        "id": "g-rvdrewVlUK",
        "outputId": "14e05a24-e6c0-4ee4-b70e-f79409d86c51"
      },
      "execution_count": 7,
      "outputs": [
        {
          "output_type": "stream",
          "name": "stdout",
          "text": [
            "The even numbers in the list are: [2, 4, 6, 8]\n"
          ]
        }
      ]
    },
    {
      "cell_type": "code",
      "source": [
        "my_list = [1, 2, 3, 4, 5, 6, 7, 8, 9]  # sample list\n",
        "odd_numbers = []  # empty list to store odd numbers\n",
        "\n",
        "for num in my_list:\n",
        "    if num % 2 != 0:\n",
        "        odd_numbers.append(num)  # add the odd number to the list of odd numbers\n",
        "\n",
        "print(\"The odd numbers in the list are:\", odd_numbers)\n"
      ],
      "metadata": {
        "colab": {
          "base_uri": "https://localhost:8080/"
        },
        "id": "86uyGeZQV023",
        "outputId": "627a397f-0622-4070-816b-af626b87d9fc"
      },
      "execution_count": 8,
      "outputs": [
        {
          "output_type": "stream",
          "name": "stdout",
          "text": [
            "The odd numbers in the list are: [1, 3, 5, 7, 9]\n"
          ]
        }
      ]
    },
    {
      "cell_type": "code",
      "source": [
        "my_list = [1, [], 3, [], [], 6, 7, [], 9]  # sample list with empty lists\n",
        "new_list = [x for x in my_list if x != []]  # list comprehension to remove empty lists\n",
        "\n",
        "print(\"Original list:\", my_list)\n",
        "print(\"List with empty lists removed:\", new_list)\n"
      ],
      "metadata": {
        "colab": {
          "base_uri": "https://localhost:8080/"
        },
        "id": "T0iSBZp9WBM6",
        "outputId": "c6715640-77e7-4399-b5a1-8a3a704f05cc"
      },
      "execution_count": 9,
      "outputs": [
        {
          "output_type": "stream",
          "name": "stdout",
          "text": [
            "Original list: [1, [], 3, [], [], 6, 7, [], 9]\n",
            "List with empty lists removed: [1, 3, 6, 7, 9]\n"
          ]
        }
      ]
    },
    {
      "cell_type": "code",
      "source": [
        "my_list = [1, 2, 3, 4, 5]  # sample list\n",
        "new_list = my_list.copy()  # create a new list using the copy() method\n",
        "\n",
        "print(\"Original list:\", my_list)\n",
        "print(\"Cloned list:\", new_list)\n"
      ],
      "metadata": {
        "colab": {
          "base_uri": "https://localhost:8080/"
        },
        "id": "QzMdBU9sWX_l",
        "outputId": "2fc8399f-d45e-4a0e-a0c4-5f82db990518"
      },
      "execution_count": 10,
      "outputs": [
        {
          "output_type": "stream",
          "name": "stdout",
          "text": [
            "Original list: [1, 2, 3, 4, 5]\n",
            "Cloned list: [1, 2, 3, 4, 5]\n"
          ]
        }
      ]
    },
    {
      "cell_type": "code",
      "source": [
        "my_list = [1, 2, 3, 4, 2, 2, 5, 6, 2, 7]  # sample list\n",
        "element = 2  # element to count\n",
        "count = my_list.count(element)  # count occurrences of the element\n",
        "\n",
        "print(\"The number of occurrences of\", element, \"in the list is:\", count)\n"
      ],
      "metadata": {
        "colab": {
          "base_uri": "https://localhost:8080/"
        },
        "id": "vlWH-oMzWkqo",
        "outputId": "64a95b7c-7172-4414-8ea5-1005bd4de781"
      },
      "execution_count": 11,
      "outputs": [
        {
          "output_type": "stream",
          "name": "stdout",
          "text": [
            "The number of occurrences of 2 in the list is: 4\n"
          ]
        }
      ]
    }
  ]
}