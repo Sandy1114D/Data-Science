{
  "nbformat": 4,
  "nbformat_minor": 0,
  "metadata": {
    "colab": {
      "provenance": []
    },
    "kernelspec": {
      "name": "python3",
      "display_name": "Python 3"
    },
    "language_info": {
      "name": "python"
    }
  },
  "cells": [
    {
      "cell_type": "markdown",
      "source": [
        "Question1\n",
        "Create a function that takes three parameters where:\n",
        " x is the start of the range (inclusive).\n",
        " y is the end of the range (inclusive).\n",
        " n is the divisor to be checked against.\n",
        "Return an ordered list with numbers in the range that are divisible by the third parameter n.\n",
        "Return an empty list if there are no numbers that are divisible by n.\n",
        "Examples\n",
        "list_operation(1, 10, 3) ➞ [3, 6, 9]\n",
        "list_operation(7, 9, 2) ➞ [8]\n",
        "list_operation(15, 20, 7) ➞ []\n",
        "\n",
        "Question2\n",
        "Create a function that takes in two lists and returns True if the second list follows the first list\n",
        "by one element, and False otherwise. In other words, determine if the second list is the first\n",
        "list shifted to the right by 1.\n",
        "Examples\n",
        "simon_says([1, 2], [5, 1]) ➞ True\n",
        "simon_says([1, 2], [5, 5]) ➞ False\n",
        "simon_says([1, 2, 3, 4, 5], [0, 1, 2, 3, 4]) ➞ True\n",
        "simon_says([1, 2, 3, 4, 5], [5, 5, 1, 2, 3]) ➞ False\n",
        "Notes\n",
        " Both input lists will be of the same length, and will have a minimum length of 2.\n",
        " The values of the 0-indexed element in the second list and the n-1th indexed element\n",
        "in the first list do not matter.\n",
        "\n",
        "Question3\n",
        "A group of friends have decided to start a secret society. The name will be the first letter of\n",
        "each of their names, sorted in alphabetical order.\n",
        "Create a function that takes in a list of names and returns the name of the secret society.\n",
        "\n",
        "Examples\n",
        "society_name([&quot;Adam&quot;, &quot;Sarah&quot;, &quot;Malcolm&quot;]) ➞ &quot;AMS&quot;\n",
        "society_name([&quot;Harry&quot;, &quot;Newt&quot;, &quot;Luna&quot;, &quot;Cho&quot;]) ➞ &quot;CHLN&quot;\n",
        "society_name([&quot;Phoebe&quot;, &quot;Chandler&quot;, &quot;Rachel&quot;, &quot;Ross&quot;, &quot;Monica&quot;, &quot;Joey&quot;])\n",
        "\n",
        "Question4\n",
        "An isogram is a word that has no duplicate letters. Create a function that takes a string and\n",
        "returns either True or False depending on whether or not it&#39;s an &quot;isogram&quot;.\n",
        "Examples\n",
        "is_isogram(&quot;Algorism&quot;) ➞ True\n",
        "is_isogram(&quot;PasSword&quot;) ➞ False\n",
        "# Not case sensitive.\n",
        "is_isogram(&quot;Consecutive&quot;) ➞ False\n",
        "Notes\n",
        " Ignore letter case (should not be case sensitive).\n",
        " All test cases contain valid one word strings.\n",
        "\n",
        "Question5\n",
        "Create a function that takes a string and returns True or False, depending on whether the\n",
        "characters are in order or not.\n",
        "Examples\n",
        "is_in_order(&quot;abc&quot;) ➞ True\n",
        "is_in_order(&quot;edabit&quot;) ➞ False\n",
        "is_in_order(&quot;123&quot;) ➞ True\n",
        "is_in_order(&quot;xyzz&quot;) ➞ True\n",
        "Notes\n",
        "You don&#39;t have to handle empty strings."
      ],
      "metadata": {
        "id": "HfMZGyI_SM4D"
      }
    },
    {
      "cell_type": "code",
      "source": [
        "def list_operation(x, y, n):\n",
        "    result = [i for i in range(x, y+1) if i % n == 0]\n",
        "    return result\n",
        "\n",
        "x = int(input(\"Enter the start of the range: \"))\n",
        "y = int(input(\"Enter the end of the range: \"))\n",
        "n = int(input(\"Enter the divisor to be checked against: \"))\n",
        "\n",
        "print(list_operation(x, y, n))\n"
      ],
      "metadata": {
        "colab": {
          "base_uri": "https://localhost:8080/"
        },
        "id": "ShKBGbgMSrUD",
        "outputId": "8103d6e8-9477-4900-d527-87c2d80d2537"
      },
      "execution_count": 1,
      "outputs": [
        {
          "output_type": "stream",
          "name": "stdout",
          "text": [
            "Enter the start of the range: 1\n",
            "Enter the end of the range: 4\n",
            "Enter the divisor to be checked against: 2\n",
            "[2, 4]\n"
          ]
        }
      ]
    },
    {
      "cell_type": "code",
      "source": [
        "def simon_says(lst1, lst2):\n",
        "    for i in range(1, len(lst1)):\n",
        "        if lst1[i] != lst2[i-1]:\n",
        "            return False\n",
        "    return True\n",
        "\n",
        "lst1 = input(\"Enter the first list: \").split()\n",
        "lst2 = input(\"Enter the second list: \").split()\n",
        "\n",
        "print(simon_says(lst1, lst2))\n"
      ],
      "metadata": {
        "colab": {
          "base_uri": "https://localhost:8080/"
        },
        "id": "-o9EjHQZS6cU",
        "outputId": "a48181e0-f75d-4ade-9e2e-90f5f830befe"
      },
      "execution_count": 2,
      "outputs": [
        {
          "output_type": "stream",
          "name": "stdout",
          "text": [
            "Enter the first list: 1\n",
            "Enter the second list: 2 4 5 \n",
            "True\n"
          ]
        }
      ]
    },
    {
      "cell_type": "code",
      "source": [
        "def society_name(names):\n",
        "    result = ''.join(sorted([name[0] for name in names]))\n",
        "    return result\n",
        "\n",
        "names = input(\"Enter a list of names separated by spaces: \").split()\n",
        "\n",
        "print(society_name(names))\n"
      ],
      "metadata": {
        "colab": {
          "base_uri": "https://localhost:8080/"
        },
        "id": "UWeQ_zJfTDJT",
        "outputId": "2247f743-c42a-456e-fbe7-34f78d829a41"
      },
      "execution_count": 3,
      "outputs": [
        {
          "output_type": "stream",
          "name": "stdout",
          "text": [
            "Enter a list of names separated by spaces: h h g g f f f f i u t r \n",
            "ffffgghhirtu\n"
          ]
        }
      ]
    },
    {
      "cell_type": "code",
      "source": [
        "def is_isogram(string):\n",
        "    string = string.lower()\n",
        "    for char in string:\n",
        "        if string.count(char) > 1:\n",
        "            return False\n",
        "    return True\n",
        "\n",
        "string = input(\"Enter a string: \")\n",
        "\n",
        "print(is_isogram(string))\n"
      ],
      "metadata": {
        "colab": {
          "base_uri": "https://localhost:8080/"
        },
        "id": "tFm5Cel7TNc8",
        "outputId": "1730aa61-11e8-4061-9f2f-1d108a83aeaf"
      },
      "execution_count": 4,
      "outputs": [
        {
          "output_type": "stream",
          "name": "stdout",
          "text": [
            "Enter a string: sanket\n",
            "True\n"
          ]
        }
      ]
    },
    {
      "cell_type": "code",
      "source": [
        "def is_in_order(string):\n",
        "    for i in range(len(string)-1):\n",
        "        if string[i] > string[i+1]:\n",
        "            return False\n",
        "    return True\n",
        "\n",
        "string = input(\"Enter a string: \")\n",
        "\n",
        "print(is_in_order(string))\n"
      ],
      "metadata": {
        "colab": {
          "base_uri": "https://localhost:8080/"
        },
        "id": "9Sw8dQY9TU39",
        "outputId": "f0183b68-b4e0-474c-dcfa-a9ef77fd4228"
      },
      "execution_count": 5,
      "outputs": [
        {
          "output_type": "stream",
          "name": "stdout",
          "text": [
            "Enter a string: sanket patil\n",
            "False\n"
          ]
        }
      ]
    }
  ]
}