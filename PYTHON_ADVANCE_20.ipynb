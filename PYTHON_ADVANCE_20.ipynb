{
  "nbformat": 4,
  "nbformat_minor": 0,
  "metadata": {
    "colab": {
      "provenance": []
    },
    "kernelspec": {
      "name": "python3",
      "display_name": "Python 3"
    },
    "language_info": {
      "name": "python"
    }
  },
  "cells": [
    {
      "cell_type": "markdown",
      "source": [
        "1. Compare and contrast the float and Decimal classes&#39; benefits and drawbacks.\n",
        "\n",
        "2. Decimal(&#39;1.200&#39;) and Decimal(&#39;1.2&#39;) are two objects to consider. In what sense are these the same\n",
        "object? Are these just two ways of representing the exact same value, or do they correspond to\n",
        "different internal states?\n",
        "\n",
        "3. What happens if the equality of Decimal(&#39;1.200&#39;) and Decimal(&#39;1.2&#39;) is checked?\n",
        "\n",
        "4. Why is it preferable to start a Decimal object with a string rather than a floating-point value?\n",
        "\n",
        "5. In an arithmetic phrase, how simple is it to combine Decimal objects with integers?\n",
        "\n",
        "6. Can Decimal objects and floating-point values be combined easily?\n",
        "\n",
        "7. Using the Fraction class but not the Decimal class, give an example of a quantity that can be\n",
        "expressed with absolute precision.\n",
        "\n",
        "8. Describe a quantity that can be accurately expressed by the Decimal or Fraction classes but not by\n",
        "a floating-point value.\n",
        "\n",
        "Q9.Consider the following two fraction objects: Fraction(1, 2) and Fraction(1, 2). (5, 10). Is the internal\n",
        "state of these two objects the same? Why do you think that is?\n",
        "\n",
        "Q10. How do the Fraction class and the integer type (int) relate to each other? Containment or\n",
        "inheritance?"
      ],
      "metadata": {
        "id": "luc4Q1i7yMIv"
      }
    },
    {
      "cell_type": "markdown",
      "source": [
        "## **ANS OF ALL ABOVE QUESTIONS ARE AS FOLLOW**"
      ],
      "metadata": {
        "id": "1svnQ8P3yM_c"
      }
    },
    {
      "cell_type": "markdown",
      "source": [
        "1. The float class is built-in in Python and uses binary floating-point arithmetic. It is fast and efficient but can introduce rounding errors and imprecisions in calculations. The Decimal class, on the other hand, uses decimal floating-point arithmetic and allows for precise and exact decimal calculations. It is slower and less efficient but is ideal for financial and monetary calculations where exact values are required.\n",
        "\n",
        "2. Decimal('1.200') and Decimal('1.2') are not the same object but represent the same value. They correspond to different internal states since the former has a higher precision and trailing zeros, while the latter has fewer decimal places.\n",
        "\n",
        "3. The equality of Decimal('1.200') and Decimal('1.2') is checked based on their value, not their internal state. Therefore, they are considered equal, and the comparison would return True.\n",
        "\n",
        "4. Starting a Decimal object with a string ensures that the exact decimal value is preserved, without any potential rounding errors or imprecisions introduced by the floating-point arithmetic used in Python.\n",
        "\n",
        "5. Combining Decimal objects with integers is simple since Decimal objects can be instantiated from integers. For example, to add an integer to a Decimal object, the integer can be first converted to a Decimal object using the Decimal constructor and then added to the existing Decimal object.\n",
        "\n",
        "6. Combining Decimal objects and floating-point values is not straightforward since they use different arithmetic systems and can introduce rounding errors and imprecisions in calculations. It is recommended to convert floating-point values to Decimal objects before performing arithmetic operations to ensure exact decimal calculations.\n",
        "\n",
        "7. An example of a quantity that can be expressed with absolute precision using the Fraction class is 1/3. This is because 1/3 cannot be accurately represented as a finite decimal value but can be expressed exactly as a fraction.\n",
        "\n",
        "8. A quantity that can be accurately expressed by the Decimal or Fraction classes but not by a floating-point value is 0.1. This is because 0.1 cannot be represented exactly in binary floating-point arithmetic and can introduce rounding errors and imprecisions.\n",
        "\n",
        "9. The internal state of Fraction(1, 2) and Fraction(5, 10) is the same since both fractions reduce to 1/2. The Fraction class automatically reduces fractions to their simplest form, so different representations of the same fraction will have the same internal state.\n",
        "\n",
        "10. The Fraction class and the integer type (int) are related by containment, meaning that a Fraction object can contain an integer as its numerator or denominator. However, they are not related by inheritance since they are separate classes in Python."
      ],
      "metadata": {
        "id": "rOfjTUD0yWei"
      }
    }
  ]
}