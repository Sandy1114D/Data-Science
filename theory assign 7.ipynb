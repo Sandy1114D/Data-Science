{
  "nbformat": 4,
  "nbformat_minor": 0,
  "metadata": {
    "colab": {
      "provenance": []
    },
    "kernelspec": {
      "name": "python3",
      "display_name": "Python 3"
    },
    "language_info": {
      "name": "python"
    }
  },
  "cells": [
    {
      "cell_type": "markdown",
      "source": [
        "1. What is the name of the feature responsible for generating Regex objects?\n",
        "2. Why do raw strings often appear in Regex objects?\n",
        "3. What is the return value of the search() method?\n",
        "4. From a Match item, how do you get the actual strings that match the pattern?\n",
        "5. In the regex which created from the r&#39;(\\d\\d\\d)-(\\d\\d\\d-\\d\\d\\d\\d)&#39;, what does group zero cover?\n",
        "Group 2? Group 1?\n",
        "6. In standard expression syntax, parentheses and intervals have distinct meanings. How can you tell\n",
        "a regex that you want it to fit real parentheses and periods?\n",
        "7. The findall() method returns a string list or a list of string tuples. What causes it to return one of\n",
        "the two options?\n",
        "8. In standard expressions, what does the | character mean?\n",
        "9. In regular expressions, what does the character stand for?\n",
        "10.In regular expressions, what is the difference between the + and * characters?\n",
        "11. What is the difference between {4} and {4,5} in regular expression?\n",
        "12. What do you mean by the \\d, \\w, and \\s shorthand character classes signify in regular\n",
        "expressions?\n",
        "13. What do means by \\D, \\W, and \\S shorthand character classes signify in regular expressions?\n",
        "14. What is the difference between .*? and .*?\n",
        "15. What is the syntax for matching both numbers and lowercase letters with a character class?\n",
        "16. What is the procedure for making a normal expression in regax case insensitive?\n",
        "17. What does the . character normally match? What does it match if re.DOTALL is passed as 2nd\n",
        "argument in re.compile()?\n",
        "18. If numReg = re.compile(r&#39;\\d+&#39;), what will numRegex.sub(&#39;X&#39;, &#39;11 drummers, 10 pipers, five rings, 4\n",
        "hen&#39;) return?\n",
        "19. What does passing re.VERBOSE as the 2nd argument to re.compile() allow to do?\n",
        "20. How would you write a regex that match a number with comma for every three digits? It must\n",
        "match the given following:\n",
        "&#39;42&#39;\n",
        "&#39;1,234&#39;\n",
        "&#39;6,368,745&#39;\n",
        "\n",
        "but not the following:\n",
        "&#39;12,34,567&#39; (which has only two digits between the commas)\n",
        "&#39;1234&#39; (which lacks commas)\n",
        "21. How would you write a regex that matches the full name of someone whose last name is\n",
        "Watanabe? You can assume that the first name that comes before it will always be one word that\n",
        "begins with a capital letter. The regex must match the following:\n",
        "&#39;Haruto Watanabe&#39;\n",
        "&#39;Alice Watanabe&#39;\n",
        "&#39;RoboCop Watanabe&#39;\n",
        "but not the following:\n",
        "&#39;haruto Watanabe&#39; (where the first name is not capitalized)\n",
        "&#39;Mr. Watanabe&#39; (where the preceding word has a nonletter character)\n",
        "&#39;Watanabe&#39; (which has no first name)\n",
        "&#39;Haruto watanabe&#39; (where Watanabe is not capitalized)\n",
        "22. How would you write a regex that matches a sentence where the first word is either Alice, Bob,\n",
        "or Carol; the second word is either eats, pets, or throws; the third word is apples, cats, or baseballs;\n",
        "and the sentence ends with a period? This regex should be case-insensitive. It must match the\n",
        "following:\n",
        "&#39;Alice eats apples.&#39;\n",
        "&#39;Bob pets cats.&#39;\n",
        "&#39;Carol throws baseballs.&#39;\n",
        "&#39;Alice throws Apples.&#39;\n",
        "&#39;BOB EATS CATS.&#39;\n",
        "but not the following:\n",
        "&#39;RoboCop eats apples.&#39;\n",
        "&#39;ALICE THROWS FOOTBALLS.&#39;\n",
        "&#39;Carol eats 7 cats.&#39;"
      ],
      "metadata": {
        "id": "u4UtDBGGg5th"
      }
    },
    {
      "cell_type": "markdown",
      "source": [
        "## **ANS OF ABOVE QUESTIONS ARE AS FOLLOWS**"
      ],
      "metadata": {
        "id": "VZtExMhHhNHx"
      }
    },
    {
      "cell_type": "markdown",
      "source": [
        "1. The re module in Python is responsible for generating Regex objects.\n",
        "2. Raw strings are used in Regex objects to avoid Python's string escaping mechanism. Since regex patterns often use backslashes to represent special characters, using raw strings makes it easier to write and read regular expressions.\n",
        "3. The search() method returns a Match object if the pattern is found in the string, or None if the pattern is not found.\n",
        "4. The group() method of the Match object returns the actual string that matches the pattern.\n",
        "5. Group zero covers the entire match, while group 1 covers the first set of parentheses and group 2 covers the second set of parentheses.\n",
        "6. To match real parentheses and periods, you need to escape them using a backslash (\\) character.\n",
        "7. The findall() method returns a list of all non-overlapping matches of the pattern in the string. If the pattern contains groups, it returns a list of tuples, where each tuple contains the matching groups.\n",
        "8. The | character in regular expressions means \"or\". It is used to match one of several possible patterns.\n",
        "9. In regular expressions, the dot (.) character is a wildcard that matches any single character except for a newline.\n",
        "10. The + character matches one or more occurrences of the preceding character or group, while the * character matches zero or more occurrences of the preceding character or group.\n",
        "11. {4} matches exactly four occurrences of the preceding character or group, while {4,5} matches between four and five occurrences of the preceding character or group.\n",
        "12. The \\d shorthand character class matches any digit (0-9), \\w matches any word character (letters, digits, and underscores), and \\s matches any whitespace character (spaces, tabs, and newlines).\n",
        "13. The \\D shorthand character class matches any non-digit character, \\W matches any non-word character, and \\S matches any non-whitespace character.\n",
        "14. The .*? pattern matches any character zero or more times, but in a non-greedy way (i.e., it will match as few characters as possible). The .* pattern, on the other hand, matches any character zero or more times, but in a greedy way (i.e., it will match as many characters as possible).\n",
        "15. You can use the character class [0-9a-z] to match both numbers and lowercase letters.\n",
        "16. You can make a regular expression case insensitive by passing the re.IGNORECASE flag as the second argument to the re.compile() function.\n",
        "17. The . character in regular expressions normally matches any single character except for a newline. If the re.DOTALL flag is passed as the second argument to re.compile(), then the . character will match any character, including a newline.\n",
        "18. numRegex.sub('X', '11 drummers, 10 pipers, five rings, 4 hen') will return 'X drummers, X pipers, five rings, X hen'.\n",
        "19. Passing re.VERBOSE as the second argument to re.compile() allows you to include comments in your regular expression pattern, making it easier to read and understand.\n",
        "20. You can use the pattern r'^\\d{1,3}(,\\d{3})*$' to match a number with comma for every three digits.\n",
        "21. You can use the pattern r'[A-Z][a-z]*\\sWatanabe' to match a full name where the last name is Watanabe.\n",
        "22. You can use the pattern r'(Alice|Bob|Carol)\\s(eats|pets|throws)\\s(apples|cats|baseballs)\\.' to match a sentence where the first word is either Alice, Bob, or Carol; the second word is either eats, pets, or throws"
      ],
      "metadata": {
        "id": "mlw4MrO9hIxW"
      }
    }
  ]
}