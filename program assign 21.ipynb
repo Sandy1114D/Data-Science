{
  "nbformat": 4,
  "nbformat_minor": 0,
  "metadata": {
    "colab": {
      "provenance": []
    },
    "kernelspec": {
      "name": "python3",
      "display_name": "Python 3"
    },
    "language_info": {
      "name": "python"
    }
  },
  "cells": [
    {
      "cell_type": "markdown",
      "source": [
        "Question1\n",
        "Write a function that takes a list and a number as arguments. Add the number to the end of\n",
        "the list, then remove the first element of the list. The function should then return the updated\n",
        "list.\n",
        "Examples\n",
        "next_in_line([5, 6, 7, 8, 9], 1) ➞ [6, 7, 8, 9, 1]\n",
        "next_in_line([7, 6, 3, 23, 17], 10) ➞ [6, 3, 23, 17, 10]\n",
        "next_in_line([1, 10, 20, 42 ], 6) ➞ [10, 20, 42, 6]\n",
        "next_in_line([], 6) ➞ &quot;No list has been selected&quot;\n",
        "\n",
        "Question2\n",
        "Create the function that takes a list of dictionaries and returns the sum of people&#39;s budgets.\n",
        "Examples\n",
        "get_budgets([\n",
        "{ &quot;name&quot;: &quot;John&quot;, &quot;age&quot;: 21, &quot;budget&quot;: 23000 },\n",
        "{ &quot;name&quot;: &quot;Steve&quot;, &quot;age&quot;: 32, &quot;budget&quot;: 40000 },\n",
        "{ &quot;name&quot;: &quot;Martin&quot;, &quot;age&quot;: 16, &quot;budget&quot;: 2700 }\n",
        "]) ➞ 65700\n",
        "get_budgets([\n",
        "{ &quot;name&quot;: &quot;John&quot;, &quot;age&quot;: 21, &quot;budget&quot;: 29000 },\n",
        "{ &quot;name&quot;: &quot;Steve&quot;, &quot;age&quot;: 32, &quot;budget&quot;: 32000 },\n",
        "{ &quot;name&quot;: &quot;Martin&quot;, &quot;age&quot;: 16, &quot;budget&quot;: 1600 }\n",
        "]) ➞ 62600\n",
        "\n",
        "Question3\n",
        "Create a function that takes a string and returns a string with its letters in alphabetical order.\n",
        "Examples\n",
        "alphabet_soup(&quot;hello&quot;) ➞ &quot;ehllo&quot;\n",
        "alphabet_soup(&quot;edabit&quot;) ➞ &quot;abdeit&quot;\n",
        "alphabet_soup(&quot;hacker&quot;) ➞ &quot;acehkr&quot;\n",
        "alphabet_soup(&quot;geek&quot;) ➞ &quot;eegk&quot;\n",
        "alphabet_soup(&quot;javascript&quot;) ➞ &quot;aacijprstv&quot;\n",
        "\n",
        "Question4\n",
        "Suppose that you invest $10,000 for 10 years at an interest rate of 6% compounded monthly.\n",
        "What will be the value of your investment at the end of the 10 year period?\n",
        "Create a function that accepts the principal p, the term in years t, the interest rate r, and the\n",
        "number of compounding periods per year n. The function returns the value at the end of term\n",
        "rounded to the nearest cent.\n",
        "For the example above:\n",
        "compound_interest(10000, 10, 0.06, 12) ➞ 18193.97\n",
        "Note that the interest rate is given as a decimal and n=12 because with monthly compounding\n",
        "there are 12 periods per year. Compounding can also be done annually, quarterly, weekly, or\n",
        "daily.\n",
        "Examples\n",
        "compound_interest(100, 1, 0.05, 1) ➞ 105.0\n",
        "compound_interest(3500, 15, 0.1, 4) ➞ 15399.26\n",
        "compound_interest(100000, 20, 0.15, 365) ➞ 2007316.26\n",
        "\n",
        "Question5\n",
        "Write a function that takes a list of elements and returns only the integers.\n",
        "Examples\n",
        "return_only_integer([9, 2, &quot;space&quot;, &quot;car&quot;, &quot;lion&quot;, 16]) ➞ [9, 2, 16]\n",
        "return_only_integer([&quot;hello&quot;, 81, &quot;basketball&quot;, 123, &quot;fox&quot;]) ➞ [81, 123]\n",
        "return_only_integer([10, &quot;121&quot;, 56, 20, &quot;car&quot;, 3, &quot;lion&quot;]) ➞ [10, 56, 20,\n",
        "3]\n",
        "return_only_integer([&quot;String&quot;, True, 3.3, 1]) ➞ [1]"
      ],
      "metadata": {
        "id": "5WLfbanph7yp"
      }
    },
    {
      "cell_type": "code",
      "source": [
        "def next_in_line(lst, num):\n",
        "    if not lst:\n",
        "        return \"No list has been selected\"\n",
        "    lst.append(num)\n",
        "    lst.pop(0)\n",
        "    return lst\n",
        "\n",
        "# taking inputs from user\n",
        "lst = input(\"Enter a list of numbers separated by space: \").split()\n",
        "lst = [int(num) for num in lst]\n",
        "num = int(input(\"Enter a number to add at the end of the list: \"))\n",
        "print(next_in_line(lst, num))\n"
      ],
      "metadata": {
        "colab": {
          "base_uri": "https://localhost:8080/"
        },
        "id": "iYCAzooWh8R-",
        "outputId": "ef40db00-0dd0-4bf9-e3ee-4f01e522479a"
      },
      "execution_count": 2,
      "outputs": [
        {
          "output_type": "stream",
          "name": "stdout",
          "text": [
            "Enter a list of numbers separated by space: 5 6 7 8 9 \n",
            "Enter a number to add at the end of the list: 1\n",
            "[6, 7, 8, 9, 1]\n"
          ]
        }
      ]
    },
    {
      "cell_type": "code",
      "source": [
        "def get_budgets(dicts):\n",
        "    total_budget = 0\n",
        "    for d in dicts:\n",
        "        if 'budget' in d:\n",
        "            total_budget += d['budget']\n",
        "    return total_budget\n",
        "\n",
        "# Example usage:\n",
        "budgets = [\n",
        "    {\"name\": \"John\", \"age\": 21, \"budget\": 23000},\n",
        "    {\"name\": \"Steve\", \"age\": 32, \"budget\": 40000},\n",
        "    {\"name\": \"Martin\", \"age\": 16, \"budget\": 2700},\n",
        "    {\"name\": \"Jane\", \"age\": 25, \"budget\": 15000},\n",
        "    {\"name\": \"Bob\", \"age\": 45, \"budget\": 50000}\n",
        "]\n",
        "total = get_budgets(budgets[:5])  # only take the first 5 dictionaries in the list\n",
        "print(total)  # Output: 130700\n"
      ],
      "metadata": {
        "colab": {
          "base_uri": "https://localhost:8080/"
        },
        "id": "m9H5t5uXjYUp",
        "outputId": "3c13f919-af85-4857-bfff-82c3fadec0ff"
      },
      "execution_count": 4,
      "outputs": [
        {
          "output_type": "stream",
          "name": "stdout",
          "text": [
            "130700\n"
          ]
        }
      ]
    },
    {
      "cell_type": "code",
      "source": [
        "def alphabet_soup(txt):\n",
        "    return ''.join(sorted(txt))\n",
        "\n",
        "# taking input from user\n",
        "txt = input(\"Enter a string: \")\n",
        "print(alphabet_soup(txt))\n"
      ],
      "metadata": {
        "colab": {
          "base_uri": "https://localhost:8080/"
        },
        "id": "Doy26rQNjh7u",
        "outputId": "f8a73a33-b5cf-4b52-e8e5-c429711f3fe8"
      },
      "execution_count": 5,
      "outputs": [
        {
          "output_type": "stream",
          "name": "stdout",
          "text": [
            "Enter a string: sanket\n",
            "aeknst\n"
          ]
        }
      ]
    },
    {
      "cell_type": "code",
      "source": [
        "def compound_interest(p, t, r, n):\n",
        "    A = p * (1 + r/n) ** (n*t)\n",
        "    return round(A, 2)\n",
        "\n",
        "# taking inputs from user\n",
        "p = float(input(\"Enter the principal amount: \"))\n",
        "t = int(input(\"Enter the term in years: \"))\n",
        "r = float(input(\"Enter the interest rate (in decimal): \"))\n",
        "n = int(input(\"Enter the number of compounding periods per year: \"))\n",
        "print(compound_interest(p, t, r, n))\n"
      ],
      "metadata": {
        "colab": {
          "base_uri": "https://localhost:8080/"
        },
        "id": "XjKNxR0wjnFu",
        "outputId": "86eae9c6-1dc9-48fe-f99c-175c50b5df79"
      },
      "execution_count": 6,
      "outputs": [
        {
          "output_type": "stream",
          "name": "stdout",
          "text": [
            "Enter the principal amount: 100000\n",
            "Enter the term in years: 10\n",
            "Enter the interest rate (in decimal): 8\n",
            "Enter the number of compounding periods per year: 1\n",
            "348678440100000.0\n"
          ]
        }
      ]
    },
    {
      "cell_type": "code",
      "source": [
        "def return_only_integer(lst):\n",
        "    return [x for x in lst if type(x) == int]\n",
        "\n",
        "# taking input from user\n",
        "lst = input(\"Enter a list of elements separated by space: \").split()\n",
        "lst = [eval(x) for x in lst]  # using eval() to automatically convert string representations of numbers to integers\n",
        "print(return_only_integer(lst))\n",
        "\n"
      ],
      "metadata": {
        "colab": {
          "base_uri": "https://localhost:8080/"
        },
        "id": "x81GgPzHj5vk",
        "outputId": "92ed9a9e-8bdb-4816-ca35-662f02433e3d"
      },
      "execution_count": 11,
      "outputs": [
        {
          "output_type": "stream",
          "name": "stdout",
          "text": [
            "Enter a list of elements separated by space: 3 4 5 \"dgdbb\"\n",
            "[3, 4, 5]\n"
          ]
        }
      ]
    }
  ]
}