{
  "nbformat": 4,
  "nbformat_minor": 0,
  "metadata": {
    "colab": {
      "provenance": []
    },
    "kernelspec": {
      "name": "python3",
      "display_name": "Python 3"
    },
    "language_info": {
      "name": "python"
    }
  },
  "cells": [
    {
      "cell_type": "markdown",
      "source": [
        "<aside>\n",
        "💡 **Question 1**\n",
        "\n",
        "A permutation perm of n + 1 integers of all the integers in the range [0, n] can be represented as a string s of length n where:\n",
        "\n",
        "- s[i] == 'I' if perm[i] < perm[i + 1], and\n",
        "- s[i] == 'D' if perm[i] > perm[i + 1].\n",
        "\n",
        "Given a string s, reconstruct the permutation perm and return it. If there are multiple valid permutations perm, return **any of them**.\n",
        "\n",
        "**Example 1:**\n",
        "\n",
        "**Input:** s = \"IDID\"\n",
        "\n",
        "**Output:**\n",
        "\n",
        "[0,4,1,3,2]\n",
        "\n",
        "</aside> TAKE USER INPUT IN SOLUTION CODE\n",
        "<aside>\n",
        "\n",
        "\n",
        "💡 **Question 2**\n",
        "\n",
        "You are given an m x n integer matrix matrix with the following two properties:\n",
        "\n",
        "- Each row is sorted in non-decreasing order.\n",
        "- The first integer of each row is greater than the last integer of the previous row.\n",
        "\n",
        "Given an integer target, return true *if* target *is in* matrix *or* false *otherwise*.\n",
        "\n",
        "You must write a solution in O(log(m * n)) time complexity.\n",
        "\n",
        "</aside>\n",
        "\n",
        "<aside>\n",
        "\n",
        "\n",
        "💡 **Question 3**\n",
        "\n",
        "Given an array of integers arr, return *true if and only if it is a valid mountain array*.\n",
        "\n",
        "Recall that arr is a mountain array if and only if:\n",
        "\n",
        "- arr.length >= 3\n",
        "- There exists some i with 0 < i < arr.length - 1 such that:\n",
        "    - arr[0] < arr[1] < ... < arr[i - 1] < arr[i]\n",
        "    - arr[i] > arr[i + 1] > ... > arr[arr.length - 1]\n",
        "</aside>\n",
        "\n",
        "<aside>\n",
        "\n",
        "\n",
        "💡 **Question 4**\n",
        "\n",
        "Given a binary array nums, return *the maximum length of a contiguous subarray with an equal number of* 0 *and* 1.\n",
        "\n",
        "**Example 1:**\n",
        "\n",
        "**Input:** nums = [0,1]\n",
        "\n",
        "**Output:** 2\n",
        "\n",
        "**Explanation:**\n",
        "\n",
        "[0, 1] is the longest contiguous subarray with an equal number of 0 and 1.\n",
        "\n",
        "</aside>\n",
        "\n",
        "<aside>\n",
        "\n",
        "\n",
        "💡 **Question 5**\n",
        "\n",
        "The **product sum** of two equal-length arrays a and b is equal to the sum of a[i] * b[i] for all 0 <= i < a.length (**0-indexed**).\n",
        "\n",
        "- For example, if a = [1,2,3,4] and b = [5,2,3,1], the **product sum** would be 1*5 + 2*2 + 3*3 + 4*1 = 22.\n",
        "\n",
        "Given two arrays nums1 and nums2 of length n, return *the **minimum product sum** if you are allowed to **rearrange** the **order** of the elements in* nums1.\n",
        "\n",
        "**Example 1:**\n",
        "\n",
        "**Input:** nums1 = [5,3,4,2], nums2 = [4,2,2,5]\n",
        "\n",
        "**Output:** 40\n",
        "\n",
        "**Explanation:**\n",
        "\n",
        "We can rearrange nums1 to become [3,5,4,2]. The product sum of [3,5,4,2] and [4,2,2,5] is 3*4 + 5*2 + 4*2 + 2*5 = 40.\n",
        "\n",
        "</aside>\n",
        "\n",
        "<aside>\n",
        "\n",
        "\n",
        "💡 **Question 6**\n",
        "\n",
        "An integer array original is transformed into a **doubled** array changed by appending **twice the value** of every element in original, and then randomly **shuffling** the resulting array.\n",
        "\n",
        "Given an array changed, return original *if* changed *is a **doubled** array. If* changed *is not a **doubled** array, return an empty array. The elements in* original *may be returned in **any** order*.\n",
        "\n",
        "**Example 1:**\n",
        "\n",
        "**Input:** changed = [1,3,4,2,6,8]\n",
        "\n",
        "**Output:** [1,3,4]\n",
        "\n",
        "**Explanation:** One possible original array could be [1,3,4]:\n",
        "\n",
        "- Twice the value of 1 is 1 * 2 = 2.\n",
        "- Twice the value of 3 is 3 * 2 = 6.\n",
        "- Twice the value of 4 is 4 * 2 = 8.\n",
        "\n",
        "Other original arrays could be [4,3,1] or [3,1,4].\n",
        "\n",
        "</aside>"
      ],
      "metadata": {
        "id": "_Gayh6pA_0fb"
      }
    },
    {
      "cell_type": "code",
      "source": [
        "def findPermutation(s):\n",
        "    n = len(s)\n",
        "    perm = [0] * (n + 1)\n",
        "    stack = []\n",
        "    j = 1\n",
        "\n",
        "    for i in range(n):\n",
        "        if s[i] == 'I':\n",
        "            perm[i] = j\n",
        "            j += 1\n",
        "\n",
        "            while stack:\n",
        "                perm[stack.pop()] = j\n",
        "                j += 1\n",
        "        else:\n",
        "            stack.append(i)\n",
        "\n",
        "    perm[n] = j\n",
        "    j += 1\n",
        "\n",
        "    while stack:\n",
        "        perm[stack.pop()] = j\n",
        "        j += 1\n",
        "\n",
        "    return perm\n",
        "\n",
        "# Take user input for string s\n",
        "s = input(\"Enter the string s: \")\n",
        "\n",
        "# Call the function to find the permutation\n",
        "perm = findPermutation(s)\n",
        "\n",
        "# Print the resulting permutation\n",
        "print(perm)\n"
      ],
      "metadata": {
        "colab": {
          "base_uri": "https://localhost:8080/"
        },
        "id": "2JDR2Joc_2yK",
        "outputId": "da3025d4-a056-4d6a-b798-d58eb76db1c3"
      },
      "execution_count": 1,
      "outputs": [
        {
          "output_type": "stream",
          "name": "stdout",
          "text": [
            "Enter the string s: SANKET\n",
            "[7, 6, 5, 4, 3, 2, 1]\n"
          ]
        }
      ]
    },
    {
      "cell_type": "code",
      "source": [
        "def searchMatrix(matrix, target):\n",
        "    if not matrix or not matrix[0]:\n",
        "        return False\n",
        "\n",
        "    rows = len(matrix)\n",
        "    cols = len(matrix[0])\n",
        "    left = 0\n",
        "    right = rows * cols - 1\n",
        "\n",
        "    while left <= right:\n",
        "        mid = (left + right) // 2\n",
        "        num = matrix[mid // cols][mid % cols]\n",
        "\n",
        "        if num == target:\n",
        "            return True\n",
        "        elif num < target:\n",
        "            left = mid + 1\n",
        "        else:\n",
        "            right = mid - 1\n",
        "\n",
        "    return False\n",
        "\n",
        "# Take user input for the matrix\n",
        "rows = int(input(\"Enter the number of rows: \"))\n",
        "cols = int(input(\"Enter the number of columns: \"))\n",
        "\n",
        "matrix = []\n",
        "for i in range(rows):\n",
        "    row = list(map(int, input(f\"Enter space-separated integers for row {i+1}: \").split()))\n",
        "    matrix.append(row)\n",
        "\n",
        "# Take user input for the target\n",
        "target = int(input(\"Enter the target number: \"))\n",
        "\n",
        "# Call the function to search for the target in the matrix\n",
        "result = searchMatrix(matrix, target)\n",
        "\n",
        "# Print the result\n",
        "print(result)\n"
      ],
      "metadata": {
        "colab": {
          "base_uri": "https://localhost:8080/",
          "height": 252
        },
        "id": "CPj7Q7S3ANOn",
        "outputId": "8baf4d73-d959-4a95-c53c-d0e9f0a23720"
      },
      "execution_count": 7,
      "outputs": [
        {
          "name": "stdout",
          "output_type": "stream",
          "text": [
            "Enter the number of rows: 1 2 3 4 \n"
          ]
        },
        {
          "output_type": "error",
          "ename": "ValueError",
          "evalue": "ignored",
          "traceback": [
            "\u001b[0;31m---------------------------------------------------------------------------\u001b[0m",
            "\u001b[0;31mValueError\u001b[0m                                Traceback (most recent call last)",
            "\u001b[0;32m<ipython-input-7-ce212d00e55a>\u001b[0m in \u001b[0;36m<cell line: 24>\u001b[0;34m()\u001b[0m\n\u001b[1;32m     22\u001b[0m \u001b[0;34m\u001b[0m\u001b[0m\n\u001b[1;32m     23\u001b[0m \u001b[0;31m# Take user input for the matrix\u001b[0m\u001b[0;34m\u001b[0m\u001b[0;34m\u001b[0m\u001b[0m\n\u001b[0;32m---> 24\u001b[0;31m \u001b[0mrows\u001b[0m \u001b[0;34m=\u001b[0m \u001b[0mint\u001b[0m\u001b[0;34m(\u001b[0m\u001b[0minput\u001b[0m\u001b[0;34m(\u001b[0m\u001b[0;34m\"Enter the number of rows: \"\u001b[0m\u001b[0;34m)\u001b[0m\u001b[0;34m)\u001b[0m\u001b[0;34m\u001b[0m\u001b[0;34m\u001b[0m\u001b[0m\n\u001b[0m\u001b[1;32m     25\u001b[0m \u001b[0mcols\u001b[0m \u001b[0;34m=\u001b[0m \u001b[0mint\u001b[0m\u001b[0;34m(\u001b[0m\u001b[0minput\u001b[0m\u001b[0;34m(\u001b[0m\u001b[0;34m\"Enter the number of columns: \"\u001b[0m\u001b[0;34m)\u001b[0m\u001b[0;34m)\u001b[0m\u001b[0;34m\u001b[0m\u001b[0;34m\u001b[0m\u001b[0m\n\u001b[1;32m     26\u001b[0m \u001b[0;34m\u001b[0m\u001b[0m\n",
            "\u001b[0;31mValueError\u001b[0m: invalid literal for int() with base 10: '1 2 3 4 '"
          ]
        }
      ]
    },
    {
      "cell_type": "code",
      "source": [
        "def validMountainArray(arr):\n",
        "    n = len(arr)\n",
        "    if n < 3:\n",
        "        return False\n",
        "\n",
        "    i = 0\n",
        "    while i < n - 1 and arr[i] < arr[i + 1]:\n",
        "        i += 1\n",
        "\n",
        "    if i == 0 or i == n - 1:\n",
        "        return False\n",
        "\n",
        "    while i < n - 1 and arr[i] > arr[i + 1]:\n",
        "        i += 1\n",
        "\n",
        "    return i == n - 1\n",
        "\n",
        "# Take user input for the array\n",
        "arr = list(map(int, input(\"Enter space-separated integers for the array: \").split()))\n",
        "\n",
        "# Call the function to check if the array is a valid mountain array\n",
        "result = validMountainArray(arr)\n",
        "\n",
        "# Print the result\n",
        "print(result)\n"
      ],
      "metadata": {
        "colab": {
          "base_uri": "https://localhost:8080/"
        },
        "id": "UDwTBicMBoY7",
        "outputId": "3ae8365a-da5b-4954-8088-b8e547ef62b5"
      },
      "execution_count": 8,
      "outputs": [
        {
          "output_type": "stream",
          "name": "stdout",
          "text": [
            "Enter space-separated integers for the array: 1 2 34 5 \n",
            "True\n"
          ]
        }
      ]
    },
    {
      "cell_type": "code",
      "source": [
        "def findMaxLength(nums):\n",
        "    max_length = 0\n",
        "    count = 0\n",
        "    count_dict = {0: -1}\n",
        "\n",
        "    for i in range(len(nums)):\n",
        "        if nums[i] == 1:\n",
        "            count += 1\n",
        "        else:\n",
        "            count -= 1\n",
        "\n",
        "        if count in count_dict:\n",
        "            max_length = max(max_length, i - count_dict[count])\n",
        "        else:\n",
        "            count_dict[count] = i\n",
        "\n",
        "    return max_length\n",
        "\n",
        "# Take user input for Question \n",
        "nums = list(map(int, input(\"Enter space-separated integers for Question : \").split()))\n",
        "result_4 = findMaxLength(nums)\n",
        "print(result_4)\n"
      ],
      "metadata": {
        "colab": {
          "base_uri": "https://localhost:8080/"
        },
        "id": "KlEgv9hZB8zE",
        "outputId": "1ca77761-ca79-49d8-be50-9137e1478c6b"
      },
      "execution_count": 11,
      "outputs": [
        {
          "output_type": "stream",
          "name": "stdout",
          "text": [
            "Enter space-separated integers for Question : 1 2 3 4 \n",
            "2\n"
          ]
        }
      ]
    },
    {
      "cell_type": "code",
      "source": [
        "def minProductSum(nums1, nums2):\n",
        "    nums1.sort()\n",
        "    nums2.sort(reverse=True)\n",
        "    min_product_sum = sum(nums1[i] * nums2[i] for i in range(len(nums1)))\n",
        "    return min_product_sum\n",
        "\n",
        "# Take user input for Question 5\n",
        "nums1 = list(map(int, input(\"Enter space-separated integers for Question  (nums1): \").split()))\n",
        "nums2 = list(map(int, input(\"Enter space-separated integers for Question  (nums2): \").split()))\n",
        "result_5 = minProductSum(nums1, nums2)\n",
        "print(result_5)\n"
      ],
      "metadata": {
        "colab": {
          "base_uri": "https://localhost:8080/"
        },
        "id": "ISPhFaYOCzU8",
        "outputId": "32c0330c-42f0-4676-f47e-91273c5e399d"
      },
      "execution_count": 13,
      "outputs": [
        {
          "output_type": "stream",
          "name": "stdout",
          "text": [
            "Enter space-separated integers for Question  (nums1): 1 2 3 4 \n",
            "Enter space-separated integers for Question  (nums2): 2 3 2 4 \n",
            "24\n"
          ]
        }
      ]
    },
    {
      "cell_type": "code",
      "source": [
        "def findOriginalArray(changed):\n",
        "    if len(changed) % 2 != 0:\n",
        "        return []\n",
        "\n",
        "    freq = {}\n",
        "    for num in changed:\n",
        "        freq[num] = freq.get(num, 0) + 1\n",
        "\n",
        "    original = []\n",
        "    for num in sorted(changed):\n",
        "        if freq.get(num, 0) == 0:\n",
        "            continue\n",
        "        if freq.get(2 * num, 0) == 0:\n",
        "            return []\n",
        "        original.append(num)\n",
        "        freq[num] -= 1\n",
        "        freq[2 * num] -= 1\n",
        "\n",
        "    return original\n",
        "\n",
        "# Take user input for Question 6\n",
        "changed = list(map(int, input(\"Enter space-separated integers for Question 6: \").split()))\n",
        "result_6 = findOriginalArray(changed)\n",
        "print(result_6)\n"
      ],
      "metadata": {
        "colab": {
          "base_uri": "https://localhost:8080/"
        },
        "id": "dROLVEWLC_BC",
        "outputId": "6c4f8075-bfe1-4699-9a7b-023ea0eb04d8"
      },
      "execution_count": 16,
      "outputs": [
        {
          "output_type": "stream",
          "name": "stdout",
          "text": [
            "Enter space-separated integers for Question 6: 1 4 2 1 3 2 4 \n",
            "[]\n"
          ]
        }
      ]
    },
    {
      "cell_type": "code",
      "source": [
        "def generateMatrix(n):\n",
        "    matrix = [[0] * n for _ in range(n)]\n",
        "    top = 0\n",
        "    bottom = n - 1\n",
        "    left = 0\n",
        "    right = n - 1\n",
        "    num = 1\n",
        "\n",
        "    while num <= n * n:\n",
        "        # Fill top row\n",
        "        for i in range(left, right + 1):\n",
        "            matrix[top][i] = num\n",
        "            num += 1\n",
        "        top += 1\n",
        "\n",
        "        # Fill right column\n",
        "        for i in range(top, bottom + 1):\n",
        "            matrix[i][right] = num\n",
        "            num += 1\n",
        "        right -= 1\n",
        "\n",
        "        # Fill bottom row\n",
        "        for i in range(right, left - 1, -1):\n",
        "            matrix[bottom][i] = num\n",
        "            num += 1\n",
        "        bottom -= 1\n",
        "\n",
        "        # Fill left column\n",
        "        for i in range(bottom, top - 1, -1):\n",
        "            matrix[i][left] = num\n",
        "            num += 1\n",
        "        left += 1\n",
        "\n",
        "    return matrix\n",
        "\n",
        "# Take user input for n\n",
        "n = int(input(\"Enter the value of n: \"))\n",
        "\n",
        "# Generate the matrix\n",
        "result = generateMatrix(n)\n",
        "\n",
        "# Print the matrix\n",
        "for row in result:\n",
        "    print(row)\n"
      ],
      "metadata": {
        "colab": {
          "base_uri": "https://localhost:8080/"
        },
        "id": "-DHMr1ffDOxR",
        "outputId": "001dd9a9-c8b9-4170-9247-df5995d00355"
      },
      "execution_count": 17,
      "outputs": [
        {
          "output_type": "stream",
          "name": "stdout",
          "text": [
            "Enter the value of n: 3\n",
            "[1, 2, 3]\n",
            "[8, 9, 4]\n",
            "[7, 6, 5]\n"
          ]
        }
      ]
    },
    {
      "cell_type": "code",
      "source": [
        "def multiply(mat1, mat2):\n",
        "    m = len(mat1)\n",
        "    k = len(mat1[0])\n",
        "    n = len(mat2[0])\n",
        "\n",
        "    result = [[0] * n for _ in range(m)]\n",
        "\n",
        "    for i in range(m):\n",
        "        for j in range(n):\n",
        "            for p in range(k):\n",
        "                result[i][j] += mat1[i][p] * mat2[p][j]\n",
        "\n",
        "    return result\n",
        "\n",
        "# Take user input for mat1\n",
        "m = int(input(\"Enter the number of rows in mat1: \"))\n",
        "k = int(input(\"Enter the number of columns in mat1: \"))\n",
        "\n",
        "mat1 = []\n",
        "print(\"Enter the elements of mat1:\")\n",
        "for _ in range(m):\n",
        "    row = list(map(int, input().split()))\n",
        "    mat1.append(row)\n",
        "\n",
        "# Take user input for mat2\n",
        "k2 = int(input(\"Enter the number of columns in mat2: \"))\n",
        "n = int(input(\"Enter the number of columns in mat2: \"))\n",
        "\n",
        "mat2 = []\n",
        "print(\"Enter the elements of mat2:\")\n",
        "for _ in range(k):\n",
        "    row = list(map(int, input().split()))\n",
        "    mat2.append(row)\n",
        "\n",
        "# Multiply the matrices\n",
        "result = multiply(mat1, mat2)\n",
        "\n",
        "# Print the result\n",
        "for row in result:\n",
        "    print(row)\n"
      ],
      "metadata": {
        "colab": {
          "base_uri": "https://localhost:8080/"
        },
        "id": "nhyPcJBGDsIx",
        "outputId": "1c288a23-f42e-4c99-8520-10a615f6416b"
      },
      "execution_count": 19,
      "outputs": [
        {
          "output_type": "stream",
          "name": "stdout",
          "text": [
            "Enter the number of rows in mat1: 3\n",
            "Enter the number of columns in mat1: 3\n",
            "Enter the elements of mat1:\n",
            "1 2 3 \n",
            "2 3 4 \n",
            "2 3 4 \n",
            "Enter the number of columns in mat2: 3\n",
            "Enter the number of columns in mat2: 3\n",
            "Enter the elements of mat2:\n",
            "3 4 5 \n",
            "5 6 7 \n",
            "7 8 6\n",
            "[34, 40, 37]\n",
            "[49, 58, 55]\n",
            "[49, 58, 55]\n"
          ]
        }
      ]
    }
  ]
}