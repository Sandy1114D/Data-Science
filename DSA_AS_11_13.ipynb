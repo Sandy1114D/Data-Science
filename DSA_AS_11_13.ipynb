{
  "nbformat": 4,
  "nbformat_minor": 0,
  "metadata": {
    "colab": {
      "provenance": []
    },
    "kernelspec": {
      "name": "python3",
      "display_name": "Python 3"
    },
    "language_info": {
      "name": "python"
    }
  },
  "cells": [
    {
      "cell_type": "markdown",
      "source": [
        "<aside>\n",
        "💡 **Question 1**\n",
        "\n",
        "Given a non-negative integer `x`, return *the square root of* `x` *rounded down to the nearest integer*. The returned integer should be **non-negative** as well.\n",
        "\n",
        "You **must not use** any built-in exponent function or operator.\n",
        "\n",
        "- For example, do not use `pow(x, 0.5)` in c++ or `x ** 0.5` in python.\n",
        "\n",
        "**Example 1:**\n",
        "\n",
        "```\n",
        "Input: x = 4\n",
        "Output: 2\n",
        "Explanation: The square root of 4 is 2, so we return 2.\n",
        "\n",
        "```\n",
        "\n",
        "**Example 2:**\n",
        "\n",
        "```\n",
        "Input: x = 8\n",
        "Output: 2\n",
        "Explanation: The square root of 8 is 2.82842..., and since we round it down to the nearest integer, 2 is returned.\n",
        "```\n",
        "\n",
        "</aside>\n",
        "\n",
        "<aside>\n",
        "💡 **Question 2**\n",
        "\n",
        "A peak element is an element that is strictly greater than its neighbors.\n",
        "\n",
        "Given a **0-indexed** integer array `nums`, find a peak element, and return its index. If the array contains multiple peaks, return the index to **any of the peaks**.\n",
        "\n",
        "You may imagine that `nums[-1] = nums[n] = -∞`. In other words, an element is always considered to be strictly greater than a neighbor that is outside the array.\n",
        "\n",
        "You must write an algorithm that runs in `O(log n)` time.\n",
        "\n",
        "**Example 1:**\n",
        "\n",
        "```\n",
        "Input: nums = [1,2,3,1]\n",
        "Output: 2\n",
        "Explanation: 3 is a peak element and your function should return the index number 2.\n",
        "```\n",
        "\n",
        "**Example 2:**\n",
        "\n",
        "```\n",
        "Input: nums = [1,2,1,3,5,6,4]\n",
        "Output: 5\n",
        "Explanation: Your function can return either index number 1 where the peak element is 2, or index number 5 where the peak element is 6.\n",
        "```\n",
        "\n",
        "</aside>\n",
        "\n",
        "<aside>\n",
        "💡 **Question 3**\n",
        "\n",
        "****\n",
        "\n",
        "Given an array `nums` containing `n` distinct numbers in the range `[0, n]`, return *the only number in the range that is missing from the array.*\n",
        "\n",
        "**Example 1:**\n",
        "\n",
        "```\n",
        "Input: nums = [3,0,1]\n",
        "Output: 2\n",
        "Explanation: n = 3 since there are 3 numbers, so all numbers are in the range [0,3]. 2 is the missing number in the range since it does not appear in nums.\n",
        "\n",
        "```\n",
        "\n",
        "**Example 2:**\n",
        "\n",
        "```\n",
        "Input: nums = [0,1]\n",
        "Output: 2\n",
        "Explanation: n = 2 since there are 2 numbers, so all numbers are in the range [0,2]. 2 is the missing number in the range since it does not appear in nums.\n",
        "\n",
        "```\n",
        "\n",
        "**Example 3:**\n",
        "\n",
        "```\n",
        "Input: nums = [9,6,4,2,3,5,7,0,1]\n",
        "Output: 8\n",
        "Explanation: n = 9 since there are 9 numbers, so all numbers are in the range [0,9]. 8 is the missing number in the range since it does not appear in nums.\n",
        "```\n",
        "\n",
        "</aside>\n",
        "\n",
        "<aside>\n",
        "💡 **Question 4**\n",
        "\n",
        "Given an array of integers `nums` containing `n + 1` integers where each integer is in the range `[1, n]` inclusive.\n",
        "\n",
        "There is only **one repeated number** in `nums`, return *this repeated number*.\n",
        "\n",
        "You must solve the problem **without** modifying the array `nums` and uses only constant extra space.\n",
        "\n",
        "**Example 1:**\n",
        "\n",
        "```\n",
        "Input: nums = [1,3,4,2,2]\n",
        "Output: 2\n",
        "\n",
        "```\n",
        "\n",
        "**Example 2:**\n",
        "\n",
        "```\n",
        "Input: nums = [3,1,3,4,2]\n",
        "Output: 3\n",
        "```\n",
        "\n",
        "</aside>\n",
        "\n",
        "<aside>\n",
        "💡 **Question 5**\n",
        "\n",
        "Given two integer arrays `nums1` and `nums2`, return *an array of their intersection*. Each element in the result must be **unique** and you may return the result in **any order**.\n",
        "\n",
        "**Example 1:**\n",
        "\n",
        "```\n",
        "Input: nums1 = [1,2,2,1], nums2 = [2,2]\n",
        "Output: [2]\n",
        "\n",
        "```\n",
        "\n",
        "**Example 2:**\n",
        "\n",
        "```\n",
        "Input: nums1 = [4,9,5], nums2 = [9,4,9,8,4]\n",
        "Output: [9,4]\n",
        "Explanation: [4,9] is also accepted.\n",
        "```\n",
        "\n",
        "</aside>\n",
        "\n",
        "<aside>\n",
        "💡 **Question 6**\n",
        "\n",
        "Suppose an array of length `n` sorted in ascending order is **rotated** between `1` and `n` times. For example, the array `nums = [0,1,2,4,5,6,7]` might become:\n",
        "\n",
        "- `[4,5,6,7,0,1,2]` if it was rotated `4` times.\n",
        "- `[0,1,2,4,5,6,7]` if it was rotated `7` times.\n",
        "\n",
        "Notice that **rotating** an array `[a[0], a[1], a[2], ..., a[n-1]]` 1 time results in the array `[a[n-1], a[0], a[1], a[2], ..., a[n-2]]`.\n",
        "\n",
        "Given the sorted rotated array `nums` of **unique** elements, return *the minimum element of this array*.\n",
        "\n",
        "You must write an algorithm that runs in `O(log n) time.`\n",
        "\n",
        "**Example 1:**\n",
        "\n",
        "```\n",
        "Input: nums = [3,4,5,1,2]\n",
        "Output: 1\n",
        "Explanation: The original array was [1,2,3,4,5] rotated 3 times.\n",
        "\n",
        "```\n",
        "\n",
        "**Example 2:**\n",
        "\n",
        "```\n",
        "Input: nums = [4,5,6,7,0,1,2]\n",
        "Output: 0\n",
        "Explanation: The original array was [0,1,2,4,5,6,7] and it was rotated 4 times.\n",
        "\n",
        "```\n",
        "\n",
        "**Example 3:**\n",
        "\n",
        "```\n",
        "Input: nums = [11,13,15,17]\n",
        "Output: 11\n",
        "Explanation: The original array was [11,13,15,17] and it was rotated 4 times.\n",
        "```\n",
        "\n",
        "</aside>\n",
        "\n",
        "<aside>\n",
        "💡 **Question 7**\n",
        "\n",
        "Given an array of integers `nums` sorted in non-decreasing order, find the starting and ending position of a given `target` value.\n",
        "\n",
        "If `target` is not found in the array, return `[-1, -1]`.\n",
        "\n",
        "You must write an algorithm with `O(log n)` runtime complexity.\n",
        "\n",
        "**Example 1:**\n",
        "\n",
        "```\n",
        "Input: nums = [5,7,7,8,8,10], target = 8\n",
        "Output: [3,4]\n",
        "\n",
        "```\n",
        "\n",
        "**Example 2:**\n",
        "\n",
        "```\n",
        "Input: nums = [5,7,7,8,8,10], target = 6\n",
        "Output: [-1,-1]\n",
        "\n",
        "```\n",
        "\n",
        "**Example 3:**\n",
        "\n",
        "```\n",
        "Input: nums = [], target = 0\n",
        "Output: [-1,-1]\n",
        "```\n",
        "\n",
        "</aside>\n",
        "\n",
        "<aside>\n",
        "💡 **Question 8**\n",
        "\n",
        "Given two integer arrays `nums1` and `nums2`, return *an array of their intersection*. Each element in the result must appear as many times as it shows in both arrays and you may return the result in **any order**.\n",
        "\n",
        "**Example 1:**\n",
        "\n",
        "```\n",
        "Input: nums1 = [1,2,2,1], nums2 = [2,2]\n",
        "Output: [2,2]\n",
        "\n",
        "```\n",
        "\n",
        "**Example 2:**\n",
        "\n",
        "</aside>"
      ],
      "metadata": {
        "id": "dXj_zV5l6ZZs"
      }
    },
    {
      "cell_type": "code",
      "source": [
        "def mySqrt(x):\n",
        "    if x == 0:\n",
        "        return 0\n",
        "\n",
        "    left = 1\n",
        "    right = x\n",
        "\n",
        "    while left <= right:\n",
        "        mid = left + (right - left) // 2\n",
        "\n",
        "        if mid * mid == x:\n",
        "            return mid\n",
        "        elif mid * mid < x:\n",
        "            left = mid + 1\n",
        "        else:\n",
        "            right = mid - 1\n",
        "\n",
        "    return right\n",
        "\n",
        "# Take user input\n",
        "x = int(input(\"Enter a non-negative integer: \"))\n",
        "result = mySqrt(x)\n",
        "print(\"Square root of\", x, \"rounded down to the nearest integer:\", result)\n"
      ],
      "metadata": {
        "colab": {
          "base_uri": "https://localhost:8080/"
        },
        "id": "3D0saOcQ7cL_",
        "outputId": "5b57c986-edf5-44ca-c8f0-c8f9ec68fde4"
      },
      "execution_count": 1,
      "outputs": [
        {
          "output_type": "stream",
          "name": "stdout",
          "text": [
            "Enter a non-negative integer: 2\n",
            "Square root of 2 rounded down to the nearest integer: 1\n"
          ]
        }
      ]
    },
    {
      "cell_type": "code",
      "source": [
        "def findPeakElement(nums):\n",
        "    left = 0\n",
        "    right = len(nums) - 1\n",
        "\n",
        "    while left < right:\n",
        "        mid = left + (right - left) // 2\n",
        "\n",
        "        if nums[mid] < nums[mid + 1]:\n",
        "            left = mid + 1\n",
        "        else:\n",
        "            right = mid\n",
        "\n",
        "    return left\n",
        "\n",
        "# Take user input\n",
        "nums = list(map(int, input(\"Enter the elements of the array (space-separated): \").split()))\n",
        "peak_index = findPeakElement(nums)\n",
        "print(\"Index of a peak element:\", peak_index)\n"
      ],
      "metadata": {
        "colab": {
          "base_uri": "https://localhost:8080/"
        },
        "id": "Inv8lKri7n-C",
        "outputId": "b5f390d7-f32e-4f87-baff-8c9d4328a865"
      },
      "execution_count": 2,
      "outputs": [
        {
          "output_type": "stream",
          "name": "stdout",
          "text": [
            "Enter the elements of the array (space-separated): 1 2 3 4 3   \n",
            "Index of a peak element: 3\n"
          ]
        }
      ]
    },
    {
      "cell_type": "code",
      "source": [
        "def missingNumber(nums):\n",
        "    n = len(nums)\n",
        "    total_sum = n * (n + 1) // 2\n",
        "    array_sum = sum(nums)\n",
        "    return total_sum - array_sum\n",
        "\n",
        "# Take user input\n",
        "nums = list(map(int, input(\"Enter the elements of the array (space-separated): \").split()))\n",
        "missing_num = missingNumber(nums)\n",
        "print(\"Missing number:\", missing_num)\n"
      ],
      "metadata": {
        "colab": {
          "base_uri": "https://localhost:8080/"
        },
        "id": "qB3X2jpJ70Ns",
        "outputId": "f60724f3-ced5-458d-c053-55ed9ae5d877"
      },
      "execution_count": 5,
      "outputs": [
        {
          "output_type": "stream",
          "name": "stdout",
          "text": [
            "Enter the elements of the array (space-separated): 3 0 1\n",
            "Missing number: 2\n"
          ]
        }
      ]
    },
    {
      "cell_type": "code",
      "source": [
        "def findDuplicate(nums):\n",
        "    slow = fast = nums[0]\n",
        "\n",
        "    while True:\n",
        "        slow = nums[slow]\n",
        "        fast = nums[nums[fast]]\n",
        "        if slow == fast:\n",
        "            break\n",
        "\n",
        "    slow = nums[0]\n",
        "    while slow != fast:\n",
        "        slow = nums[slow]\n",
        "        fast = nums[fast]\n",
        "\n",
        "    return slow\n",
        "\n",
        "# Take user input\n",
        "nums = list(map(int, input(\"Enter the elements of the array (space-separated): \").split()))\n",
        "duplicate_num = findDuplicate(nums)\n",
        "print(\"Duplicate number:\", duplicate_num)\n"
      ],
      "metadata": {
        "colab": {
          "base_uri": "https://localhost:8080/"
        },
        "id": "qEJNO8PC8lbC",
        "outputId": "ab0f9832-a75a-4562-8138-0ad057857c40"
      },
      "execution_count": 7,
      "outputs": [
        {
          "output_type": "stream",
          "name": "stdout",
          "text": [
            "Enter the elements of the array (space-separated): 1 2 3 3 4 5 3 \n",
            "Duplicate number: 3\n"
          ]
        }
      ]
    },
    {
      "cell_type": "code",
      "source": [
        "def intersection(nums1, nums2):\n",
        "    set1 = set(nums1)\n",
        "    set2 = set(nums2)\n",
        "    return list(set1.intersection(set2))\n",
        "\n",
        "# Take user input\n",
        "nums1 = list(map(int, input(\"Enter the elements of the first array (space-separated): \").split()))\n",
        "nums2 = list(map(int, input(\"Enter the elements of the second array (space-separated): \").split()))\n",
        "result = intersection(nums1, nums2)\n",
        "print(\"Intersection of the two arrays:\", result)\n"
      ],
      "metadata": {
        "colab": {
          "base_uri": "https://localhost:8080/"
        },
        "id": "tx_O0hsX8_CH",
        "outputId": "b713203e-eda3-4a0a-ebfa-41119bc92491"
      },
      "execution_count": 8,
      "outputs": [
        {
          "output_type": "stream",
          "name": "stdout",
          "text": [
            "Enter the elements of the first array (space-separated): 1 2 3 3 4 5 \n",
            "Enter the elements of the second array (space-separated): 2 3 1 4 4 5 \n",
            "Intersection of the two arrays: [1, 2, 3, 4, 5]\n"
          ]
        }
      ]
    },
    {
      "cell_type": "code",
      "source": [
        "def findMin(nums):\n",
        "    left = 0\n",
        "    right = len(nums) - 1\n",
        "\n",
        "    while left < right:\n",
        "        mid = left + (right - left) // 2\n",
        "\n",
        "        if nums[mid] > nums[right]:\n",
        "            left = mid + 1\n",
        "        else:\n",
        "            right = mid\n",
        "\n",
        "    return nums[left]\n",
        "\n",
        "# Take user input\n",
        "nums = list(map(int, input(\"Enter the elements of the rotated sorted array (space-separated): \").split()))\n",
        "min_value = findMin(nums)\n",
        "print(\"Minimum element in the array:\", min_value)\n"
      ],
      "metadata": {
        "colab": {
          "base_uri": "https://localhost:8080/"
        },
        "id": "DQymolUk9OKs",
        "outputId": "5ef1913a-d05a-49eb-a5c7-565337f17d29"
      },
      "execution_count": 9,
      "outputs": [
        {
          "output_type": "stream",
          "name": "stdout",
          "text": [
            "Enter the elements of the rotated sorted array (space-separated): 1 2 3 4 5 6 7 8 9 \n",
            "Minimum element in the array: 1\n"
          ]
        }
      ]
    },
    {
      "cell_type": "code",
      "source": [
        "def searchRange(nums, target):\n",
        "    def search(nums, target, left):\n",
        "        low, high = 0, len(nums)\n",
        "        while low < high:\n",
        "            mid = low + (high - low) // 2\n",
        "            if nums[mid] > target or (left and target == nums[mid]):\n",
        "                high = mid\n",
        "            else:\n",
        "                low = mid + 1\n",
        "        return low\n",
        "\n",
        "    left_idx = search(nums, target, True)\n",
        "    if left_idx == len(nums) or nums[left_idx] != target:\n",
        "        return [-1, -1]\n",
        "    right_idx = search(nums, target, False) - 1\n",
        "    return [left_idx, right_idx]\n",
        "\n",
        "# Take user input\n",
        "nums = list(map(int, input(\"Enter the elements of the sorted array (space-separated): \").split()))\n",
        "target = int(input(\"Enter the target value: \"))\n",
        "result = searchRange(nums, target)\n",
        "print(\"Starting and ending position of the target value:\", result)\n"
      ],
      "metadata": {
        "colab": {
          "base_uri": "https://localhost:8080/"
        },
        "id": "LIMEuN329X8j",
        "outputId": "f40f97e9-c172-4e25-f11c-9221f9b78f05"
      },
      "execution_count": 10,
      "outputs": [
        {
          "output_type": "stream",
          "name": "stdout",
          "text": [
            "Enter the elements of the sorted array (space-separated): 1 2 3 4 5 6 7 \n",
            "Enter the target value: 7\n",
            "Starting and ending position of the target value: [6, 6]\n"
          ]
        }
      ]
    },
    {
      "cell_type": "code",
      "source": [
        "from collections import Counter\n",
        "\n",
        "def intersect(nums1, nums2):\n",
        "    # Count the occurrences of each element in both arrays\n",
        "    counter1 = Counter(nums1)\n",
        "    counter2 = Counter(nums2)\n",
        "\n",
        "    # Find the common elements and their counts\n",
        "    common_elements = counter1.keys() & counter2.keys()\n",
        "\n",
        "    # Build the intersection list by repeating common elements based on their counts\n",
        "    intersection = []\n",
        "    for num in common_elements:\n",
        "        intersection.extend([num] * min(counter1[num], counter2[num]))\n",
        "\n",
        "    return intersection\n",
        "\n",
        "# Take user input\n",
        "nums1 = list(map(int, input(\"Enter the elements of the first array: \").split()))\n",
        "nums2 = list(map(int, input(\"Enter the elements of the second array: \").split()))\n",
        "\n",
        "result = intersect(nums1, nums2)\n",
        "print(\"Intersection of the two arrays:\", result)\n"
      ],
      "metadata": {
        "colab": {
          "base_uri": "https://localhost:8080/"
        },
        "id": "8KNz-Ra0-v4S",
        "outputId": "41f73aec-005a-4d7e-dadd-96205fe36dd9"
      },
      "execution_count": 13,
      "outputs": [
        {
          "output_type": "stream",
          "name": "stdout",
          "text": [
            "Enter the elements of the first array: 1 2 2 1\n",
            "Enter the elements of the second array:  1 2 34\n",
            "Intersection of the two arrays: [1, 2]\n"
          ]
        }
      ]
    }
  ]
}