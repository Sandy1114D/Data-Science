{
  "nbformat": 4,
  "nbformat_minor": 0,
  "metadata": {
    "colab": {
      "provenance": []
    },
    "kernelspec": {
      "name": "python3",
      "display_name": "Python 3"
    },
    "language_info": {
      "name": "python"
    }
  },
  "cells": [
    {
      "cell_type": "markdown",
      "source": [
        "1. What is the result of the code, and explain?\n",
        "\n",
        "&gt;&gt;&gt; X = &#39;iNeuron&#39;\n",
        "&gt;&gt;&gt; def func():\n",
        "print(X)\n",
        "\n",
        "&gt;&gt;&gt; func()\n",
        "\n",
        "2. What is the result of the code, and explain?\n",
        "\n",
        "&gt;&gt;&gt; X = &#39;iNeuron&#39;\n",
        "&gt;&gt;&gt; def func():\n",
        "X = &#39;NI!&#39;\n",
        "\n",
        "&gt;&gt;&gt; func()\n",
        "&gt;&gt;&gt; print(X)\n",
        "\n",
        "3. What does this code print, and why?\n",
        "\n",
        "&gt;&gt;&gt; X = &#39;iNeuron&#39;\n",
        "&gt;&gt;&gt; def func():\n",
        "X = &#39;NI&#39;\n",
        "print(X)\n",
        "\n",
        "&gt;&gt;&gt; func()\n",
        "&gt;&gt;&gt; print(X)\n",
        "\n",
        "4. What output does this code produce? Why?\n",
        "\n",
        "&gt;&gt;&gt; X = &#39;iNeuron&#39;\n",
        "&gt;&gt;&gt; def func():\n",
        "global X\n",
        "X = &#39;NI&#39;\n",
        "\n",
        "&gt;&gt;&gt; func()\n",
        "&gt;&gt;&gt; print(X)\n",
        "\n",
        "5. What about this code—what’s the output, and why?\n",
        "\n",
        "&gt;&gt;&gt; X = &#39;iNeuron&#39;\n",
        "&gt;&gt;&gt; def func():\n",
        "X = &#39;NI&#39;\n",
        "def nested():\n",
        "print(X)\n",
        "nested()\n",
        "\n",
        "&gt;&gt;&gt; func()\n",
        "&gt;&gt;&gt; X\n",
        "\n",
        "6. How about this code: what is its output in Python 3, and explain?\n",
        "\n",
        "&gt;&gt;&gt; def func():\n",
        "X = &#39;NI&#39;\n",
        "def nested():\n",
        "nonlocal X\n",
        "X = &#39;Spam&#39;\n",
        "nested()\n",
        "print(X)\n",
        "\n",
        "&gt;&gt;&gt; func()"
      ],
      "metadata": {
        "id": "ltLphk6E7G10"
      }
    },
    {
      "cell_type": "markdown",
      "source": [
        "## **ANS OF ABOVE QUESTION ARE AS FOLLOW**\n",
        "\n",
        "\n"
      ],
      "metadata": {
        "id": "_OjvAnTL7Li4"
      }
    },
    {
      "cell_type": "markdown",
      "source": [
        "1. The code will print the value of variable X, which is 'iNeuron', because the function `func()` is defined to print the value of variable X and is then called.\n",
        "\n",
        "2. The code will print 'iNeuron' because the `X` inside the function `func()` is a local variable and does not affect the value of the global variable `X`.\n",
        "\n",
        "3. The code will print 'NI' because inside the function `func()`, the value of `X` is set to 'NI' before it is printed. However, outside the function, the value of `X` is still 'iNeuron' because the change to the variable `X` was local to the function `func()` and did not affect the global variable `X`.\n",
        "\n",
        "4. The code will print 'NI' because the `global` statement inside the function `func()` declares that the variable `X` is a global variable, so assigning a value to `X` inside the function changes the value of the global variable `X`.\n",
        "\n",
        "5. The code will print 'NI' followed by a `NameError` because the `nested()` function is defined inside `func()` and therefore has access to the local variable `X` in `func()`, which is set to 'NI'. However, `X` is not defined outside of the `func()` function, so attempting to print it outside of the function results in a `NameError`.\n",
        "\n",
        "6. The code will print 'Spam' because the `nonlocal` statement inside the `nested()` function allows the function to modify the value of the variable `X` in the parent function `func()`. When `nested()` is called, the value of `X` is changed to 'Spam', and this new value is printed at the end of `func()`."
      ],
      "metadata": {
        "id": "-QnawwRn7Yy5"
      }
    }
  ]
}