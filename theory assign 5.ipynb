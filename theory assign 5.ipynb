{
  "nbformat": 4,
  "nbformat_minor": 0,
  "metadata": {
    "colab": {
      "provenance": []
    },
    "kernelspec": {
      "name": "python3",
      "display_name": "Python 3"
    },
    "language_info": {
      "name": "python"
    }
  },
  "cells": [
    {
      "cell_type": "markdown",
      "source": [
        "1. What does an empty dictionary&#39;s code look like?\n",
        "2. What is the value of a dictionary value with the key &#39;foo&#39; and the value 42?\n",
        "3. What is the most significant distinction between a dictionary and a list?\n",
        "4. What happens if you try to access spam[&#39;foo&#39;] if spam is {&#39;bar&#39;: 100}?\n",
        "5. If a dictionary is stored in spam, what is the difference between the expressions &#39;cat&#39; in spam and\n",
        "&#39;cat&#39; in spam.keys()?\n",
        "6. If a dictionary is stored in spam, what is the difference between the expressions &#39;cat&#39; in spam and\n",
        "&#39;cat&#39; in spam.values()?\n",
        "7. What is a shortcut for the following code?\n",
        "if &#39;color&#39; not in spam:\n",
        "spam[&#39;color&#39;] = &#39;black&#39;\n",
        "\n",
        "8. How do you &quot;pretty print&quot; dictionary values using which module and function?"
      ],
      "metadata": {
        "id": "4qrfGLUdaW7l"
      }
    },
    {
      "cell_type": "markdown",
      "source": [
        "1. An empty dictionary's code is a pair of curly braces with nothing in between: {}.\n",
        "2. The value of a dictionary value with the key 'foo' and the value 42 is {'foo': 42}.\n",
        "3. The most significant distinction between a dictionary and a list is that a dictionary is unordered while a list is ordered. In a dictionary, values are accessed using keys, while in a list, values are accessed using indexes.\n",
        "4. If you try to access spam['foo'] if spam is {'bar': 100}, a KeyError will be raised because the key 'foo' does not exist in the dictionary.\n",
        "5. If a dictionary is stored in spam, the expression 'cat' in spam checks if the key 'cat' exists in the dictionary, while the expression 'cat' in spam.keys() returns True if 'cat' is a key in the dictionary.\n",
        "6. If a dictionary is stored in spam, the expression 'cat' in spam checks if the value 'cat' exists in any of the dictionary's values, while the expression 'cat' in spam.values() returns True if 'cat' is a value in the dictionary.\n",
        "7. A shortcut for the code is spam.setdefault('color', 'black').\n",
        "8. The module and function used for pretty printing dictionary values is the 'pprint' module, and the 'pprint()' function."
      ],
      "metadata": {
        "id": "QxXGIqfSaYDt"
      }
    }
  ]
}