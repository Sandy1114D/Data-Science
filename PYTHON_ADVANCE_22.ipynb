{
  "nbformat": 4,
  "nbformat_minor": 0,
  "metadata": {
    "colab": {
      "provenance": []
    },
    "kernelspec": {
      "name": "python3",
      "display_name": "Python 3"
    },
    "language_info": {
      "name": "python"
    }
  },
  "cells": [
    {
      "cell_type": "markdown",
      "source": [
        "Q1. What are the benefits of the built-in array package, if any?\n",
        "\n",
        "Q2. What are some of the array package&#39;s limitations?\n",
        "\n",
        "Q3. Describe the main differences between the array and numpy packages.\n",
        "\n",
        "Q4. Explain the distinctions between the empty, ones, and zeros functions.\n",
        "\n",
        "Q5. In the fromfunction function, which is used to construct new arrays, what is the role of the callable\n",
        "argument?\n",
        "\n",
        "Q6. What happens when a numpy array is combined with a single-value operand (a scalar, such as\n",
        "an int or a floating-point value) through addition, as in the expression A + n?\n",
        "\n",
        "Q7. Can array-to-scalar operations use combined operation-assign operators (such as += or *=)?\n",
        "What is the outcome?\n",
        "\n",
        "Q8. Does a numpy array contain fixed-length strings? What happens if you allocate a longer string to\n",
        "one of these arrays?\n",
        "\n",
        "Q9. What happens when you combine two numpy arrays using an operation like addition (+) or\n",
        "multiplication (*)? What are the conditions for combining two numpy arrays?\n",
        "\n",
        "Q10. What is the best way to use a Boolean array to mask another array?\n",
        "\n",
        "Q11. What are three different ways to get the standard deviation of a wide collection of data using\n",
        "both standard Python and its packages? Sort the three of them by how quickly they execute.\n",
        "\n",
        "12. What is the dimensionality of a Boolean mask-generated array?"
      ],
      "metadata": {
        "id": "UA8OkwGizFhA"
      }
    },
    {
      "cell_type": "markdown",
      "source": [
        "## **ANS OF ABOVE QUESTIONS ARE AS FOLLOW**"
      ],
      "metadata": {
        "id": "Day7B8tTzJIO"
      }
    },
    {
      "cell_type": "markdown",
      "source": [
        "Q1. The built-in array package in Python provides a way to store and manipulate arrays of homogeneous data efficiently. It is beneficial because it provides low-level memory manipulation and support for various numeric data types.\n",
        "\n",
        "Q2. Some of the limitations of the array package include the inability to change the size of an array once it is created, the lack of support for mathematical operations, and the requirement for homogeneous data types.\n",
        "\n",
        "Q3. The main differences between the array and numpy packages include the ability of numpy arrays to handle multidimensional arrays, support for mathematical and linear algebra operations, and the presence of many convenient functions for array manipulation.\n",
        "\n",
        "Q4. The empty function in numpy creates an array without initializing its values. The ones function creates an array of ones with the specified shape and data type. The zeros function creates an array of zeros with the specified shape and data type.\n",
        "\n",
        "Q5. In the fromfunction function, the callable argument is a function that takes a set of indices and returns the value to be placed at that index in the resulting array.\n",
        "\n",
        "Q6. When a numpy array is combined with a single-value operand through addition, the operand is added to each element of the array. For example, A + n adds n to each element of the array A.\n",
        "\n",
        "Q7. Array-to-scalar operations can use combined operation-assign operators, but the outcome depends on the operator used. For example, A += n adds n to each element of the array A, while A *= n multiplies each element of the array A by n.\n",
        "\n",
        "Q8. Yes, a numpy array can contain fixed-length strings. If a longer string is allocated to one of these arrays, the extra characters will be truncated.\n",
        "\n",
        "Q9. When two numpy arrays are combined using an operation like addition or multiplication, the corresponding elements of the two arrays are combined. The arrays must have the same shape or be broadcastable to the same shape.\n",
        "\n",
        "Q10. A Boolean array can be used to mask another array by indexing the array with the Boolean array. This returns a new array containing only the elements where the corresponding value in the Boolean array is True.\n",
        "\n",
        "Q11. Three different ways to get the standard deviation of a wide collection of data include using the numpy std function, using the statistics package's stdev function, and using a custom function that implements the standard deviation formula. The numpy std function executes the fastest, followed by the statistics package's stdev function, and the custom function executes the slowest.\n",
        "\n",
        "Q12. The dimensionality of a Boolean mask-generated array is the same as the dimensionality of the original array. The mask is used to select elements from the original array, so the resulting array has the same shape as the mask."
      ],
      "metadata": {
        "id": "DOrQOfdhzP8w"
      }
    }
  ]
}