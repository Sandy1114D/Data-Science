{
  "nbformat": 4,
  "nbformat_minor": 0,
  "metadata": {
    "colab": {
      "provenance": []
    },
    "kernelspec": {
      "name": "python3",
      "display_name": "Python 3"
    },
    "language_info": {
      "name": "python"
    }
  },
  "cells": [
    {
      "cell_type": "markdown",
      "source": [
        "Q1. What is the distinction between a numpy array and a pandas data frame? Is there a way to\n",
        "convert between the two if there is?\n",
        "\n",
        "Q2. What can go wrong when an user enters in a stock-ticker symbol, and how do you handle it?\n",
        "\n",
        "Q3. Identify some of the plotting techniques that are used to produce a stock-market chart.\n",
        "\n",
        "Q4. Why is it essential to print a legend on a stock market chart?\n",
        "\n",
        "Q5. What is the best way to limit the length of a pandas data frame to less than a year?\n",
        "\n",
        "Q6. What is the definition of a 180-day moving average?\n",
        "\n",
        "Q7. Did the chapter&#39;s final example use &quot;indirect&quot; importing? If so, how exactly do you do it?"
      ],
      "metadata": {
        "id": "WZdP9wlQ0fgF"
      }
    },
    {
      "cell_type": "markdown",
      "source": [
        "## **ANS OF ABOVE QUESTIONS ARE AS FOLLOW**"
      ],
      "metadata": {
        "id": "0mDkJ3Gk0jAc"
      }
    },
    {
      "cell_type": "markdown",
      "source": [
        "Q1. The main difference between a NumPy array and a Pandas DataFrame is that a NumPy array is a homogeneous data structure (it can only contain a single data type) while a Pandas DataFrame is a heterogenous data structure (it can contain multiple data types). Additionally, a Pandas DataFrame has column and row labels, making it easy to perform data analysis and manipulation. It is possible to convert a Pandas DataFrame to a NumPy array using the `to_numpy()` method or to convert a NumPy array to a Pandas DataFrame using the `DataFrame()` constructor.\n",
        "\n",
        "Q2. When a user enters a stock-ticker symbol, several things can go wrong, such as the symbol being misspelled, the symbol being outdated or no longer traded, or the symbol not being recognized by the data source. To handle this, one approach is to use try-except blocks to catch errors and provide informative error messages to the user.\n",
        "\n",
        "Q3. Some of the plotting techniques that can be used to produce a stock-market chart include line charts, candlestick charts, and OHLC (open-high-low-close) charts. These charts can be customized with different colors, chart styles, and technical indicators to provide additional insights into the market data.\n",
        "\n",
        "Q4. It is essential to print a legend on a stock market chart because it provides information about the meaning of the chart elements, such as the lines or bars on the chart. Without a legend, it would be difficult for readers to understand the significance of the chart.\n",
        "\n",
        "Q5. To limit the length of a Pandas DataFrame to less than a year, you can filter the DataFrame to include only the rows with dates within the desired time period. For example, you can use boolean indexing to filter the DataFrame to include only the rows with dates greater than a certain date and less than a year later.\n",
        "\n",
        "Q6. A 180-day moving average is a technical indicator that is commonly used in stock market analysis. It is calculated by taking the average of the closing prices over the past 180 days, and it is used to smooth out the price data and identify trends in the market.\n",
        "\n",
        "Q7. The final example in the chapter did not use indirect importing. Indirect importing refers to importing a module indirectly by importing a module that imports the desired module. It can be done using the `importlib.import_module()` function or by using the `__import__()` function."
      ],
      "metadata": {
        "id": "DYjFRyKR0n0d"
      }
    }
  ]
}