{
  "nbformat": 4,
  "nbformat_minor": 0,
  "metadata": {
    "colab": {
      "provenance": []
    },
    "kernelspec": {
      "name": "python3",
      "display_name": "Python 3"
    },
    "language_info": {
      "name": "python"
    }
  },
  "cells": [
    {
      "cell_type": "markdown",
      "source": [
        "<aside>\n",
        "💡 **Q1.** Given an array of integers nums and an integer target, return indices of the two numbers such that they add up to target.\n",
        "\n",
        "You may assume that each input would have exactly one solution, and you may not use the same element twice.\n",
        "\n",
        "You can return the answer in any order.\n",
        "\n",
        "**Example:**\n",
        "Input: nums = [2,7,11,15], target = 9\n",
        "Output0 [0,1]\n",
        "\n",
        "**Explanation:** Because nums[0] + nums[1] == 9, we return [0, 1][\n",
        "\n",
        "</aside>\n",
        "\n",
        "<aside>\n",
        "💡 **Q2.** Given an integer array nums and an integer val, remove all occurrences of val in nums in-place. The order of the elements may be changed. Then return the number of elements in nums which are not equal to val.\n",
        "\n",
        "Consider the number of elements in nums which are not equal to val be k, to get accepted, you need to do the following things:\n",
        "\n",
        "- Change the array nums such that the first k elements of nums contain the elements which are not equal to val. The remaining elements of nums are not important as well as the size of nums.\n",
        "- Return k.\n",
        "\n",
        "**Example :**\n",
        "Input: nums = [3,2,2,3], val = 3\n",
        "Output: 2, nums = [2,2,_*,_*]\n",
        "\n",
        "**Explanation:** Your function should return k = 2, with the first two elements of nums being 2. It does not matter what you leave beyond the returned k (hence they are underscores)[\n",
        "\n",
        "</aside>\n",
        "\n",
        "<aside>\n",
        "💡 **Q3.** Given a sorted array of distinct integers and a target value, return the index if the target is found. If not, return the index where it would be if it were inserted in order.\n",
        "\n",
        "You must write an algorithm with O(log n) runtime complexity.\n",
        "\n",
        "**Example 1:**\n",
        "Input: nums = [1,3,5,6], target = 5\n",
        "\n",
        "Output: 2\n",
        "\n",
        "</aside>\n",
        "\n",
        "<aside>\n",
        "💡 **Q4.** You are given a large integer represented as an integer array digits, where each digits[i] is the ith digit of the integer. The digits are ordered from most significant to least significant in left-to-right order. The large integer does not contain any leading 0's.\n",
        "\n",
        "Increment the large integer by one and return the resulting array of digits.\n",
        "\n",
        "**Example 1:**\n",
        "Input: digits = [1,2,3]\n",
        "Output: [1,2,4]\n",
        "\n",
        "**Explanation:** The array represents the integer 123.\n",
        "\n",
        "Incrementing by one gives 123 + 1 = 124.\n",
        "Thus, the result should be [1,2,4].\n",
        "\n",
        "</aside>\n",
        "\n",
        "<aside>\n",
        "💡 **Q5.** You are given two integer arrays nums1 and nums2, sorted in non-decreasing order, and two integers m and n, representing the number of elements in nums1 and nums2 respectively.\n",
        "\n",
        "Merge nums1 and nums2 into a single array sorted in non-decreasing order.\n",
        "\n",
        "The final sorted array should not be returned by the function, but instead be stored inside the array nums1. To accommodate this, nums1 has a length of m + n, where the first m elements denote the elements that should be merged, and the last n elements are set to 0 and should be ignored. nums2 has a length of n.\n",
        "\n",
        "**Example 1:**\n",
        "Input: nums1 = [1,2,3,0,0,0], m = 3, nums2 = [2,5,6], n = 3\n",
        "Output: [1,2,2,3,5,6]\n",
        "\n",
        "**Explanation:** The arrays we are merging are [1,2,3] and [2,5,6].\n",
        "The result of the merge is [1,2,2,3,5,6] with the underlined elements coming from nums1.\n",
        "\n",
        "</aside>\n",
        "\n",
        "<aside>\n",
        "💡 **Q6.** Given an integer array nums, return true if any value appears at least twice in the array, and return false if every element is distinct.\n",
        "\n",
        "**Example 1:**\n",
        "Input: nums = [1,2,3,1]\n",
        "\n",
        "Output: true\n",
        "\n",
        "</aside>\n",
        "\n",
        "<aside>\n",
        "💡 **Q7.** Given an integer array nums, move all 0's to the end of it while maintaining the relative order of the nonzero elements.\n",
        "\n",
        "Note that you must do this in-place without making a copy of the array.\n",
        "\n",
        "**Example 1:**\n",
        "Input: nums = [0,1,0,3,12]\n",
        "Output: [1,3,12,0,0]\n",
        "\n",
        "</aside>\n",
        "\n",
        "<aside>\n",
        "💡 **Q8.** You have a set of integers s, which originally contains all the numbers from 1 to n. Unfortunately, due to some error, one of the numbers in s got duplicated to another number in the set, which results in repetition of one number and loss of another number.\n",
        "\n",
        "You are given an integer array nums representing the data status of this set after the error.\n",
        "\n",
        "Find the number that occurs twice and the number that is missing and return them in the form of an array.\n",
        "\n",
        "**Example 1:**\n",
        "Input: nums = [1,2,2,4]\n",
        "Output: [2,3]\n",
        "\n",
        "</aside>"
      ],
      "metadata": {
        "id": "J8Jf9GMT1AEm"
      }
    },
    {
      "cell_type": "code",
      "source": [
        "def two_sum(nums, target):\n",
        "    num_dict = {}\n",
        "    for i, num in enumerate(nums):\n",
        "        complement = target - num\n",
        "        if complement in num_dict:\n",
        "            return [num_dict[complement], i]\n",
        "        num_dict[num] = i\n",
        "    return []\n",
        "\n",
        "# User input\n",
        "nums = list(map(int, input(\"Enter the array of integers: \").split()))\n",
        "target = int(input(\"Enter the target sum: \"))\n",
        "\n",
        "result = two_sum(nums, target)\n",
        "print(\"Indices of the two numbers that add up to the target:\", result)\n"
      ],
      "metadata": {
        "colab": {
          "base_uri": "https://localhost:8080/"
        },
        "id": "0UPyJpX51-S6",
        "outputId": "ef9efa45-9be9-41f0-bc52-62f14a6823cb"
      },
      "execution_count": 1,
      "outputs": [
        {
          "output_type": "stream",
          "name": "stdout",
          "text": [
            "Enter the array of integers: 2 3 4 55 44 \n",
            "Enter the target sum: 5\n",
            "Indices of the two numbers that add up to the target: [0, 1]\n"
          ]
        }
      ]
    },
    {
      "cell_type": "code",
      "source": [
        "def remove_element(nums, val):\n",
        "    k = 0\n",
        "    for i in range(len(nums)):\n",
        "        if nums[i] != val:\n",
        "            nums[k] = nums[i]\n",
        "            k += 1\n",
        "    return k\n",
        "\n",
        "# User input\n",
        "nums = list(map(int, input(\"Enter the array of integers: \").split()))\n",
        "val = int(input(\"Enter the value to be removed: \"))\n",
        "\n",
        "k = remove_element(nums, val)\n",
        "print(\"Number of elements in the modified array:\", k)\n",
        "print(\"Modified array:\", nums[:k])\n"
      ],
      "metadata": {
        "colab": {
          "base_uri": "https://localhost:8080/"
        },
        "id": "BHXDjTCS1_tI",
        "outputId": "d12dc2a9-139c-4b6c-9382-d3a97dc9f1be"
      },
      "execution_count": 3,
      "outputs": [
        {
          "output_type": "stream",
          "name": "stdout",
          "text": [
            "Enter the array of integers: 1 2 3 4 5 6 12 23\n",
            "Enter the value to be removed: 23\n",
            "Number of elements in the modified array: 7\n",
            "Modified array: [1, 2, 3, 4, 5, 6, 12]\n"
          ]
        }
      ]
    },
    {
      "cell_type": "code",
      "source": [
        "def search_insert(nums, target):\n",
        "    left = 0\n",
        "    right = len(nums) - 1\n",
        "    while left <= right:\n",
        "        mid = (left + right) // 2\n",
        "        if nums[mid] == target:\n",
        "            return mid\n",
        "        elif nums[mid] < target:\n",
        "            left = mid + 1\n",
        "        else:\n",
        "            right = mid - 1\n",
        "    return left\n",
        "\n",
        "# User input\n",
        "nums = list(map(int, input(\"Enter the sorted array of integers: \").split()))\n",
        "target = int(input(\"Enter the target value: \"))\n",
        "\n",
        "position = search_insert(nums, target)\n",
        "print(\"The index where the target should be inserted:\", position)\n"
      ],
      "metadata": {
        "colab": {
          "base_uri": "https://localhost:8080/"
        },
        "id": "5gbRua4F2cTO",
        "outputId": "c4a27ca4-bdc5-41e1-8874-e0c0e0f6138e"
      },
      "execution_count": 4,
      "outputs": [
        {
          "output_type": "stream",
          "name": "stdout",
          "text": [
            "Enter the sorted array of integers: 1 2 3 4 5 6 7 \n",
            "Enter the target value: 3\n",
            "The index where the target should be inserted: 2\n"
          ]
        }
      ]
    },
    {
      "cell_type": "code",
      "source": [
        "def plus_one(digits):\n",
        "    carry = 1\n",
        "    for i in range(len(digits) - 1, -1, -1):\n",
        "        digits[i] += carry\n",
        "        if digits[i] == 10:\n",
        "            digits[i] = 0\n",
        "            carry = 1\n",
        "        else:\n",
        "            carry = 0\n",
        "            break\n",
        "    if carry == 1:\n",
        "        digits.insert(0, 1)\n",
        "    return digits\n",
        "\n",
        "# User input\n",
        "digits = list(map(int, input(\"Enter the array of digits: \").split()))\n",
        "\n",
        "result = plus_one(digits)\n",
        "print(\"Result after incrementing by one:\", result)\n"
      ],
      "metadata": {
        "colab": {
          "base_uri": "https://localhost:8080/"
        },
        "id": "y_87czTY48Ou",
        "outputId": "6ee53488-5d8c-405f-8118-88f0fdfa3b59"
      },
      "execution_count": 18,
      "outputs": [
        {
          "output_type": "stream",
          "name": "stdout",
          "text": [
            "Enter the array of digits: 1 2 3 4 \n",
            "Result after incrementing by one: [1, 2, 3, 5]\n"
          ]
        }
      ]
    },
    {
      "cell_type": "code",
      "source": [
        "def merge_sorted_array(nums1, m, nums2, n):\n",
        "    i = m - 1\n",
        "    j = n - 1\n",
        "    k = m + n - 1\n",
        "    while i >= 0 and j >= 0:\n",
        "        if nums1[i] > nums2[j]:\n",
        "            nums1[k] = nums1[i]\n",
        "            i -= 1\n",
        "        else:\n",
        "            nums1[k] = nums2[j]\n",
        "            j -= 1\n",
        "        k -= 1\n",
        "    while j >= 0:\n",
        "        nums1[k] = nums2[j]\n",
        "        j -= 1\n",
        "        k -= 1\n",
        "\n",
        "# User input\n",
        "nums1 = list(map(int, input(\"Enter the first sorted array: \").split()))\n",
        "m = int(input(\"Enter the number of elements in the first array: \"))\n",
        "nums2 = list(map(int, input(\"Enter the second sorted array: \").split()))\n",
        "n = int(input(\"Enter the number of elements in the second array: \"))\n",
        "\n",
        "merge_sorted_array(nums1, m, nums2, n)\n",
        "print(\"Merged sorted array:\", nums1)\n"
      ],
      "metadata": {
        "colab": {
          "base_uri": "https://localhost:8080/"
        },
        "id": "mMcfeqoB3mJf",
        "outputId": "3f3d079d-9fcc-4a18-ac7d-61a0eec238bc"
      },
      "execution_count": 11,
      "outputs": [
        {
          "output_type": "stream",
          "name": "stdout",
          "text": [
            "Enter the first sorted array: 1 2 3 4 5 \n",
            "Enter the number of elements in the first array: 2\n",
            "Enter the second sorted array: 6 7 8 9\n",
            "Enter the number of elements in the second array: 1\n",
            "Merged sorted array: [1, 2, 6, 4, 5]\n"
          ]
        }
      ]
    },
    {
      "cell_type": "code",
      "source": [
        "def contains_duplicate(nums):\n",
        "    num_set = set()\n",
        "    for num in nums:\n",
        "        if num in num_set:\n",
        "            return True\n",
        "        num_set.add(num)\n",
        "    return False\n",
        "\n",
        "# User input\n",
        "nums = list(map(int, input(\"Enter the array of integers: \").split()))\n",
        "\n",
        "result = contains_duplicate(nums)\n",
        "print(\"Result:\", result)\n"
      ],
      "metadata": {
        "colab": {
          "base_uri": "https://localhost:8080/"
        },
        "id": "Xu-sNv3M4Btk",
        "outputId": "2fbac884-c789-4f22-a008-3403c6b6a2b2"
      },
      "execution_count": 13,
      "outputs": [
        {
          "output_type": "stream",
          "name": "stdout",
          "text": [
            "Enter the array of integers: 1 2 34 5 6 6 \n",
            "Result: True\n"
          ]
        }
      ]
    },
    {
      "cell_type": "code",
      "source": [
        "def move_zeros(nums):\n",
        "    k = 0\n",
        "    for i in range(len(nums)):\n",
        "        if nums[i] != 0:\n",
        "            nums[k] = nums[i]\n",
        "            k += 1\n",
        "    for i in range(k, len(nums)):\n",
        "        nums[i] = 0\n",
        "\n",
        "# User input\n",
        "nums = list(map(int, input(\"Enter the array of integers: \").split()))\n",
        "\n",
        "move_zeros(nums)\n",
        "print(\"Modified array:\", nums)\n"
      ],
      "metadata": {
        "colab": {
          "base_uri": "https://localhost:8080/"
        },
        "id": "F6CMPfG24RkG",
        "outputId": "2a280150-b159-4415-8c39-d183aef342bf"
      },
      "execution_count": 14,
      "outputs": [
        {
          "output_type": "stream",
          "name": "stdout",
          "text": [
            "Enter the array of integers: 1 2 3 4 0 5 6 \n",
            "Modified array: [1, 2, 3, 4, 5, 6, 0]\n"
          ]
        }
      ]
    },
    {
      "cell_type": "code",
      "source": [
        "def find_error_nums(nums):\n",
        "    n = len(nums)\n",
        "    xor = 0\n",
        "    for i in range(1, n+1):\n",
        "        xor ^= i\n",
        "    for num in nums:\n",
        "        xor ^= num\n",
        "    rightmost_set_bit = xor & -xor\n",
        "    num1 = 0\n",
        "    num2 = 0\n",
        "    for num in nums:\n",
        "        if num & rightmost_set_bit == 0:\n",
        "            num1 ^= num\n",
        "        else:\n",
        "            num2 ^= num\n",
        "    for i in range(1, n+1):\n",
        "        if i & rightmost_set_bit == 0:\n",
        "            num1 ^= i\n",
        "        else:\n",
        "            num2 ^= i\n",
        "    for num in nums:\n",
        "        if num == num1:\n",
        "            return [num1, num2]\n",
        "\n",
        "# User input\n",
        "nums = list(map(int, input(\"Enter the array of integers: \").split()))\n",
        "\n",
        "result = find_error_nums(nums)\n",
        "print(\"Result:\", result)\n"
      ],
      "metadata": {
        "colab": {
          "base_uri": "https://localhost:8080/"
        },
        "id": "ZCDgyJBI4Ze6",
        "outputId": "518f5038-0a52-4662-bf07-14a4eb81e8b9"
      },
      "execution_count": 17,
      "outputs": [
        {
          "output_type": "stream",
          "name": "stdout",
          "text": [
            "Enter the array of integers: 1 2 2 4\n",
            "Result: [2, 3]\n"
          ]
        }
      ]
    }
  ]
}