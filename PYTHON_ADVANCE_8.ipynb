{
  "nbformat": 4,
  "nbformat_minor": 0,
  "metadata": {
    "colab": {
      "provenance": []
    },
    "kernelspec": {
      "name": "python3",
      "display_name": "Python 3"
    },
    "language_info": {
      "name": "python"
    }
  },
  "cells": [
    {
      "cell_type": "markdown",
      "source": [
        "Q1. What are the two latest user-defined exception constraints in Python 3.X?\n",
        "\n",
        "Q2. How are class-based exceptions that have been raised matched to handlers?\n",
        "\n",
        "Q3. Describe two methods for attaching context information to exception artefacts.\n",
        "\n",
        "Q4. Describe two methods for specifying the text of an exception object&#39;s error message.\n",
        "\n",
        "Q5. Why do you no longer use string-based exceptions?"
      ],
      "metadata": {
        "id": "3FoXYiKMVz9e"
      }
    },
    {
      "cell_type": "markdown",
      "source": [
        "## **THE ANS OF ABOVE QUESTIONS ARE AS FOLLOW**"
      ],
      "metadata": {
        "id": "-_crR2YOVhcJ"
      }
    },
    {
      "cell_type": "markdown",
      "source": [
        "Q1. The two latest user-defined exception constraints in Python 3.X are:\n",
        "\n",
        "- Exceptions should inherit from the built-in `Exception` class or one of its subclasses.\n",
        "- The `__str__()` method should be defined to return a string representation of the exception.\n",
        "\n",
        "Q2. When a class-based exception is raised, Python matches it to handlers based on the type of the exception. If the type of the exception matches the type of the handler, the handler is executed.\n",
        "\n",
        "Q3. Two methods for attaching context information to exception artifacts are:\n",
        "\n",
        "- Attaching attributes to the exception object: You can attach additional attributes to the exception object to provide more information about the exception. These attributes can be accessed by the exception handler.\n",
        "- Using the `raise ... from ...` syntax: This allows you to specify a second exception that caused the first exception to occur. The second exception is stored as the `__cause__` attribute of the first exception.\n",
        "\n",
        "Q4. Two methods for specifying the text of an exception object's error message are:\n",
        "\n",
        "- Defining the error message as a string argument to the exception constructor: When you raise an exception, you can pass a string argument to the constructor to define the error message. This string can be accessed by the exception handler using the `str()` function or the `__str__()` method.\n",
        "- Defining the error message in the `__str__()` method of the exception class: You can define the error message in the `__str__()` method of the exception class. This method should return a string representation of the exception.\n",
        "\n",
        "Q5. String-based exceptions were deprecated in Python 2.X and removed in Python 3.X because they were not as flexible or powerful as class-based exceptions. Class-based exceptions allow you to define custom exception types with their own behavior, attributes, and methods. They also provide a clear and consistent way of handling exceptions, making it easier to write robust and maintainable code."
      ],
      "metadata": {
        "id": "R9jLmzYSVo3i"
      }
    }
  ]
}