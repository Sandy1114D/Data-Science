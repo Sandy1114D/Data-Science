{
  "nbformat": 4,
  "nbformat_minor": 0,
  "metadata": {
    "colab": {
      "provenance": []
    },
    "kernelspec": {
      "name": "python3",
      "display_name": "Python 3"
    },
    "language_info": {
      "name": "python"
    }
  },
  "cells": [
    {
      "cell_type": "markdown",
      "source": [
        "1. Write a Python Program to Add Two Matrices?\n",
        "2. Write a Python Program to Multiply Two Matrices?\n",
        "3. Write a Python Program to Transpose a Matrix?\n",
        "4. Write a Python Program to Sort Words in Alphabetic Order?\n",
        "5. Write a Python Program to Remove Punctuation From a String?"
      ],
      "metadata": {
        "id": "GnVT4WIN_5IT"
      }
    },
    {
      "cell_type": "code",
      "source": [
        "# define the matrices to be added\n",
        "matrix1 = [[1, 2, 3],\n",
        "           [4, 5, 6],\n",
        "           [7, 8, 9]]\n",
        "matrix2 = [[10, 11, 12],\n",
        "           [13, 14, 15],\n",
        "           [16, 17, 18]]\n",
        "\n",
        "# initialize an empty matrix to store the result\n",
        "result = [[0, 0, 0],\n",
        "          [0, 0, 0],\n",
        "          [0, 0, 0]]\n",
        "\n",
        "# iterate through each element of the matrices and add them together\n",
        "for i in range(len(matrix1)):\n",
        "    for j in range(len(matrix1[0])):\n",
        "        result[i][j] = matrix1[i][j] + matrix2[i][j]\n",
        "\n",
        "# print the result\n",
        "for r in result:  \n",
        "  print(r)\n",
        "    \n",
        "   \n"
      ],
      "metadata": {
        "colab": {
          "base_uri": "https://localhost:8080/"
        },
        "id": "7cNIMKcw_7AG",
        "outputId": "ac8f4853-8ac7-434c-a232-fdde8a96b0d6"
      },
      "execution_count": 11,
      "outputs": [
        {
          "output_type": "stream",
          "name": "stdout",
          "text": [
            "[11, 13, 15]\n",
            "[17, 19, 21]\n",
            "[23, 25, 27]\n"
          ]
        }
      ]
    },
    {
      "cell_type": "code",
      "source": [
        "# define the matrices to be multiplied\n",
        "matrix1 = [[1, 2, 3],\n",
        "           [4, 5, 6],\n",
        "           [7, 8, 9]]\n",
        "matrix2 = [[10, 11],\n",
        "           [12, 13],\n",
        "           [14, 15]]\n",
        "\n",
        "# initialize an empty matrix to store the result\n",
        "result = [[0, 0],\n",
        "          [0, 0],\n",
        "          [0, 0]]\n",
        "\n",
        "# iterate through each element of the matrices and multiply them together\n",
        "for i in range(len(matrix1)):\n",
        "    for j in range(len(matrix2[0])):\n",
        "        for k in range(len(matrix2)):\n",
        "            result[i][j] += matrix1[i][k] * matrix2[k][j]\n",
        "\n",
        "# print the result\n",
        "for r in result:\n",
        " print(r)\n"
      ],
      "metadata": {
        "colab": {
          "base_uri": "https://localhost:8080/"
        },
        "id": "JlRmKJxBA27g",
        "outputId": "beab8949-a5a1-41ac-e795-f6d53a1010fb"
      },
      "execution_count": 13,
      "outputs": [
        {
          "output_type": "stream",
          "name": "stdout",
          "text": [
            "[76, 82]\n",
            "[184, 199]\n",
            "[292, 316]\n"
          ]
        }
      ]
    },
    {
      "cell_type": "code",
      "source": [
        "# define the matrix to be transposed\n",
        "matrix = [[1, 2, 3],\n",
        "          [4, 5, 6],\n",
        "          [7, 8, 9]]\n",
        "\n",
        "# initialize an empty matrix to store the transpose\n",
        "transpose = [[0, 0, 0],\n",
        "             [0, 0, 0],\n",
        "             [0, 0, 0]]\n",
        "\n",
        "# iterate through each element of the matrix and transpose it\n",
        "for i in range(len(matrix)):\n",
        "    for j in range(len(matrix[0])):\n",
        "        transpose[j][i] = matrix[i][j]\n",
        "\n",
        "# print the transpose\n",
        "for t in transpose:\n",
        "  print(t)\n"
      ],
      "metadata": {
        "colab": {
          "base_uri": "https://localhost:8080/"
        },
        "id": "aqaTBwZ3A-vS",
        "outputId": "c72816f3-db12-4c36-99f1-2427c546016a"
      },
      "execution_count": 15,
      "outputs": [
        {
          "output_type": "stream",
          "name": "stdout",
          "text": [
            "[1, 4, 7]\n",
            "[2, 5, 8]\n",
            "[3, 6, 9]\n"
          ]
        }
      ]
    },
    {
      "cell_type": "code",
      "source": [
        "# get a list of words from the user\n",
        "word_list = input(\"Enter a list of words separated by spaces: \").split()\n",
        "\n",
        "# sort the words in alphabetical order\n",
        "word_list.sort()\n",
        "\n",
        "# print the sorted list of words\n",
        "print(\"Sorted words:\", \", \".join(word_list))\n"
      ],
      "metadata": {
        "colab": {
          "base_uri": "https://localhost:8080/"
        },
        "id": "9GI2buTgBEoK",
        "outputId": "4944c205-454c-4771-f700-ae081c57f0be"
      },
      "execution_count": 17,
      "outputs": [
        {
          "output_type": "stream",
          "name": "stdout",
          "text": [
            "Enter a list of words separated by spaces: sumit sanket\n",
            "Sorted words: sanket, sumit\n"
          ]
        }
      ]
    },
    {
      "cell_type": "code",
      "source": [
        "import string\n",
        "\n",
        "# define the string with punctuation\n",
        "input_string = \"Hello, World! This is a string with punctuation.\"\n",
        "\n",
        "# remove the punctuation from the string\n",
        "output_string = input_string.translate(str.maketrans(\"\", \"\", string.punctuation))\n",
        "\n",
        "# print the string without punctuation\n",
        "print(\"String without punctuation:\", output_string)\n"
      ],
      "metadata": {
        "colab": {
          "base_uri": "https://localhost:8080/"
        },
        "id": "tV0EMqu8BVe6",
        "outputId": "2e307961-c9e3-4745-8114-9408c226e062"
      },
      "execution_count": 18,
      "outputs": [
        {
          "output_type": "stream",
          "name": "stdout",
          "text": [
            "String without punctuation: Hello World This is a string with punctuation\n"
          ]
        }
      ]
    }
  ]
}