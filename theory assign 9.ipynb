{
  "nbformat": 4,
  "nbformat_minor": 0,
  "metadata": {
    "colab": {
      "provenance": []
    },
    "kernelspec": {
      "name": "python3",
      "display_name": "Python 3"
    },
    "language_info": {
      "name": "python"
    }
  },
  "cells": [
    {
      "cell_type": "markdown",
      "source": [
        "1. To what does a relative path refer?\n",
        "2. What does an absolute path start with your operating system?\n",
        "3. What do the functions os.getcwd() and os.chdir() do?\n",
        "4. What are the . and .. folders?\n",
        "5. In C:\\bacon\\eggs\\spam.txt, which part is the dir name, and which part is the base name?\n",
        "6. What are the three “mode” arguments that can be passed to the open() function?\n",
        "7. What happens if an existing file is opened in write mode?\n",
        "8. How do you tell the difference between read() and readlines()?\n",
        "9. What data structure does a shelf value resemble?"
      ],
      "metadata": {
        "id": "wrdRlTbdrGZI"
      }
    },
    {
      "cell_type": "markdown",
      "source": [
        "## **ANS OF ABOVE QUESTIONS ARE AS FOLLOW**"
      ],
      "metadata": {
        "id": "dmMC2cOrrTXL"
      }
    },
    {
      "cell_type": "markdown",
      "source": [
        "1. A relative path refers to a path that is relative to the current working directory.\n",
        "2. An absolute path starts with the root folder of the operating system, such as \"/\" on Linux and \"C:\\\" on Windows.\n",
        "3. `os.getcwd()` returns the current working directory, while `os.chdir()` changes the current working directory to the specified path.\n",
        "4. The \".\" folder refers to the current directory, while the \"..\" folder refers to the parent directory.\n",
        "5. \"C:\\bacon\\eggs\" is the directory name, and \"spam.txt\" is the base name.\n",
        "6. The three mode arguments that can be passed to the open() function are \"r\" for reading, \"w\" for writing, and \"a\" for appending.\n",
        "7. If an existing file is opened in write mode, the file's contents will be deleted and replaced with the new data that is written to it.\n",
        "8. The `read()` method returns the entire contents of a file as a single string, while the `readlines()` method returns the contents of a file as a list of strings, where each string represents a single line.\n",
        "9. A shelf value in Python resembles a dictionary data structure. It allows you to store key-value pairs of data persistently to disk, allowing you to access it across multiple program executions."
      ],
      "metadata": {
        "id": "t4h-cNCWr4LE"
      }
    }
  ]
}