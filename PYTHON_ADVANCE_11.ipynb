{
  "nbformat": 4,
  "nbformat_minor": 0,
  "metadata": {
    "colab": {
      "provenance": []
    },
    "kernelspec": {
      "name": "python3",
      "display_name": "Python 3"
    },
    "language_info": {
      "name": "python"
    }
  },
  "cells": [
    {
      "cell_type": "markdown",
      "source": [
        "Q1. What is the concept of a metaclass?\n",
        "\n",
        "Q2. What is the best way to declare a class&#39;s metaclass?\n",
        "\n",
        "Q3. How do class decorators overlap with metaclasses for handling classes?\n",
        "\n",
        "Q4. How do class decorators overlap with metaclasses for handling instances?"
      ],
      "metadata": {
        "id": "H-NBIYP-XIRn"
      }
    },
    {
      "cell_type": "markdown",
      "source": [
        "## **ANS OF ABOVE QUESTIONS ARE AS FOLLOW**"
      ],
      "metadata": {
        "id": "21g7NirhXPIM"
      }
    },
    {
      "cell_type": "markdown",
      "source": [
        "Q1. A metaclass is a class that defines the behavior of other classes. In other words, it is a class that creates other classes. Metaclasses are a powerful feature of Python that allow you to modify the behavior of a class at the time of creation.\n",
        "\n",
        "Q2. The best way to declare a class's metaclass is to use the `metaclass` argument when defining the class. For example:\n",
        "\n",
        "```\n",
        "class MyClass(metaclass=MyMeta):\n",
        "    pass\n",
        "```\n",
        "\n",
        "This will cause `MyMeta` to be used as the metaclass for `MyClass`.\n",
        "\n",
        "Q3. Class decorators and metaclasses are similar in that they allow you to modify the behavior of classes. However, they differ in how they accomplish this. Class decorators are functions that take a class as an argument and return a modified class. Metaclasses, on the other hand, are classes that define the behavior of other classes.\n",
        "\n",
        "Q4. Class decorators do not overlap with metaclasses for handling instances, as class decorators are only used to modify the behavior of classes. Metaclasses, on the other hand, are used to define the behavior of classes at the time of creation. Once an instance of a class is created, the metaclass is no longer involved in its behavior."
      ],
      "metadata": {
        "id": "F7H2io6fXTzC"
      }
    }
  ]
}