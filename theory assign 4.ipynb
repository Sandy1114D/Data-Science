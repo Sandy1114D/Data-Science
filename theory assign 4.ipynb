{
  "nbformat": 4,
  "nbformat_minor": 0,
  "metadata": {
    "colab": {
      "provenance": []
    },
    "kernelspec": {
      "name": "python3",
      "display_name": "Python 3"
    },
    "language_info": {
      "name": "python"
    }
  },
  "cells": [
    {
      "cell_type": "markdown",
      "source": [
        "1. What exactly is []?\n",
        "2. In a list of values stored in a variable called spam, how would you assign the value &#39;hello&#39; as the\n",
        "third value? (Assume [2, 4, 6, 8, 10] are in spam.)\n",
        "Let&#39;s pretend the spam includes the list [&#39;a&#39;, &#39;b&#39;, &#39;c&#39;, &#39;d&#39;] for the next three queries.\n",
        "3. What is the value of spam[int(int(&#39;3&#39; * 2) / 11)]?\n",
        "4. What is the value of spam[-1]?\n",
        "5. What is the value of spam[:2]?\n",
        "Let&#39;s pretend bacon has the list [3.14, &#39;cat,&#39; 11, &#39;cat,&#39; True] for the next three questions.\n",
        "6. What is the value of bacon.index(&#39;cat&#39;)?\n",
        "7. How does bacon.append(99) change the look of the list value in bacon?\n",
        "8. How does bacon.remove(&#39;cat&#39;) change the look of the list in bacon?\n",
        "9. What are the list concatenation and list replication operators?\n",
        "10. What is difference between the list methods append() and insert()?\n",
        "11. What are the two methods for removing items from a list?\n",
        "12. Describe how list values and string values are identical.\n",
        "13. What&#39;s the difference between tuples and lists?\n",
        "14. How do you type a tuple value that only contains the integer 42?\n",
        "15. How do you get a list value&#39;s tuple form? How do you get a tuple value&#39;s list form?\n",
        "16. Variables that &quot;contain&quot; list values are not necessarily lists themselves. Instead, what do they\n",
        "contain?\n",
        "17. How do you distinguish between copy.copy() and copy.deepcopy()?"
      ],
      "metadata": {
        "id": "fKlyeqIpZey1"
      }
    },
    {
      "cell_type": "markdown",
      "source": [
        "1. [] is an empty list in Python.\n",
        "2. You can assign the value 'hello' as the third value in the spam list using the following code: `spam[2] = 'hello'`\n",
        "3. The value of `spam[int(int('3' * 2) / 11)]` is 'd'. This is because '3' * 2 results in '33', which is then converted to an integer and divided by 11 using integer division. This results in 3, which is the index of 'd' in the list.\n",
        "4. The value of spam[-1] is 'd', which is the last item in the list.\n",
        "5. The value of spam[:2] is ['a', 'b'], which is a slice of the list that includes the first two items.\n",
        "6. The value of bacon.index('cat') is 1. This is because the first occurrence of 'cat' in the list is at index 1.\n",
        "7. bacon.append(99) adds the value 99 to the end of the bacon list, so the new list value is [3.14, 'cat', 11, 'cat', True, 99].\n",
        "8. bacon.remove('cat') removes the first occurrence of 'cat' from the bacon list, so the new list value is [3.14, 11, 'cat', True].\n",
        "9. The list concatenation operator is + and the list replication operator is *.\n",
        "10. The append() method adds an item to the end of the list, while the insert() method adds an item at a specified index in the list.\n",
        "11. The two methods for removing items from a list are remove() and pop(). The remove() method removes the first occurrence of a specified value, while the pop() method removes an item at a specified index and returns the removed value.\n",
        "12. Both lists and strings are ordered sequences of elements, and you can access individual elements in the same way using indexing and slicing. They also both support the len() function, concatenation using +, and replication using *.\n",
        "13. Tuples and lists are both ordered sequences of elements, but tuples are immutable while lists are mutable. This means that you cannot modify the elements of a tuple once it has been created, while you can modify the elements of a list.\n",
        "14. You can type a tuple value that only contains the integer 42 using the following code: `(42,)`\n",
        "15. You can convert a list value to its tuple form using the tuple() function, and you can convert a tuple value to its list form using the list() function.\n",
        "16. Variables that \"contain\" list values are actually storing a reference to the list object, rather than the list itself.\n",
        "17. The copy.copy() method creates a shallow copy of a list, meaning that any nested lists are still references to the original list. The copy.deepcopy() method creates a deep copy of a list, meaning that all nested lists are recursively copied and stored as separate objects."
      ],
      "metadata": {
        "id": "nLlhyM09Z9V_"
      }
    }
  ]
}