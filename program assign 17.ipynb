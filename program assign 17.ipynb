{
  "nbformat": 4,
  "nbformat_minor": 0,
  "metadata": {
    "colab": {
      "provenance": []
    },
    "kernelspec": {
      "name": "python3",
      "display_name": "Python 3"
    },
    "language_info": {
      "name": "python"
    }
  },
  "cells": [
    {
      "cell_type": "markdown",
      "source": [
        "Question1. Create a function that takes three arguments a, b, c and returns the sum of the\n",
        "numbers that are evenly divided by c from the range a, b inclusive.\n",
        "Examples\n",
        "evenly_divisible(1, 10, 20) ➞ 0\n",
        "# No number between 1 and 10 can be evenly divided by 20.\n",
        "evenly_divisible(1, 10, 2) ➞ 30\n",
        "# 2 + 4 + 6 + 8 + 10 = 30\n",
        "evenly_divisible(1, 10, 3) ➞ 18\n",
        "# 3 + 6 + 9 = 18\n",
        "\n",
        "Question2. Create a function that returns True if a given inequality expression is correct and\n",
        "False otherwise.\n",
        "Examples\n",
        "correct_signs(&quot;3 &lt; 7 &lt; 11&quot;) ➞ True\n",
        "correct_signs(&quot;13 &gt; 44 &gt; 33 &gt; 1&quot;) ➞ False\n",
        "correct_signs(&quot;1 &lt; 2 &lt; 6 &lt; 9 &gt; 3&quot;) ➞ True\n",
        "\n",
        "Question3. Create a function that replaces all the vowels in a string with a specified character.\n",
        "Examples\n",
        "replace_vowels(&quot;the aardvark&quot;, &quot;#&quot;) ➞ &quot;th# ##rdv#rk&quot;\n",
        "replace_vowels(&quot;minnie mouse&quot;, &quot;?&quot;) ➞ &quot;m?nn?? m??s?&quot;\n",
        "replace_vowels(&quot;shakespeare&quot;, &quot;*&quot;) ➞ &quot;sh*k*sp**r*&quot;\n",
        "\n",
        "Question4. Write a function that calculates the factorial of a number recursively.\n",
        "Examples\n",
        "factorial(5) ➞ 120\n",
        "factorial(3) ➞ 6\n",
        "factorial(1) ➞ 1\n",
        "factorial(0) ➞ 1\n",
        "\n",
        "Question 5\n",
        "Hamming distance is the number of characters that differ between two strings.\n",
        "To illustrate:\n",
        "String1: &quot;abcbba&quot;\n",
        "String2: &quot;abcbda&quot;\n",
        "Hamming Distance: 1 - &quot;b&quot; vs. &quot;d&quot; is the only difference.\n",
        "Create a function that computes the hamming distance between two strings.\n",
        "Examples\n",
        "hamming_distance(&quot;abcde&quot;, &quot;bcdef&quot;) ➞ 5\n",
        "hamming_distance(&quot;abcde&quot;, &quot;abcde&quot;) ➞ 0\n",
        "hamming_distance(&quot;strong&quot;, &quot;strung&quot;) ➞ 1"
      ],
      "metadata": {
        "id": "PvdZoANJwNXX"
      }
    },
    {
      "cell_type": "code",
      "source": [
        "def evenly_divisible(a, b, c):\n",
        "    # Initialize the sum to 0\n",
        "    sum = 0\n",
        "    \n",
        "    # Iterate over the range a to b inclusive\n",
        "    for i in range(a, b+1):\n",
        "        # If i is evenly divisible by c, add it to the sum\n",
        "        if i % c == 0:\n",
        "            sum += i\n",
        "    \n",
        "    # Return the sum\n",
        "    return sum\n",
        "\n",
        "# Take input from the user\n",
        "a = int(input(\"Enter the value of a: \"))\n",
        "b = int(input(\"Enter the value of b: \"))\n",
        "c = int(input(\"Enter the value of c: \"))\n",
        "\n",
        "# Call the function and print the result\n",
        "print(evenly_divisible(a, b, c))\n"
      ],
      "metadata": {
        "colab": {
          "base_uri": "https://localhost:8080/"
        },
        "id": "pkaxRalWwoak",
        "outputId": "4baad408-3ac6-4ef0-ca8b-752780cbc702"
      },
      "execution_count": 2,
      "outputs": [
        {
          "output_type": "stream",
          "name": "stdout",
          "text": [
            "Enter the value of a: 1\n",
            "Enter the value of b: 10\n",
            "Enter the value of c: 2\n",
            "30\n"
          ]
        }
      ]
    },
    {
      "cell_type": "code",
      "source": [
        "def correct_signs(expr):\n",
        "    # Evaluate the expression using Python's eval() function\n",
        "    result = eval(expr)\n",
        "    \n",
        "    # Return True if the result is True, False otherwise\n",
        "    return result == True\n",
        "\n",
        "# Take input from the user\n",
        "expr = input(\"Enter the inequality expression: \")\n",
        "\n",
        "# Call the function and print the result\n",
        "print(correct_signs(expr))\n"
      ],
      "metadata": {
        "colab": {
          "base_uri": "https://localhost:8080/"
        },
        "id": "vW_5rYkAxSLC",
        "outputId": "5663a96f-18a3-4209-e84f-e42962567d7d"
      },
      "execution_count": 3,
      "outputs": [
        {
          "output_type": "stream",
          "name": "stdout",
          "text": [
            "Enter the inequality expression: 3<17<18\n",
            "True\n"
          ]
        }
      ]
    },
    {
      "cell_type": "code",
      "source": [
        "def replace_vowels(string, char):\n",
        "    # Define a list of vowels\n",
        "    vowels = ['a', 'e', 'i', 'o', 'u']\n",
        "    \n",
        "    # Initialize an empty string to store the result\n",
        "    result = ''\n",
        "    \n",
        "    # Iterate over each character in the string\n",
        "    for c in string:\n",
        "        # If the character is a vowel, replace it with the specified character\n",
        "        if c.lower() in vowels:\n",
        "            result += char\n",
        "        else:\n",
        "            result += c\n",
        "    \n",
        "    # Return the result\n",
        "    return result\n",
        "\n",
        "# Take input from the user\n",
        "string = input(\"Enter the string: \")\n",
        "char = input(\"Enter the character to replace vowels with: \")\n",
        "\n",
        "# Call the function and print the result\n",
        "print(replace_vowels(string, char))\n"
      ],
      "metadata": {
        "colab": {
          "base_uri": "https://localhost:8080/"
        },
        "id": "hmQZmAhAyQgW",
        "outputId": "f1318ee2-e79f-4b10-d6aa-085516beeb50"
      },
      "execution_count": 4,
      "outputs": [
        {
          "output_type": "stream",
          "name": "stdout",
          "text": [
            "Enter the string: mohit\n",
            "Enter the character to replace vowels with: $\n",
            "m$h$t\n"
          ]
        }
      ]
    },
    {
      "cell_type": "code",
      "source": [
        "def factorial(n):\n",
        "    # Base case: factorial of 0 or 1 is 1\n",
        "    if n == 0 or n == 1:\n",
        "        return 1\n",
        "    \n",
        "    # Recursive case: factorial of n is n times factorial of (n-1)\n",
        "    else:\n",
        "        return n * factorial(n-1)\n",
        "\n",
        "# Take input from the user\n",
        "n = int(input(\"Enter a number to calculate its factorial: \"))\n",
        "\n",
        "# Call the function and print the result\n",
        "print(factorial(n))\n"
      ],
      "metadata": {
        "colab": {
          "base_uri": "https://localhost:8080/"
        },
        "id": "hf6luqSSy-lJ",
        "outputId": "58ff9ab4-8bb4-4d07-c56e-14e97fbc3f9f"
      },
      "execution_count": 6,
      "outputs": [
        {
          "output_type": "stream",
          "name": "stdout",
          "text": [
            "Enter a number to calculate its factorial: 5\n",
            "120\n"
          ]
        }
      ]
    },
    {
      "cell_type": "code",
      "source": [
        "def hamming_distance(str1, str2):\n",
        "    # Initialize the distance to 0\n",
        "    distance = 0\n",
        "    \n",
        "    # Iterate over the characters in the strings and count the differences\n",
        "    for i in range(len(str1)):\n",
        "        if str1[i] != str2[i]:\n",
        "            distance += 1\n",
        "    \n",
        "    # Return the Hamming distance\n",
        "    return distance\n",
        "\n",
        "# Take input from the user\n",
        "str1 = input(\"Enter the first string: \")\n",
        "str2 = input(\"Enter the second string: \")\n",
        "\n",
        "# Call the function and print the result\n",
        "print(\"The Hamming distance between\", str1, \"and\", str2, \"is\", hamming_distance(str1, str2))\n"
      ],
      "metadata": {
        "colab": {
          "base_uri": "https://localhost:8080/"
        },
        "id": "MUANIaww0YQH",
        "outputId": "ad30d444-c00c-44f9-90fd-b498a6a24673"
      },
      "execution_count": 8,
      "outputs": [
        {
          "output_type": "stream",
          "name": "stdout",
          "text": [
            "Enter the first string: adcde\n",
            "Enter the second string: bcdef\n",
            "The Hamming distance between adcde and bcdef is 5\n"
          ]
        }
      ]
    }
  ]
}