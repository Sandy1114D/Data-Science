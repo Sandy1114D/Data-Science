{
  "nbformat": 4,
  "nbformat_minor": 0,
  "metadata": {
    "colab": {
      "provenance": []
    },
    "kernelspec": {
      "name": "python3",
      "display_name": "Python 3"
    },
    "language_info": {
      "name": "python"
    }
  },
  "cells": [
    {
      "cell_type": "markdown",
      "source": [
        "1. Set the variable test1 to the string &#39;This is a test of the emergency text system,&#39; and save test1 to a\n",
        "file named test.txt.\n",
        "2. Read the contents of the file test.txt into the variable test2. Is there a difference between test 1\n",
        "and test 2?\n",
        "3. Create a CSV file called books.csv by using these lines:\n",
        "title,author,year\n",
        "The Weirdstone of Brisingamen,Alan Garner,1960\n",
        "Perdido Street Station,China Miéville,2000\n",
        "Thud!,Terry Pratchett,2005\n",
        "The Spellman Files,Lisa Lutz,2007\n",
        "Small Gods,Terry Pratchett,1992\n",
        "4. Use the sqlite3 module to create a SQLite database called books.db, and a table called books with\n",
        "these fields: title (text), author (text), and year (integer).\n",
        "5. Read books.csv and insert its data into the book table.\n",
        "6. Select and print the title column from the book table in alphabetical order.\n",
        "7. From the book table, select and print all columns in the order of publication.\n",
        "8. Use the sqlalchemy module to connect to the sqlite3 database books.db that you just made in\n",
        "exercise 6.\n",
        "9. Install the Redis server and the Python redis library (pip install redis) on your computer. Create a\n",
        "Redis hash called test with the fields count (1) and name (&#39;Fester Bestertester&#39;). Print all the fields for\n",
        "test.\n",
        "10. Increment the count field of test and print it."
      ],
      "metadata": {
        "id": "Hr6kVnxr5HpG"
      }
    },
    {
      "cell_type": "markdown",
      "source": [
        "## **ANS OF ABOVE QUESTIONS ARE AS FOLLOW**"
      ],
      "metadata": {
        "id": "p3IM7Lom5Koj"
      }
    },
    {
      "cell_type": "markdown",
      "source": [
        "1. ```python\n",
        "   test1 = 'This is a test of the emergency text system,'\n",
        "   with open('test.txt', 'w') as file:\n",
        "       file.write(test1)\n",
        "   ```\n",
        "\n",
        "2. ```python\n",
        "   with open('test.txt', 'r') as file:\n",
        "       test2 = file.read()\n",
        "   ```\n",
        "   There should be no difference between test1 and test2.\n",
        "\n",
        "3. ```csv\n",
        "   title,author,year\n",
        "   The Weirdstone of Brisingamen,Alan Garner,1960\n",
        "   Perdido Street Station,China Miéville,2000\n",
        "   Thud!,Terry Pratchett,2005\n",
        "   The Spellman Files,Lisa Lutz,2007\n",
        "   Small Gods,Terry Pratchett,1992\n",
        "   ```\n",
        "   \n",
        "4. ```python\n",
        "   import sqlite3\n",
        "   conn = sqlite3.connect('books.db')\n",
        "   c = conn.cursor()\n",
        "   c.execute('''CREATE TABLE books\n",
        "                (title text, author text, year integer)''')\n",
        "   conn.commit()\n",
        "   conn.close()\n",
        "   ```\n",
        "\n",
        "5. ```python\n",
        "   import csv\n",
        "   conn = sqlite3.connect('books.db')\n",
        "   c = conn.cursor()\n",
        "   with open('books.csv') as file:\n",
        "       reader = csv.reader(file)\n",
        "       next(reader)  # Skip header row\n",
        "       for row in reader:\n",
        "           c.execute(\"INSERT INTO books VALUES (?, ?, ?)\", row)\n",
        "   conn.commit()\n",
        "   conn.close()\n",
        "   ```\n",
        "\n",
        "6. ```python\n",
        "   conn = sqlite3.connect('books.db')\n",
        "   c = conn.cursor()\n",
        "   c.execute(\"SELECT title FROM books ORDER BY title ASC\")\n",
        "   rows = c.fetchall()\n",
        "   for row in rows:\n",
        "       print(row[0])\n",
        "   conn.close()\n",
        "   ```\n",
        "\n",
        "7. ```python\n",
        "   conn = sqlite3.connect('books.db')\n",
        "   c = conn.cursor()\n",
        "   c.execute(\"SELECT * FROM books ORDER BY year ASC\")\n",
        "   rows = c.fetchall()\n",
        "   for row in rows:\n",
        "       print(row)\n",
        "   conn.close()\n",
        "   ```\n",
        "\n",
        "8. ```python\n",
        "   from sqlalchemy import create_engine, MetaData, Table\n",
        "\n",
        "   engine = create_engine('sqlite:///books.db', echo=True)\n",
        "   metadata = MetaData()\n",
        "   books = Table('books', metadata, autoload=True, autoload_with=engine)\n",
        "\n",
        "   conn = engine.connect()\n",
        "   rows = conn.execute(books.select().order_by(books.c.title.asc())).fetchall()\n",
        "   for row in rows:\n",
        "       print(row.title)\n",
        "   conn.close()\n",
        "   ```\n",
        "\n",
        "9. ```python\n",
        "   import redis\n",
        "   r = redis.Redis(host='localhost', port=6379, db=0)\n",
        "   r.hset('test', 'count', 1)\n",
        "   r.hset('test', 'name', 'Fester Bestertester')\n",
        "   print(r.hgetall('test'))\n",
        "   ```\n",
        "\n",
        "10. ```python\n",
        "    count = r.hincrby('test', 'count', amount=1)\n",
        "    print(count)\n",
        "    ```"
      ],
      "metadata": {
        "id": "abfe3jkc5gPe"
      }
    }
  ]
}