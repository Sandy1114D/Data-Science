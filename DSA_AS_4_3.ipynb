{
  "nbformat": 4,
  "nbformat_minor": 0,
  "metadata": {
    "colab": {
      "provenance": []
    },
    "kernelspec": {
      "name": "python3",
      "display_name": "Python 3"
    },
    "language_info": {
      "name": "python"
    }
  },
  "cells": [
    {
      "cell_type": "markdown",
      "source": [
        "<aside>\n",
        "💡 **Question 1**\n",
        "Given three integer arrays arr1, arr2 and arr3 **sorted** in **strictly increasing** order, return a sorted array of **only** the integers that appeared in **all** three arrays.\n",
        "\n",
        "**Example 1:**\n",
        "\n",
        "Input: arr1 = [1,2,3,4,5], arr2 = [1,2,5,7,9], arr3 = [1,3,4,5,8]\n",
        "\n",
        "Output: [1,5]\n",
        "\n",
        "**Explanation:** Only 1 and 5 appeared in the three arrays.\n",
        "\n",
        "</aside>\n",
        "\n",
        "<aside>\n",
        "💡 **Question 2**\n",
        "\n",
        "Given two **0-indexed** integer arrays nums1 and nums2, return *a list* answer *of size* 2 *where:*\n",
        "\n",
        "- answer[0] *is a list of all **distinct** integers in* nums1 *which are **not** present in* nums2*.*\n",
        "- answer[1] *is a list of all **distinct** integers in* nums2 *which are **not** present in* nums1.\n",
        "\n",
        "**Note** that the integers in the lists may be returned in **any** order.\n",
        "\n",
        "**Example 1:**\n",
        "\n",
        "**Input:** nums1 = [1,2,3], nums2 = [2,4,6]\n",
        "\n",
        "**Output:** [[1,3],[4,6]]\n",
        "\n",
        "**Explanation:**\n",
        "\n",
        "For nums1, nums1[1] = 2 is present at index 0 of nums2, whereas nums1[0] = 1 and nums1[2] = 3 are not present in nums2. Therefore, answer[0] = [1,3].\n",
        "\n",
        "For nums2, nums2[0] = 2 is present at index 1 of nums1, whereas nums2[1] = 4 and nums2[2] = 6 are not present in nums2. Therefore, answer[1] = [4,6].\n",
        "\n",
        "</aside>\n",
        "\n",
        "<aside>\n",
        "💡 **Question 3**\n",
        "Given a 2D integer array matrix, return *the **transpose** of* matrix.\n",
        "\n",
        "The **transpose** of a matrix is the matrix flipped over its main diagonal, switching the matrix's row and column indices.\n",
        "\n",
        "**Example 1:**\n",
        "\n",
        "Input: matrix = [[1,2,3],[4,5,6],[7,8,9]]\n",
        "\n",
        "Output: [[1,4,7],[2,5,8],[3,6,9]]\n",
        "\n",
        "![iamge_v3.png](https://s3-us-west-2.amazonaws.com/secure.notion-static.com/a54805f4-c9b5-491c-a900-8e8a94062c79/iamge_v3.png)\n",
        "\n",
        "</aside>\n",
        "\n",
        "<aside>\n",
        "💡 **Question 4**\n",
        "Given an integer array nums of 2n integers, group these integers into n pairs (a1, b1), (a2, b2), ..., (an, bn) such that the sum of min(ai, bi) for all i is **maximized**. Return *the maximized sum*.\n",
        "\n",
        "**Example 1:**\n",
        "\n",
        "Input: nums = [1,4,3,2]\n",
        "\n",
        "Output: 4\n",
        "\n",
        "**Explanation:** All possible pairings (ignoring the ordering of elements) are:\n",
        "\n",
        "1. (1, 4), (2, 3) -> min(1, 4) + min(2, 3) = 1 + 2 = 3\n",
        "\n",
        "2. (1, 3), (2, 4) -> min(1, 3) + min(2, 4) = 1 + 2 = 3\n",
        "\n",
        "3. (1, 2), (3, 4) -> min(1, 2) + min(3, 4) = 1 + 3 = 4\n",
        "\n",
        "So the maximum possible sum is 4.\n",
        "\n",
        "</aside>\n",
        "\n",
        "<aside>\n",
        "💡 **Question 5**\n",
        "You have n coins and you want to build a staircase with these coins. The staircase consists of k rows where the ith row has exactly i coins. The last row of the staircase **may be** incomplete.\n",
        "\n",
        "Given the integer n, return *the number of **complete rows** of the staircase you will build*.\n",
        "\n",
        "**Example 1:**\n",
        "\n",
        "[]()\n",
        "\n",
        "![v2.jpg](https://s3-us-west-2.amazonaws.com/secure.notion-static.com/4bd91cfa-d2b1-47b3-8197-a72e8dcfff4b/v2.jpg)\n",
        "\n",
        "**Input:** n = 5\n",
        "\n",
        "**Output:** 2\n",
        "\n",
        "**Explanation:** Because the 3rd row is incomplete, we return 2.\n",
        "\n",
        "</aside>\n",
        "\n",
        "<aside>\n",
        "💡 **Question 6**\n",
        "Given an integer array nums sorted in **non-decreasing** order, return *an array of **the squares of each number** sorted in non-decreasing order*.\n",
        "\n",
        "**Example 1:**\n",
        "\n",
        "Input: nums = [-4,-1,0,3,10]\n",
        "\n",
        "Output: [0,1,9,16,100]\n",
        "\n",
        "**Explanation:** After squaring, the array becomes [16,1,0,9,100].\n",
        "After sorting, it becomes [0,1,9,16,100]\n",
        "\n",
        "</aside>\n",
        "\n",
        "<aside>\n",
        "💡 **Question 7**\n",
        "You are given an m x n matrix M initialized with all 0's and an array of operations ops, where ops[i] = [ai, bi] means M[x][y] should be incremented by one for all 0 <= x < ai and 0 <= y < bi.\n",
        "\n",
        "Count and return *the number of maximum integers in the matrix after performing all the operations*\n",
        "\n",
        "**Example 1:**\n",
        "\n",
        "![q4.jpg](https://s3-us-west-2.amazonaws.com/secure.notion-static.com/4d0890d0-7bc7-4f59-be8e-352d9f3c1c52/q4.jpg)\n",
        "\n",
        "**Input:** m = 3, n = 3, ops = [[2,2],[3,3]]\n",
        "\n",
        "**Output:** 4\n",
        "\n",
        "**Explanation:** The maximum integer in M is 2, and there are four of it in M. So return 4.\n",
        "\n",
        "</aside>\n",
        "\n",
        "<aside>\n",
        "💡 **Question 8**\n",
        "\n",
        "Given the array nums consisting of 2n elements in the form [x1,x2,...,xn,y1,y2,...,yn].\n",
        "\n",
        "*Return the array in the form* [x1,y1,x2,y2,...,xn,yn].\n",
        "\n",
        "**Example 1:**\n",
        "\n",
        "**Input:** nums = [2,5,1,3,4,7], n = 3\n",
        "\n",
        "**Output:** [2,3,5,4,1,7]\n",
        "\n",
        "**Explanation:** Since x1=2, x2=5, x3=1, y1=3, y2=4, y3=7 then the answer is [2,3,5,4,1,7].\n",
        "\n",
        "</aside>"
      ],
      "metadata": {
        "id": "H3BgrXxShE4J"
      }
    },
    {
      "cell_type": "code",
      "source": [
        "def find_common_elements(arr1, arr2, arr3):\n",
        "    i = j = k = 0\n",
        "    result = []\n",
        "\n",
        "    while i < len(arr1) and j < len(arr2) and k < len(arr3):\n",
        "        if arr1[i] == arr2[j] == arr3[k]:\n",
        "            result.append(arr1[i])\n",
        "            i += 1\n",
        "            j += 1\n",
        "            k += 1\n",
        "        elif arr1[i] < arr2[j]:\n",
        "            i += 1\n",
        "        elif arr2[j] < arr3[k]:\n",
        "            j += 1\n",
        "        else:\n",
        "            k += 1\n",
        "\n",
        "    return result\n",
        "\n",
        "\n",
        "# User Input\n",
        "arr1 = list(map(int, input(\"Enter the elements of array 1 (sorted): \").split()))\n",
        "arr2 = list(map(int, input(\"Enter the elements of array 2 (sorted): \").split()))\n",
        "arr3 = list(map(int, input(\"Enter the elements of array 3 (sorted): \").split()))\n",
        "\n",
        "# Function Call\n",
        "result = find_common_elements(arr1, arr2, arr3)\n",
        "print(\"Common elements:\", result)\n"
      ],
      "metadata": {
        "colab": {
          "base_uri": "https://localhost:8080/"
        },
        "id": "7ZAV5a5ghFyh",
        "outputId": "5bb195df-8e16-44ca-964e-3b23d0ab549e"
      },
      "execution_count": 1,
      "outputs": [
        {
          "output_type": "stream",
          "name": "stdout",
          "text": [
            "Enter the elements of array 1 (sorted): 1 2 3 4 5 \n",
            "Enter the elements of array 2 (sorted): 1 2 5 7 9\n",
            "Enter the elements of array 3 (sorted): 1 3 4 5 8\n",
            "Common elements: [1, 5]\n"
          ]
        }
      ]
    },
    {
      "cell_type": "code",
      "source": [
        "def find_missing_numbers(nums1, nums2):\n",
        "    set1 = set(nums1)\n",
        "    set2 = set(nums2)\n",
        "    missing_nums = [list(set1 - set2), list(set2 - set1)]\n",
        "    return missing_nums\n",
        "\n",
        "\n",
        "# User Input\n",
        "nums1 = list(map(int, input(\"Enter the elements of array 1: \").split()))\n",
        "nums2 = list(map(int, input(\"Enter the elements of array 2: \").split()))\n",
        "\n",
        "# Function Call\n",
        "result = find_missing_numbers(nums1, nums2)\n",
        "print(\"Missing numbers:\", result)\n"
      ],
      "metadata": {
        "colab": {
          "base_uri": "https://localhost:8080/"
        },
        "id": "RnAo1oJAhTbR",
        "outputId": "18985b0d-56f0-4ae8-80bf-8d2b12d1745c"
      },
      "execution_count": 2,
      "outputs": [
        {
          "output_type": "stream",
          "name": "stdout",
          "text": [
            "Enter the elements of array 1: 1 2 3 \n",
            "Enter the elements of array 2: 2 4 6 \n",
            "Missing numbers: [[1, 3], [4, 6]]\n"
          ]
        }
      ]
    },
    {
      "cell_type": "code",
      "source": [
        "def transpose_matrix(matrix):\n",
        "    transposed_matrix = [[matrix[j][i] for j in range(len(matrix))] for i in range(len(matrix[0]))]\n",
        "    return transposed_matrix\n",
        "\n",
        "\n",
        "# User Input\n",
        "matrix = []\n",
        "print(\"Enter the elements of the matrix:\")\n",
        "for i in range(3):\n",
        "    row = list(map(int, input(\"Row {}: \".format(i + 1)).split()))\n",
        "    matrix.append(row)\n",
        "\n",
        "# Function Call\n",
        "result = transpose_matrix(matrix)\n",
        "print(\"Transposed matrix:\")\n",
        "for row in result:\n",
        "    print(row)\n"
      ],
      "metadata": {
        "colab": {
          "base_uri": "https://localhost:8080/"
        },
        "id": "Ccbqo5HyhoMZ",
        "outputId": "8d1fcde5-c61e-4f62-bd4a-8b8619149a43"
      },
      "execution_count": 3,
      "outputs": [
        {
          "output_type": "stream",
          "name": "stdout",
          "text": [
            "Enter the elements of the matrix:\n",
            "Row 1: 1 2 3 \n",
            "Row 2: 4 5 6 \n",
            "Row 3: 7 8 9 \n",
            "Transposed matrix:\n",
            "[1, 4, 7]\n",
            "[2, 5, 8]\n",
            "[3, 6, 9]\n"
          ]
        }
      ]
    },
    {
      "cell_type": "code",
      "source": [
        "def array_pair_sum(nums):\n",
        "    nums.sort()\n",
        "    result = sum(nums[::2])\n",
        "    return result\n",
        "\n",
        "\n",
        "# User Input\n",
        "nums = list(map(int, input(\"Enter the elements of the array: \").split()))\n",
        "\n",
        "# Function Call\n",
        "result = array_pair_sum(nums)\n",
        "print(\"Maximized sum:\", result)\n"
      ],
      "metadata": {
        "colab": {
          "base_uri": "https://localhost:8080/"
        },
        "id": "wpwNvnGqh1iJ",
        "outputId": "57ee319c-c7d1-4b33-b9a3-68646f399380"
      },
      "execution_count": 4,
      "outputs": [
        {
          "output_type": "stream",
          "name": "stdout",
          "text": [
            "Enter the elements of the array: 1 4 3 2\n",
            "Maximized sum: 4\n"
          ]
        }
      ]
    },
    {
      "cell_type": "code",
      "source": [
        "def count_complete_rows(n):\n",
        "    i = 1\n",
        "    while n >= i:\n",
        "        n -= i\n",
        "        i += 1\n",
        "    return i - 1\n",
        "\n",
        "\n",
        "# User Input\n",
        "n = int(input(\"Enter the number of coins: \"))\n",
        "\n",
        "# Function Call\n",
        "result = count_complete_rows(n)\n",
        "print(\"Number of complete rows:\", result)\n"
      ],
      "metadata": {
        "colab": {
          "base_uri": "https://localhost:8080/"
        },
        "id": "EYTj9d6diDJ_",
        "outputId": "8366d9ac-f504-44a4-8966-3cfa1c2a6581"
      },
      "execution_count": 5,
      "outputs": [
        {
          "output_type": "stream",
          "name": "stdout",
          "text": [
            "Enter the number of coins: 4\n",
            "Number of complete rows: 2\n"
          ]
        }
      ]
    },
    {
      "cell_type": "code",
      "source": [
        "def sorted_squares(nums):\n",
        "    squares = [num ** 2 for num in nums]\n",
        "    squares.sort()\n",
        "    return squares\n",
        "\n",
        "\n",
        "# User Input\n",
        "nums = list(map(int, input(\"Enter the elements of the array: \").split()))\n",
        "\n",
        "# Function Call\n",
        "result = sorted_squares(nums)\n",
        "print(\"Sorted squares:\", result)\n"
      ],
      "metadata": {
        "colab": {
          "base_uri": "https://localhost:8080/"
        },
        "id": "5CmwG_UuiNr6",
        "outputId": "2fae78d2-7b2a-4fca-c43e-c00551918d04"
      },
      "execution_count": 6,
      "outputs": [
        {
          "output_type": "stream",
          "name": "stdout",
          "text": [
            "Enter the elements of the array: 1 2 3 4 3  4 \n",
            "Sorted squares: [1, 4, 9, 9, 16, 16]\n"
          ]
        }
      ]
    },
    {
      "cell_type": "code",
      "source": [
        "def count_max_integers(m, n, ops):\n",
        "    for op in ops:\n",
        "        m = min(m, op[0])\n",
        "        n = min(n, op[1])\n",
        "    return m * n\n",
        "\n",
        "\n",
        "# User Input\n",
        "m = int(input(\"Enter the value of m: \"))\n",
        "n = int(input(\"Enter the value of n: \"))\n",
        "\n",
        "ops = []\n",
        "print(\"Enter the operations (ai, bi):\")\n",
        "while True:\n",
        "    op = input(\"Operation (or enter 'done' to finish): \")\n",
        "    if op == \"done\":\n",
        "        break\n",
        "    ai, bi = map(int, op.split())\n",
        "    ops.append([ai, bi])\n",
        "\n",
        "# Function Call\n",
        "result = count_max_integers(m, n, ops)\n",
        "print(\"Number of maximum integers:\", result)\n"
      ],
      "metadata": {
        "colab": {
          "base_uri": "https://localhost:8080/"
        },
        "id": "LUbfWqcWiVPn",
        "outputId": "74fdb71d-c378-4f0d-81c6-823f119a1160"
      },
      "execution_count": 7,
      "outputs": [
        {
          "output_type": "stream",
          "name": "stdout",
          "text": [
            "Enter the value of m: 23\n",
            "Enter the value of n: 12\n",
            "Enter the operations (ai, bi):\n",
            "Operation (or enter 'done' to finish): done\n",
            "Number of maximum integers: 276\n"
          ]
        }
      ]
    },
    {
      "cell_type": "code",
      "source": [
        "def shuffle_array(nums, n):\n",
        "    shuffled_array = []\n",
        "    for i in range(n):\n",
        "        shuffled_array.append(nums[i])\n",
        "        shuffled_array.append(nums[i + n])\n",
        "    return shuffled_array\n",
        "\n",
        "\n",
        "# User Input\n",
        "nums = list(map(int, input(\"Enter the elements of the array: \").split()))\n",
        "n = int(input(\"Enter the value of n: \"))\n",
        "\n",
        "# Function Call\n",
        "result = shuffle_array(nums, n)\n",
        "print(\"Shuffled array:\", result)\n"
      ],
      "metadata": {
        "colab": {
          "base_uri": "https://localhost:8080/"
        },
        "id": "p3ogoKC6ifKM",
        "outputId": "511bc111-e798-4878-f537-176932dec7e9"
      },
      "execution_count": 8,
      "outputs": [
        {
          "output_type": "stream",
          "name": "stdout",
          "text": [
            "Enter the elements of the array: 1 2 2 3 4 3 4 \n",
            "Enter the value of n: 2\n",
            "Shuffled array: [1, 2, 2, 3]\n"
          ]
        }
      ]
    }
  ]
}