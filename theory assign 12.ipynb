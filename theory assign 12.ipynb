{
  "nbformat": 4,
  "nbformat_minor": 0,
  "metadata": {
    "colab": {
      "provenance": []
    },
    "kernelspec": {
      "name": "python3",
      "display_name": "Python 3"
    },
    "language_info": {
      "name": "python"
    }
  },
  "cells": [
    {
      "cell_type": "markdown",
      "source": [
        "1. In what modes should the PdfFileReader() and PdfFileWriter() File objects will be opened?\n",
        "2. From a PdfFileReader object, how do you get a Page object for page 5?\n",
        "3. What PdfFileReader variable stores the number of pages in the PDF document?\n",
        "4. If a PdfFileReader object’s PDF is encrypted with the password swordfish, what must you do\n",
        "before you can obtain Page objects from it?\n",
        "5. What methods do you use to rotate a page?\n",
        "6. What is the difference between a Run object and a Paragraph object?\n",
        "7. How do you obtain a list of Paragraph objects for a Document object that’s stored in a variable\n",
        "named doc?\n",
        "8. What type of object has bold, underline, italic, strike, and outline variables?\n",
        "9. What is the difference between False, True, and None for the bold variable?\n",
        "10. How do you create a Document object for a new Word document?\n",
        "11. How do you add a paragraph with the text &#39;Hello, there!&#39; to a Document object stored in a\n",
        "variable named doc?\n",
        "12. What integers represent the levels of headings available in Word documents?"
      ],
      "metadata": {
        "id": "5Z1-d34Tv9pZ"
      }
    },
    {
      "cell_type": "markdown",
      "source": [
        "## **ANS OF ABOVE QUESTIONS ARE AS FOLLOW**"
      ],
      "metadata": {
        "id": "Wo0Yhmz3wB4B"
      }
    },
    {
      "cell_type": "markdown",
      "source": [
        "1. The PdfFileReader() object should be opened in \"rb\" (read-binary) mode, while the PdfFileWriter() object should be opened in \"wb\" (write-binary) mode.\n",
        "2. You can get a Page object for page 5 from a PdfFileReader object by calling the getPage() method and passing in the index of the page (which is 4, since page numbers start at 0): `page_obj = pdf_reader.getPage(4)`\n",
        "3. The `numPages` variable of a PdfFileReader object stores the number of pages in the PDF document.\n",
        "4. If a PdfFileReader object's PDF is encrypted with the password \"swordfish\", you must call the `decrypt()` method on the object and pass in the password as a string: `pdf_reader.decrypt('swordfish')`\n",
        "5. To rotate a page, you can call the `rotateClockwise()` or `rotateCounterClockwise()` method on the Page object and pass in the angle of rotation (in degrees) as an argument.\n",
        "6. A Paragraph object represents a single paragraph of text in a Word document, while a Run object represents a contiguous run of text within a paragraph that all share the same set of character styles.\n",
        "7. You can obtain a list of Paragraph objects for a Document object stored in a variable named `doc` by calling the `doc.paragraphs` attribute.\n",
        "8. A Font object has bold, underline, italic, strike, and outline variables.\n",
        "9. `True` and `False` values for the `bold` variable indicate whether or not the font should be bolded, while `None` means the setting is not specified and should be inherited from the style hierarchy.\n",
        "10. You can create a Document object for a new Word document by importing the `docx` module and calling the `Document()` constructor: `doc = docx.Document()`\n",
        "11. You can add a paragraph with the text 'Hello, there!' to a Document object stored in a variable named `doc` by calling the `add_paragraph()` method on the Document object and passing in the text as an argument: `doc.add_paragraph('Hello, there!')`\n",
        "12. The integer values 0-9 represent the levels of headings available in Word documents. 0 is the title style, 1-9 are the various heading levels."
      ],
      "metadata": {
        "id": "Pt1wCy9YwNvX"
      }
    }
  ]
}