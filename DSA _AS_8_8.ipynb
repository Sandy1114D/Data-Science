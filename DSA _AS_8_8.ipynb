{
  "nbformat": 4,
  "nbformat_minor": 0,
  "metadata": {
    "colab": {
      "provenance": []
    },
    "kernelspec": {
      "name": "python3",
      "display_name": "Python 3"
    },
    "language_info": {
      "name": "python"
    }
  },
  "cells": [
    {
      "cell_type": "markdown",
      "source": [
        "<aside>\n",
        "💡 **Question 1**\n",
        "\n",
        "Given two strings s1 and s2, return *the lowest **ASCII** sum of deleted characters to make two strings equal*.\n",
        "\n",
        "**Example 1:**\n",
        "\n",
        "**Input:** s1 = \"sea\", s2 = \"eat\"\n",
        "\n",
        "**Output:** 231\n",
        "\n",
        "**Explanation:** Deleting \"s\" from \"sea\" adds the ASCII value of \"s\" (115) to the sum.\n",
        "\n",
        "Deleting \"t\" from \"eat\" adds 116 to the sum.\n",
        "\n",
        "At the end, both strings are equal, and 115 + 116 = 231 is the minimum sum possible to achieve this.\n",
        "\n",
        "</aside>\n",
        "\n",
        "<aside>\n",
        "💡 **Question 2**\n",
        "\n",
        "Given a string s containing only three types of characters: '(', ')' and '*', return true *if* s *is **valid***.\n",
        "\n",
        "The following rules define a **valid** string:\n",
        "\n",
        "- Any left parenthesis '(' must have a corresponding right parenthesis ')'.\n",
        "- Any right parenthesis ')' must have a corresponding left parenthesis '('.\n",
        "- Left parenthesis '(' must go before the corresponding right parenthesis ')'.\n",
        "- '*' could be treated as a single right parenthesis ')' or a single left parenthesis '(' or an empty string \"\".\n",
        "\n",
        "**Example 1:**\n",
        "\n",
        "**Input:** s = \"()\"\n",
        "\n",
        "**Output:**\n",
        "\n",
        "true\n",
        "\n",
        "</aside>\n",
        "\n",
        "<aside>\n",
        "💡 **Question 3**\n",
        "\n",
        "Given two strings word1 and word2, return *the minimum number of **steps** required to make* word1 *and* word2 *the same*.\n",
        "\n",
        "In one **step**, you can delete exactly one character in either string.\n",
        "\n",
        "**Example 1:**\n",
        "\n",
        "**Input:** word1 = \"sea\", word2 = \"eat\"\n",
        "\n",
        "**Output:** 2\n",
        "\n",
        "**Explanation:** You need one step to make \"sea\" to \"ea\" and another step to make \"eat\" to \"ea\".\n",
        "\n",
        "</aside>                                                                                                                                                                                                          <aside>\n",
        "💡\n",
        "\n",
        "You need to construct a binary tree from a string consisting of parenthesis and integers.\n",
        "\n",
        "The whole input represents a binary tree. It contains an integer followed by zero, one or two pairs of parenthesis. The integer represents the root's value and a pair of parenthesis contains a child binary tree with the same structure.\n",
        "You always start to construct the **left** child node of the parent first if it exists.\n",
        "\n",
        "</aside>                                                                                                                                                                                                                   <aside>\n",
        "💡 **Question 5**\n",
        "\n",
        "Given an array of characters chars, compress it using the following algorithm:\n",
        "\n",
        "Begin with an empty string s. For each group of **consecutive repeating characters** in chars:\n",
        "\n",
        "- If the group's length is 1, append the character to s.\n",
        "- Otherwise, append the character followed by the group's length.\n",
        "\n",
        "The compressed string s **should not be returned separately**, but instead, be stored **in the input character array chars**. Note that group lengths that are 10 or longer will be split into multiple characters in chars.\n",
        "\n",
        "After you are done **modifying the input array,** return *the new length of the array*.\n",
        "\n",
        "You must write an algorithm that uses only constant extra space.\n",
        "\n",
        "**Example 1:**\n",
        "\n",
        "**Input:** chars = [\"a\",\"a\",\"b\",\"b\",\"c\",\"c\",\"c\"]\n",
        "\n",
        "**Output:** Return 6, and the first 6 characters of the input array should be: [\"a\",\"2\",\"b\",\"2\",\"c\",\"3\"]\n",
        "\n",
        "**Explanation:**\n",
        "\n",
        "The groups are \"aa\", \"bb\", and \"ccc\". This compresses to \"a2b2c3\".\n",
        "\n",
        "</aside>\n",
        "\n",
        "<aside>\n",
        "💡 **Question 6**\n",
        "\n",
        "Given two strings s and p, return *an array of all the start indices of* p*'s anagrams in* s. You may return the answer in **any order**.\n",
        "\n",
        "An **Anagram** is a word or phrase formed by rearranging the letters of a different word or phrase, typically using all the original letters exactly once.\n",
        "\n",
        "**Example 1:**\n",
        "\n",
        "**Input:** s = \"cbaebabacd\", p = \"abc\"\n",
        "\n",
        "**Output:** [0,6]\n",
        "\n",
        "**Explanation:**\n",
        "\n",
        "The substring with start index = 0 is \"cba\", which is an anagram of \"abc\".\n",
        "\n",
        "The substring with start index = 6 is \"bac\", which is an anagram of \"abc\".\n",
        "\n",
        "</aside>\n",
        "\n",
        "<aside>\n",
        "💡 **Question 7**\n",
        "\n",
        "Given an encoded string, return its decoded string.\n",
        "\n",
        "The encoding rule is: k[encoded_string], where the encoded_string inside the square brackets is being repeated exactly k times. Note that k is guaranteed to be a positive integer.\n",
        "\n",
        "You may assume that the input string is always valid; there are no extra white spaces, square brackets are well-formed, etc. Furthermore, you may assume that the original data does not contain any digits and that digits are only for those repeat numbers, k. For example, there will not be input like 3a or 2[4].\n",
        "\n",
        "The test cases are generated so that the length of the output will never exceed 105.\n",
        "\n",
        "**Example 1:**\n",
        "\n",
        "**Input:** s = \"3[a]2[bc]\"\n",
        "\n",
        "**Output:** \"aaabcbc\"\n",
        "\n",
        "</aside>\n",
        "\n",
        "<aside>\n",
        "💡 **Question 8**\n",
        "\n",
        "Given two strings s and goal, return true *if you can swap two letters in* s *so the result is equal to* goal*, otherwise, return* false*.*\n",
        "\n",
        "Swapping letters is defined as taking two indices i and j (0-indexed) such that i != j and swapping the characters at s[i] and s[j].\n",
        "\n",
        "- For example, swapping at indices 0 and 2 in \"abcd\" results in \"cbad\".\n",
        "\n",
        "**Example 1:**\n",
        "\n",
        "**Input:** s = \"ab\", goal = \"ba\"\n",
        "\n",
        "**Output:** true\n",
        "\n",
        "**Explanation:** You can swap s[0] = 'a' and s[1] = 'b' to get \"ba\", which is equal to goal.\n",
        "\n",
        "</aside> write a sollution code for all 8 que and take user input"
      ],
      "metadata": {
        "id": "TpEteR5lyESu"
      }
    },
    {
      "cell_type": "code",
      "source": [
        "def minimumDeleteSum(s1, s2):\n",
        "    m, n = len(s1), len(s2)\n",
        "    dp = [[0] * (n + 1) for _ in range(m + 1)]\n",
        "\n",
        "    for i in range(1, m + 1):\n",
        "        dp[i][0] = dp[i-1][0] + ord(s1[i-1])\n",
        "\n",
        "    for j in range(1, n + 1):\n",
        "        dp[0][j] = dp[0][j-1] + ord(s2[j-1])\n",
        "\n",
        "    for i in range(1, m + 1):\n",
        "        for j in range(1, n + 1):\n",
        "            if s1[i-1] == s2[j-1]:\n",
        "                dp[i][j] = dp[i-1][j-1]\n",
        "            else:\n",
        "                dp[i][j] = min(dp[i-1][j] + ord(s1[i-1]), dp[i][j-1] + ord(s2[j-1]))\n",
        "\n",
        "    return dp[m][n]\n",
        "\n",
        "# Take user inputs\n",
        "s1 = input(\"Enter the first string: \")\n",
        "s2 = input(\"Enter the second string: \")\n",
        "\n",
        "# Calculate the minimum ASCII sum\n",
        "minimum_sum = minimumDeleteSum(s1, s2)\n",
        "print(\"The minimum ASCII sum is:\", minimum_sum)\n"
      ],
      "metadata": {
        "colab": {
          "base_uri": "https://localhost:8080/"
        },
        "id": "wF-fpT14yGr5",
        "outputId": "31360ca8-5c71-4689-b8c1-ca0fb6cff540"
      },
      "execution_count": 1,
      "outputs": [
        {
          "output_type": "stream",
          "name": "stdout",
          "text": [
            "Enter the first string: sanket is cool guy\n",
            "Enter the second string: i am not cool\n",
            "The minimum ASCII sum is: 1337\n"
          ]
        }
      ]
    },
    {
      "cell_type": "code",
      "source": [
        "def checkValidString(s):\n",
        "    stack = []\n",
        "    star_stack = []\n",
        "\n",
        "    for i in range(len(s)):\n",
        "        if s[i] == '(':\n",
        "            stack.append(i)\n",
        "        elif s[i] == '*':\n",
        "            star_stack.append(i)\n",
        "        else:\n",
        "            if stack:\n",
        "                stack.pop()\n",
        "            elif star_stack:\n",
        "                star_stack.pop()\n",
        "            else:\n",
        "                return False\n",
        "\n",
        "    while stack and star_stack:\n",
        "        if stack[-1] > star_stack[-1]:\n",
        "            return False\n",
        "        stack.pop()\n",
        "        star_stack.pop()\n",
        "\n",
        "    return len(stack) == 0\n",
        "\n",
        "# Take user input\n",
        "s = input(\"Enter a string: \")\n",
        "\n",
        "# Check if the string is valid\n",
        "if checkValidString(s):\n",
        "    print(\"The string is valid.\")\n",
        "else:\n",
        "    print(\"The string is not valid.\")\n"
      ],
      "metadata": {
        "colab": {
          "base_uri": "https://localhost:8080/"
        },
        "id": "bDYo3K8nzbOo",
        "outputId": "79cff5bb-3079-419e-864c-5378f54de79a"
      },
      "execution_count": 5,
      "outputs": [
        {
          "output_type": "stream",
          "name": "stdout",
          "text": [
            "Enter a string: \n",
            "The string is valid.\n"
          ]
        }
      ]
    },
    {
      "cell_type": "code",
      "source": [
        "def minDistance(word1, word2):\n",
        "    m, n = len(word1), len(word2)\n",
        "    dp = [[0] * (n + 1) for _ in range(m + 1)]\n",
        "\n",
        "    for i in range(1, m + 1):\n",
        "        dp[i][0] = i\n",
        "\n",
        "    for j in range(1, n + 1):\n",
        "        dp[0][j] = j\n",
        "\n",
        "    for i in range(1, m + 1):\n",
        "        for j in range(1, n + 1):\n",
        "            if word1[i-1] == word2[j-1]:\n",
        "                dp[i][j] = dp[i-1][j-1]\n",
        "            else:\n",
        "                dp[i][j] = min(dp[i-1][j], dp[i][j-1]) + 1\n",
        "\n",
        "    return dp[m][n]\n",
        "\n",
        "# Take user inputs\n",
        "word1 = input(\"Enter the first word: \")\n",
        "word2 = input(\"Enter the second word: \")\n",
        "\n",
        "# Calculate the minimum number of steps\n",
        "min_steps = minDistance(word1, word2)\n",
        "print(\"The minimum number of steps is:\", min_steps)\n"
      ],
      "metadata": {
        "colab": {
          "base_uri": "https://localhost:8080/"
        },
        "id": "1qHxBQMd0UMT",
        "outputId": "874a565a-1eb8-4070-bd60-8d20a75083b4"
      },
      "execution_count": 6,
      "outputs": [
        {
          "output_type": "stream",
          "name": "stdout",
          "text": [
            "Enter the first word: sanket\n",
            "Enter the second word: is\n",
            "The minimum number of steps is: 6\n"
          ]
        }
      ]
    },
    {
      "cell_type": "code",
      "source": [
        "class TreeNode:\n",
        "    def __init__(self, val=0, left=None, right=None):\n",
        "        self.val = val\n",
        "        self.left = left\n",
        "        self.right = right\n",
        "\n",
        "def str2tree(s):\n",
        "    def helper(start, end):\n",
        "        if start > end:\n",
        "            return None\n",
        "\n",
        "        val_str = \"\"\n",
        "        while start <= end and s[start] not in ['(', ')']:\n",
        "            val_str += s[start]\n",
        "            start += 1\n",
        "\n",
        "        root = TreeNode(int(val_str))\n",
        "\n",
        "        if start > end:\n",
        "            return root\n",
        "\n",
        "        count = 0\n",
        "        i = start\n",
        "        while i <= end:\n",
        "            if s[i] == '(':\n",
        "                count += 1\n",
        "            elif s[i] == ')':\n",
        "                count -= 1\n",
        "\n",
        "            if count == 0:\n",
        "                break\n",
        "\n",
        "            i += 1\n",
        "\n",
        "        root.left = helper(start + 1, i - 1)\n",
        "        root.right = helper(i + 2, end - 1)\n",
        "\n",
        "        return root\n",
        "\n",
        "    return helper(0, len(s) - 1)\n",
        "\n",
        "# Take user input\n",
        "s = input(\"Enter the string representing the binary tree: \")\n",
        "\n",
        "# Construct the binary tree\n",
        "tree = str2tree(s)\n",
        "\n",
        "# Print the tree (inorder traversal)\n",
        "def inorderTraversal(node):\n",
        "    if node is None:\n",
        "        return []\n",
        "\n",
        "    left = inorderTraversal(node.left)\n",
        "    right = inorderTraversal(node.right)\n",
        "\n",
        "    return left + [node.val] + right\n",
        "\n",
        "inorder = inorderTraversal(tree)\n",
        "print(\"The inorder traversal of the tree:\", inorder)\n"
      ],
      "metadata": {
        "colab": {
          "base_uri": "https://localhost:8080/"
        },
        "id": "_HRRHjLL0fy-",
        "outputId": "369c5c45-ebe6-4d9d-8566-152cddeee433"
      },
      "execution_count": 8,
      "outputs": [
        {
          "output_type": "stream",
          "name": "stdout",
          "text": [
            "Enter the string representing the binary tree: 4(2(3)(1))(6(5))\n",
            "The inorder traversal of the tree: [3, 2, 1, 4, 5, 6]\n"
          ]
        }
      ]
    },
    {
      "cell_type": "code",
      "source": [
        "def compress(chars):\n",
        "    index = 0\n",
        "    i = 0\n",
        "\n",
        "    while i < len(chars):\n",
        "        char = chars[i]\n",
        "        count = 0\n",
        "\n",
        "        while i < len(chars) and chars[i] == char:\n",
        "            count += 1\n",
        "            i += 1\n",
        "\n",
        "        chars[index] = char\n",
        "        index += 1\n",
        "\n",
        "        if count > 1:\n",
        "            count_str = str(count)\n",
        "            for j in range(len(count_str)):\n",
        "                chars[index] = count_str[j]\n",
        "                index += 1\n",
        "\n",
        "    return index\n",
        "\n",
        "# Take user input\n",
        "chars = input(\"Enter the character array: \").split()\n",
        "\n",
        "# Compress the character array\n",
        "new_length = compress(chars)\n",
        "compressed_chars = chars[:new_length]\n",
        "print(\"The compressed character array:\", compressed_chars)\n"
      ],
      "metadata": {
        "colab": {
          "base_uri": "https://localhost:8080/"
        },
        "id": "8mbsITMt0_ii",
        "outputId": "22fdca78-0081-49fa-b95a-56e23b317af7"
      },
      "execution_count": 9,
      "outputs": [
        {
          "output_type": "stream",
          "name": "stdout",
          "text": [
            "Enter the character array: s a n k e t \n",
            "The compressed character array: ['s', 'a', 'n', 'k', 'e', 't']\n"
          ]
        }
      ]
    },
    {
      "cell_type": "code",
      "source": [
        "from collections import Counter\n",
        "\n",
        "def findAnagrams(s, p):\n",
        "    p_count = Counter(p)\n",
        "    s_count = Counter(s[:len(p)])\n",
        "\n",
        "    res = []\n",
        "    if s_count == p_count:\n",
        "        res.append(0)\n",
        "\n",
        "    for i in range(len(p), len(s)):\n",
        "        if s_count[s[i - len(p)]] == 1:\n",
        "            del s_count[s[i - len(p)]]\n",
        "        else:\n",
        "            s_count[s[i - len(p)]] -= 1\n",
        "\n",
        "        if s[i] in s_count:\n",
        "            s_count[s[i]] += 1\n",
        "        else:\n",
        "            s_count[s[i]] = 1\n",
        "\n",
        "        if s_count == p_count:\n",
        "            res.append(i - len(p) + 1)\n",
        "\n",
        "    return res\n",
        "\n",
        "# Take user inputs\n",
        "s = input(\"Enter the string: \")\n",
        "p = input(\"Enter the pattern: \")\n",
        "\n",
        "# Find the indices of anagrams\n",
        "anagram_indices = findAnagrams(s, p)\n",
        "print(\"The indices of anagrams:\", anagram_indices)\n"
      ],
      "metadata": {
        "colab": {
          "base_uri": "https://localhost:8080/"
        },
        "id": "H58YH-eo1F2W",
        "outputId": "9423cbdd-97ee-4ce8-95bc-dff10bfc5a2c"
      },
      "execution_count": 10,
      "outputs": [
        {
          "output_type": "stream",
          "name": "stdout",
          "text": [
            "Enter the string: sanket is boy\n",
            "Enter the pattern: abc\n",
            "The indices of anagrams: []\n"
          ]
        }
      ]
    },
    {
      "cell_type": "code",
      "source": [
        "def decodeString(s):\n",
        "    stack = []\n",
        "\n",
        "    for char in s:\n",
        "        if char != ']':\n",
        "            stack.append(char)\n",
        "        else:\n",
        "            current_string = ''\n",
        "            while stack and stack[-1] != '[':\n",
        "                current_string = stack.pop() + current_string\n",
        "\n",
        "            stack.pop()  # Discard '['\n",
        "\n",
        "            k = ''\n",
        "            while stack and stack[-1].isdigit():\n",
        "                k = stack.pop() + k\n",
        "\n",
        "            decoded_string = int(k) * current_string\n",
        "\n",
        "            for char in decoded_string:\n",
        "                stack.append(char)\n",
        "\n",
        "    return ''.join(stack)\n",
        "\n",
        "# Take user input\n",
        "s = input(\"Enter the encoded string: \")\n",
        "\n",
        "# Decode the string\n",
        "decoded_string = decodeString(s)\n",
        "print(\"The decoded string:\", decoded_string)\n"
      ],
      "metadata": {
        "colab": {
          "base_uri": "https://localhost:8080/"
        },
        "id": "9eCpdc4X1T-A",
        "outputId": "eb17fdf9-e704-4766-b810-94937ef99932"
      },
      "execution_count": 12,
      "outputs": [
        {
          "output_type": "stream",
          "name": "stdout",
          "text": [
            "Enter the encoded string: 3[a]2[bc]\n",
            "The decoded string: aaabcbc\n"
          ]
        }
      ]
    },
    {
      "cell_type": "code",
      "source": [
        "def buddyStrings(s, goal):\n",
        "    if len(s) != len(goal):\n",
        "        return False\n",
        "\n",
        "    if s == goal:\n",
        "        seen = set()\n",
        "        for char in s:\n",
        "            if char in seen:\n",
        "                return True\n",
        "            seen.add(char)\n",
        "        return False\n",
        "\n",
        "    pairs = []\n",
        "    for i in range(len(s)):\n",
        "        if s[i] != goal[i]:\n",
        "            pairs.append((s[i], goal[i]))\n",
        "\n",
        "        if len(pairs) > 2:\n",
        "            return False\n",
        "\n",
        "    return len(pairs) == 2 and pairs[0] == pairs[1][::-1]\n",
        "\n",
        "# Take user inputs\n",
        "s = input(\"Enter the first string: \")\n",
        "goal = input(\"Enter the second string: \")\n",
        "\n",
        "# Check if one string swap can make the strings equal\n",
        "if buddyStrings(s, goal):\n",
        "    print(\"One string swap can make the strings equal.\")\n",
        "else:\n",
        "    print(\"One string swap cannot make the strings equal.\")\n"
      ],
      "metadata": {
        "colab": {
          "base_uri": "https://localhost:8080/"
        },
        "id": "uqqJ6dG11kWX",
        "outputId": "35e6e557-4d33-46e9-84e2-13c792a61fd6"
      },
      "execution_count": 13,
      "outputs": [
        {
          "output_type": "stream",
          "name": "stdout",
          "text": [
            "Enter the first string: ab\n",
            "Enter the second string: ba\n",
            "One string swap can make the strings equal.\n"
          ]
        }
      ]
    }
  ]
}