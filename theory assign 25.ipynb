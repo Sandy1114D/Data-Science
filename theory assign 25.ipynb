{
  "nbformat": 4,
  "nbformat_minor": 0,
  "metadata": {
    "colab": {
      "provenance": []
    },
    "kernelspec": {
      "name": "python3",
      "display_name": "Python 3"
    },
    "language_info": {
      "name": "python"
    }
  },
  "cells": [
    {
      "cell_type": "markdown",
      "source": [
        "1) . What is the difference between enclosing a list comprehension in square brackets and\n",
        "parentheses?\n",
        "\n",
        "2) What is the relationship between generators and iterators?\n",
        "\n",
        "3) What are the signs that a function is a generator function?\n",
        "\n",
        "4) What is the purpose of a yield statement?\n",
        "\n",
        "5) What is the relationship between map calls and list comprehensions? Make a comparison and\n",
        "contrast between the two."
      ],
      "metadata": {
        "id": "jEqruSKg8-Zp"
      }
    },
    {
      "cell_type": "markdown",
      "source": [
        "## **ANS OF ABOVE QUESTIONS ARE AS FOLLOW**"
      ],
      "metadata": {
        "id": "74CD0uv39MVH"
      }
    },
    {
      "cell_type": "markdown",
      "source": [
        "1. The main difference between enclosing a list comprehension in square brackets and parentheses is that square brackets create a list, whereas parentheses create a generator expression. A list comprehension returns a list object containing the results of the computation, while a generator expression returns an iterable generator object that produces the results on demand.\n",
        "2. A generator is a type of iterator, which is a special type of object that produces a sequence of values on demand. The main difference between generators and other iterators is that generators generate the sequence on the fly, rather than pre-computing the entire sequence upfront. This makes generators much more memory-efficient than other iterators, especially for large data sets.\n",
        "3. The main sign that a function is a generator function is the presence of the yield keyword in its body. A generator function is defined using the def keyword, like a regular function, but instead of using the return keyword to return a value, it uses the yield keyword to produce a series of values.\n",
        "4. The purpose of a yield statement in a generator function is to produce a value to the calling function, while suspending the state of the generator. When the generator function is called again, it resumes from where it left off, rather than starting over from the beginning. This allows a generator to produce an infinite sequence of values, or to process large data sets efficiently without having to load everything into memory at once.\n",
        "5. Both map calls and list comprehensions are ways to apply a function to every element of a sequence. The main difference is that map returns a map object, which is an iterator that generates the transformed values on demand, whereas a list comprehension returns a list object containing the transformed values. Map is generally more memory-efficient than a list comprehension when dealing with large data sets, since it generates the results on demand, but it may be slower due to the overhead of function calls. A list comprehension, on the other hand, may be faster when dealing with small data sets, since it pre-computes the entire sequence upfront."
      ],
      "metadata": {
        "id": "x746ouC29SO2"
      }
    }
  ]
}