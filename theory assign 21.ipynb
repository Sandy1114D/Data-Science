{
  "nbformat": 4,
  "nbformat_minor": 0,
  "metadata": {
    "colab": {
      "provenance": []
    },
    "kernelspec": {
      "name": "python3",
      "display_name": "Python 3"
    },
    "language_info": {
      "name": "python"
    }
  },
  "cells": [
    {
      "cell_type": "markdown",
      "source": [
        "1. Add the current date to the text file today.txt as a string.\n",
        "2. Read the text file today.txt into the string today_string\n",
        "3. Parse the date from today_string.\n",
        "4. List the files in your current directory\n",
        "5. Create a list of all of the files in your parent directory (minimum five files should be available).\n",
        "6. Use multiprocessing to create three separate processes. Make each one wait a random number of\n",
        "seconds between one and five, print the current time, and then exit.\n",
        "7. Create a date object of your day of birth.\n",
        "8. What day of the week was your day of birth?\n",
        "9. When will you be (or when were you) 10,000 days old?"
      ],
      "metadata": {
        "id": "QJhMkJia53ds"
      }
    },
    {
      "cell_type": "markdown",
      "source": [
        "## **ANS OF ABOVE QUESTIONS ARE AS FOLLOW**"
      ],
      "metadata": {
        "id": "Rx44G7Lf56Xt"
      }
    },
    {
      "cell_type": "markdown",
      "source": [
        "\n",
        "\n",
        "1. To add the current date to the text file today.txt as a string, WE can use the following Python code:\n",
        "\n",
        "```python\n",
        "import datetime\n",
        "\n",
        "# Get the current date as a string\n",
        "current_date = datetime.date.today().strftime(\"%Y-%m-%d\")\n",
        "\n",
        "# Write the current date to the file today.txt\n",
        "with open(\"today.txt\", \"w\") as file:\n",
        "    file.write(current_date)\n",
        "```\n",
        "\n",
        "2. To read the text file today.txt into the string today_string, WE can use the following Python code:\n",
        "\n",
        "```python\n",
        "with open(\"today.txt\", \"r\") as file:\n",
        "    today_string = file.read()\n",
        "```\n",
        "\n",
        "3. To parse the date from today_string, you can use the datetime module in Python. Assuming that today_string contains a date in the format \"YYYY-MM-DD\", WE can use the following Python code to parse the date:\n",
        "\n",
        "```python\n",
        "import datetime\n",
        "\n",
        "# Parse the date from today_string\n",
        "parsed_date = datetime.datetime.strptime(today_string, \"%Y-%m-%d\").date()\n",
        "```\n",
        "\n",
        "4. To list the files in your current directory, you can use the os module in Python. WE can use the following Python code:\n",
        "\n",
        "```python\n",
        "import os\n",
        "\n",
        "# List the files in the current directory\n",
        "files = os.listdir(\".\")\n",
        "for file in files:\n",
        "    print(file)\n",
        "```\n",
        "\n",
        "5. To create a list of all of the files in your parent directory (minimum five files should be available), you can use the os module in Python. WE can use the following Python code:\n",
        "\n",
        "```python\n",
        "import os\n",
        "\n",
        "# Get the parent directory\n",
        "parent_dir = os.path.abspath(os.path.join(os.getcwd(), os.pardir))\n",
        "\n",
        "# List the files in the parent directory\n",
        "files = os.listdir(parent_dir)\n",
        "\n",
        "# Filter out directories\n",
        "files = [file for file in files if os.path.isfile(os.path.join(parent_dir, file))]\n",
        "\n",
        "# Take the first five files\n",
        "files = files[:5]\n",
        "\n",
        "# Print the files\n",
        "for file in files:\n",
        "    print(file)\n",
        "```\n",
        "\n",
        "6. To use multiprocessing to create three separate processes, you can use the multiprocessing module in Python. WE can use the following Python code:\n",
        "\n",
        "```python\n",
        "import multiprocessing\n",
        "import time\n",
        "import datetime\n",
        "import random\n",
        "\n",
        "def process_func():\n",
        "    # Wait for a random number of seconds between 1 and 5\n",
        "    wait_time = random.randint(1, 5)\n",
        "    time.sleep(wait_time)\n",
        "\n",
        "    # Print the current time\n",
        "    current_time = datetime.datetime.now().strftime(\"%Y-%m-%d %H:%M:%S\")\n",
        "    print(f\"Process {multiprocessing.current_process().name} completed at {current_time}\")\n",
        "\n",
        "if __name__ == '__main__':\n",
        "    # Create three separate processes\n",
        "    processes = []\n",
        "    for i in range(3):\n",
        "        process = multiprocessing.Process(target=process_func, name=f\"Process {i+1}\")\n",
        "        process.start()\n",
        "        processes.append(process)\n",
        "\n",
        "    # Wait for all processes to finish\n",
        "    for process in processes:\n",
        "        process.join()\n",
        "```\n",
        "\n",
        "7. To create a date object of your day of birth, you can use the datetime module in Python. Assuming that your day of birth is in the format \"YYYY-MM-DD\", WE can use the following Python code:\n",
        "\n",
        "```python\n",
        "import datetime\n",
        "\n",
        "# Create a date object of your day of birth\n",
        "birth_date = datetime.date(year=YYYY, month=MM, day=DD)  # Replace YYYY, MM, DD with your birth year, month, and day\n",
        "```\n",
        "\n",
        "8. To find out what day of the week was your day of birth, you can use the strftime() method of the datetime object to format the date as a string with the weekday name. WE can use the following Python code:\n",
        "\n",
        "```python\n"
      ],
      "metadata": {
        "id": "lnpZI-MK6apd"
      }
    }
  ]
}