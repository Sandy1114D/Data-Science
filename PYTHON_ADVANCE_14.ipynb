{
  "nbformat": 4,
  "nbformat_minor": 0,
  "metadata": {
    "colab": {
      "provenance": []
    },
    "kernelspec": {
      "name": "python3",
      "display_name": "Python 3"
    },
    "language_info": {
      "name": "python"
    }
  },
  "cells": [
    {
      "cell_type": "markdown",
      "source": [
        "\n",
        "\n",
        "Q1. Is an assignment operator like += only for show? Is it possible that it would lead to faster results at the runtime?\n",
        "- The += operator is not just for show, it can be more efficient than using the + operator when concatenating strings or adding numbers to an existing variable. This is because it modifies the existing object in place rather than creating a new object.\n",
        "\n",
        "Q2. What is the smallest number of statements you'd have to write in most programming languages to replace the Python expression a, b = a + b, a?\n",
        "- The smallest number of statements would be two: one to store the value of a + b in a temporary variable, and one to assign the values back to a and b.\n",
        "\n",
        "Q3. In Python, what is the most effective way to set a list of 100 integers to 0?\n",
        "- The most effective way is to use a list comprehension: my_list = [0] * 100.\n",
        "\n",
        "Q4. What is the most effective way to initialise a list of 99 integers that repeats the sequence 1, 2, 3? S If necessary, show step-by-step instructions on how to accomplish this.\n",
        "- The most effective way is to use a list comprehension: my_list = [i % 3 + 1 for i in range(99)].\n",
        "\n",
        "Q5. If you're using IDLE to run a Python application, explain how to print a multidimensional list as efficiently?\n",
        "- The most efficient way is to use the pprint module, which provides a pretty-printing function for complex data structures like multidimensional lists. You can import the module with \"import pprint\" and then use the \"pprint\" function to print the list.\n",
        "\n",
        "Q6. Is it possible to use list comprehension with a string? If so, how can you go about doing it?\n",
        "- Yes, it's possible to use list comprehension with a string. For example, you can use list comprehension to create a list of all the characters in a string: my_list = [char for char in my_string].\n",
        "\n",
        "Q7. From the command line, how do you get support with a user-written Python programme? Is this possible from inside IDLE?\n",
        "- You can get support by using the \"help\" function in Python, which displays the documentation for a given object or module. This is possible from inside IDLE by opening a new Python shell and typing \"help(my_object)\".\n",
        "\n",
        "Q8. Functions are said to be “first-class objects” in Python but not in most other languages, such as C++ or Java. What can you do in Python with a function (callable object) that you can't do in C or C++?\n",
        "- In Python, you can treat a function like any other object, which means you can pass it as an argument to another function, return it as a value from a function, or even assign it to a variable. This is not possible in C or C++.\n",
        "\n",
        "Q9. How do you distinguish between a wrapper, a wrapped feature, and a decorator?\n",
        "- A wrapper is a function or class that takes another function or class as an argument and provides additional functionality without modifying the original object. A wrapped feature is the original function or class that is being wrapped. A decorator is a special syntax for creating wrappers in Python, using the @ symbol before the wrapper function.\n",
        "\n",
        "Q10. If a function is a generator function, what does it return?\n",
        "- A generator function returns a generator object, which is an iterator that generates a series of values on-the-fly. The values are generated one at a time, rather than all at once like a list.\n",
        "\n"
      ],
      "metadata": {
        "id": "J2_RWJyYq8Qt"
      }
    }
  ]
}