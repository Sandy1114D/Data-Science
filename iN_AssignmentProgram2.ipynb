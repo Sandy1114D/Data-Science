{
 "cells": [
  {
   "cell_type": "code",
   "execution_count": 3,
   "metadata": {},
   "outputs": [
    {
     "name": "stdout",
     "output_type": "stream",
     "text": [
      "Object `miles` not found.\n",
      "Object `Fahrenheit` not found.\n",
      "Object `calendar` not found.\n",
      "Object `equation` not found.\n",
      "Object `variable` not found.\n"
     ]
    }
   ],
   "source": [
    "1. Write a Python program to convert kilometers to miles?\n",
    "2. Write a Python program to convert Celsius to Fahrenheit?\n",
    "3. Write a Python program to display calendar?\n",
    "4. Write a Python program to solve quadratic equation?\n",
    "5. Write a Python program to swap two variables without temp variable?"
   ]
  },
  {
   "cell_type": "code",
   "execution_count": 6,
   "metadata": {},
   "outputs": [
    {
     "name": "stdout",
     "output_type": "stream",
     "text": [
      "1 km = 0.621371 miles \n"
     ]
    }
   ],
   "source": [
    "#-->1]\n",
    "a=int(input(\"Enter value in KM's :\"))\n",
    "print(f\"{a} km = {a*0.621371} miles \")"
   ]
  },
  {
   "cell_type": "code",
   "execution_count": 11,
   "metadata": {},
   "outputs": [
    {
     "name": "stdout",
     "output_type": "stream",
     "text": [
      "10 Degree Celcius = 50.0 Fahrenheit \n"
     ]
    }
   ],
   "source": [
    "#-->2]\n",
    "a=int(input(\"Enter value in Celcius :\"))\n",
    "print(f\"{a} Degree Celcius = {(a*9/5) + 32} Fahrenheit \")"
   ]
  },
  {
   "cell_type": "code",
   "execution_count": 14,
   "metadata": {},
   "outputs": [
    {
     "name": "stdout",
     "output_type": "stream",
     "text": [
      "     October 10\n",
      "Mo Tu We Th Fr Sa Su\n",
      "             1  2  3\n",
      " 4  5  6  7  8  9 10\n",
      "11 12 13 14 15 16 17\n",
      "18 19 20 21 22 23 24\n",
      "25 26 27 28 29 30 31\n",
      "\n"
     ]
    }
   ],
   "source": [
    "#-->3]\n",
    "import calendar  \n",
    "yy = int(input(\"Enter Year: \"))  \n",
    "mm = int(input(\"Enter Month: \"))  \n",
    "print(calendar.month(yy,mm))  "
   ]
  },
  {
   "cell_type": "code",
   "execution_count": 20,
   "metadata": {},
   "outputs": [
    {
     "name": "stdout",
     "output_type": "stream",
     "text": [
      "The solution are (-0.5-0.8660254037844387j) and (-0.5+0.8660254037844387j) .\n"
     ]
    }
   ],
   "source": [
    "#-->4]\n",
    "\n",
    "#quadratic of form ax^2+bx+c\n",
    "import cmath\n",
    "a=int(input(\"Enter a :\"))\n",
    "b=int(input(\"Enter b :\"))\n",
    "c=int(input(\"Enter c :\"))\n",
    "d=(b**2)-(4*a*c)\n",
    "sol1 = (-b-cmath.sqrt(d))/(2*a)\n",
    "sol2 = (-b+cmath.sqrt(d))/(2*a)\n",
    "print(f\"The solutions are {sol1} and {sol2} .\")"
   ]
  },
  {
   "cell_type": "code",
   "execution_count": 23,
   "metadata": {},
   "outputs": [
    {
     "name": "stdout",
     "output_type": "stream",
     "text": [
      "Before Swapping\n",
      "a=10\n",
      "b=20\n",
      "After Swapping\n",
      "a=20\n",
      "b=10\n"
     ]
    }
   ],
   "source": [
    "#-->5]\n",
    "\n",
    "a=10\n",
    "b=20\n",
    "print(\"Before Swapping\")\n",
    "print (f\"a={a}\")\n",
    "print (f\"b={b}\")\n",
    "a,b=b,a\n",
    "print(\"After Swapping\")\n",
    "print (f\"a={a}\")\n",
    "print (f\"b={b}\")\n"
   ]
  }
 ],
 "metadata": {
  "kernelspec": {
   "display_name": "Python 3.10.1 64-bit",
   "language": "python",
   "name": "python3"
  },
  "language_info": {
   "codemirror_mode": {
    "name": "ipython",
    "version": 3
   },
   "file_extension": ".py",
   "mimetype": "text/x-python",
   "name": "python",
   "nbconvert_exporter": "python",
   "pygments_lexer": "ipython3",
   "version": "3.10.1"
  },
  "orig_nbformat": 4,
  "vscode": {
   "interpreter": {
    "hash": "27f6fea6f47ae512550f0b8facdbd035a93e1dd89633f7bf2dd00a2502c71d0d"
   }
  }
 },
 "nbformat": 4,
 "nbformat_minor": 2
}
