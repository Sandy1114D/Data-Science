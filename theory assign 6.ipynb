{
  "nbformat": 4,
  "nbformat_minor": 0,
  "metadata": {
    "colab": {
      "provenance": []
    },
    "kernelspec": {
      "name": "python3",
      "display_name": "Python 3"
    },
    "language_info": {
      "name": "python"
    }
  },
  "cells": [
    {
      "cell_type": "markdown",
      "source": [
        "1. What are escape characters, and how do you use them?\n",
        "2. What do the escape characters n and t stand for?\n",
        "3. What is the way to include backslash characters in a string?\n",
        "4. The string &quot;Howl&#39;s Moving Castle&quot; is a correct value. Why isn&#39;t the single quote character in the\n",
        "word Howl&#39;s not escaped a problem?\n",
        "5. How do you write a string of newlines if you don&#39;t want to use the n character?\n",
        "6. What are the values of the given expressions?\n",
        "&#39;Hello, world!&#39;[1]\n",
        "&#39;Hello, world!&#39;[0:5]\n",
        "&#39;Hello, world!&#39;[:5]\n",
        "&#39;Hello, world!&#39;[3:]\n",
        "\n",
        "7. What are the values of the following expressions?\n",
        "&#39;Hello&#39;.upper()\n",
        "&#39;Hello&#39;.upper().isupper()\n",
        "&#39;Hello&#39;.upper().lower()\n",
        "8. What are the values of the following expressions?\n",
        "&#39;Remember, remember, the fifth of July.&#39;.split()\n",
        "&#39;-&#39;.join(&#39;There can only one.&#39;.split())\n",
        "9. What are the methods for right-justifying, left-justifying, and centering a string?\n",
        "10. What is the best way to remove whitespace characters from the start or end?"
      ],
      "metadata": {
        "id": "hNyVbMVLb0mo"
      }
    },
    {
      "cell_type": "markdown",
      "source": [
        "1. Escape characters are special characters that allow you to include characters in a string that cannot normally be typed directly. They are indicated by a backslash followed by a special character. For example, to include a single quote character in a string, you would use the escape character \\'.\n",
        "\n",
        "2. The escape character '\\n' stands for a newline, and the escape character '\\t' stands for a tab.\n",
        "\n",
        "3. To include a backslash character in a string, you can use a double backslash (\\\\).\n",
        "\n",
        "4. The single quote character in the word Howl's is not a problem because the string is enclosed in double quotes. If the string was enclosed in single quotes, the single quote character would need to be escaped using a backslash.\n",
        "\n",
        "5. To write a string of newlines without using the '\\n' character, you can use triple quotes and press Enter to start a new line. For example:\n",
        "\n",
        "   ```\n",
        "   print('''Line 1\n",
        "   Line 2\n",
        "   Line 3''')\n",
        "   ```\n",
        "\n",
        "6. The values of the given expressions are:\n",
        "   - 'e'\n",
        "   - 'Hello'\n",
        "   - 'Hello'\n",
        "   - 'lo, world!'\n",
        "\n",
        "7. The values of the following expressions are:\n",
        "   - 'HELLO'\n",
        "   - True\n",
        "   - 'hello'\n",
        "\n",
        "8. The values of the following expressions are:\n",
        "   - ['Remember,', 'remember,', 'the', 'fifth', 'of', 'July.']\n",
        "   - 'There-can-only-one.'\n",
        "   \n",
        "9. The methods for right-justifying, left-justifying, and centering a string are:\n",
        "   - Right-justifying: `rjust(width, fillchar=' ')`\n",
        "   - Left-justifying: `ljust(width, fillchar=' ')`\n",
        "   - Centering: `center(width, fillchar=' ')`\n",
        "   \n",
        "10. The best way to remove whitespace characters from the start or end of a string is to use the `strip()` method. The `strip()` method removes any whitespace characters from the beginning and end of the string. If you only want to remove whitespace characters from the beginning or end, you can use the `lstrip()` method or the `rstrip()` method, respectively."
      ],
      "metadata": {
        "id": "sqHhhGjhgcd5"
      }
    }
  ]
}