{
  "nbformat": 4,
  "nbformat_minor": 0,
  "metadata": {
    "colab": {
      "provenance": []
    },
    "kernelspec": {
      "name": "python3",
      "display_name": "Python 3"
    },
    "language_info": {
      "name": "python"
    }
  },
  "cells": [
    {
      "cell_type": "markdown",
      "source": [
        "Q1. If you have any, what are your choices for increasing the comparison between different figures on the same graph?\n",
        "\n",
        "There are several ways to increase the comparison between different figures on the same graph:\n",
        "\n",
        "- Using different colors: using different colors for each figure can help differentiate between them more easily.\n",
        "- Using different line styles or markers: using different line styles or markers can help differentiate between the figures when they have the same color.\n",
        "- Using legends: adding a legend to the graph can help clarify which figure corresponds to which line or marker.\n",
        "- Using axes labels: adding labels to the x-axis and y-axis can help provide context for the data and aid in comparing the different figures.\n",
        "\n",
        "Q2. Can you explain the benefit of compound interest over a higher rate of interest that does not compound after reading this chapter?\n",
        "\n",
        "Compound interest is beneficial because it allows for exponential growth of an investment over time. With compound interest, interest is earned not only on the initial investment but also on the accumulated interest, resulting in a higher return on investment. In contrast, a higher rate of interest that does not compound will only provide a linear return on investment, without the exponential growth that compound interest provides.\n",
        "\n",
        "Q3. What is a histogram, exactly? Name a numpy method for creating such a graph.\n",
        "\n",
        "A histogram is a graphical representation of the distribution of a set of continuous data. It consists of a series of bars, where each bar represents a range of the data, and the height of the bar represents the frequency of the data within that range. The bars are typically adjacent to each other, with no gaps.\n",
        "\n",
        "One numpy method for creating a histogram is numpy.histogram().\n",
        "\n",
        "Q4. If necessary, how do you change the aspect ratios between the X and Y axes?\n",
        "\n",
        "To change the aspect ratios between the X and Y axes, you can use the `plt.axis()` function in matplotlib. Specifically, you can use the `plt.axis('equal')` method to set the aspect ratio to be equal, so that one unit on the X axis is equal to one unit on the Y axis.\n",
        "\n",
        "Q5. Compare and contrast the three types of array multiplication between two numpy arrays: dot product, outer product, and regular multiplication of two numpy arrays.\n",
        "\n",
        "- Dot product: The dot product of two numpy arrays is a mathematical operation that returns a scalar or a 1-dimensional array, depending on the dimensions of the input arrays. It is calculated as the sum of the products of the corresponding elements in the two input arrays.\n",
        "- Outer product: The outer product of two numpy arrays is a mathematical operation that returns a matrix. It is calculated as the product of each element of the first array with each element of the second array.\n",
        "- Regular multiplication: The regular multiplication of two numpy arrays is a mathematical operation that returns a matrix. It is calculated as the product of the corresponding elements in the two input arrays.\n",
        "\n",
        "Q6. Before you buy a home, which numpy function will you use to measure your monthly mortgage payment?\n",
        "\n",
        "The numpy function that can be used to measure the monthly mortgage payment is numpy.pmt(). It calculates the payment for a loan based on constant payments and a constant interest rate.\n",
        "\n",
        "Q7. Can string data be stored in numpy arrays? If so, list at least one restriction that applies to this data.\n",
        "\n",
        "Yes, string data can be stored in numpy arrays. However, there is a restriction that applies to this data: all the strings in a numpy array must have the same length. This is because numpy arrays are designed to store homogeneous data, and having strings of varying length can lead to performance issues when performing operations on the array."
      ],
      "metadata": {
        "id": "lOZRQ6wSzr0_"
      }
    }
  ]
}