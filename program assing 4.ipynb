{
  "nbformat": 4,
  "nbformat_minor": 0,
  "metadata": {
    "colab": {
      "provenance": []
    },
    "kernelspec": {
      "name": "python3",
      "display_name": "Python 3"
    },
    "language_info": {
      "name": "python"
    }
  },
  "cells": [
    {
      "cell_type": "code",
      "execution_count": null,
      "metadata": {
        "id": "Sb1D94Ttpvfk"
      },
      "outputs": [],
      "source": [
        "1. Write a Python Program to Find the Factorial of a Number?\n",
        "2. Write a Python Program to Display the multiplication Table?\n",
        "3. Write a Python Program to Print the Fibonacci sequence?\n",
        "4. Write a Python Program to Check Armstrong Number?\n",
        "5. Write a Python Program to Find Armstrong Number in an Interval?\n",
        "6. Write a Python Program to Find the Sum of Natural Numbers?"
      ]
    },
    {
      "cell_type": "markdown",
      "source": [],
      "metadata": {
        "id": "x3v4u8eHpwZR"
      }
    },
    {
      "cell_type": "code",
      "source": [
        "number = int(input(\"Enter a number: \"))\n",
        "factorial = 1\n",
        "\n",
        "if number < 0:\n",
        "    print(\"Factorial does not exist for negative numbers.\")\n",
        "elif number == 0:\n",
        "    print(\"The factorial of 0 is 1.\")\n",
        "else:\n",
        "    for i in range(1, number + 1):\n",
        "        factorial *= i\n",
        "    print(f\"The factorial of {number} is {factorial}.\")\n"
      ],
      "metadata": {
        "colab": {
          "base_uri": "https://localhost:8080/"
        },
        "id": "xEGVkuo0pyQz",
        "outputId": "fcf8afd6-3c9b-4497-cba1-620a79d1e5ff"
      },
      "execution_count": 3,
      "outputs": [
        {
          "output_type": "stream",
          "name": "stdout",
          "text": [
            "Enter a number: 20\n",
            "The factorial of 20 is 2432902008176640000.\n"
          ]
        }
      ]
    },
    {
      "cell_type": "code",
      "source": [
        "number = int(input(\"Enter a number: \"))\n",
        "\n",
        "print(f\"Multiplication table of {number}:\")\n",
        "for i in range(1, 11):\n",
        "    print(f\"{number} x {i} = {number*i}\")\n",
        "\n"
      ],
      "metadata": {
        "colab": {
          "base_uri": "https://localhost:8080/"
        },
        "id": "GZ_1bdrpqI-a",
        "outputId": "d13d8424-3414-42ea-cd42-eb4d065ef307"
      },
      "execution_count": 4,
      "outputs": [
        {
          "output_type": "stream",
          "name": "stdout",
          "text": [
            "Enter a number: 10\n",
            "Multiplication table of 10:\n",
            "10 x 1 = 10\n",
            "10 x 2 = 20\n",
            "10 x 3 = 30\n",
            "10 x 4 = 40\n",
            "10 x 5 = 50\n",
            "10 x 6 = 60\n",
            "10 x 7 = 70\n",
            "10 x 8 = 80\n",
            "10 x 9 = 90\n",
            "10 x 10 = 100\n"
          ]
        }
      ]
    },
    {
      "cell_type": "code",
      "source": [
        "terms = int(input(\"Enter the number of terms: \"))\n",
        "\n",
        "# first two terms\n",
        "a, b = 0, 1\n",
        "\n",
        "# check if the number of terms is valid\n",
        "if terms <= 0:\n",
        "   print(\"Please enter a positive integer\")\n",
        "elif terms == 1:\n",
        "   print(\"Fibonacci sequence upto\", terms, \"term:\")\n",
        "   print(a)\n",
        "else:\n",
        "   print(\"Fibonacci sequence:\")\n",
        "   for i in range(terms):\n",
        "       print(a, end=\" \")\n",
        "       c = a + b\n",
        "# update values for the next iteration\n",
        "       a = b\n",
        "       b = c\n"
      ],
      "metadata": {
        "colab": {
          "base_uri": "https://localhost:8080/"
        },
        "id": "nm7_dDdhqRgG",
        "outputId": "dfd66bd5-120d-4177-8001-b602c1e24475"
      },
      "execution_count": 10,
      "outputs": [
        {
          "output_type": "stream",
          "name": "stdout",
          "text": [
            "Enter the number of terms: 10\n",
            "Fibonacci sequence:\n",
            "0 1 1 2 3 5 8 13 21 34 "
          ]
        }
      ]
    },
    {
      "cell_type": "code",
      "source": [
        "number = int(input(\"Enter a number: \"))\n",
        "\n",
        "# initialize variables\n",
        "sum = 0\n",
        "temp = number\n",
        "order = len(str(number))\n",
        "\n",
        "# calculate sum of nth power of each digit\n",
        "while temp > 0:\n",
        "   digit = temp % 10\n",
        "   sum += digit ** order\n",
        "   temp //= 10\n",
        "\n",
        "# check if number is Armstrong number\n",
        "if number == sum:\n",
        "   print(number, \"is an Armstrong number\")\n",
        "else:\n",
        "   print(number, \"is not an Armstrong number\")"
      ],
      "metadata": {
        "colab": {
          "base_uri": "https://localhost:8080/"
        },
        "id": "10vsqs9vq7DG",
        "outputId": "4d1294d1-8e37-4af5-ff53-4ad0c19462ad"
      },
      "execution_count": 11,
      "outputs": [
        {
          "output_type": "stream",
          "name": "stdout",
          "text": [
            "Enter a number: 10\n",
            "10 is not an Armstrong number\n"
          ]
        }
      ]
    },
    {
      "cell_type": "code",
      "source": [
        "lower = int(input(\"Enter lower range: \"))\n",
        "upper = int(input(\"Enter upper range: \"))\n",
        "\n",
        "for number in range(lower, upper + 1):\n",
        "    order = len(str(number))\n",
        "    temp = number\n",
        "    sum = 0\n",
        "    \n",
        "    while temp > 0:\n",
        "        digit = temp % 10\n",
        "        sum += digit ** order\n",
        "        temp //= 10\n",
        "    \n",
        "    if number == sum:\n",
        "        print(number)\n"
      ],
      "metadata": {
        "colab": {
          "base_uri": "https://localhost:8080/"
        },
        "id": "3e23jFBJrGow",
        "outputId": "a8542598-227a-40f3-d49b-55463d4919e5"
      },
      "execution_count": 12,
      "outputs": [
        {
          "name": "stdout",
          "output_type": "stream",
          "text": [
            "Enter lower range: 20\n",
            "Enter upper range: 30\n"
          ]
        }
      ]
    },
    {
      "cell_type": "code",
      "source": [
        "n = int(input(\"Enter a positive integer: \"))\n",
        "sum = 0\n",
        "\n",
        "# calculate sum of first n natural numbers\n",
        "for i in range(1, n + 1):\n",
        "    sum += i\n",
        "\n",
        "print(\"The sum of the first\", n, \"natural numbers is\",sum) "
      ],
      "metadata": {
        "colab": {
          "base_uri": "https://localhost:8080/"
        },
        "id": "f-Vc-BZJrOE0",
        "outputId": "f9287dc9-9b40-4fed-8a97-e8c68d95fb10"
      },
      "execution_count": 14,
      "outputs": [
        {
          "output_type": "stream",
          "name": "stdout",
          "text": [
            "Enter a positive integer: 25\n",
            "The sum of the first 25 natural numbers is 325\n"
          ]
        }
      ]
    }
  ]
}