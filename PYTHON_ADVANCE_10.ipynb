{
  "nbformat": 4,
  "nbformat_minor": 0,
  "metadata": {
    "colab": {
      "provenance": []
    },
    "kernelspec": {
      "name": "python3",
      "display_name": "Python 3"
    },
    "language_info": {
      "name": "python"
    }
  },
  "cells": [
    {
      "cell_type": "markdown",
      "source": [
        "Q1. What is the difference between __getattr__ and __getattribute__?\n",
        "\n",
        "Q2. What is the difference between properties and descriptors?\n",
        "\n",
        "Q3. What are the key differences in functionality between __getattr__ and __getattribute__, as well as\n",
        "properties and descriptors?"
      ],
      "metadata": {
        "id": "XoZE1sHKWv8B"
      }
    },
    {
      "cell_type": "markdown",
      "source": [
        "## **ANS OF ABOVE QUESTION ARE AS FOLLOW**"
      ],
      "metadata": {
        "id": "b3YRS1MTW2Dn"
      }
    },
    {
      "cell_type": "markdown",
      "source": [
        "Q1. The main difference between `__getattr__` and `__getattribute__` in Python is when they are called. `__getattr__` is called only when the attribute cannot be found through normal lookup, whereas `__getattribute__` is called every time an attribute is accessed. This means that `__getattribute__` is more powerful but also more dangerous, as it can lead to infinite recursion if not used carefully.\n",
        "\n",
        "Q2. Both properties and descriptors are used to define computed attributes in Python, but they work in slightly different ways. Properties are a simplified way of defining computed attributes that are based on existing attributes of an object. They provide a convenient way to implement getters and setters for these attributes. Descriptors, on the other hand, are a more general mechanism for defining computed attributes that can be reused across multiple classes. They provide a way to customize the behavior of attribute access and modification for a specific attribute across multiple instances of a class.\n",
        "\n",
        "Q3. The main difference between `__getattr__` and `__getattribute__` is when they are called. `__getattr__` is called only when the attribute cannot be found through normal lookup, whereas `__getattribute__` is called every time an attribute is accessed. This means that `__getattribute__` is more powerful but also more dangerous, as it can lead to infinite recursion if not used carefully.\n",
        "\n",
        "Similarly, properties and descriptors both provide a way to define computed attributes in Python, but they work in slightly different ways. Properties are a simplified way of defining computed attributes that are based on existing attributes of an object. They provide a convenient way to implement getters and setters for these attributes. Descriptors, on the other hand, are a more general mechanism for defining computed attributes that can be reused across multiple classes. They provide a way to customize the behavior of attribute access and modification for a specific attribute across multiple instances of a class. The main advantage of descriptors over properties is that they can be reused across multiple classes, while properties are tied to a specific class. However, properties are simpler to use and provide a more intuitive syntax."
      ],
      "metadata": {
        "id": "7oFQAmSJW7aI"
      }
    }
  ]
}