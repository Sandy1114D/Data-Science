{
  "nbformat": 4,
  "nbformat_minor": 0,
  "metadata": {
    "colab": {
      "provenance": []
    },
    "kernelspec": {
      "name": "python3",
      "display_name": "Python 3"
    },
    "language_info": {
      "name": "python"
    }
  },
  "cells": [
    {
      "cell_type": "markdown",
      "source": [
        "1. What are the new features added in Python 3.8 version?\n",
        "2. What is monkey patching in Python?\n",
        "3. What is the difference between a shallow copy and deep copy?\n",
        "4. What is the maximum possible length of an identifier?\n",
        "5. What is generator comprehension?"
      ],
      "metadata": {
        "id": "anUWAsm5sQ7f"
      }
    },
    {
      "cell_type": "markdown",
      "source": [
        "## **ANS OF ABOVE QUESTIONS ARE AS FOLLOW**"
      ],
      "metadata": {
        "id": "JpjgBOPssY7e"
      }
    },
    {
      "cell_type": "markdown",
      "source": [
        "1. Some new features added in Python 3.8 version include:\n",
        "- The walrus operator (:=) for inline variable assignments\n",
        "- f-strings support for = (self-documenting expressions)\n",
        "- The positional-only parameter syntax (/) in function definitions\n",
        "- New syntax for type annotations using Literal types\n",
        "- Performance improvements in the form of faster start-up and execution times\n",
        "\n",
        "2. Monkey patching in Python refers to the process of modifying or extending code at runtime by changing or replacing existing attributes or methods of classes or modules. This technique can be useful in situations where it is not possible or desirable to modify the source code directly.\n",
        "\n",
        "3. In Python, a shallow copy creates a new object that references the original data, while a deep copy creates a new object with a new set of data. A shallow copy only copies the top-level data, while a deep copy recursively copies all nested data. This means that changes made to the original data may affect the shallow copy, but not the deep copy.\n",
        "\n",
        "4. The maximum possible length of an identifier in Python is implementation-dependent. In most implementations, identifiers can be up to 255 characters long.\n",
        "\n",
        "5. Generator comprehension, also known as generator expression, is a concise way to create a generator in Python. It has a syntax similar to list comprehension, but with parentheses instead of square brackets. For example, `(i for i in range(10))` generates a sequence of integers from 0 to 9. Unlike list comprehension, generator comprehension generates items lazily, which means that the next item is only computed when it is requested, resulting in better memory efficiency."
      ],
      "metadata": {
        "id": "-VOVLXjrsfqz"
      }
    }
  ]
}