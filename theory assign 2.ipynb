{
  "nbformat": 4,
  "nbformat_minor": 0,
  "metadata": {
    "colab": {
      "provenance": []
    },
    "kernelspec": {
      "name": "python3",
      "display_name": "Python 3"
    },
    "language_info": {
      "name": "python"
    }
  },
  "cells": [
    {
      "cell_type": "markdown",
      "source": [
        "1.What are the two values of the Boolean data type? How do you write them?\n",
        "2. What are the three different types of Boolean operators?\n",
        "3. Make a list of each Boolean operator&#39;s truth tables (i.e. every possible combination of Boolean\n",
        "values for the operator and what it evaluate ).\n",
        "4. What are the values of the following expressions?\n",
        "(5 &gt; 4) and (3 == 5)\n",
        "not (5 &gt; 4)\n",
        "(5 &gt; 4) or (3 == 5)\n",
        "not ((5 &gt; 4) or (3 == 5))\n",
        "(True and True) and (True == False)\n",
        "(not False) or (not True)\n",
        "5. What are the six comparison operators?\n",
        "6. How do you tell the difference between the equal to and assignment operators?Describe a\n",
        "condition and when you would use one.\n",
        "7. Identify the three blocks in this code:\n",
        "spam = 0\n",
        "if spam == 10:\n",
        "print(&#39;eggs&#39;)\n",
        "if spam &gt; 5:\n",
        "print(&#39;bacon&#39;)\n",
        "else:\n",
        "print(&#39;ham&#39;)\n",
        "print(&#39;spam&#39;)\n",
        "print(&#39;spam&#39;)\n",
        "8. Write code that prints Hello if 1 is stored in spam, prints Howdy if 2 is stored in spam, and prints\n",
        "Greetings! if anything else is stored in spam.\n",
        "\n",
        "9.If your programme is stuck in an endless loop, what keys you’ll press?\n",
        "10. How can you tell the difference between break and continue?\n",
        "11. In a for loop, what is the difference between range(10), range(0, 10), and range(0, 10, 1)?\n",
        "12. Write a short program that prints the numbers 1 to 10 using a for loop. Then write an equivalent\n",
        "program that prints the numbers 1 to 10 using a while loop.\n",
        "13. If you had a function named bacon() inside a module named spam, how would you call it after\n",
        "importing spam?"
      ],
      "metadata": {
        "id": "-SohlrB6SDtw"
      }
    },
    {
      "cell_type": "markdown",
      "source": [
        "## **ANS OF THE QUESTIONS ARE AS FOLLOWS I HAVE MARK ALL THE QUE NUMBERS BEFORE THE ANS**"
      ],
      "metadata": {
        "id": "QmLZlHP_SkEG"
      }
    },
    {
      "cell_type": "markdown",
      "source": [
        "1 The two values of the Boolean data type are True and False, which are written as \"True\" and \"False\" in Python, respectively. bold text\n",
        "\n",
        "2 The three different types of Boolean operators are \"and\", \"or\", and \"not\".\n",
        "\n",
        "3  The truth tables for the Boolean operators are as follows:\n",
        "\"and\":\n",
        "True and True = True\n",
        "True and False = False\n",
        "False and True = False\n",
        "False and False = False\n",
        "\n",
        "\"or\":\n",
        "True or True = True\n",
        "True or False = True\n",
        "False or True = True\n",
        "False or False = False\n",
        "\n",
        "\"not\":\n",
        "not True = False\n",
        "not False = True\n",
        "\n",
        "4 The values of the following expressions are:\n",
        "(5 > 4) and (3 == 5) = False\n",
        "not (5 > 4) = False\n",
        "(5 > 4) or (3 == 5) = True\n",
        "not ((5 > 4) or (3 == 5)) = False\n",
        "(True and True) and (True == False) = False\n",
        "(not False) or (not True) = True\n",
        "\n",
        "5 The six comparison operators are: \"==\", \"!=\", \">\", \"<\", \">=\", and \"<=\".\n",
        "\n",
        "6 The equal to operator \"==\" is used to compare two values for equality, while the assignment operator \"=\" is used to assign a value to a variable. For example, \"x = 5\" assigns the value 5 to the variable x, while \"x == 5\" checks whether the value of x is equal to 5.\n",
        "\n",
        "7 The three blocks in the code are:\n",
        "The first block sets the variable spam to 0.\n",
        "The second block checks whether spam is equal to 10, and if it is, it prints \"eggs\".\n",
        "The third block checks whether spam is greater than 5. If it is, it prints \"bacon\". If it is not, it prints \"ham\". After that, it always prints \"spam\" twice "
      ],
      "metadata": {
        "id": "D8EEiaFbTN0A"
      }
    },
    {
      "cell_type": "code",
      "source": [
        "# THISIS THE CODE FOR Q 8\n",
        "spam = int(input(\"enter a number\"))\n",
        "if spam == 1:\n",
        "    print(\"Hello\")\n",
        "elif spam == 2:\n",
        "    print(\"Howdy\")\n",
        "else:\n",
        "    print(\"Greetings!\")\n"
      ],
      "metadata": {
        "colab": {
          "base_uri": "https://localhost:8080/"
        },
        "id": "NKMQdBwPV5SO",
        "outputId": "68c9efd5-30d1-4811-ed35-5ad7ce171fcf"
      },
      "execution_count": 3,
      "outputs": [
        {
          "output_type": "stream",
          "name": "stdout",
          "text": [
            "enter a number22222\n",
            "Greetings!\n"
          ]
        }
      ]
    },
    {
      "cell_type": "markdown",
      "source": [
        "9 If a program is stuck in an endless loop, you can press \"Ctrl + C\" (the \"Control\" key and \"C\" key together) to stop the program.\n",
        "\n",
        "10 The \"break\" statement is used to exit a loop completely, while the \"continue\" statement is used to skip the current iteration of a loop and move on to the next one.\n",
        "\n",
        "11 In a for loop, \"range(10)\" will iterate over the numbers 0 to 9, \"range(0, 10)\" is equivalent to \"range(10)\", and \"range(0, 10, 1)\" is also equivalent to \"range(10)\"."
      ],
      "metadata": {
        "id": "w7kbZsHGWtik"
      }
    },
    {
      "cell_type": "code",
      "source": [
        "#THISIS THE CODE FOR Q 12\n",
        "#Here is the code for printing the numbers 1 to 10 using a for loop:\n",
        "for i in range(1, 11):\n",
        "    print(i)\n",
        "#And here is the code for printing the numbers 1 to 10 using a while loop:\n",
        "i = 1\n",
        "while i <= 10:\n",
        "    print(i)\n",
        "    i += 1\n"
      ],
      "metadata": {
        "colab": {
          "base_uri": "https://localhost:8080/"
        },
        "id": "fu-pjmH7XPqk",
        "outputId": "c0b357e5-5359-41e3-aa69-3d0696f1517d"
      },
      "execution_count": 4,
      "outputs": [
        {
          "output_type": "stream",
          "name": "stdout",
          "text": [
            "1\n",
            "2\n",
            "3\n",
            "4\n",
            "5\n",
            "6\n",
            "7\n",
            "8\n",
            "9\n",
            "10\n",
            "1\n",
            "2\n",
            "3\n",
            "4\n",
            "5\n",
            "6\n",
            "7\n",
            "8\n",
            "9\n",
            "10\n"
          ]
        }
      ]
    },
    {
      "cell_type": "code",
      "source": [
        "#THISIS THE CODE FOR Q 13\n",
        "#After importing the module spam, you can call the function bacon() using the dot notation as follows:\n",
        "import spam\n",
        "spam.bacon()\n"
      ],
      "metadata": {
        "colab": {
          "base_uri": "https://localhost:8080/",
          "height": 356
        },
        "id": "g5vKGqD9X8sb",
        "outputId": "3ea7d1b4-01b6-483a-858e-3089c151b61b"
      },
      "execution_count": 6,
      "outputs": [
        {
          "output_type": "error",
          "ename": "ModuleNotFoundError",
          "evalue": "ignored",
          "traceback": [
            "\u001b[0;31m---------------------------------------------------------------------------\u001b[0m",
            "\u001b[0;31mModuleNotFoundError\u001b[0m                       Traceback (most recent call last)",
            "\u001b[0;32m<ipython-input-6-b0042dceeabd>\u001b[0m in \u001b[0;36m<cell line: 3>\u001b[0;34m()\u001b[0m\n\u001b[1;32m      1\u001b[0m \u001b[0;31m#THISIS THE CODE FOR Q 13\u001b[0m\u001b[0;34m\u001b[0m\u001b[0;34m\u001b[0m\u001b[0m\n\u001b[1;32m      2\u001b[0m \u001b[0;31m#After importing the module spam, you can call the function bacon() using the dot notation as follows:\u001b[0m\u001b[0;34m\u001b[0m\u001b[0;34m\u001b[0m\u001b[0m\n\u001b[0;32m----> 3\u001b[0;31m \u001b[0;32mimport\u001b[0m \u001b[0mspam\u001b[0m\u001b[0;34m\u001b[0m\u001b[0;34m\u001b[0m\u001b[0m\n\u001b[0m\u001b[1;32m      4\u001b[0m \u001b[0mspam\u001b[0m\u001b[0;34m.\u001b[0m\u001b[0mbacon\u001b[0m\u001b[0;34m(\u001b[0m\u001b[0;34m)\u001b[0m\u001b[0;34m\u001b[0m\u001b[0;34m\u001b[0m\u001b[0m\n",
            "\u001b[0;31mModuleNotFoundError\u001b[0m: No module named 'spam'",
            "",
            "\u001b[0;31m---------------------------------------------------------------------------\u001b[0;32m\nNOTE: If your import is failing due to a missing package, you can\nmanually install dependencies using either !pip or !apt.\n\nTo view examples of installing some common dependencies, click the\n\"Open Examples\" button below.\n\u001b[0;31m---------------------------------------------------------------------------\u001b[0m\n"
          ],
          "errorDetails": {
            "actions": [
              {
                "action": "open_url",
                "actionText": "Open Examples",
                "url": "/notebooks/snippets/importing_libraries.ipynb"
              }
            ]
          }
        }
      ]
    }
  ]
}