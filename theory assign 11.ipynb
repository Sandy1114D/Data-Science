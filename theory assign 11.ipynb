{
  "nbformat": 4,
  "nbformat_minor": 0,
  "metadata": {
    "colab": {
      "provenance": []
    },
    "kernelspec": {
      "name": "python3",
      "display_name": "Python 3"
    },
    "language_info": {
      "name": "python"
    }
  },
  "cells": [
    {
      "cell_type": "markdown",
      "source": [
        "1. Create an assert statement that throws an AssertionError if the variable spam is a negative\n",
        "integer.\n",
        "2. Write an assert statement that triggers an AssertionError if the variables eggs and bacon contain\n",
        "strings that are the same as each other, even if their cases are different (that is, &#39;hello&#39; and &#39;hello&#39; are\n",
        "considered the same, and &#39;goodbye&#39; and &#39;GOODbye&#39; are also considered the same).\n",
        "3. Create an assert statement that throws an AssertionError every time.\n",
        "4. What are the two lines that must be present in your software in order to call logging.debug()?\n",
        "5. What are the two lines that your program must have in order to have logging.debug() send a\n",
        "logging message to a file named programLog.txt?\n",
        "6. What are the five levels of logging?\n",
        "7. What line of code would you add to your software to disable all logging messages?\n",
        "8.Why is using logging messages better than using print() to display the same message?\n",
        "9. What are the differences between the Step Over, Step In, and Step Out buttons in the debugger?\n",
        "10.After you click Continue, when will the debugger stop ?\n",
        "11. What is the concept of a breakpoint?"
      ],
      "metadata": {
        "id": "rws97g2Zui8t"
      }
    },
    {
      "cell_type": "markdown",
      "source": [
        "## **ANS OF ABOVE QUESTIONS ARE AS FOLOWS**"
      ],
      "metadata": {
        "id": "3XGrihcEvF-B"
      }
    },
    {
      "cell_type": "markdown",
      "source": [
        "1. assert spam >= 0\n",
        "2. assert eggs.lower() != bacon.lower()\n",
        "3. assert False (or any expression that always evaluates to False)\n",
        "4. import logging\n",
        "   logging.basicConfig(level=logging.DEBUG)\n",
        "5. import logging\n",
        "   logging.basicConfig(filename='programLog.txt', level=logging.DEBUG)\n",
        "6. DEBUG, INFO, WARNING, ERROR, CRITICAL\n",
        "7. logging.disable(logging.CRITICAL)\n",
        "8. Using logging messages allows you to easily control the level of detail in your program's output, and you can redirect messages to various outputs (such as a file or the console) without modifying your code.\n",
        "9. Step Over allows you to execute the current line of code and move to the next line, Step In allows you to step into a function call and execute it line by line, and Step Out allows you to continue executing code until you return from the current function.\n",
        "10. The debugger will stop when it encounters another breakpoint, when it reaches the end of the program, or when it encounters an unhandled exception.\n",
        "11. A breakpoint is a marker you set in your code that tells the debugger to pause execution at that point, allowing you to inspect the program's state at that moment."
      ],
      "metadata": {
        "id": "bMa6njo7vMhn"
      }
    }
  ]
}