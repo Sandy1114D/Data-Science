{
  "nbformat": 4,
  "nbformat_minor": 0,
  "metadata": {
    "colab": {
      "provenance": []
    },
    "kernelspec": {
      "name": "python3",
      "display_name": "Python 3"
    },
    "language_info": {
      "name": "python"
    }
  },
  "cells": [
    {
      "cell_type": "markdown",
      "source": [
        "Question 1:\n",
        "Please write a program using generator to print the numbers which can be divisible by 5 and\n",
        "7 between 0 and n in comma separated form while n is input by console.\n",
        "Example:\n",
        "If the following n is given as input to the program:\n",
        "100\n",
        "Then, the output of the program should be:\n",
        "0,35,70\n",
        "\n",
        "Question 2:\n",
        "Please write a program using generator to print the even numbers between 0 and n in comma\n",
        "separated form while n is input by console.\n",
        "Example:\n",
        "If the following n is given as input to the program:\n",
        "10\n",
        "Then, the output of the program should be:\n",
        "0,2,4,6,8,10\n",
        "\n",
        "Question 3:\n",
        "The Fibonacci Sequence is computed based on the following formula:\n",
        "f(n)=0 if n=0\n",
        "f(n)=1 if n=1\n",
        "f(n)=f(n-1)+f(n-2) if n&gt;1\n",
        "Please write a program using list comprehension to print the Fibonacci Sequence in comma\n",
        "separated form with a given n input by console.\n",
        "Example:\n",
        "If the following n is given as input to the program:\n",
        "7\n",
        "\n",
        "Then, the output of the program should be:\n",
        "0,1,1,2,3,5,8,13\n",
        "\n",
        "Question 4:\n",
        "Assuming that we have some email addresses in the &quot;username@companyname.com&quot; format,\n",
        "please write program to print the user name of a given email address. Both user names and\n",
        "company names are composed of letters only.\n",
        "Example:\n",
        "If the following email address is given as input to the program:\n",
        "john@google.com\n",
        "Then, the output of the program should be:\n",
        "john\n",
        "\n",
        "Question 5:\n",
        "Define a class named Shape and its subclass Square. The Square class has an init function\n",
        "which takes a length as argument. Both classes have a area function which can print the area\n",
        "of the shape where Shape&#39;s area is 0 by default."
      ],
      "metadata": {
        "id": "-w6TtpHyWSUN"
      }
    },
    {
      "cell_type": "code",
      "source": [
        "def divisible_by_5_7(n):\n",
        "    for i in range(n+1):\n",
        "        if i % 5 == 0 and i % 7 == 0:\n",
        "            yield str(i)\n",
        "\n",
        "n = int(input(\"Enter the value of n: \"))\n",
        "result = divisible_by_5_7(n)\n",
        "print(\",\".join(result))\n"
      ],
      "metadata": {
        "colab": {
          "base_uri": "https://localhost:8080/"
        },
        "id": "VoEmR7TYWxTL",
        "outputId": "2d55d8b3-45ee-4d25-aafe-ce28749187ef"
      },
      "execution_count": 1,
      "outputs": [
        {
          "output_type": "stream",
          "name": "stdout",
          "text": [
            "Enter the value of n: 100\n",
            "0,35,70\n"
          ]
        }
      ]
    },
    {
      "cell_type": "code",
      "source": [
        "def even_numbers(n):\n",
        "    for i in range(n+1):\n",
        "        if i % 2 == 0:\n",
        "            yield str(i)\n",
        "\n",
        "n = int(input(\"Enter the value of n: \"))\n",
        "result = even_numbers(n)\n",
        "print(\",\".join(result))\n"
      ],
      "metadata": {
        "colab": {
          "base_uri": "https://localhost:8080/"
        },
        "id": "mAy9fwrRW-mZ",
        "outputId": "11e6a173-3f5b-4cb3-f729-4b1dfda1cbb7"
      },
      "execution_count": 2,
      "outputs": [
        {
          "output_type": "stream",
          "name": "stdout",
          "text": [
            "Enter the value of n: 10\n",
            "0,2,4,6,8,10\n"
          ]
        }
      ]
    },
    {
      "cell_type": "code",
      "source": [
        "n = int(input(\"Enter the value of n: \"))\n",
        "fibonacci_sequence = [0, 1]\n",
        "[fibonacci_sequence.append(fibonacci_sequence[-1]+fibonacci_sequence[-2]) for i in range(n-1)]\n",
        "print(\",\".join([str(i) for i in fibonacci_sequence]))\n"
      ],
      "metadata": {
        "colab": {
          "base_uri": "https://localhost:8080/"
        },
        "id": "UQOG12d1XJ5T",
        "outputId": "8a690b1b-0fa2-4a65-a58b-8a13c4e9f511"
      },
      "execution_count": 3,
      "outputs": [
        {
          "output_type": "stream",
          "name": "stdout",
          "text": [
            "Enter the value of n: 7\n",
            "0,1,1,2,3,5,8,13\n"
          ]
        }
      ]
    },
    {
      "cell_type": "code",
      "source": [
        "email = input(\"Enter an email address: \")\n",
        "username = email.split('@')[0]\n",
        "print(username)\n"
      ],
      "metadata": {
        "colab": {
          "base_uri": "https://localhost:8080/"
        },
        "id": "wdkQzp2LXQEI",
        "outputId": "aac76fe1-062e-42fc-d691-826a5e946b7c"
      },
      "execution_count": 4,
      "outputs": [
        {
          "output_type": "stream",
          "name": "stdout",
          "text": [
            "Enter an email address: sanketpatil@gmail.com\n",
            "sanketpatil\n"
          ]
        }
      ]
    },
    {
      "cell_type": "code",
      "source": [
        "class Shape:\n",
        "    def area(self):\n",
        "        return 0\n",
        "        \n",
        "class Square(Shape):\n",
        "    def __init__(self, length):\n",
        "        self.length = length\n",
        "        \n",
        "    def area(self):\n",
        "        return self.length**2\n",
        "\n",
        "length = int(input(\"Enter the length of the square: \"))\n",
        "square = Square(length)\n",
        "print(\"Area of the square:\", square.area())\n"
      ],
      "metadata": {
        "colab": {
          "base_uri": "https://localhost:8080/"
        },
        "id": "ZcTL17HGXenY",
        "outputId": "48c6afb5-7d4e-4980-ce76-05168d53d3e6"
      },
      "execution_count": 5,
      "outputs": [
        {
          "output_type": "stream",
          "name": "stdout",
          "text": [
            "Enter the length of the square: 44\n",
            "Area of the square: 1936\n"
          ]
        }
      ]
    }
  ]
}