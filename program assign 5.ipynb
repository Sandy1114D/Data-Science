{
  "nbformat": 4,
  "nbformat_minor": 0,
  "metadata": {
    "colab": {
      "provenance": []
    },
    "kernelspec": {
      "name": "python3",
      "display_name": "Python 3"
    },
    "language_info": {
      "name": "python"
    }
  },
  "cells": [
    {
      "cell_type": "markdown",
      "source": [
        "\n",
        "\n",
        "1. Write a Python Program to Find LCM?\n",
        "2. Write a Python Program to Find HCF?\n",
        "3. Write a Python Program to Convert Decimal to Binary, Octal and Hexadecimal?\n",
        "4. Write a Python Program To Find ASCII value of a character?\n",
        "5. Write a Python Program to Make a Simple Calculator with 4 basic mathematical operations?\n",
        "\n"
      ],
      "metadata": {
        "id": "njrCCZkEOf0R"
      }
    },
    {
      "cell_type": "code",
      "execution_count": 5,
      "metadata": {
        "colab": {
          "base_uri": "https://localhost:8080/"
        },
        "id": "wCpYzyhcOT9U",
        "outputId": "616d5c16-86c6-469a-d71f-1b651e67ed44"
      },
      "outputs": [
        {
          "output_type": "stream",
          "name": "stdout",
          "text": [
            "Enter first number: 10\n",
            "Enter second number: 23\n",
            "The LCM of 10 and 23 is 230\n"
          ]
        }
      ],
      "source": [
        "def gcd(a, b):\n",
        "    # calculate the greatest common divisor of a and b\n",
        "    while b:\n",
        "        a, b = b, a % b\n",
        "    return a\n",
        "\n",
        "def lcm(a, b):\n",
        "    # calculate the least common multiple of a and b\n",
        "    return a * b // gcd(a, b)\n",
        "\n",
        "# prompt the user to enter two numbers\n",
        "num1 = int(input(\"Enter first number: \"))\n",
        "num2 = int(input(\"Enter second number: \"))\n",
        "\n",
        "# calculate the LCM of the two numbers\n",
        "result = lcm(num1, num2)\n",
        "\n",
        "\n",
        "print(\"The LCM of\", num1, \"and\", num2, \"is\",result)"
      ]
    },
    {
      "cell_type": "code",
      "source": [
        "def hcf(a, b):\n",
        "    # calculate the highest common factor of a and b\n",
        "    while b:\n",
        "        a, b = b, a % b\n",
        "    return a\n",
        "\n",
        "# prompt the user to enter two numbers\n",
        "num1 = int(input(\"Enter first number: \"))\n",
        "num2 = int(input(\"Enter second number: \"))\n",
        "\n",
        "# calculate the HCF of the two numbers\n",
        "result = hcf(num1, num2)\n",
        "\n",
        "\n",
        "print(\"The HCF of\", num1, \"and\", num2, \"is\",result)\n",
        "\n",
        "\n"
      ],
      "metadata": {
        "colab": {
          "base_uri": "https://localhost:8080/"
        },
        "id": "o8u9GzMIPR8S",
        "outputId": "dda0d363-1219-45db-fb81-e44c99d2de7a"
      },
      "execution_count": 10,
      "outputs": [
        {
          "output_type": "stream",
          "name": "stdout",
          "text": [
            "Enter first number: 20\n",
            "Enter second number: 10\n",
            "The HCF of 20 and 10 is 10\n"
          ]
        }
      ]
    },
    {
      "cell_type": "code",
      "source": [
        "dec = int(input(\"Enter a decimal number: \"))\n",
        "\n",
        "# convert decimal to binary\n",
        "binary = bin(dec)\n",
        "\n",
        "# convert decimal to hexadecimal\n",
        "hexadecimal = hex(dec)\n",
        "\n",
        "# convert decimal to octal\n",
        "octal = oct(dec)\n",
        "\n",
        "print(\"The binary representation of\", dec, \"is\", binary)\n",
        "print(\"The hexadecimal representation of\", dec, \"is\", hexadecimal)\n",
        "print(\"The octal representation of\", dec, \"is\",octal)\n"
      ],
      "metadata": {
        "colab": {
          "base_uri": "https://localhost:8080/"
        },
        "id": "tWkvabpoP6uK",
        "outputId": "43232943-65cc-46b9-a119-33b63aed9b2b"
      },
      "execution_count": 11,
      "outputs": [
        {
          "output_type": "stream",
          "name": "stdout",
          "text": [
            "Enter a decimal number: 10\n",
            "The binary representation of 10 is 0b1010\n",
            "The hexadecimal representation of 10 is 0xa\n",
            "The octal representation of 10 is 0o12\n"
          ]
        }
      ]
    },
    {
      "cell_type": "code",
      "source": [
        "char = input(\"Enter a character: \")\n",
        "\n",
        "# find ASCII value of character\n",
        "ascii_val = ord(char)\n",
        "\n",
        "print(\"The ASCII value of\", char, \"is\", ascii_val)"
      ],
      "metadata": {
        "colab": {
          "base_uri": "https://localhost:8080/"
        },
        "id": "uZ2Wsr90QF9C",
        "outputId": "26d9f06f-a89f-4c69-c83f-2a02729420eb"
      },
      "execution_count": 17,
      "outputs": [
        {
          "output_type": "stream",
          "name": "stdout",
          "text": [
            "Enter a character: A\n",
            "The ASCII value of A is 65\n"
          ]
        }
      ]
    },
    {
      "cell_type": "code",
      "source": [],
      "metadata": {
        "id": "cA9tRdeCQQHK"
      },
      "execution_count": null,
      "outputs": []
    },
    {
      "cell_type": "code",
      "source": [
        "# function to add two numbers\n",
        "def add(num1, num2):\n",
        "    return num1 + num2\n",
        "\n",
        "# function to subtract two numbers\n",
        "def subtract(num1, num2):\n",
        "    return num1 - num2\n",
        "\n",
        "# function to multiply two numbers\n",
        "def multiply(num1, num2):\n",
        "    return num1 * num2\n",
        "\n",
        "# function to divide two numbers\n",
        "def divide(num1, num2):\n",
        "    if num2 == 0:\n",
        "        return \"Cannot divide by zero\"\n",
        "    else:\n",
        "        return num1 / num2\n",
        "\n",
        "# prompt the user to enter the two numbers and operation\n",
        "num1 = float(input(\"Enter the first number: \"))\n",
        "num2 = float(input(\"Enter the second number: \"))\n",
        "operation = input(\"Enter the operation (+, -, *, /): \")\n",
        "\n",
        "# perform the selected operation and print the result\n",
        "if operation == \"+\":\n",
        "    result = add(num1, num2)\n",
        "elif operation == \"-\":\n",
        "    result = subtract(num1, num2)\n",
        "elif operation == \"*\":\n",
        "    result = multiply(num1, num2)\n",
        "elif operation == \"/\":\n",
        "    result = divide(num1, num2)\n",
        "else:\n",
        "    result = \"Invalid operation\"\n",
        "\n",
        "print(\"The result is:\",result)\n"
      ],
      "metadata": {
        "colab": {
          "base_uri": "https://localhost:8080/"
        },
        "id": "jxQOtreTQbaa",
        "outputId": "2639f99d-fd19-4827-f658-a90326aac6d2"
      },
      "execution_count": 18,
      "outputs": [
        {
          "output_type": "stream",
          "name": "stdout",
          "text": [
            "Enter the first number: 10\n",
            "Enter the second number: 50\n",
            "Enter the operation (+, -, *, /): +\n",
            "The result is: 60.0\n"
          ]
        }
      ]
    }
  ]
}