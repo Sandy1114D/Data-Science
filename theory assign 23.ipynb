{
  "nbformat": 4,
  "nbformat_minor": 0,
  "metadata": {
    "colab": {
      "provenance": []
    },
    "kernelspec": {
      "name": "python3",
      "display_name": "Python 3"
    },
    "language_info": {
      "name": "python"
    }
  },
  "cells": [
    {
      "cell_type": "markdown",
      "source": [
        "1. What is the result of the code, and why?\n",
        "&gt;&gt;&gt; def func(a, b=6, c=8):\n",
        "print(a, b, c)\n",
        "&gt;&gt;&gt; func(1, 2)\n",
        "2. What is the result of this code, and why?\n",
        "&gt;&gt;&gt; def func(a, b, c=5):\n",
        "print(a, b, c)\n",
        "&gt;&gt;&gt; func(1, c=3, b=2)\n",
        "3. How about this code: what is its result, and why?\n",
        "&gt;&gt;&gt; def func(a, *pargs):\n",
        "print(a, pargs)\n",
        "&gt;&gt;&gt; func(1, 2, 3)\n",
        "4. What does this code print, and why?\n",
        "&gt;&gt;&gt; def func(a, **kargs):\n",
        "print(a, kargs)\n",
        "&gt;&gt;&gt; func(a=1, c=3, b=2)\n",
        "5. What gets printed by this, and explain?\n",
        "&gt;&gt;&gt; def func(a, b, c=8, d=5): print(a, b, c, d)\n",
        "&gt;&gt;&gt; func(1, *(5, 6))\n",
        "6. what is the result of this, and explain?\n",
        "&gt;&gt;&gt; def func(a, b, c): a = 2; b[0] = &#39;x&#39;; c[&#39;a&#39;] = &#39;y&#39;\n",
        "&gt;&gt;&gt; l=1; m=[1]; n={&#39;a&#39;:0}\n",
        "&gt;&gt;&gt; func(l, m, n)\n",
        "\n",
        "&gt;&gt;&gt; l, m, n"
      ],
      "metadata": {
        "id": "G5EhDdqg7qG3"
      }
    },
    {
      "cell_type": "markdown",
      "source": [
        "## **ANS OF ABOVE QUESTIONS ARE AS FOLLOW**"
      ],
      "metadata": {
        "id": "6J3t9i-17sjZ"
      }
    },
    {
      "cell_type": "markdown",
      "source": [
        "1. The output of the code will be \"1 2 8\". Here, the function \"func\" takes two positional arguments a and b, and two keyword arguments b and c with default values of 6 and 8, respectively. When we call the function with arguments func(1, 2), the value 1 is assigned to argument a and 2 is assigned to argument b, the default value of c is used.\n",
        "2. The output of the code will be \"1 2 3\". Here, the function \"func\" takes two positional arguments a and b, and one keyword argument c with a default value of 5. When we call the function with arguments func(1, c=3, b=2), the value 1 is assigned to argument a, 3 is assigned to argument c, and 2 is assigned to argument b.\n",
        "3. The output of the code will be \"1 (2, 3)\". Here, the function \"func\" takes one positional argument a and *pargs as a tuple of positional arguments. When we call the function with arguments func(1, 2, 3), the value 1 is assigned to argument a, and (2, 3) is assigned to *pargs as a tuple.\n",
        "4. The output of the code will be \"1 {'c': 3, 'b': 2}\". Here, the function \"func\" takes one positional argument a and **kargs as a dictionary of keyword arguments. When we call the function with arguments func(a=1, c=3, b=2), the value 1 is assigned to argument a, and {'c': 3, 'b': 2} is assigned to **kargs as a dictionary.\n",
        "5. The output of the code will be \"1 5 6 5\". Here, the function \"func\" takes two positional arguments a and b and two keyword arguments c and d with default values of 8 and 5, respectively. When we call the function with arguments func(1, *(5, 6)), the value 1 is assigned to argument a, 5 is assigned to argument b, and 6 is assigned to argument c as *args.\n",
        "6. The output of the code will be \"1 [&#39;x&#39;] {'a': &#39;y&#39;}\". Here, the function \"func\" takes three arguments a, b, and c. In this case, we pass integer, list, and dictionary objects to the function. The variable l is an integer and is passed as is, m is a list and is passed as a reference, and n is a dictionary and is also passed as a reference. So, when we modify the values of b and c inside the function, the original objects are modified as well. Therefore, after calling the function, the value of l remains 1, the value of m is changed to ['x'], and the value of n is changed to {'a': 'y'}."
      ],
      "metadata": {
        "id": "tu4DILBT8FCP"
      }
    }
  ]
}