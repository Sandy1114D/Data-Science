{
  "nbformat": 4,
  "nbformat_minor": 0,
  "metadata": {
    "colab": {
      "provenance": []
    },
    "kernelspec": {
      "name": "python3",
      "display_name": "Python 3"
    },
    "language_info": {
      "name": "python"
    }
  },
  "cells": [
    {
      "cell_type": "markdown",
      "source": [
        "1. What is the concept of an abstract superclass?\n",
        "\n",
        "2. What happens when a class statement&#39;s top level contains a basic assignment statement?\n",
        "\n",
        "3. Why does a class need to manually call a superclass&#39;s __init__ method?\n",
        "\n",
        "4. How can you augment, instead of completely replacing, an inherited method?\n",
        "\n",
        "5. How is the local scope of a class different from that of a function?"
      ],
      "metadata": {
        "id": "Xo8dRxdPSKQH"
      }
    },
    {
      "cell_type": "markdown",
      "source": [
        "## **ANS OF ABOVE QUESTIONS ARE AS FOLLOW**"
      ],
      "metadata": {
        "id": "yjd45SgpSN66"
      }
    },
    {
      "cell_type": "markdown",
      "source": [
        "1. An abstract superclass is a class that is designed to be inherited from, but not instantiated directly. It defines a set of methods or attributes that are required by its subclasses, but does not provide implementations for those methods or attributes. Subclasses of an abstract superclass must implement these methods or attributes themselves, providing their own implementations that are specific to their needs.\n",
        "\n",
        "2. When a class statement's top level contains a basic assignment statement, it creates a class-level variable that is shared by all instances of the class. This variable can be accessed and modified by any instance of the class, as well as by the class itself.\n",
        "\n",
        "3. A class needs to manually call a superclass's \"__init__\" method in order to ensure that the superclass's initialization code is run. If the superclass has any instance variables or other state that needs to be initialized, its \"__init__\" method will perform this initialization. If the subclass does not call the superclass's \"__init__\" method, the superclass's initialization code will not be run, and the subclass may not be properly initialized.\n",
        "\n",
        "4. To augment an inherited method, you can define a new method in the subclass that calls the inherited method and then performs additional processing. This is often done by calling the superclass's method using the \"super\" function, which returns a temporary object of the superclass that allows you to call its methods. By calling the superclass's method first and then adding additional processing, you can modify the behavior of the inherited method without completely replacing it.\n",
        "\n",
        "5. The local scope of a class is different from that of a function in several ways. First, the local scope of a class includes all the attributes and methods defined within the class, as well as any class-level variables defined using basic assignment statements. Second, the local scope of a class is persistent throughout the lifetime of the class and its instances, whereas the local scope of a function is destroyed once the function returns. Finally, methods defined within a class have access to the instance attributes and methods of the class, as well as to other class-level variables, whereas functions defined outside a class do not have this access."
      ],
      "metadata": {
        "id": "FRoFV7QZSXwj"
      }
    }
  ]
}