{
  "nbformat": 4,
  "nbformat_minor": 0,
  "metadata": {
    "colab": {
      "provenance": []
    },
    "kernelspec": {
      "name": "python3",
      "display_name": "Python 3"
    },
    "language_info": {
      "name": "python"
    }
  },
  "cells": [
    {
      "cell_type": "markdown",
      "source": [
        "<aside>\n",
        "💡 **Question 1**\n",
        "Given an integer array nums of length n and an integer target, find three integers\n",
        "in nums such that the sum is closest to the target.\n",
        "Return the sum of the three integers.\n",
        "\n",
        "You may assume that each input would have exactly one solution.\n",
        "\n",
        "**Example 1:**\n",
        "Input: nums = [-1,2,1,-4], target = 1\n",
        "Output: 2\n",
        "\n",
        "**Explanation:** The sum that is closest to the target is 2. (-1 + 2 + 1 = 2).\n",
        "\n",
        "</aside>\n",
        "\n",
        "<aside>\n",
        "💡 **Question 2**\n",
        "Given an array nums of n integers, return an array of all the unique quadruplets\n",
        "[nums[a], nums[b], nums[c], nums[d]] such that:\n",
        "           ● 0 <= a, b, c, d < n\n",
        "           ● a, b, c, and d are distinct.\n",
        "           ● nums[a] + nums[b] + nums[c] + nums[d] == target\n",
        "\n",
        "You may return the answer in any order.\n",
        "\n",
        "**Example 1:**\n",
        "Input: nums = [1,0,-1,0,-2,2], target = 0\n",
        "Output: [[-2,-1,1,2],[-2,0,0,2],[-1,0,0,1]]\n",
        "\n",
        "</aside>\n",
        "\n",
        "<aside>\n",
        "💡 **Question 3**\n",
        "A permutation of an array of integers is an arrangement of its members into a\n",
        "sequence or linear order.\n",
        "\n",
        "For example, for arr = [1,2,3], the following are all the permutations of arr:\n",
        "[1,2,3], [1,3,2], [2, 1, 3], [2, 3, 1], [3,1,2], [3,2,1].\n",
        "\n",
        "The next permutation of an array of integers is the next lexicographically greater\n",
        "permutation of its integer. More formally, if all the permutations of the array are\n",
        "sorted in one container according to their lexicographical order, then the next\n",
        "permutation of that array is the permutation that follows it in the sorted container.\n",
        "\n",
        "If such an arrangement is not possible, the array must be rearranged as the\n",
        "lowest possible order (i.e., sorted in ascending order).\n",
        "\n",
        "● For example, the next permutation of arr = [1,2,3] is [1,3,2].\n",
        "● Similarly, the next permutation of arr = [2,3,1] is [3,1,2].\n",
        "● While the next permutation of arr = [3,2,1] is [1,2,3] because [3,2,1] does not\n",
        "have a lexicographical larger rearrangement.\n",
        "\n",
        "Given an array of integers nums, find the next permutation of nums.\n",
        "The replacement must be in place and use only constant extra memory.\n",
        "\n",
        "**Example 1:**\n",
        "Input: nums = [1,2,3]\n",
        "Output: [1,3,2]\n",
        "\n",
        "</aside>\n",
        "\n",
        "<aside>\n",
        "💡 **Question 4**\n",
        "Given a sorted array of distinct integers and a target value, return the index if the\n",
        "target is found. If not, return the index where it would be if it were inserted in\n",
        "order.\n",
        "\n",
        "You must write an algorithm with O(log n) runtime complexity.\n",
        "\n",
        "**Example 1:**\n",
        "Input: nums = [1,3,5,6], target = 5\n",
        "Output: 2\n",
        "\n",
        "</aside>\n",
        "\n",
        "<aside>\n",
        "💡 **Question 5**\n",
        "You are given a large integer represented as an integer array digits, where each\n",
        "digits[i] is the ith digit of the integer. The digits are ordered from most significant\n",
        "to least significant in left-to-right order. The large integer does not contain any\n",
        "leading 0's.\n",
        "\n",
        "Increment the large integer by one and return the resulting array of digits.\n",
        "\n",
        "**Example 1:**\n",
        "Input: digits = [1,2,3]\n",
        "Output: [1,2,4]\n",
        "\n",
        "**Explanation:** The array represents the integer 123.\n",
        "Incrementing by one gives 123 + 1 = 124.\n",
        "Thus, the result should be [1,2,4].\n",
        "\n",
        "</aside>\n",
        "\n",
        "<aside>\n",
        "💡 **Question 6**\n",
        "Given a non-empty array of integers nums, every element appears twice except\n",
        "for one. Find that single one.\n",
        "\n",
        "You must implement a solution with a linear runtime complexity and use only\n",
        "constant extra space.\n",
        "\n",
        "**Example 1:**\n",
        "Input: nums = [2,2,1]\n",
        "Output: 1\n",
        "\n",
        "</aside>\n",
        "\n",
        "<aside>\n",
        "💡 **Question 7**\n",
        "You are given an inclusive range [lower, upper] and a sorted unique integer array\n",
        "nums, where all elements are within the inclusive range.\n",
        "\n",
        "A number x is considered missing if x is in the range [lower, upper] and x is not in\n",
        "nums.\n",
        "\n",
        "Return the shortest sorted list of ranges that exactly covers all the missing\n",
        "numbers. That is, no element of nums is included in any of the ranges, and each\n",
        "missing number is covered by one of the ranges.\n",
        "\n",
        "**Example 1:**\n",
        "Input: nums = [0,1,3,50,75], lower = 0, upper = 99\n",
        "Output: [[2,2],[4,49],[51,74],[76,99]]\n",
        "\n",
        "**Explanation:** The ranges are:\n",
        "[2,2]\n",
        "[4,49]\n",
        "[51,74]\n",
        "[76,99]\n",
        "\n",
        "</aside>\n",
        "\n",
        "<aside>\n",
        "💡 **Question 8**\n",
        "Given an array of meeting time intervals where intervals[i] = [starti, endi],\n",
        "determine if a person could attend all meetings.\n",
        "\n",
        "**Example 1:**\n",
        "Input: intervals = [[0,30],[5,10],[15,20]]\n",
        "Output: false\n",
        "\n",
        "</aside>"
      ],
      "metadata": {
        "id": "a82D-BsjbWmN"
      }
    },
    {
      "cell_type": "code",
      "source": [
        "def three_sum_closest(nums, target):\n",
        "    nums.sort()\n",
        "    n = len(nums)\n",
        "    closest_sum = float('inf')\n",
        "\n",
        "    for i in range(n - 2):\n",
        "        left = i + 1\n",
        "        right = n - 1\n",
        "\n",
        "        while left < right:\n",
        "            current_sum = nums[i] + nums[left] + nums[right]\n",
        "\n",
        "            if current_sum == target:\n",
        "                return current_sum\n",
        "\n",
        "            if abs(current_sum - target) < abs(closest_sum - target):\n",
        "                closest_sum = current_sum\n",
        "\n",
        "            if current_sum < target:\n",
        "                left += 1\n",
        "            else:\n",
        "                right -= 1\n",
        "\n",
        "    return closest_sum\n",
        "\n",
        "\n",
        "# User Input\n",
        "nums = list(map(int, input(\"Enter the integer array (space-separated): \").split()))\n",
        "target = int(input(\"Enter the target sum: \"))\n",
        "\n",
        "# Function Call\n",
        "result = three_sum_closest(nums, target)\n",
        "print(\"The sum closest to the target is:\", result)\n"
      ],
      "metadata": {
        "colab": {
          "base_uri": "https://localhost:8080/"
        },
        "id": "K_czf_H8cmae",
        "outputId": "196f721c-8410-4ef3-dcab-5ead4e516926"
      },
      "execution_count": 7,
      "outputs": [
        {
          "output_type": "stream",
          "name": "stdout",
          "text": [
            "Enter the integer array (space-separated): -1 2 1 -4\n",
            "Enter the target sum: 1\n",
            "The sum closest to the target is: 2\n"
          ]
        }
      ]
    },
    {
      "cell_type": "code",
      "source": [
        "def four_sum(nums, target):\n",
        "    nums.sort()\n",
        "    n = len(nums)\n",
        "    quadruplets = []\n",
        "\n",
        "    for i in range(n - 3):\n",
        "        if i > 0 and nums[i] == nums[i - 1]:\n",
        "            continue\n",
        "\n",
        "        for j in range(i + 1, n - 2):\n",
        "            if j > i + 1 and nums[j] == nums[j - 1]:\n",
        "                continue\n",
        "\n",
        "            left = j + 1\n",
        "            right = n - 1\n",
        "\n",
        "            while left < right:\n",
        "                current_sum = nums[i] + nums[j] + nums[left] + nums[right]\n",
        "\n",
        "                if current_sum == target:\n",
        "                    quadruplets.append([nums[i], nums[j], nums[left], nums[right]])\n",
        "                    left += 1\n",
        "                    right -= 1\n",
        "\n",
        "                    while left < right and nums[left] == nums[left - 1]:\n",
        "                        left += 1\n",
        "                    while left < right and nums[right] == nums[right + 1]:\n",
        "                        right -= 1\n",
        "\n",
        "                elif current_sum < target:\n",
        "                    left += 1\n",
        "                else:\n",
        "                    right -= 1\n",
        "\n",
        "    return quadruplets\n",
        "\n",
        "\n",
        "# User Input\n",
        "nums = list(map(int, input(\"Enter the integer array (space-separated): \").split()))\n",
        "target = int(input(\"Enter the target sum: \"))\n",
        "\n",
        "# Function Call\n",
        "result = four_sum(nums, target)\n",
        "print(\"Unique quadruplets:\", result)\n"
      ],
      "metadata": {
        "colab": {
          "base_uri": "https://localhost:8080/"
        },
        "id": "vDP45zeQc49f",
        "outputId": "3f7067be-bc28-4b43-a645-e7addcda2b51"
      },
      "execution_count": 8,
      "outputs": [
        {
          "output_type": "stream",
          "name": "stdout",
          "text": [
            "Enter the integer array (space-separated): 1 0 -1 0 -2 2\n",
            "Enter the target sum: 0\n",
            "Unique quadruplets: [[-2, -1, 1, 2], [-2, 0, 0, 2], [-1, 0, 0, 1]]\n"
          ]
        }
      ]
    },
    {
      "cell_type": "code",
      "source": [
        "def next_permutation(nums):\n",
        "    # Find the first decreasing element from the right\n",
        "    i = len(nums) - 2\n",
        "    while i >= 0 and nums[i] >= nums[i + 1]:\n",
        "        i -= 1\n",
        "\n",
        "    if i >= 0:\n",
        "        # Find the smallest element larger than nums[i]\n",
        "        j = len(nums) - 1\n",
        "        while j > i and nums[j] <= nums[i]:\n",
        "            j -= 1\n",
        "\n",
        "        # Swap nums[i] and nums[j]\n",
        "        nums[i], nums[j] = nums[j], nums[i]\n",
        "\n",
        "    # Reverse the suffix after i\n",
        "    left = i + 1\n",
        "    right = len(nums) - 1\n",
        "    while left < right:\n",
        "        nums[left], nums[right] = nums[right], nums[left]\n",
        "        left += 1\n",
        "        right -= 1\n",
        "\n",
        "\n",
        "# User Input\n",
        "nums = list(map(int, input(\"Enter the integer array (space-separated): \").split()))\n",
        "\n",
        "# Function Call\n",
        "next_permutation(nums)\n",
        "print(\"Next permutation:\", nums)\n"
      ],
      "metadata": {
        "colab": {
          "base_uri": "https://localhost:8080/"
        },
        "id": "tvBYety7dIYR",
        "outputId": "b6ee3fce-eefc-4828-c297-ab2a4d3f9912"
      },
      "execution_count": 9,
      "outputs": [
        {
          "output_type": "stream",
          "name": "stdout",
          "text": [
            "Enter the integer array (space-separated): 1 2 3\n",
            "Next permutation: [1, 3, 2]\n"
          ]
        }
      ]
    },
    {
      "cell_type": "code",
      "source": [
        "def search_insert(nums, target):\n",
        "    left = 0\n",
        "    right = len(nums) - 1\n",
        "\n",
        "    while left <= right:\n",
        "        mid = left + (right - left) // 2\n",
        "\n",
        "        if nums[mid] == target:\n",
        "            return mid\n",
        "\n",
        "        if nums[mid] < target:\n",
        "            left = mid + 1\n",
        "        else:\n",
        "            right = mid - 1\n",
        "\n",
        "    return left\n",
        "\n",
        "\n",
        "# User Input\n",
        "nums = list(map(int, input(\"Enter the sorted integer array (space-separated): \").split()))\n",
        "target = int(input(\"Enter the target value: \"))\n",
        "\n",
        "# Function Call\n",
        "position = search_insert(nums, target)\n",
        "print(\"Insert position:\", position)\n"
      ],
      "metadata": {
        "colab": {
          "base_uri": "https://localhost:8080/"
        },
        "id": "XTHcjEcrdVs7",
        "outputId": "4a983c0b-d2bc-4227-8fde-3400e55c3788"
      },
      "execution_count": 10,
      "outputs": [
        {
          "output_type": "stream",
          "name": "stdout",
          "text": [
            "Enter the sorted integer array (space-separated): 1 3 5 6\n",
            "Enter the target value: 5\n",
            "Insert position: 2\n"
          ]
        }
      ]
    },
    {
      "cell_type": "code",
      "source": [
        "def plus_one(digits):\n",
        "    n = len(digits)\n",
        "    carry = 1\n",
        "\n",
        "    for i in range(n - 1, -1, -1):\n",
        "        total = digits[i] + carry\n",
        "        digits[i] = total % 10\n",
        "        carry = total // 10\n",
        "\n",
        "    if carry > 0:\n",
        "        digits.insert(0, carry)\n",
        "\n",
        "    return digits\n",
        "\n",
        "\n",
        "# User Input\n",
        "digits = list(map(int, input(\"Enter the digits of the large integer (space-separated): \").split()))\n",
        "\n",
        "# Function Call\n",
        "result = plus_one(digits)\n",
        "print(\"Incremented integer:\", result)\n"
      ],
      "metadata": {
        "colab": {
          "base_uri": "https://localhost:8080/"
        },
        "id": "e3PG4UTpdntN",
        "outputId": "6694c883-a053-402c-cef5-55820501f0ae"
      },
      "execution_count": 13,
      "outputs": [
        {
          "output_type": "stream",
          "name": "stdout",
          "text": [
            "Enter the digits of the large integer (space-separated): 1 2 3\n",
            "Incremented integer: [1, 2, 4]\n"
          ]
        }
      ]
    },
    {
      "cell_type": "code",
      "source": [
        "def single_number(nums):\n",
        "    result = 0\n",
        "    for num in nums:\n",
        "        result ^= num\n",
        "    return result\n",
        "\n",
        "\n",
        "# User Input\n",
        "nums = list(map(int, input(\"Enter the integer array (space-separated): \").split()))\n",
        "\n",
        "# Function Call\n",
        "result = single_number(nums)\n",
        "print(\"The single number is:\", result)\n"
      ],
      "metadata": {
        "colab": {
          "base_uri": "https://localhost:8080/"
        },
        "id": "bswR-wvcd7yI",
        "outputId": "10de7f2b-c469-43c6-8c35-b04832bcba8e"
      },
      "execution_count": 14,
      "outputs": [
        {
          "output_type": "stream",
          "name": "stdout",
          "text": [
            "Enter the integer array (space-separated): 2 2 3\n",
            "The single number is: 3\n"
          ]
        }
      ]
    },
    {
      "cell_type": "code",
      "source": [
        "def can_attend_meetings(intervals):\n",
        "    intervals.sort(key=lambda x: x[0])\n",
        "    for i in range(1, len(intervals)):\n",
        "        if intervals[i][0] < intervals[i - 1][1]:\n",
        "            return False\n",
        "    return True\n",
        "\n",
        "# User Input\n",
        "intervals = []\n",
        "print(\"Enter the start and end time of three intervals:\")\n",
        "for i in range(3):\n",
        "    start, end = map(int, input(\"Interval {}: \".format(i + 1)).split())\n",
        "    intervals.append([start, end])\n",
        "\n",
        "# Function Call\n",
        "result = can_attend_meetings(intervals)\n",
        "print(\"Can attend all meetings:\", result)\n"
      ],
      "metadata": {
        "colab": {
          "base_uri": "https://localhost:8080/"
        },
        "id": "NzS5BJfrgOi_",
        "outputId": "7fa3cbe2-86c9-43ed-efd7-7744c37ffbdc"
      },
      "execution_count": 25,
      "outputs": [
        {
          "output_type": "stream",
          "name": "stdout",
          "text": [
            "Enter the start and end time of three intervals:\n",
            "Interval 1: 0 30 \n",
            "Interval 2: 15 20\n",
            "Interval 3: 5 10\n",
            "Can attend all meetings: False\n"
          ]
        }
      ]
    }
  ]
}