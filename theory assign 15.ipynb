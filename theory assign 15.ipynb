{
  "nbformat": 4,
  "nbformat_minor": 0,
  "metadata": {
    "colab": {
      "provenance": []
    },
    "kernelspec": {
      "name": "python3",
      "display_name": "Python 3"
    },
    "language_info": {
      "name": "python"
    }
  },
  "cells": [
    {
      "cell_type": "markdown",
      "source": [
        "1.How many seconds are in an hour? Use the interactive interpreter as a calculator and multiply the\n",
        "number of seconds in a minute (60) by the number of minutes in an hour (also 60).\n",
        "sol. 60\n",
        "2. Assign the result from the previous task (seconds in an hour) to a variable called\n",
        "seconds_per_hour.\n",
        "3. How many seconds do you think there are in a day? Make use of the variables seconds per hour\n",
        "and minutes per hour.\n",
        "4. Calculate seconds per day again, but this time save the result in a variable called seconds_per_day\n",
        "5. Divide seconds_per_day by seconds_per_hour. Use floating-point (/) division.\n",
        "6. Divide seconds_per_day by seconds_per_hour, using integer (//) division. Did this number agree\n",
        "with the floating-point value from the previous question, aside from the final .0?\n",
        "7. Write a generator, genPrimes, that returns the sequence of prime numbers on successive calls to\n",
        "its next() method: 2, 3, 5, 7, 11, ..."
      ],
      "metadata": {
        "id": "bcMt-U9Izl63"
      }
    },
    {
      "cell_type": "markdown",
      "source": [
        "## **ANS OF ABOVE QUESTIONS ARE AS FOLLOW**"
      ],
      "metadata": {
        "id": "KQP1a7rezo6H"
      }
    },
    {
      "cell_type": "markdown",
      "source": [
        "\n",
        "\n",
        "2. `seconds_per_hour = 60 * 60`\n",
        "\n",
        "3. There are `24` hours in a day, so the number of seconds in a day would be `24 * seconds_per_hour`.\n",
        "\n",
        "4. `seconds_per_day = 24 * seconds_per_hour`\n",
        "\n",
        "5. `seconds_per_day / seconds_per_hour` results in `24.0`, since we are using floating-point division.\n",
        "\n",
        "6. `seconds_per_day // seconds_per_hour` also results in `24`, which agrees with the previous answer, except for the `.0` decimal.\n",
        "\n",
        "7. Here's an implementation of the `genPrimes` generator:\n",
        "\n",
        "```python\n",
        "def genPrimes():\n",
        "    \"\"\"\n",
        "    Generator that yields prime numbers.\n",
        "    \"\"\"\n",
        "    primes = [2]\n",
        "    yield 2\n",
        "    candidate = 3\n",
        "    while True:\n",
        "        for p in primes:\n",
        "            if candidate % p == 0:\n",
        "                break\n",
        "        else:\n",
        "            primes.append(candidate)\n",
        "            yield candidate\n",
        "        candidate += 2\n",
        "```\n",
        "\n",
        "This generator works by maintaining a list of primes found so far, and checking whether each candidate number is divisible by any of the primes in the list. If not, the candidate is added to the list and yielded by the generator. The generator starts by yielding the first prime number, `2`, and then proceeds to check odd numbers (`candidate += 2`) as candidates for primality."
      ],
      "metadata": {
        "id": "NbfBS0Ahzvfi"
      }
    }
  ]
}