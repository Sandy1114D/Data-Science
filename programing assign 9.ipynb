{
  "nbformat": 4,
  "nbformat_minor": 0,
  "metadata": {
    "colab": {
      "provenance": []
    },
    "kernelspec": {
      "name": "python3",
      "display_name": "Python 3"
    },
    "language_info": {
      "name": "python"
    }
  },
  "cells": [
    {
      "cell_type": "markdown",
      "source": [
        "1. Write a Python program to check if the given number is a Disarium Number?\n",
        "2. Write a Python program to print all disarium numbers between 1 to 100?\n",
        "3. Write a Python program to check if the given number is Happy Number?\n",
        "4. Write a Python program to print all happy numbers between 1 and 100?\n",
        "5. Write a Python program to determine whether the given number is a Harshad Number?\n",
        "6. Write a Python program to print all pronic numbers between 1 and 100?"
      ],
      "metadata": {
        "id": "tPs8C7_fAcKn"
      }
    },
    {
      "cell_type": "code",
      "source": [
        "number = int(input(\"Enter a number: \"))\n",
        "\n",
        "# Calculate the number of digits in the number\n",
        "num_digits = len(str(number))\n",
        "\n",
        "# Calculate the sum of each digit raised to its respective position\n",
        "sum_digits = sum(int(digit) ** (index+1) for index, digit in enumerate(str(number)))\n",
        "\n",
        "# Check if the sum of digits is equal to the original number\n",
        "if sum_digits == number:\n",
        "    print(number, \"is a Disarium Number\")\n",
        "else:\n",
        "    print(number, \"is not a Disarium Number\")\n"
      ],
      "metadata": {
        "colab": {
          "base_uri": "https://localhost:8080/"
        },
        "id": "YE6ZHVaEAqLj",
        "outputId": "81cff645-159e-4810-cf99-8874d0526d78"
      },
      "execution_count": 1,
      "outputs": [
        {
          "output_type": "stream",
          "name": "stdout",
          "text": [
            "Enter a number: 23\n",
            "23 is not a Disarium Number\n"
          ]
        }
      ]
    },
    {
      "cell_type": "code",
      "source": [
        "def is_disarium(num):\n",
        "    num_digits = len(str(num))\n",
        "    sum_digits = sum(int(digit) ** (index+1) for index, digit in enumerate(str(num)))\n",
        "    return sum_digits == num\n",
        "\n",
        "for i in range(1, 101):\n",
        "    if is_disarium(i):\n",
        "        print(i)\n"
      ],
      "metadata": {
        "colab": {
          "base_uri": "https://localhost:8080/"
        },
        "id": "e4S96jJkAtl9",
        "outputId": "2ed6eba6-05a5-44d4-f752-630099644288"
      },
      "execution_count": 2,
      "outputs": [
        {
          "output_type": "stream",
          "name": "stdout",
          "text": [
            "1\n",
            "2\n",
            "3\n",
            "4\n",
            "5\n",
            "6\n",
            "7\n",
            "8\n",
            "9\n",
            "89\n"
          ]
        }
      ]
    },
    {
      "cell_type": "code",
      "source": [
        "def is_happy(num):\n",
        "    seen = set()\n",
        "    while num not in seen:\n",
        "        seen.add(num)\n",
        "        num = sum(int(digit) ** 2 for digit in str(num))\n",
        "        if num == 1:\n",
        "            return True\n",
        "    return False\n",
        "\n",
        "number = int(input(\"Enter a number: \"))\n",
        "if is_happy(number):\n",
        "    print(number, \"is a Happy Number\")\n",
        "else:\n",
        "    print(number, \"is not a Happy Number\")\n"
      ],
      "metadata": {
        "colab": {
          "base_uri": "https://localhost:8080/"
        },
        "id": "Mx7GhytSAydC",
        "outputId": "31d5a8fc-dfdb-4c4d-9d01-f8fcb4c218be"
      },
      "execution_count": 3,
      "outputs": [
        {
          "output_type": "stream",
          "name": "stdout",
          "text": [
            "Enter a number: 56\n",
            "56 is not a Happy Number\n"
          ]
        }
      ]
    },
    {
      "cell_type": "code",
      "source": [
        "def is_happy(num):\n",
        "    seen = set()\n",
        "    while num not in seen:\n",
        "        seen.add(num)\n",
        "        num = sum(int(digit) ** 2 for digit in str(num))\n",
        "        if num == 1:\n",
        "            return True\n",
        "    return False\n",
        "\n",
        "for i in range(1, 101):\n",
        "    if is_happy(i):\n",
        "        print(i)\n"
      ],
      "metadata": {
        "colab": {
          "base_uri": "https://localhost:8080/"
        },
        "id": "u2-aE56YA1j-",
        "outputId": "b63632c0-71e9-402d-c687-b6086b510d7d"
      },
      "execution_count": 4,
      "outputs": [
        {
          "output_type": "stream",
          "name": "stdout",
          "text": [
            "1\n",
            "7\n",
            "10\n",
            "13\n",
            "19\n",
            "23\n",
            "28\n",
            "31\n",
            "32\n",
            "44\n",
            "49\n",
            "68\n",
            "70\n",
            "79\n",
            "82\n",
            "86\n",
            "91\n",
            "94\n",
            "97\n",
            "100\n"
          ]
        }
      ]
    },
    {
      "cell_type": "code",
      "source": [
        "number = int(input(\"Enter a number: \"))\n",
        "\n",
        "# Calculate the sum of digits\n",
        "sum_digits = sum(int(digit) for digit in str(number))\n",
        "\n",
        "# Check if the number is divisible by the sum of its digits\n",
        "if number % sum_digits == 0:\n",
        "    print(number, \"is a Harshad Number\")\n",
        "else:\n",
        "    print(number, \"is not a Harshad Number\")\n"
      ],
      "metadata": {
        "colab": {
          "base_uri": "https://localhost:8080/"
        },
        "id": "7NwWpVbYBHbr",
        "outputId": "aef8918e-eb52-4c49-8242-ded20c64769f"
      },
      "execution_count": 5,
      "outputs": [
        {
          "output_type": "stream",
          "name": "stdout",
          "text": [
            "Enter a number: 12\n",
            "12 is a Harshad Number\n"
          ]
        }
      ]
    },
    {
      "cell_type": "code",
      "source": [
        "for i in range(1, 101):\n",
        "    if i * (i+1) == i * i + i:\n",
        "        print(i * (i+1))\n"
      ],
      "metadata": {
        "colab": {
          "base_uri": "https://localhost:8080/"
        },
        "id": "hg_WJxVFBIz4",
        "outputId": "b95b03f9-5a33-47e0-fba9-015be6231278"
      },
      "execution_count": 6,
      "outputs": [
        {
          "output_type": "stream",
          "name": "stdout",
          "text": [
            "2\n",
            "6\n",
            "12\n",
            "20\n",
            "30\n",
            "42\n",
            "56\n",
            "72\n",
            "90\n",
            "110\n",
            "132\n",
            "156\n",
            "182\n",
            "210\n",
            "240\n",
            "272\n",
            "306\n",
            "342\n",
            "380\n",
            "420\n",
            "462\n",
            "506\n",
            "552\n",
            "600\n",
            "650\n",
            "702\n",
            "756\n",
            "812\n",
            "870\n",
            "930\n",
            "992\n",
            "1056\n",
            "1122\n",
            "1190\n",
            "1260\n",
            "1332\n",
            "1406\n",
            "1482\n",
            "1560\n",
            "1640\n",
            "1722\n",
            "1806\n",
            "1892\n",
            "1980\n",
            "2070\n",
            "2162\n",
            "2256\n",
            "2352\n",
            "2450\n",
            "2550\n",
            "2652\n",
            "2756\n",
            "2862\n",
            "2970\n",
            "3080\n",
            "3192\n",
            "3306\n",
            "3422\n",
            "3540\n",
            "3660\n",
            "3782\n",
            "3906\n",
            "4032\n",
            "4160\n",
            "4290\n",
            "4422\n",
            "4556\n",
            "4692\n",
            "4830\n",
            "4970\n",
            "5112\n",
            "5256\n",
            "5402\n",
            "5550\n",
            "5700\n",
            "5852\n",
            "6006\n",
            "6162\n",
            "6320\n",
            "6480\n",
            "6642\n",
            "6806\n",
            "6972\n",
            "7140\n",
            "7310\n",
            "7482\n",
            "7656\n",
            "7832\n",
            "8010\n",
            "8190\n",
            "8372\n",
            "8556\n",
            "8742\n",
            "8930\n",
            "9120\n",
            "9312\n",
            "9506\n",
            "9702\n",
            "9900\n",
            "10100\n"
          ]
        }
      ]
    }
  ]
}