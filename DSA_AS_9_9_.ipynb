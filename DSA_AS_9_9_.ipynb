{
  "nbformat": 4,
  "nbformat_minor": 0,
  "metadata": {
    "colab": {
      "provenance": []
    },
    "kernelspec": {
      "name": "python3",
      "display_name": "Python 3"
    },
    "language_info": {
      "name": "python"
    }
  },
  "cells": [
    {
      "cell_type": "markdown",
      "source": [
        "<aside>\n",
        "💡 **Question 1**\n",
        "\n",
        "Given an integer `n`, return *`true` if it is a power of two. Otherwise, return `false`*.\n",
        "\n",
        "An integer `n` is a power of two, if there exists an integer `x` such that `n == 2x`.\n",
        "\n",
        "**Example 1:**\n",
        "Input: n = 1 \n",
        "\n",
        "Output: true\n",
        "\n",
        "**Example 2:**\n",
        "Input: n = 16 \n",
        "\n",
        "Output: true\n",
        "\n",
        "**Example 3:**\n",
        "Input: n = 3 \n",
        "\n",
        "Output: false\n",
        "\n",
        "</aside>\n",
        "\n",
        "<aside>\n",
        "💡 **Question 2**\n",
        "\n",
        "Given a number n, find the sum of the first natural numbers.\n",
        "\n",
        "**Example 1:**\n",
        "\n",
        "Input: n = 3 \n",
        "\n",
        "Output: 6\n",
        "\n",
        "**Example 2:**\n",
        "\n",
        "Input  : 5 \n",
        "\n",
        "Output : 15\n",
        "\n",
        "</aside>\n",
        "\n",
        "<aside>\n",
        "💡 **Question 3**\n",
        "\n",
        "****Given a positive integer, N. Find the factorial of N. \n",
        "\n",
        "**Example 1:**\n",
        "\n",
        "Input: N = 5 \n",
        "\n",
        "Output: 120\n",
        "\n",
        "**Example 2:**\n",
        "\n",
        "Input: N = 4\n",
        "\n",
        "Output: 24\n",
        "\n",
        "</aside>\n",
        "\n",
        "<aside>\n",
        "💡 **Question 4**\n",
        "\n",
        "Given a number N and a power P, the task is to find the exponent of this number raised to the given power, i.e. N^P.\n",
        "\n",
        "**Example 1 :** \n",
        "\n",
        "Input: N = 5, P = 2\n",
        "\n",
        "Output: 25\n",
        "\n",
        "**Example 2 :**\n",
        "Input: N = 2, P = 5\n",
        "\n",
        "Output: 32\n",
        "\n",
        "</aside>\n",
        "\n",
        "<aside>\n",
        "💡 **Question 5**\n",
        "\n",
        "Given an array of integers **arr**, the task is to find maximum element of that array using recursion.\n",
        "\n",
        "**Example 1:**\n",
        "\n",
        "Input: arr = {1, 4, 3, -5, -4, 8, 6};\n",
        "Output: 8\n",
        "\n",
        "**Example 2:**\n",
        "\n",
        "Input: arr = {1, 4, 45, 6, 10, -8};\n",
        "Output: 45\n",
        "\n",
        "</aside>\n",
        "\n",
        "<aside>\n",
        "💡 **Question 6**\n",
        "\n",
        "Given first term (a), common difference (d) and a integer N of the Arithmetic Progression series, the task is to find Nth term of the series.\n",
        "\n",
        "**Example 1:**\n",
        "\n",
        "Input : a = 2 d = 1 N = 5\n",
        "Output : 6\n",
        "The 5th term of the series is : 6\n",
        "\n",
        "**Example 2:**\n",
        "\n",
        "Input : a = 5 d = 2 N = 10\n",
        "Output : 23\n",
        "The 10th term of the series is : 23\n",
        "\n",
        "</aside>\n",
        "\n",
        "<aside>\n",
        "💡 **Question 7**\n",
        "\n",
        "Given a string S, the task is to write a program to print all permutations of a given string.\n",
        "\n",
        "**Example 1:**\n",
        "\n",
        "***Input:***\n",
        "\n",
        "*S = “ABC”*\n",
        "\n",
        "***Output:***\n",
        "\n",
        "*“ABC”, “ACB”, “BAC”, “BCA”, “CBA”, “CAB”*\n",
        "\n",
        "**Example 2:**\n",
        "\n",
        "***Input:***\n",
        "\n",
        "*S = “XY”*\n",
        "\n",
        "***Output:***\n",
        "\n",
        "*“XY”, “YX”*\n",
        "\n",
        "</aside>\n",
        "\n",
        "<aside>\n",
        "💡 **Question 8**\n",
        "\n",
        "Given an array, find a product of all array elements.\n",
        "\n",
        "**Example 1:**\n",
        "\n",
        "Input  : arr[] = {1, 2, 3, 4, 5}\n",
        "Output : 120\n",
        "**Example 2:**\n",
        "\n",
        "Input  : arr[] = {1, 6, 3}\n",
        "Output : 18\n",
        "\n",
        "</aside>"
      ],
      "metadata": {
        "id": "dIGcvbAF2drZ"
      }
    },
    {
      "cell_type": "code",
      "source": [
        "def isPowerOfTwo(n):\n",
        "    if n <= 0:\n",
        "        return False\n",
        "\n",
        "    while n % 2 == 0:\n",
        "        n /= 2\n",
        "\n",
        "    return n == 1\n",
        "\n",
        "# Take user input\n",
        "n = int(input(\"Enter the number: \"))\n",
        "\n",
        "# Check if the number is a power of two\n",
        "if isPowerOfTwo(n):\n",
        "    print(\"The number is a power of two.\")\n",
        "else:\n",
        "    print(\"The number is not a power of two.\")\n"
      ],
      "metadata": {
        "colab": {
          "base_uri": "https://localhost:8080/"
        },
        "id": "tBbpl2gP2me0",
        "outputId": "c374db9f-9032-49b2-db46-9be3090dbaaa"
      },
      "execution_count": 1,
      "outputs": [
        {
          "output_type": "stream",
          "name": "stdout",
          "text": [
            "Enter the number: 24\n",
            "The number is not a power of two.\n"
          ]
        }
      ]
    },
    {
      "cell_type": "code",
      "source": [
        "def sumOfFirstNNumbers(n):\n",
        "    return n * (n + 1) // 2\n",
        "\n",
        "# Take user input\n",
        "n = int(input(\"Enter the value of N: \"))\n",
        "\n",
        "# Calculate the sum of first N natural numbers\n",
        "sum = sumOfFirstNNumbers(n)\n",
        "print(\"The sum of first\", n, \"natural numbers is\", sum)\n"
      ],
      "metadata": {
        "colab": {
          "base_uri": "https://localhost:8080/"
        },
        "id": "NZRXblV32xBT",
        "outputId": "5f6910fd-b368-43b2-c8eb-1822ffeb0f66"
      },
      "execution_count": 2,
      "outputs": [
        {
          "output_type": "stream",
          "name": "stdout",
          "text": [
            "Enter the value of N: 57\n",
            "The sum of first 57 natural numbers is 1653\n"
          ]
        }
      ]
    },
    {
      "cell_type": "code",
      "source": [
        "def factorial(n):\n",
        "    if n == 0 or n == 1:\n",
        "        return 1\n",
        "\n",
        "    return n * factorial(n - 1)\n",
        "\n",
        "# Take user input\n",
        "n = int(input(\"Enter the number: \"))\n",
        "\n",
        "# Calculate the factorial of the number\n",
        "fact = factorial(n)\n",
        "print(\"The factorial of\", n, \"is\", fact)\n"
      ],
      "metadata": {
        "colab": {
          "base_uri": "https://localhost:8080/"
        },
        "id": "c77CnoYX21mP",
        "outputId": "2ae5ddae-08ad-44e4-9bb3-1d6440107097"
      },
      "execution_count": 3,
      "outputs": [
        {
          "output_type": "stream",
          "name": "stdout",
          "text": [
            "Enter the number: 56\n",
            "The factorial of 56 is 710998587804863451854045647463724949736497978881168458687447040000000000000\n"
          ]
        }
      ]
    },
    {
      "cell_type": "code",
      "source": [
        "def exponentiation(N, P):\n",
        "    return N ** P\n",
        "\n",
        "# Take user inputs\n",
        "N = int(input(\"Enter the number: \"))\n",
        "P = int(input(\"Enter the power: \"))\n",
        "\n",
        "# Calculate the exponentiation of the number\n",
        "result = exponentiation(N, P)\n",
        "print(N, \"raised to the power\", P, \"is\", result)\n"
      ],
      "metadata": {
        "colab": {
          "base_uri": "https://localhost:8080/"
        },
        "id": "VZ0fDQlF2-vd",
        "outputId": "9b9fd593-d4a7-4fa2-a828-53979c80ba79"
      },
      "execution_count": 4,
      "outputs": [
        {
          "output_type": "stream",
          "name": "stdout",
          "text": [
            "Enter the number: 4\n",
            "Enter the power: 5\n",
            "4 raised to the power 5 is 1024\n"
          ]
        }
      ]
    },
    {
      "cell_type": "code",
      "source": [
        "def maxElement(arr, n):\n",
        "    if n == 1:\n",
        "        return arr[0]\n",
        "    \n",
        "    return max(arr[n - 1], maxElement(arr, n - 1))\n",
        "\n",
        "# Take user input\n",
        "arr = list(map(int, input(\"Enter the array elements: \").split()))\n",
        "\n",
        "# Find the maximum element in the array\n",
        "maximum = maxElement(arr, len(arr))\n",
        "print(\"The maximum element in the array is\", maximum)\n"
      ],
      "metadata": {
        "colab": {
          "base_uri": "https://localhost:8080/"
        },
        "id": "3R_HBp9P3DQO",
        "outputId": "a13b5ff4-8c9b-4c07-f11a-7642ac51f1e9"
      },
      "execution_count": 5,
      "outputs": [
        {
          "output_type": "stream",
          "name": "stdout",
          "text": [
            "Enter the array elements: 34 56 7 8 \n",
            "The maximum element in the array is 56\n"
          ]
        }
      ]
    },
    {
      "cell_type": "code",
      "source": [
        "def nthTerm(a, d, N):\n",
        "    return a + (N - 1) * d\n",
        "\n",
        "# Take user inputs\n",
        "a = int(input(\"Enter the first term (a): \"))\n",
        "d = int(input(\"Enter the common difference (d): \"))\n",
        "N = int(input(\"Enter the value of N: \"))\n",
        "\n",
        "# Calculate the Nth term of the arithmetic progression\n",
        "nth_term = nthTerm(a, d, N)\n",
        "print(\"The\", N, \"th term of the series is\", nth_term)\n"
      ],
      "metadata": {
        "colab": {
          "base_uri": "https://localhost:8080/"
        },
        "id": "aWLDNdUj3IZm",
        "outputId": "0afd565b-7421-416e-e5eb-b428044fc2ea"
      },
      "execution_count": 6,
      "outputs": [
        {
          "output_type": "stream",
          "name": "stdout",
          "text": [
            "Enter the first term (a): 1\n",
            "Enter the common difference (d): 5\n",
            "Enter the value of N: 15\n",
            "The 15 th term of the series is 71\n"
          ]
        }
      ]
    },
    {
      "cell_type": "code",
      "source": [
        "def permute(s, l, r):\n",
        "    if l == r:\n",
        "        print(\"\".join(s))\n",
        "    else:\n",
        "        for i in range(l, r + 1):\n",
        "            s[l], s[i] = s[i], s[l]\n",
        "            permute(s, l + 1, r)\n",
        "            s[l], s[i] = s[i], s[l]\n",
        "\n",
        "# Take user input\n",
        "s = input(\"Enter the string: \")\n",
        "\n",
        "# Find all permutations of the string\n",
        "permute(list(s), 0, len(s) - 1)\n"
      ],
      "metadata": {
        "colab": {
          "base_uri": "https://localhost:8080/"
        },
        "id": "RY2D6X1t3PRO",
        "outputId": "1ff349ec-89f1-4d77-bbda-818a462ca013"
      },
      "execution_count": 8,
      "outputs": [
        {
          "output_type": "stream",
          "name": "stdout",
          "text": [
            "Enter the string: SAN\n",
            "SAN\n",
            "SNA\n",
            "ASN\n",
            "ANS\n",
            "NAS\n",
            "NSA\n"
          ]
        }
      ]
    },
    {
      "cell_type": "code",
      "source": [
        "def productOfArrayElements(arr):\n",
        "    product = 1\n",
        "    for num in arr:\n",
        "        product *= num\n",
        "    return product\n",
        "\n",
        "# Take user input\n",
        "arr = list(map(int, input(\"Enter the array elements: \").split()))\n",
        "\n",
        "# Calculate the product of array elements\n",
        "product = productOfArrayElements(arr)\n",
        "print(\"The product of array elements is\", product)\n"
      ],
      "metadata": {
        "colab": {
          "base_uri": "https://localhost:8080/"
        },
        "id": "5kK3aez_3ikE",
        "outputId": "880f833f-e1f3-481d-cb90-93dfe0a92e2a"
      },
      "execution_count": 9,
      "outputs": [
        {
          "output_type": "stream",
          "name": "stdout",
          "text": [
            "Enter the array elements: 1 2 3 4 5 6 7 8 9 \n",
            "The product of array elements is 362880\n"
          ]
        }
      ]
    }
  ]
}