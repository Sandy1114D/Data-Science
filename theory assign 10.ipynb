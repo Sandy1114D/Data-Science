{
  "nbformat": 4,
  "nbformat_minor": 0,
  "metadata": {
    "colab": {
      "provenance": []
    },
    "kernelspec": {
      "name": "python3",
      "display_name": "Python 3"
    },
    "language_info": {
      "name": "python"
    }
  },
  "cells": [
    {
      "cell_type": "markdown",
      "source": [
        "1. How do you distinguish between shutil.copy() and shutil.copytree()?\n",
        "2. What function is used to rename files??\n",
        "3. What is the difference between the delete functions in the send2trash and shutil modules?\n",
        "4.ZipFile objects have a close() method just like File objects’ close() method. What ZipFile method is\n",
        "equivalent to File objects’ open() method?\n",
        "5. Create a programme that searches a folder tree for files with a certain file extension (such as .pdf\n",
        "or .jpg). Copy these files from whatever location they are in to a new folder."
      ],
      "metadata": {
        "id": "g9AQ-UCrs2M2"
      }
    },
    {
      "cell_type": "markdown",
      "source": [
        "## **ANS OF ABOVE QUESTIONS ARE AS FOLLOW**"
      ],
      "metadata": {
        "id": "B2QiDE5vs38H"
      }
    },
    {
      "cell_type": "markdown",
      "source": [
        "1. shutil.copy() is used to copy a single file from one location to another location. shutil.copytree() is used to copy an entire folder directory from one location to another location.\n",
        "\n",
        "2. The function used to rename files is os.rename().\n",
        "\n",
        "3. The main difference between the delete functions in the send2trash and shutil modules is that send2trash sends files to the system's trash or recycle bin, while shutil permanently deletes files.\n",
        "\n",
        "4. The equivalent of File objects' open() method for ZipFile objects is the ZipFile() function. It creates a new ZipFile object and opens the specified ZIP file.\n",
        "\n",
        "5. Here's an example program that searches for files with a certain file extension and copies them to a new folder:\n",
        "\n",
        "```python\n",
        "import os\n",
        "import shutil\n",
        "\n",
        "def copy_files_with_extension(source_dir, dest_dir, extension):\n",
        "    for foldername, subfolders, filenames in os.walk(source_dir):\n",
        "        for filename in filenames:\n",
        "            if filename.endswith(extension):\n",
        "                file_path = os.path.join(foldername, filename)\n",
        "                shutil.copy(file_path, dest_dir)\n",
        "\n",
        "# Example usage:\n",
        "source_dir = '/path/to/source/folder'\n",
        "dest_dir = '/path/to/destination/folder'\n",
        "extension = '.pdf'\n",
        "copy_files_with_extension(source_dir, dest_dir, extension)\n",
        "```\n",
        "\n",
        "In this program, `os.walk()` is used to traverse the folder tree starting from the `source_dir`. For each file with the specified file extension found, the `shutil.copy()` function is used to copy the file to the `dest_dir`."
      ],
      "metadata": {
        "id": "ySxlTgTJtMp3"
      }
    }
  ]
}