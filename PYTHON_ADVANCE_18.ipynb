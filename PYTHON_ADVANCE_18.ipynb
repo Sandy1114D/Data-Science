{
  "nbformat": 4,
  "nbformat_minor": 0,
  "metadata": {
    "colab": {
      "provenance": []
    },
    "kernelspec": {
      "name": "python3",
      "display_name": "Python 3"
    },
    "language_info": {
      "name": "python"
    }
  },
  "cells": [
    {
      "cell_type": "markdown",
      "source": [
        "Q1. Describe the differences between text and binary files in a single paragraph.\n",
        "\n",
        "Q2. What are some scenarios where using text files will be the better option? When would you like to\n",
        "use binary files instead of text files?\n",
        "\n",
        "Q3. What are some of the issues with using binary operations to read and write a Python integer\n",
        "directly to disc?\n",
        "\n",
        "Q4. Describe a benefit of using the with keyword instead of explicitly opening a file.\n",
        "\n",
        "Q5. Does Python have the trailing newline while reading a line of text? Does Python append a\n",
        "newline when you write a line of text?\n",
        "\n",
        "Q6. What file operations enable for random-access operation?\n",
        "\n",
        "Q7. When do you think you&#39;ll use the struct package the most?\n",
        "\n",
        "Q8. When is pickling the best option?\n",
        "\n",
        "Q9. When will it be best to use the shelve package?\n",
        "\n",
        "Q10. What is a special restriction when using the shelve package, as opposed to using other data\n",
        "dictionaries?"
      ],
      "metadata": {
        "id": "Xz-Mq1fHuWeU"
      }
    },
    {
      "cell_type": "markdown",
      "source": [
        "## **ANS OF ABOVE QUESTIONS ARE AS FOLLOW**"
      ],
      "metadata": {
        "id": "ZCO2YwD3uadY"
      }
    },
    {
      "cell_type": "markdown",
      "source": [
        "Q1. Text files and binary files differ in how the data is stored and interpreted. Text files store data in ASCII or Unicode format, with each character represented by a byte or a sequence of bytes. Binary files, on the other hand, can store any type of data, including binary data such as images, audio, and video. The contents of a text file can be read and understood by humans, while the contents of a binary file must be interpreted by a program.\n",
        "\n",
        "Q2. Text files are a better option when dealing with human-readable data such as text documents or configuration files. Binary files are useful when dealing with non-human-readable data such as images, audio, or video files, or when storing data structures that contain non-textual data.\n",
        "\n",
        "Q3. One issue with using binary operations to read and write Python integers is that the byte order, or endianness, may differ between systems, leading to incorrect values being read or written. Another issue is that binary data can be harder to debug and troubleshoot than text data.\n",
        "\n",
        "Q4. Using the with keyword automatically closes the file when the block of code is exited, even if an exception is raised. This helps prevent resource leaks and makes code more concise and readable.\n",
        "\n",
        "Q5. When reading a line of text in Python, the trailing newline character is included in the returned string. When writing a line of text, Python does not append a newline character by default, but this can be changed by specifying the 'newline' argument when opening the file.\n",
        "\n",
        "Q6. The 'seek' and 'tell' file operations enable random-access operation by allowing the current position in the file to be changed, and the position to be queried, respectively.\n",
        "\n",
        "Q7. The 'struct' package is most useful when dealing with binary data that follows a specific format, such as network protocols or file formats. It allows for efficient packing and unpacking of binary data into Python objects.\n",
        "\n",
        "Q8. Pickling is the best option when you need to serialize complex Python data structures, such as objects or nested data structures, into a compact and efficient format for storage or transmission.\n",
        "\n",
        "Q9. The 'shelve' package is best used when you need to store and retrieve Python objects with a key-value interface, similar to a dictionary. It provides an easy-to-use interface for persistent storage of complex data structures.\n",
        "\n",
        "Q10. One special restriction when using the 'shelve' package is that the keys used to store data must be strings, or they will be automatically converted to strings. Additionally, the objects stored in the shelf must be picklable, as they are stored using the pickle module internally."
      ],
      "metadata": {
        "id": "Z7zXv4Ovui3o"
      }
    }
  ]
}