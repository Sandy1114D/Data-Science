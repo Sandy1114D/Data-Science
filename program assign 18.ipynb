{
  "nbformat": 4,
  "nbformat_minor": 0,
  "metadata": {
    "colab": {
      "provenance": []
    },
    "kernelspec": {
      "name": "python3",
      "display_name": "Python 3"
    },
    "language_info": {
      "name": "python"
    }
  },
  "cells": [
    {
      "cell_type": "markdown",
      "source": [
        "Question 1\n",
        "Create a function that takes a list of non-negative integers and strings and return a new list\n",
        "without the strings.\n",
        "Examples\n",
        "filter_list([1, 2, &quot;a&quot;, &quot;b&quot;]) ➞ [1, 2]\n",
        "filter_list([1, &quot;a&quot;, &quot;b&quot;, 0, 15]) ➞ [1, 0, 15]\n",
        "filter_list([1, 2, &quot;aasf&quot;, &quot;1&quot;, &quot;123&quot;, 123]) ➞ [1, 2, 123]\n",
        "\n",
        "Question 2\n",
        "The &quot;Reverser&quot; takes a string as input and returns that string in reverse order, with the\n",
        "opposite case.\n",
        "Examples\n",
        "reverse(&quot;Hello World&quot;) ➞ &quot;DLROw OLLEh&quot;\n",
        "reverse(&quot;ReVeRsE&quot;) ➞ &quot;eSrEvEr&quot;\n",
        "reverse(&quot;Radar&quot;) ➞ &quot;RADAr&quot;\n",
        "\n",
        "Question 3\n",
        "You can assign variables from lists like this:\n",
        "lst = [1, 2, 3, 4, 5, 6]\n",
        "first = lst[0]\n",
        "middle = lst[1:-1]\n",
        "last = lst[-1]\n",
        "print(first) ➞ outputs 1\n",
        "print(middle) ➞ outputs [2, 3, 4, 5]\n",
        "print(last) ➞ outputs 6\n",
        "With Python 3, you can assign variables from lists in a much more succinct way. Create\n",
        "variables first, middle and last from the given list using destructuring assignment\n",
        "(check the Resources tab for some examples), where:\n",
        "first ➞ 1\n",
        "middle ➞ [2, 3, 4, 5]\n",
        "last ➞ 6\n",
        "\n",
        "Your task is to unpack the list writeyourcodehere into three variables, being first,\n",
        "middle, and last, with middle being everything in between the first and last element. Then\n",
        "print all three variables.\n",
        "\n",
        "Question 4\n",
        "Write a function that calculates the factorial of a number recursively.\n",
        "Examples\n",
        "factorial(5) ➞ 120\n",
        "factorial(3) ➞ 6\n",
        "factorial(1) ➞ 1\n",
        "factorial(0) ➞ 1\n",
        "\n",
        "Question 5\n",
        "Write a function that moves all elements of one type to the end of the list.\n",
        "Examples\n",
        "move_to_end([1, 3, 2, 4, 4, 1], 1) ➞ [3, 2, 4, 4, 1, 1]\n",
        "# Move all the 1s to the end of the array.\n",
        "move_to_end([7, 8, 9, 1, 2, 3, 4], 9) ➞ [7, 8, 1, 2, 3, 4, 9]\n",
        "move_to_end([&quot;a&quot;, &quot;a&quot;, &quot;a&quot;, &quot;b&quot;], &quot;a&quot;) ➞ [&quot;b&quot;, &quot;a&quot;, &quot;a&quot;, &quot;a&quot;]"
      ],
      "metadata": {
        "id": "Ia6l7i5I29W4"
      }
    },
    {
      "cell_type": "code",
      "source": [
        "def filter_list(lst):\n",
        "    # Initialize an empty list to hold the non-string elements\n",
        "    new_lst = []\n",
        "    \n",
        "    # Iterate over the elements in the original list and add the non-string elements to the new list\n",
        "    for elem in lst:\n",
        "        if isinstance(elem, int):\n",
        "            new_lst.append(elem)\n",
        "    \n",
        "    # Return the new list\n",
        "    return new_lst\n",
        "\n",
        "# Take input from the user\n",
        "lst = input(\"Enter a list of non-negative integers and strings, separated by spaces: \").split()\n",
        "\n",
        "# Convert the elements of the list to integers or strings as appropriate\n",
        "lst = [int(elem) if elem.isdigit() else elem for elem in lst]\n",
        "\n",
        "# Call the function and print the result\n",
        "print(\"The filtered list is\", filter_list(lst))\n"
      ],
      "metadata": {
        "colab": {
          "base_uri": "https://localhost:8080/"
        },
        "id": "VpJN2qip3TLD",
        "outputId": "ee4eb6f4-d57f-4ed1-f716-d7d655d40e58"
      },
      "execution_count": 2,
      "outputs": [
        {
          "output_type": "stream",
          "name": "stdout",
          "text": [
            "Enter a list of non-negative integers and strings, separated by spaces: 2 3 t t \n",
            "The filtered list is [2, 3]\n"
          ]
        }
      ]
    },
    {
      "cell_type": "code",
      "source": [
        "def reverse(str):\n",
        "    # Initialize an empty string to hold the reversed string\n",
        "    rev_str = \"\"\n",
        "    \n",
        "    # Iterate over the characters in the original string in reverse order\n",
        "    for char in str[::-1]:\n",
        "        # If the character is uppercase, make it lowercase and add it to the reversed string\n",
        "        if char.isupper():\n",
        "            rev_str += char.lower()\n",
        "        # If the character is lowercase, make it uppercase and add it to the reversed string\n",
        "        elif char.islower():\n",
        "            rev_str += char.upper()\n",
        "        # If the character is not a letter, add it to the reversed string as is\n",
        "        else:\n",
        "            rev_str += char\n",
        "    \n",
        "    # Return the reversed string\n",
        "    return rev_str\n",
        "\n",
        "# Take input from the user\n",
        "str = input(\"Enter a string: \")\n",
        "\n",
        "# Call the function and print the result\n",
        "print(\"The reversed string with opposite case is\", reverse(str))\n"
      ],
      "metadata": {
        "colab": {
          "base_uri": "https://localhost:8080/"
        },
        "id": "IkyDiOwF4AzF",
        "outputId": "15568e6d-31ba-4d8f-b803-55085cd0fd73"
      },
      "execution_count": 3,
      "outputs": [
        {
          "output_type": "stream",
          "name": "stdout",
          "text": [
            "Enter a string: sanket\n",
            "The reversed string with opposite case is TEKNAS\n"
          ]
        }
      ]
    },
    {
      "cell_type": "code",
      "source": [
        "lst = input(\"Enter a list of numbers separated by spaces: \")\n",
        "lst = lst.split()\n",
        "lst = [int(x) for x in lst]\n",
        "\n",
        "first, *middle, last = lst\n",
        "\n",
        "print(first)\n",
        "print(middle)\n",
        "print(last)\n"
      ],
      "metadata": {
        "colab": {
          "base_uri": "https://localhost:8080/"
        },
        "id": "uiEPdO3n4hET",
        "outputId": "b4cba517-20b2-4491-b2da-f161678bc2d2"
      },
      "execution_count": 4,
      "outputs": [
        {
          "output_type": "stream",
          "name": "stdout",
          "text": [
            "Enter a list of numbers separated by spaces: 1 3 2 4 5 6 7 \n",
            "1\n",
            "[3, 2, 4, 5, 6]\n",
            "7\n"
          ]
        }
      ]
    },
    {
      "cell_type": "code",
      "source": [
        "def factorial(n):\n",
        "    if n == 0:\n",
        "        return 1\n",
        "    else:\n",
        "        return n * factorial(n-1)\n",
        "\n",
        "num = int(input(\"Enter a non-negative integer: \"))\n",
        "print(factorial(num))\n"
      ],
      "metadata": {
        "colab": {
          "base_uri": "https://localhost:8080/"
        },
        "id": "v6I2hMQm5DzJ",
        "outputId": "f5a13608-be65-4056-d9f5-251c9b737074"
      },
      "execution_count": 5,
      "outputs": [
        {
          "output_type": "stream",
          "name": "stdout",
          "text": [
            "Enter a non-negative integer: 5\n",
            "120\n"
          ]
        }
      ]
    },
    {
      "cell_type": "code",
      "source": [
        "def move_to_end(lst, el):\n",
        "    return [x for x in lst if x != el] + [x for x in lst if x == el]\n",
        "\n",
        "lst = input(\"Enter a list of elements separated by space: \").split()\n",
        "lst = [int(x) if x.isdigit() else x for x in lst] # converting string elements to int if possible\n",
        "el = input(\"Enter an element to move to the end of the list: \")\n",
        "\n",
        "result = move_to_end(lst, el)\n",
        "print(result)\n"
      ],
      "metadata": {
        "colab": {
          "base_uri": "https://localhost:8080/"
        },
        "id": "AU0qjDew5Xc0",
        "outputId": "b7ee06ab-497c-455f-c7b3-287186a4d027"
      },
      "execution_count": 7,
      "outputs": [
        {
          "output_type": "stream",
          "name": "stdout",
          "text": [
            "Enter a list of elements separated by space: 1 3 2 4 4 1 \n",
            "Enter an element to move to the end of the list: 1\n",
            "[1, 3, 2, 4, 4, 1]\n"
          ]
        }
      ]
    }
  ]
}