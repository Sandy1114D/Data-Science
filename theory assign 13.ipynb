{
  "nbformat": 4,
  "nbformat_minor": 0,
  "metadata": {
    "colab": {
      "provenance": []
    },
    "kernelspec": {
      "name": "python3",
      "display_name": "Python 3"
    },
    "language_info": {
      "name": "python"
    }
  },
  "cells": [
    {
      "cell_type": "markdown",
      "source": [
        "1. What advantages do Excel spreadsheets have over CSV spreadsheets?\n",
        "2.What do you pass to csv.reader() and csv.writer() to create reader and writer objects?\n",
        "3. What modes do File objects for reader and writer objects need to be opened in?\n",
        "4. What method takes a list argument and writes it to a CSV file?\n",
        "5. What do the keyword arguments delimiter and line terminator do?\n",
        "6. What function takes a string of JSON data and returns a Python data structure?\n",
        "7. What function takes a Python data structure and returns a string of JSON data?"
      ],
      "metadata": {
        "id": "FzZAoJ_exfnO"
      }
    },
    {
      "cell_type": "markdown",
      "source": [
        "## **ANS OF ABOVE QUESTIONS ARE AS FOLLOW**"
      ],
      "metadata": {
        "id": "FxgUS0f5x9Y4"
      }
    },
    {
      "cell_type": "markdown",
      "source": [
        "1. Excel spreadsheets have several advantages over CSV spreadsheets. They can contain multiple sheets, formulas, charts, and images, whereas CSV spreadsheets only contain raw data in a plain text format. Excel spreadsheets can also have customized formatting, cell styles, and conditional formatting, which is not possible with CSV spreadsheets.\n",
        "2. To create reader and writer objects using the csv module, you need to pass a File object to the csv.reader() and csv.writer() functions, respectively. The File object should be opened in the appropriate mode for reading or writing CSV data.\n",
        "3. For reader objects, the File object should be opened in read mode, and for writer objects, the File object should be opened in write mode.\n",
        "4. The writerow() method takes a list argument and writes it as a row to a CSV file.\n",
        "5. The delimiter keyword argument specifies the character that separates fields in the CSV file (e.g., comma, semicolon, tab), and the lineterminator keyword argument specifies the string to be used to terminate lines when writing to the CSV file (e.g., newline character).\n",
        "6. The json.loads() function takes a string of JSON data and returns a Python data structure (e.g., a dictionary, list, string, number, boolean, or None).\n",
        "7. The json.dumps() function takes a Python data structure and returns a string of JSON data. It can also accept keyword arguments to customize the output format, such as indent to specify the number of spaces for indentation and sort_keys to sort the keys in dictionaries."
      ],
      "metadata": {
        "id": "9K4Lmhw_yKDR"
      }
    }
  ]
}