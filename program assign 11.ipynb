{
  "nbformat": 4,
  "nbformat_minor": 0,
  "metadata": {
    "colab": {
      "provenance": []
    },
    "kernelspec": {
      "name": "python3",
      "display_name": "Python 3"
    },
    "language_info": {
      "name": "python"
    }
  },
  "cells": [
    {
      "cell_type": "markdown",
      "source": [
        "1. Write a Python program to find words which are greater than given length k?\n",
        "2. Write a Python program for removing i-th character from a string?\n",
        "3. Write a Python program to split and join a string?\n",
        "4. Write a Python to check if a given string is binary string or not?\n",
        "5. Write a Python program to find uncommon words from two Strings?\n",
        "6. Write a Python to find all duplicate characters in string?\n",
        "7. Write a Python Program to check if a string contains any special character?"
      ],
      "metadata": {
        "id": "CXshYxkRY9mz"
      }
    },
    {
      "cell_type": "code",
      "source": [
        "def find_words_greater_than_k(str, k):\n",
        "    words = str.split()\n",
        "    result = []\n",
        "    for word in words:\n",
        "        if len(word) > k:\n",
        "            result.append(word)\n",
        "    return result\n",
        "\n",
        "str = input(\"Enter a string: \")\n",
        "k = int(input(\"Enter a value for k: \"))\n",
        "print(find_words_greater_than_k(str, k))\n"
      ],
      "metadata": {
        "colab": {
          "base_uri": "https://localhost:8080/"
        },
        "id": "Rq6SMwV4azhD",
        "outputId": "f0be3fb0-4457-4235-f707-d2786b4d0abd"
      },
      "execution_count": 2,
      "outputs": [
        {
          "output_type": "stream",
          "name": "stdout",
          "text": [
            "Enter a string: sanket\n",
            "Enter a value for k: 12\n",
            "[]\n"
          ]
        }
      ]
    },
    {
      "cell_type": "code",
      "source": [
        "def remove_ith_character(str, i):\n",
        "    new_str = str[:i] + str[i+1:]\n",
        "    return new_str\n",
        "\n",
        "str = input(\"Enter a string: \")\n",
        "i = int(input(\"Enter the index of the character to remove: \"))\n",
        "print(remove_ith_character(str, i))\n"
      ],
      "metadata": {
        "colab": {
          "base_uri": "https://localhost:8080/"
        },
        "id": "2GilVw0wa-9T",
        "outputId": "c215b561-ad00-4a27-85f6-3bb21df7fba5"
      },
      "execution_count": 3,
      "outputs": [
        {
          "output_type": "stream",
          "name": "stdout",
          "text": [
            "Enter a string: sanketpatil\n",
            "Enter the index of the character to remove: 4\n",
            "sanktpatil\n"
          ]
        }
      ]
    },
    {
      "cell_type": "code",
      "source": [
        "def split_and_join(str):\n",
        "    words = str.split()\n",
        "    new_str = \"-\".join(words)\n",
        "    return new_str\n",
        "\n",
        "str = input(\"Enter a string: \")\n",
        "print(\"Original string: \", str)\n",
        "print(\"Modified string: \", split_and_join(str))\n"
      ],
      "metadata": {
        "colab": {
          "base_uri": "https://localhost:8080/"
        },
        "id": "cJnJxIAxbsXS",
        "outputId": "a24066b7-ee0b-421f-f857-b46c9c22f059"
      },
      "execution_count": 5,
      "outputs": [
        {
          "output_type": "stream",
          "name": "stdout",
          "text": [
            "Enter a string: cri cket\n",
            "Original string:  cri cket\n",
            "Modified string:  cri-cket\n"
          ]
        }
      ]
    },
    {
      "cell_type": "code",
      "source": [
        "def is_binary_string(str):\n",
        "    for i in str:\n",
        "        if i != '0' and i != '1':\n",
        "            return False\n",
        "    return True\n",
        "\n",
        "str = input(\"Enter a string: \")\n",
        "if is_binary_string(str):\n",
        "    print(\"The string is a binary string\")\n",
        "else:\n",
        "    print(\"The string is not a binary string\")\n"
      ],
      "metadata": {
        "colab": {
          "base_uri": "https://localhost:8080/"
        },
        "id": "WUx4yb67b9_g",
        "outputId": "9f261376-c3fb-45ef-a01e-b1e65a009ff3"
      },
      "execution_count": 6,
      "outputs": [
        {
          "output_type": "stream",
          "name": "stdout",
          "text": [
            "Enter a string: sanket patil\n",
            "The string is not a binary string\n"
          ]
        }
      ]
    },
    {
      "cell_type": "code",
      "source": [
        "def find_uncommon_words(str1, str2):\n",
        "    words1 = set(str1.split())\n",
        "    words2 = set(str2.split())\n",
        "    uncommon_words = words1.symmetric_difference(words2)\n",
        "    return uncommon_words\n",
        "\n",
        "str1 = input(\"Enter the first string: \")\n",
        "str2 = input(\"Enter the second string: \")\n",
        "print(\"Uncommon words: \", find_uncommon_words(str1, str2))\n"
      ],
      "metadata": {
        "colab": {
          "base_uri": "https://localhost:8080/"
        },
        "id": "e82uZ7YpdizO",
        "outputId": "d895c6fd-2beb-4417-b970-aef76ec5154e"
      },
      "execution_count": 7,
      "outputs": [
        {
          "output_type": "stream",
          "name": "stdout",
          "text": [
            "Enter the first string: sanket\n",
            "Enter the second string: patil\n",
            "Uncommon words:  {'sanket', 'patil'}\n"
          ]
        }
      ]
    },
    {
      "cell_type": "code",
      "source": [
        "def find_duplicate_characters(str):\n",
        "    all_chars = set(str)\n",
        "    result = []\n",
        "    for char in all_chars:\n",
        "        if str.count(char) > 1:\n",
        "            result.append(char)\n",
        "    return result\n",
        "\n",
        "str = input(\"Enter a string: \")\n",
        "print(\"Duplicate characters: \", find_duplicate_characters(str))\n"
      ],
      "metadata": {
        "colab": {
          "base_uri": "https://localhost:8080/"
        },
        "id": "ct71ExbSdvlf",
        "outputId": "d2d25ae3-954b-485a-e211-4e68111f2a18"
      },
      "execution_count": 9,
      "outputs": [
        {
          "output_type": "stream",
          "name": "stdout",
          "text": [
            "Enter a string: manasipatil\n",
            "Duplicate characters:  ['i', 'a']\n"
          ]
        }
      ]
    },
    {
      "cell_type": "code",
      "source": [
        "import re\n",
        "\n",
        "def contains_special_character(str):\n",
        "    regex = re.compile('[@_!#$%^&*()<>?/\\|}{~:]')\n",
        "    if(regex.search(str) == None):\n",
        "        return False\n",
        "    else:\n",
        "        return True\n",
        "\n",
        "str = input(\"Enter a string: \")\n",
        "if contains_special_character(str):\n",
        "    print(\"The string contains a special character\")\n",
        "else:\n",
        "    print(\"The string does not contain a special character\")\n"
      ],
      "metadata": {
        "colab": {
          "base_uri": "https://localhost:8080/"
        },
        "id": "Vvi_kGMNeGIp",
        "outputId": "21fa4517-c081-4bcc-dee5-754bab9c4708"
      },
      "execution_count": 11,
      "outputs": [
        {
          "output_type": "stream",
          "name": "stdout",
          "text": [
            "Enter a string: sanket@patil\n",
            "The string contains a special character\n"
          ]
        }
      ]
    }
  ]
}