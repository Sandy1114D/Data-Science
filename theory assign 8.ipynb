{
  "nbformat": 4,
  "nbformat_minor": 0,
  "metadata": {
    "colab": {
      "provenance": []
    },
    "kernelspec": {
      "name": "python3",
      "display_name": "Python 3"
    },
    "language_info": {
      "name": "python"
    }
  },
  "cells": [
    {
      "cell_type": "markdown",
      "source": [
        "1. Is the Python Standard Library included with PyInputPlus?\n",
        "2. Why is PyInputPlus commonly imported with import pyinputplus as pypi?\n",
        "3. How do you distinguish between inputInt() and inputFloat()?\n",
        "4. Using PyInputPlus, how do you ensure that the user enters a whole number between 0 and 99?\n",
        "5. What is transferred to the keyword arguments allowRegexes and blockRegexes?\n",
        "6. If a blank input is entered three times, what does inputStr(limit=3) do?\n",
        "7. If blank input is entered three times, what does inputStr(limit=3, default=&#39;hello&#39;) do?"
      ],
      "metadata": {
        "id": "IO94CdNSh250"
      }
    },
    {
      "cell_type": "markdown",
      "source": [
        "## **ANS OF ABOVE QUESTIONS ARE AS FOLLOW**"
      ],
      "metadata": {
        "id": "5K1eJyYViEMw"
      }
    },
    {
      "cell_type": "markdown",
      "source": [
        "1. No, the Python Standard Library is not included with PyInputPlus. It is a separate library that provides additional functionality for accepting user input.\n",
        "2. PyInputPlus is commonly imported with `import pyinputplus as pypi` to make it easier to refer to the library in code by using the shorter alias `pypi`.\n",
        "3. `inputInt()` is used for accepting integer values, while `inputFloat()` is used for accepting floating-point values.\n",
        "4. To ensure that the user enters a whole number between 0 and 99 using PyInputPlus, you can use the `inputInt()` function with the `min` and `max` keyword arguments set to 0 and 99, respectively, as follows: `pyip.inputInt(prompt='Enter a whole number between 0 and 99: ', min=0, max=99)`.\n",
        "5. The `allowRegexes` and `blockRegexes` keyword arguments in PyInputPlus are lists of regular expressions that are either allowed or blocked, respectively. These can be used to restrict or allow certain patterns in user input.\n",
        "6. If a blank input is entered three times with the `inputStr(limit=3)` function in PyInputPlus, a `RetryLimitException` will be raised with the message \"Limit of 3 retries exceeded\".\n",
        "7. If a blank input is entered three times with the `inputStr(limit=3, default='hello')` function in PyInputPlus, the default value of 'hello' will be returned after the third blank input, without raising an exception."
      ],
      "metadata": {
        "id": "Tpb7J3iViMjy"
      }
    }
  ]
}