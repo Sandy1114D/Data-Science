{
  "nbformat": 4,
  "nbformat_minor": 0,
  "metadata": {
    "colab": {
      "provenance": []
    },
    "kernelspec": {
      "name": "python3",
      "display_name": "Python 3"
    },
    "language_info": {
      "name": "python"
    }
  },
  "cells": [
    {
      "cell_type": "markdown",
      "source": [
        "Question 1:\n",
        "Write a program that calculates and prints the value according to the given formula:\n",
        "Q = Square root of [(2 * C * D)/H]\n",
        "Following are the fixed values of C and H:\n",
        "C is 50. H is 30.\n",
        "D is the variable whose values should be input to your program in a comma-separated\n",
        "sequence.\n",
        "Example\n",
        "Let us assume the following comma separated input sequence is given to the program:\n",
        "100,150,180\n",
        "The output of the program should be:\n",
        "18,22,24\n",
        "\n",
        "Question 2:\n",
        "Write a program which takes 2 digits, X,Y as input and generates a 2-dimensional array. The\n",
        "element value in the i-th row and j-th column of the array should be i*j.\n",
        "Note: i=0,1.., X-1; j=0,1,¡Y-1.\n",
        "Example\n",
        "Suppose the following inputs are given to the program:\n",
        "3,5\n",
        "Then, the output of the program should be:\n",
        "[[0, 0, 0, 0, 0], [0, 1, 2, 3, 4], [0, 2, 4, 6, 8]]\n",
        "\n",
        "Question 3:\n",
        "Write a program that accepts a comma separated sequence of words as input and prints the\n",
        "words in a comma-separated sequence after sorting them alphabetically.\n",
        "Suppose the following input is supplied to the program:\n",
        "without,hello,bag,world\n",
        "Then, the output should be:\n",
        "bag,hello,without,world\n",
        "\n",
        "Question 4:\n",
        "Write a program that accepts a sequence of whitespace separated words as input and prints\n",
        "the words after removing all duplicate words and sorting them alphanumerically.\n",
        "Suppose the following input is supplied to the program:\n",
        "hello world and practice makes perfect and hello world again\n",
        "Then, the output should be:\n",
        "again and hello makes perfect practice world\n",
        "\n",
        "Question 5:\n",
        "Write a program that accepts a sentence and calculate the number of letters and digits.\n",
        "Suppose the following input is supplied to the program:\n",
        "hello world! 123\n",
        "Then, the output should be:\n",
        "LETTERS 10\n",
        "\n",
        "DIGITS 3\n",
        "\n",
        "Question 6:\n",
        "A website requires the users to input username and password to register. Write a program to\n",
        "check the validity of password input by users.\n",
        "Following are the criteria for checking the password:\n",
        "1. At least 1 letter between [a-z]\n",
        "2. At least 1 number between [0-9]\n",
        "1. At least 1 letter between [A-Z]\n",
        "3. At least 1 character from [$#@]\n",
        "4. Minimum length of transaction password: 6\n",
        "5. Maximum length of transaction password: 12\n",
        "Your program should accept a sequence of comma separated passwords and will check them\n",
        "according to the above criteria. Passwords that match the criteria are to be printed, each\n",
        "separated by a comma.\n",
        "Example\n",
        "If the following passwords are given as input to the program:\n",
        "ABd1234@1,a F1#,2w3E*,2We3345\n",
        "Then, the output of the program should be:\n",
        "ABd1234@1"
      ],
      "metadata": {
        "id": "CGIByUnQBnCM"
      }
    },
    {
      "cell_type": "code",
      "source": [
        "import math\n",
        "\n",
        "c = 50\n",
        "h = 30\n",
        "d_values = input(\"Enter comma-separated values of D: \")\n",
        "d_list = d_values.split(',')\n",
        "\n",
        "result = []\n",
        "for d in d_list:\n",
        "    q = int(math.sqrt((2*c*int(d))/h))\n",
        "    result.append(str(q))\n",
        "\n",
        "print(','.join(result))\n"
      ],
      "metadata": {
        "colab": {
          "base_uri": "https://localhost:8080/"
        },
        "id": "Yubnqa82CAD0",
        "outputId": "daffe3a8-56cd-4c2a-e59a-3dceb8ba7ccb"
      },
      "execution_count": 3,
      "outputs": [
        {
          "output_type": "stream",
          "name": "stdout",
          "text": [
            "Enter comma-separated values of D: 23\n",
            "8\n"
          ]
        }
      ]
    },
    {
      "cell_type": "code",
      "source": [
        "x, y = map(int, input(\"Enter comma-separated values of X and Y: \").split(','))\n",
        "\n",
        "result = [[i*j for j in range(y)] for i in range(x)]\n",
        "\n",
        "for row in result:\n",
        "    print(row)\n"
      ],
      "metadata": {
        "colab": {
          "base_uri": "https://localhost:8080/"
        },
        "id": "6QC-4WiGCDQ_",
        "outputId": "7322c21c-6cc0-4dd9-d468-e6fa51b54435"
      },
      "execution_count": 7,
      "outputs": [
        {
          "output_type": "stream",
          "name": "stdout",
          "text": [
            "Enter comma-separated values of X and Y: 23,34\n",
            "[0, 0, 0, 0, 0, 0, 0, 0, 0, 0, 0, 0, 0, 0, 0, 0, 0, 0, 0, 0, 0, 0, 0, 0, 0, 0, 0, 0, 0, 0, 0, 0, 0, 0]\n",
            "[0, 1, 2, 3, 4, 5, 6, 7, 8, 9, 10, 11, 12, 13, 14, 15, 16, 17, 18, 19, 20, 21, 22, 23, 24, 25, 26, 27, 28, 29, 30, 31, 32, 33]\n",
            "[0, 2, 4, 6, 8, 10, 12, 14, 16, 18, 20, 22, 24, 26, 28, 30, 32, 34, 36, 38, 40, 42, 44, 46, 48, 50, 52, 54, 56, 58, 60, 62, 64, 66]\n",
            "[0, 3, 6, 9, 12, 15, 18, 21, 24, 27, 30, 33, 36, 39, 42, 45, 48, 51, 54, 57, 60, 63, 66, 69, 72, 75, 78, 81, 84, 87, 90, 93, 96, 99]\n",
            "[0, 4, 8, 12, 16, 20, 24, 28, 32, 36, 40, 44, 48, 52, 56, 60, 64, 68, 72, 76, 80, 84, 88, 92, 96, 100, 104, 108, 112, 116, 120, 124, 128, 132]\n",
            "[0, 5, 10, 15, 20, 25, 30, 35, 40, 45, 50, 55, 60, 65, 70, 75, 80, 85, 90, 95, 100, 105, 110, 115, 120, 125, 130, 135, 140, 145, 150, 155, 160, 165]\n",
            "[0, 6, 12, 18, 24, 30, 36, 42, 48, 54, 60, 66, 72, 78, 84, 90, 96, 102, 108, 114, 120, 126, 132, 138, 144, 150, 156, 162, 168, 174, 180, 186, 192, 198]\n",
            "[0, 7, 14, 21, 28, 35, 42, 49, 56, 63, 70, 77, 84, 91, 98, 105, 112, 119, 126, 133, 140, 147, 154, 161, 168, 175, 182, 189, 196, 203, 210, 217, 224, 231]\n",
            "[0, 8, 16, 24, 32, 40, 48, 56, 64, 72, 80, 88, 96, 104, 112, 120, 128, 136, 144, 152, 160, 168, 176, 184, 192, 200, 208, 216, 224, 232, 240, 248, 256, 264]\n",
            "[0, 9, 18, 27, 36, 45, 54, 63, 72, 81, 90, 99, 108, 117, 126, 135, 144, 153, 162, 171, 180, 189, 198, 207, 216, 225, 234, 243, 252, 261, 270, 279, 288, 297]\n",
            "[0, 10, 20, 30, 40, 50, 60, 70, 80, 90, 100, 110, 120, 130, 140, 150, 160, 170, 180, 190, 200, 210, 220, 230, 240, 250, 260, 270, 280, 290, 300, 310, 320, 330]\n",
            "[0, 11, 22, 33, 44, 55, 66, 77, 88, 99, 110, 121, 132, 143, 154, 165, 176, 187, 198, 209, 220, 231, 242, 253, 264, 275, 286, 297, 308, 319, 330, 341, 352, 363]\n",
            "[0, 12, 24, 36, 48, 60, 72, 84, 96, 108, 120, 132, 144, 156, 168, 180, 192, 204, 216, 228, 240, 252, 264, 276, 288, 300, 312, 324, 336, 348, 360, 372, 384, 396]\n",
            "[0, 13, 26, 39, 52, 65, 78, 91, 104, 117, 130, 143, 156, 169, 182, 195, 208, 221, 234, 247, 260, 273, 286, 299, 312, 325, 338, 351, 364, 377, 390, 403, 416, 429]\n",
            "[0, 14, 28, 42, 56, 70, 84, 98, 112, 126, 140, 154, 168, 182, 196, 210, 224, 238, 252, 266, 280, 294, 308, 322, 336, 350, 364, 378, 392, 406, 420, 434, 448, 462]\n",
            "[0, 15, 30, 45, 60, 75, 90, 105, 120, 135, 150, 165, 180, 195, 210, 225, 240, 255, 270, 285, 300, 315, 330, 345, 360, 375, 390, 405, 420, 435, 450, 465, 480, 495]\n",
            "[0, 16, 32, 48, 64, 80, 96, 112, 128, 144, 160, 176, 192, 208, 224, 240, 256, 272, 288, 304, 320, 336, 352, 368, 384, 400, 416, 432, 448, 464, 480, 496, 512, 528]\n",
            "[0, 17, 34, 51, 68, 85, 102, 119, 136, 153, 170, 187, 204, 221, 238, 255, 272, 289, 306, 323, 340, 357, 374, 391, 408, 425, 442, 459, 476, 493, 510, 527, 544, 561]\n",
            "[0, 18, 36, 54, 72, 90, 108, 126, 144, 162, 180, 198, 216, 234, 252, 270, 288, 306, 324, 342, 360, 378, 396, 414, 432, 450, 468, 486, 504, 522, 540, 558, 576, 594]\n",
            "[0, 19, 38, 57, 76, 95, 114, 133, 152, 171, 190, 209, 228, 247, 266, 285, 304, 323, 342, 361, 380, 399, 418, 437, 456, 475, 494, 513, 532, 551, 570, 589, 608, 627]\n",
            "[0, 20, 40, 60, 80, 100, 120, 140, 160, 180, 200, 220, 240, 260, 280, 300, 320, 340, 360, 380, 400, 420, 440, 460, 480, 500, 520, 540, 560, 580, 600, 620, 640, 660]\n",
            "[0, 21, 42, 63, 84, 105, 126, 147, 168, 189, 210, 231, 252, 273, 294, 315, 336, 357, 378, 399, 420, 441, 462, 483, 504, 525, 546, 567, 588, 609, 630, 651, 672, 693]\n",
            "[0, 22, 44, 66, 88, 110, 132, 154, 176, 198, 220, 242, 264, 286, 308, 330, 352, 374, 396, 418, 440, 462, 484, 506, 528, 550, 572, 594, 616, 638, 660, 682, 704, 726]\n"
          ]
        }
      ]
    },
    {
      "cell_type": "code",
      "source": [
        "words = input(\"Enter comma-separated sequence of words: \")\n",
        "words_list = words.split(',')\n",
        "words_list.sort()\n",
        "\n",
        "print(','.join(words_list))\n"
      ],
      "metadata": {
        "colab": {
          "base_uri": "https://localhost:8080/"
        },
        "id": "M5YB0d2TCZWD",
        "outputId": "c8ee237b-51a8-42b4-84bf-e089b4a73d28"
      },
      "execution_count": 8,
      "outputs": [
        {
          "output_type": "stream",
          "name": "stdout",
          "text": [
            "Enter comma-separated sequence of words: sanket,patil,cool\n",
            "cool,patil,sanket\n"
          ]
        }
      ]
    },
    {
      "cell_type": "code",
      "source": [
        "words = input(\"Enter whitespace-separated sequence of words: \")\n",
        "words_list = words.split()\n",
        "unique_words_list = sorted(list(set(words_list)))\n",
        "\n",
        "print(' '.join(unique_words_list))\n"
      ],
      "metadata": {
        "colab": {
          "base_uri": "https://localhost:8080/"
        },
        "id": "IPAwGaF2CcQS",
        "outputId": "6b78d640-e66f-4a8f-dabb-b064868a23f9"
      },
      "execution_count": 9,
      "outputs": [
        {
          "output_type": "stream",
          "name": "stdout",
          "text": [
            "Enter whitespace-separated sequence of words: sanket sandeep patil\n",
            "patil sandeep sanket\n"
          ]
        }
      ]
    },
    {
      "cell_type": "code",
      "source": [
        "sentence = input(\"Enter a sentence: \")\n",
        "\n",
        "letters = 0\n",
        "digits = 0\n",
        "\n",
        "for char in sentence:\n",
        "    if char.isalpha():\n",
        "        letters += 1\n",
        "    elif char.isdigit():\n",
        "        digits += 1\n",
        "\n",
        "print(\"LETTERS\", letters)\n",
        "print(\"DIGITS\", digits)\n"
      ],
      "metadata": {
        "colab": {
          "base_uri": "https://localhost:8080/"
        },
        "id": "njfQmTdRCmp7",
        "outputId": "63290be5-5948-45cd-e02f-ca9f6e743f1a"
      },
      "execution_count": 10,
      "outputs": [
        {
          "output_type": "stream",
          "name": "stdout",
          "text": [
            "Enter a sentence: i am a boy\n",
            "LETTERS 7\n",
            "DIGITS 0\n"
          ]
        }
      ]
    },
    {
      "cell_type": "code",
      "source": [
        "import re\n",
        "\n",
        "passwords = input(\"Enter comma-separated passwords: \")\n",
        "passwords_list = passwords.split(',')\n",
        "\n",
        "valid_passwords = []\n",
        "for password in passwords_list:\n",
        "    if len(password) < 6 or len(password) > 12:\n",
        "        continue\n",
        "    elif not re.search(\"[a-z]\", password):\n",
        "        continue\n",
        "    elif not re.search(\"[0-9]\", password):\n",
        "        continue\n",
        "    elif not re.search(\"[A-Z]\", password):\n",
        "        continue\n",
        "    elif not re.search(\"[$#@]\", password):\n",
        "        continue\n",
        "    else:\n",
        "        valid_passwords.append(password)\n",
        "\n",
        "print(','.join(valid_passwords))\n"
      ],
      "metadata": {
        "colab": {
          "base_uri": "https://localhost:8080/"
        },
        "id": "IjYfJv6vCq_B",
        "outputId": "d0f0325c-4bfd-4adf-8a86-bda35aeee319"
      },
      "execution_count": 12,
      "outputs": [
        {
          "output_type": "stream",
          "name": "stdout",
          "text": [
            "Enter comma-separated passwords: p,a,t,i,l,1,8\n",
            "\n"
          ]
        }
      ]
    }
  ]
}