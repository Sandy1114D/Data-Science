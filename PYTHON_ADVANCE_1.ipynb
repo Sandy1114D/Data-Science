{
  "nbformat": 4,
  "nbformat_minor": 0,
  "metadata": {
    "colab": {
      "provenance": []
    },
    "kernelspec": {
      "name": "python3",
      "display_name": "Python 3"
    },
    "language_info": {
      "name": "python"
    }
  },
  "cells": [
    {
      "cell_type": "markdown",
      "source": [
        "Q1. What is the purpose of Python&#39;s OOP?\n",
        "\n",
        "Q2. Where does an inheritance search look for an attribute?\n",
        "\n",
        "Q3. How do you distinguish between a class object and an instance object?\n",
        "\n",
        "Q4. What makes the first argument in a class’s method function special?\n",
        "\n",
        "Q5. What is the purpose of the __init__ method?\n",
        "\n",
        "Q6. What is the process for creating a class instance?\n",
        "\n",
        "Q7. What is the process for creating a class?\n",
        "\n",
        "Q8. How would you define the superclasses of a class?"
      ],
      "metadata": {
        "id": "wfENpI7BQpGi"
      }
    },
    {
      "cell_type": "markdown",
      "source": [
        "## **ANS OF FOLLOWING QUISTIONS ARE AS FOLLOW**"
      ],
      "metadata": {
        "id": "ZQXXde0-Q2Qg"
      }
    },
    {
      "cell_type": "markdown",
      "source": [
        "A1. The primary purpose of Python's Object-Oriented Programming (OOP) is to provide a way to organize and structure code in a modular and reusable way, by defining classes that encapsulate data and behavior into objects. OOP enables the creation of complex software systems that are easier to maintain, extend, and debug.\n",
        "\n",
        "A2. When searching for an attribute in Python, the inheritance search starts from the instance object and then moves up the class hierarchy, checking each superclass in the order they are defined until the attribute is found. If the attribute is not found in any of the superclasses, Python raises an AttributeError.\n",
        "\n",
        "A3. In Python, a class object is a blueprint for creating instances of that class, while an instance object is a specific object created from a class. The class defines the attributes and methods that an instance can have, but the instance has its own unique data and can have its own methods.\n",
        "\n",
        "A4. In Python, the first argument in a class's method function is conventionally named \"self\" and refers to the instance object calling the method. This argument is automatically passed by Python when the method is called on an instance, and it allows the method to access and manipulate the instance's attributes and data.\n",
        "\n",
        "A5. The \"__init__\" method in Python is a special method that is automatically called when an instance object is created from a class. Its purpose is to initialize the attributes of the new instance object with the values passed as arguments during instantiation. The \"__init__\" method is often used to set default values for instance attributes and to perform any necessary setup for the instance.\n",
        "\n",
        "A6. To create a class instance in Python, you first define a class that encapsulates the data and behavior you want for the instance. Then, you use the class name followed by parentheses to create a new instance object. If the class has an \"__init__\" method, you can pass arguments to the constructor to initialize the instance attributes.\n",
        "\n",
        "A7. To create a class in Python, you define the class using the \"class\" keyword, followed by the name of the class and a colon. Inside the class, you define the attributes and methods of the class, including any special methods like \"__init__\". Once the class is defined, you can create instances of the class by calling the class name followed by parentheses.\n",
        "\n",
        "A8. In Python, the superclasses of a class are the classes from which the current class inherits attributes and behavior. You can define a superclass by using the \"class\" keyword followed by the name of the superclass in parentheses after the class name. When you create a new class that inherits from one or more superclasses, you can access their attributes and methods using the \"super\" function."
      ],
      "metadata": {
        "id": "yAE7-JYmRBFc"
      }
    }
  ]
}