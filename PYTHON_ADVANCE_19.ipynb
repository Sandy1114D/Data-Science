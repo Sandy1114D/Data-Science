{
  "nbformat": 4,
  "nbformat_minor": 0,
  "metadata": {
    "colab": {
      "provenance": []
    },
    "kernelspec": {
      "name": "python3",
      "display_name": "Python 3"
    },
    "language_info": {
      "name": "python"
    }
  },
  "cells": [
    {
      "cell_type": "markdown",
      "source": [
        "Q1. Define the relationship between a class and its instances. Is it a one-to-one or a one-to-many\n",
        "partnership, for example?\n",
        "\n",
        "Q2. What kind of data is held only in an instance?\n",
        "\n",
        "Q3. What kind of knowledge is stored in a class?\n",
        "\n",
        "Q4. What exactly is a method, and how is it different from a regular function?\n",
        "\n",
        "Q5. Is inheritance supported in Python, and if so, what is the syntax?\n",
        "\n",
        "Q6. How much encapsulation (making instance or class variables private) does Python support?\n",
        "\n",
        "Q7. How do you distinguish between a class variable and an instance variable?\n",
        "\n",
        "Q8. When, if ever, can self be included in a class&#39;s method definitions?\n",
        "\n",
        "Q9. What is the difference between the _ _add_ _ and the _ _radd_ _ methods?\n",
        "\n",
        "Q10. When is it necessary to use a reflection method? When do you not need it, even though you\n",
        "support the operation in question?\n",
        "\n",
        "Q11. What is the _ _iadd_ _ method called?\n",
        "\n",
        "Q12. Is the _ _init_ _ method inherited by subclasses? What do you do if you need to customize its\n",
        "behavior within a subclass?"
      ],
      "metadata": {
        "id": "_DKrNFPDxsHT"
      }
    },
    {
      "cell_type": "markdown",
      "source": [
        "# **ANS OF ABOVE QUESTIONS ARE AS FOLLLOW**"
      ],
      "metadata": {
        "id": "WrtXGhTyxtM7"
      }
    },
    {
      "cell_type": "markdown",
      "source": [
        "Q1. A class is a blueprint or template for creating objects, while an instance is a specific object created from that class. The relationship between a class and its instances is a one-to-many partnership, as many instances can be created from a single class.\n",
        "\n",
        "Q2. Instance variables, also known as attributes, hold data that is unique to each instance. These variables are defined within the instance's namespace and can be accessed and modified using dot notation.\n",
        "\n",
        "Q3. A class stores knowledge in the form of class variables and methods. Class variables are shared among all instances of the class, while methods define behaviors and actions that the instances can perform.\n",
        "\n",
        "Q4. A method is a function that is defined within a class and is intended to be called on instances of that class. The primary difference between a method and a regular function is that a method is implicitly passed the instance it is called on as the first argument, conventionally named 'self'.\n",
        "\n",
        "Q5. Yes, inheritance is supported in Python. The syntax for creating a subclass that inherits from a parent class is as follows:\n",
        "\n",
        "```\n",
        "class ChildClass(ParentClass):\n",
        "    # child class definition\n",
        "```\n",
        "\n",
        "Q6. Python supports a limited form of encapsulation by prefixing instance variables with a double underscore '__'. This makes the variable name mangled so that it cannot be easily accessed from outside the class. However, the variable can still be accessed using the mangled name, so this is more of a naming convention than true encapsulation.\n",
        "\n",
        "Q7. A class variable is shared among all instances of a class and is defined within the class definition, but outside of any method. An instance variable is specific to each instance and is defined within the instance's namespace, typically within the __init__ method.\n",
        "\n",
        "Q8. The 'self' parameter is included in a class's method definitions in order to allow the method to access and modify the instance's data. It should be included as the first parameter in the method definition, conventionally named 'self'.\n",
        "\n",
        "Q9. The __add__ method is called when the '+' operator is used to add two objects together, while the __radd__ method is called when the left-hand operand of the '+' operator does not support addition and the right-hand operand is an object of the class defining __radd__.\n",
        "\n",
        "Q10. Reflection methods, also known as introspection methods, are used to examine or manipulate an object's attributes at runtime. They are typically used when the attribute name is not known until runtime or when writing generic code that can operate on objects of different classes. They are not needed when the attribute name is known at compile time and can be accessed using dot notation.\n",
        "\n",
        "Q11. The __iadd__ method is called when the '+=' operator is used to add an object to itself. It should modify the object in place and return a reference to the modified object.\n",
        "\n",
        "Q12. The __init__ method is inherited by subclasses, but it can be overridden to customize its behavior within the subclass. To do this, the subclass should define its own __init__ method and call the parent class's __init__ method using the 'super' function. For example:\n",
        "\n",
        "```\n",
        "class ChildClass(ParentClass):\n",
        "    def __init__(self, arg1, arg2):\n",
        "        super().__init__(arg1)\n",
        "        self.arg2 = arg2\n",
        "```"
      ],
      "metadata": {
        "id": "U_O-npu1x1fo"
      }
    }
  ]
}