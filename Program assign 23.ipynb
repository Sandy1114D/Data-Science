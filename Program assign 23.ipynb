{
  "nbformat": 4,
  "nbformat_minor": 0,
  "metadata": {
    "colab": {
      "provenance": []
    },
    "kernelspec": {
      "name": "python3",
      "display_name": "Python 3"
    },
    "language_info": {
      "name": "python"
    }
  },
  "cells": [
    {
      "cell_type": "markdown",
      "source": [
        "Question 1\n",
        "Create a function that takes a number as an argument and returns True or False depending\n",
        "on whether the number is symmetrical or not. A number is symmetrical when it is the same as\n",
        "its reverse.\n",
        "Examples\n",
        "is_symmetrical(7227) ➞ True\n",
        "is_symmetrical(12567) ➞ False\n",
        "is_symmetrical(44444444) ➞ True\n",
        "is_symmetrical(9939) ➞ False\n",
        "is_symmetrical(1112111) ➞ True\n",
        "\n",
        "Question 2\n",
        "Given a string of numbers separated by a comma and space, return the product of the\n",
        "numbers.\n",
        "Examples\n",
        "multiply_nums(&quot;2, 3&quot;) ➞ 6\n",
        "multiply_nums(&quot;1, 2, 3, 4&quot;) ➞ 24\n",
        "multiply_nums(&quot;54, 75, 453, 0&quot;) ➞ 0\n",
        "multiply_nums(&quot;10, -2&quot;) ➞ -20\n",
        "\n",
        "Question 3\n",
        "Create a function that squares every digit of a number.\n",
        "Examples\n",
        "square_digits(9119) ➞ 811181\n",
        "square_digits(2483) ➞ 416649\n",
        "square_digits(3212) ➞ 9414\n",
        "Notes\n",
        "The function receives an integer and must return an integer.\n",
        "\n",
        "Question 4\n",
        "Create a function that sorts a list and removes all duplicate items from it.\n",
        "Examples\n",
        "setify([1, 3, 3, 5, 5]) ➞ [1, 3, 5]\n",
        "setify([4, 4, 4, 4]) ➞ [4]\n",
        "setify([5, 7, 8, 9, 10, 15]) ➞ [5, 7, 8, 9, 10, 15]\n",
        "setify([3, 3, 3, 2, 1]) ➞ [1, 2, 3]\n",
        "\n",
        "Question 5\n",
        "Create a function that returns the mean of all digits.\n",
        "Examples\n",
        "mean(42) ➞ 3\n",
        "mean(12345) ➞ 3\n",
        "mean(666) ➞ 6\n",
        "Notes\n",
        " The mean of all digits is the sum of digits / how many digits there are (e.g. mean of digits in\n",
        "512 is (5+1+2)/3(number of digits) = 8/3=2).\n",
        " The mean will always be an integer."
      ],
      "metadata": {
        "id": "wNyXdZmxj6dQ"
      }
    },
    {
      "cell_type": "code",
      "source": [
        "def is_symmetrical(num):\n",
        "    return str(num) == str(num)[::-1]\n",
        "\n",
        "num = int(input(\"Enter a number: \"))\n",
        "print(is_symmetrical(num))\n"
      ],
      "metadata": {
        "colab": {
          "base_uri": "https://localhost:8080/"
        },
        "id": "wPgkSFaFkMA3",
        "outputId": "fde54887-08e6-4f31-e9f2-3bed636e4b8b"
      },
      "execution_count": 1,
      "outputs": [
        {
          "output_type": "stream",
          "name": "stdout",
          "text": [
            "Enter a number: 4444444\n",
            "True\n"
          ]
        }
      ]
    },
    {
      "cell_type": "code",
      "source": [
        "def multiply_nums(nums):\n",
        "    nums_list = nums.split(\", \")\n",
        "    product = 1\n",
        "    for num in nums_list:\n",
        "        product *= int(num)\n",
        "    return product\n",
        "\n",
        "nums = input(\"Enter numbers separated by comma and space: \")\n",
        "print(multiply_nums(nums))\n"
      ],
      "metadata": {
        "colab": {
          "base_uri": "https://localhost:8080/"
        },
        "id": "47pP6HSlkT3o",
        "outputId": "c28792c2-87c5-46d4-a1c0-3bd750efadff"
      },
      "execution_count": 5,
      "outputs": [
        {
          "output_type": "stream",
          "name": "stdout",
          "text": [
            "Enter numbers separated by comma and space: 2, 3\n",
            "6\n"
          ]
        }
      ]
    },
    {
      "cell_type": "code",
      "source": [
        "def square_digits(num):\n",
        "    return int(\"\".join(str(int(digit)**2) for digit in str(num)))\n",
        "\n",
        "num = int(input(\"Enter a number: \"))\n",
        "print(square_digits(num))\n"
      ],
      "metadata": {
        "colab": {
          "base_uri": "https://localhost:8080/"
        },
        "id": "LNSPP9zckm0E",
        "outputId": "0198a67c-4c44-42e5-f80d-17f13a2b3d2d"
      },
      "execution_count": 6,
      "outputs": [
        {
          "output_type": "stream",
          "name": "stdout",
          "text": [
            "Enter a number: 3212\n",
            "9414\n"
          ]
        }
      ]
    },
    {
      "cell_type": "code",
      "source": [
        "def setify(lst):\n",
        "    return sorted(list(set(lst)))\n",
        "\n",
        "lst = input(\"Enter a list of numbers separated by space: \").split()\n",
        "lst = [int(num) for num in lst]\n",
        "print(setify(lst))\n"
      ],
      "metadata": {
        "colab": {
          "base_uri": "https://localhost:8080/"
        },
        "id": "LWC8K3E2kscx",
        "outputId": "5c41f595-f37b-4766-b6ba-dc4ed89c862c"
      },
      "execution_count": 7,
      "outputs": [
        {
          "output_type": "stream",
          "name": "stdout",
          "text": [
            "Enter a list of numbers separated by space: 2 3 4 5 6 7 8\n",
            "[2, 3, 4, 5, 6, 7, 8]\n"
          ]
        }
      ]
    },
    {
      "cell_type": "code",
      "source": [
        "def mean(num):\n",
        "    digits = [int(digit) for digit in str(num)]\n",
        "    return sum(digits) // len(digits)\n",
        "\n",
        "num = int(input(\"Enter a number: \"))\n",
        "print(mean(num))\n"
      ],
      "metadata": {
        "colab": {
          "base_uri": "https://localhost:8080/"
        },
        "id": "DI4F_3hTk3J7",
        "outputId": "7acc0615-c338-464b-b4ba-eb7124a66c41"
      },
      "execution_count": 8,
      "outputs": [
        {
          "output_type": "stream",
          "name": "stdout",
          "text": [
            "Enter a number: 123456\n",
            "3\n"
          ]
        }
      ]
    }
  ]
}