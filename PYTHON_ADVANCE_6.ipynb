{
  "nbformat": 4,
  "nbformat_minor": 0,
  "metadata": {
    "colab": {
      "provenance": []
    },
    "kernelspec": {
      "name": "python3",
      "display_name": "Python 3"
    },
    "language_info": {
      "name": "python"
    }
  },
  "cells": [
    {
      "cell_type": "markdown",
      "source": [
        "Q1. Describe three applications for exception processing.\n",
        "\n",
        "Q2. What happens if you don&#39;t do something extra to treat an exception?\n",
        "\n",
        "Q3. What are your options for recovering from an exception in your script?\n",
        "\n",
        "Q4. Describe two methods for triggering exceptions in your script.\n",
        "\n",
        "Q5. Identify two methods for specifying actions to be executed at termination time, regardless of\n",
        "whether or not an exception exists."
      ],
      "metadata": {
        "id": "_qON9XPwTmKb"
      }
    },
    {
      "cell_type": "markdown",
      "source": [
        "## **ANS OF ABOVE QUESTIONS ARE AS FOLLOW**"
      ],
      "metadata": {
        "id": "jnqhzkerTt8r"
      }
    },
    {
      "cell_type": "markdown",
      "source": [
        "Q1. Exception processing is an important feature of Python that allows developers to handle and recover from errors that occur during program execution. Three common applications of exception processing include:\n",
        "\n",
        "- Input validation: Exception processing can be used to validate user input and handle errors that may occur if the input is not valid. For example, if a user enters a non-integer value where an integer is expected, an exception can be raised and handled to alert the user and prompt them to enter a valid value.\n",
        "- File handling: Exception processing can be used to handle errors that may occur during file I/O operations, such as reading from or writing to a file. If an error occurs while reading or writing a file, an exception can be raised and handled to prevent the program from crashing and to allow the user to recover from the error.\n",
        "- Network communication: Exception processing can be used to handle errors that may occur during network communication, such as a connection timeout or a network error. If an error occurs during network communication, an exception can be raised and handled to allow the program to gracefully recover from the error.\n",
        "\n",
        "Q2. If an exception is not handled by a try-except block or other exception handling mechanism, it will propagate up the call stack until it is either caught by a try-except block or reaches the top level of the program, where it will cause the program to terminate and display an error message.\n",
        "\n",
        "Q3. When an exception occurs in a script, there are several options for recovering from the error, including:\n",
        "\n",
        "- Retry: Depending on the nature of the error, it may be possible to retry the operation that caused the error, either immediately or after a delay.\n",
        "- Log the error: Exceptions can be logged to a file or other data store for later analysis and debugging.\n",
        "- Graceful shutdown: If the error is severe or cannot be recovered from, the script can be gracefully shut down to prevent further damage or data loss.\n",
        "\n",
        "Q4. There are two methods for triggering exceptions in a Python script:\n",
        "\n",
        "- Raise an exception explicitly: Exceptions can be raised explicitly using the \"raise\" statement. For example, \"raise ValueError('Invalid argument')\" will raise a ValueError with the message \"Invalid argument\".\n",
        "- Let an error occur naturally: Many errors in Python, such as division by zero or attempting to access an undefined variable, will naturally raise an exception without the need for explicit handling.\n",
        "\n",
        "Q5. Two methods for specifying actions to be executed at termination time, regardless of whether or not an exception exists, are:\n",
        "\n",
        "- The \"finally\" clause: The \"finally\" clause in a try-except block can be used to specify code that should be executed regardless of whether or not an exception occurs. For example, the following code will always close the file, even if an exception occurs during file I/O:\n",
        "\n",
        "```\n",
        "try:\n",
        "    file = open('file.txt', 'r')\n",
        "    # Perform file operations\n",
        "except IOError:\n",
        "    print('Error reading file')\n",
        "finally:\n",
        "    file.close()\n",
        "```\n",
        "\n",
        "- The \"atexit\" module: The \"atexit\" module in Python provides a way to register functions to be executed when a program is terminated, either normally or due to an unhandled exception. For example, the following code will always print a message when the program terminates:\n",
        "\n",
        "```\n",
        "import atexit\n",
        "\n",
        "def exit_handler():\n",
        "    print('Exiting program')\n",
        "\n",
        "atexit.register(exit_handler)\n",
        "```"
      ],
      "metadata": {
        "id": "K19mKqFCUl4z"
      }
    }
  ]
}