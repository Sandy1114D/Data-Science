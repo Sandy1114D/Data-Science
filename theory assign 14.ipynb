{
  "nbformat": 4,
  "nbformat_minor": 0,
  "metadata": {
    "colab": {
      "provenance": []
    },
    "kernelspec": {
      "name": "python3",
      "display_name": "Python 3"
    },
    "language_info": {
      "name": "python"
    }
  },
  "cells": [
    {
      "cell_type": "markdown",
      "source": [
        "1. What does RGBA stand for?\n",
        "2. From the Pillow module, how do you get the RGBA value of any images?\n",
        "3. What is a box tuple, and how does it work?\n",
        "4. Use your image and load in notebook then, How can you find out the width and height of an\n",
        "Image object?\n",
        "5. What method would you call to get Image object for a 100×100 image, excluding the lower-left\n",
        "quarter of it?\n",
        "6. After making changes to an Image object, how could you save it as an image file?\n",
        "7. What module contains Pillow’s shape-drawing code?\n",
        "8. Image objects do not have drawing methods. What kind of object does? How do you get this kind\n",
        "of object?"
      ],
      "metadata": {
        "id": "W5mrKKI5y3Wd"
      }
    },
    {
      "cell_type": "markdown",
      "source": [
        "## **ANS OF ABOVE QUESTIONS ARE AS FOLLOWS**"
      ],
      "metadata": {
        "id": "iAHOY2efy47f"
      }
    },
    {
      "cell_type": "markdown",
      "source": [
        "1. RGBA stands for Red Green Blue Alpha, which refers to the color model that includes an additional alpha channel for transparency information.\n",
        "2. To get the RGBA value of an image using the Pillow module, you can use the `getpixel()` method. For example, if `img` is the Image object, you can get the RGBA value of a pixel at location `(x,y)` using `img.getpixel((x,y))`.\n",
        "3. In Pillow, a box tuple is a tuple of four integers that defines the left, upper, right, and lower pixel coordinates of a rectangular region. The format of the tuple is `(left, upper, right, lower)`. For example, `(0, 0, 100, 100)` would define a box that starts at the upper-left corner of the image and has a width and height of 100 pixels.\n",
        "4. To find out the width and height of an Image object, you can use the `size` attribute. For example, if `img` is the Image object, you can get the width and height using `img.size`, which will return a tuple of the form `(width, height)`.\n",
        "5. To get an Image object for a 100x100 image excluding the lower-left quarter of it, you can use the `crop()` method. For example, if `img` is the Image object, you can get the desired image using `img.crop((0, 0, 50, 50))` which will create a new image object that starts at the upper-left corner and extends to halfway across the width and height.\n",
        "6. After making changes to an Image object, you can save it as an image file using the `save()` method. For example, if `img` is the modified Image object, you can save it as a PNG file named `output.png` using `img.save(\"output.png\")`.\n",
        "7. The Pillow module's shape-drawing code is contained in the `ImageDraw` module.\n",
        "8. ImageDraw objects have drawing methods, such as `line()`, `rectangle()`, `ellipse()`, etc. To get an ImageDraw object, you can use the `ImageDraw.Draw()` method, passing in the Image object you want to draw on. For example, if `img` is the Image object, you can create an ImageDraw object using `draw = ImageDraw.Draw(img)`."
      ],
      "metadata": {
        "id": "dCsgcrDQy_Oz"
      }
    }
  ]
}