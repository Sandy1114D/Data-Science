{
  "nbformat": 4,
  "nbformat_minor": 0,
  "metadata": {
    "colab": {
      "provenance": []
    },
    "kernelspec": {
      "name": "python3",
      "display_name": "Python 3"
    },
    "language_info": {
      "name": "python"
    }
  },
  "cells": [
    {
      "cell_type": "markdown",
      "source": [
        "Question1\n",
        "Create a function that takes a list of strings and integers, and filters out the list so that it\n",
        "returns a list of integers only.\n",
        "Examples\n",
        "filter_list([1, 2, 3, &quot;a&quot;, &quot;b&quot;, 4]) ➞ [1, 2, 3, 4]\n",
        "filter_list([&quot;A&quot;, 0, &quot;Edabit&quot;, 1729, &quot;Python&quot;, &quot;1729&quot;]) ➞ [0, 1729]\n",
        "filter_list([&quot;Nothing&quot;, &quot;here&quot;]) ➞ []\n",
        "\n",
        "Question2\n",
        "Given a list of numbers, create a function which returns the list but with each element&#39;s\n",
        "index in the list added to itself. This means you add 0 to the number at index 0, add 1 to the\n",
        "number at index 1, etc...\n",
        "Examples\n",
        "add_indexes([0, 0, 0, 0, 0]) ➞ [0, 1, 2, 3, 4]\n",
        "add_indexes([1, 2, 3, 4, 5]) ➞ [1, 3, 5, 7, 9]\n",
        "add_indexes([5, 4, 3, 2, 1]) ➞ [5, 5, 5, 5, 5]\n",
        "\n",
        "Question3\n",
        "Create a function that takes the height and radius of a cone as arguments and returns the\n",
        "volume of the cone rounded to the nearest hundredth. See the resources tab for the formula.\n",
        "\n",
        "Examples\n",
        "cone_volume(3, 2) ➞ 12.57\n",
        "\n",
        "cone_volume(15, 6) ➞ 565.49\n",
        "cone_volume(18, 0) ➞ 0\n",
        "\n",
        "Question4\n",
        "This Triangular Number Sequence is generated from a pattern of dots that form a triangle.\n",
        "The first 5 numbers of the sequence, or dots, are:\n",
        "1, 3, 6, 10, 15\n",
        "This means that the first triangle has just one dot, the second one has three dots, the third one\n",
        "has 6 dots and so on.\n",
        "Write a function that gives the number of dots with its corresponding triangle number of the\n",
        "sequence.\n",
        "Examples\n",
        "triangle(1) ➞ 1\n",
        "triangle(6) ➞ 21\n",
        "triangle(215) ➞ 23220\n",
        "\n",
        "Question5\n",
        "Create a function that takes a list of numbers between 1 and 10 (excluding one number) and\n",
        "returns the missing number.\n",
        "Examples\n",
        "missing_num([1, 2, 3, 4, 6, 7, 8, 9, 10]) ➞ 5\n",
        "missing_num([7, 2, 3, 6, 5, 9, 1, 4, 8]) ➞ 10\n",
        "missing_num([10, 5, 1, 2, 4, 6, 8, 3, 9]) ➞ 7"
      ],
      "metadata": {
        "id": "2C4rtLDmaaZi"
      }
    },
    {
      "cell_type": "code",
      "source": [
        "def filter_list(lst):\n",
        "    return [i for i in lst if type(i) == int]\n",
        "\n",
        "lst = input(\"Enter a list of strings and integers: \").split()\n",
        "lst = [int(i) if i.isdigit() else i for i in lst]\n",
        "print(filter_list(lst))\n"
      ],
      "metadata": {
        "colab": {
          "base_uri": "https://localhost:8080/"
        },
        "id": "e-kkMlYBafMY",
        "outputId": "904e4022-5b85-4809-e218-117b454c1620"
      },
      "execution_count": 2,
      "outputs": [
        {
          "output_type": "stream",
          "name": "stdout",
          "text": [
            "Enter a list of strings and integers: 1,2,3,a,4\n",
            "[]\n"
          ]
        }
      ]
    },
    {
      "cell_type": "code",
      "source": [
        "def add_indexes(lst):\n",
        "    return [i+lst[i] for i in range(len(lst))]\n",
        "\n",
        "lst = input(\"Enter a list of numbers: \").split()\n",
        "lst = [int(i) for i in lst]\n",
        "print(add_indexes(lst))\n"
      ],
      "metadata": {
        "colab": {
          "base_uri": "https://localhost:8080/"
        },
        "id": "hatrFHZJf4lq",
        "outputId": "66a9d62e-256b-4b24-d4a7-4d28c9c21a68"
      },
      "execution_count": 6,
      "outputs": [
        {
          "output_type": "stream",
          "name": "stdout",
          "text": [
            "Enter a list of numbers: 0 0 0 0 0 \n",
            "[0, 1, 2, 3, 4]\n"
          ]
        }
      ]
    },
    {
      "cell_type": "code",
      "source": [
        "import math\n",
        "\n",
        "def cone_volume(height, radius):\n",
        "    return round(math.pi * radius**2 * height / 3, 2)\n",
        "\n",
        "height = float(input(\"Enter the height of the cone: \"))\n",
        "radius = float(input(\"Enter the radius of the cone: \"))\n",
        "print(cone_volume(height, radius))\n"
      ],
      "metadata": {
        "colab": {
          "base_uri": "https://localhost:8080/"
        },
        "id": "v08TIj9ngdyS",
        "outputId": "b1bfd4b8-4fa9-4da0-ae92-aeb822fc95d9"
      },
      "execution_count": 7,
      "outputs": [
        {
          "output_type": "stream",
          "name": "stdout",
          "text": [
            "Enter the height of the cone: 12\n",
            "Enter the radius of the cone: 3\n",
            "113.1\n"
          ]
        }
      ]
    },
    {
      "cell_type": "code",
      "source": [
        "def triangle(n):\n",
        "    return n*(n+1)//2\n",
        "\n",
        "n = int(input(\"Enter a number: \"))\n",
        "print(triangle(n))\n"
      ],
      "metadata": {
        "colab": {
          "base_uri": "https://localhost:8080/"
        },
        "id": "s7Q-6TUCgl7z",
        "outputId": "0f3f58f0-e631-448b-d748-798931c5b7e5"
      },
      "execution_count": 8,
      "outputs": [
        {
          "output_type": "stream",
          "name": "stdout",
          "text": [
            "Enter a number: 3\n",
            "6\n"
          ]
        }
      ]
    },
    {
      "cell_type": "code",
      "source": [
        "def missing_num(lst):\n",
        "    return sum(range(1,11)) - sum(lst)\n",
        "\n",
        "lst = input(\"Enter a list of numbers between 1 and 10 (excluding one number): \").split()\n",
        "lst = [int(i) for i in lst]\n",
        "print(missing_num(lst))\n"
      ],
      "metadata": {
        "colab": {
          "base_uri": "https://localhost:8080/"
        },
        "id": "RP2OHLgagtpG",
        "outputId": "c8c33e5a-3a63-4a0a-d335-e8998aa9fd47"
      },
      "execution_count": 9,
      "outputs": [
        {
          "output_type": "stream",
          "name": "stdout",
          "text": [
            "Enter a list of numbers between 1 and 10 (excluding one number): 2 3 4 5 6 7 8 9 \n",
            "11\n"
          ]
        }
      ]
    }
  ]
}