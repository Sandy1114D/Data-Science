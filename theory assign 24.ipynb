{
  "nbformat": 4,
  "nbformat_minor": 0,
  "metadata": {
    "colab": {
      "provenance": []
    },
    "kernelspec": {
      "name": "python3",
      "display_name": "Python 3"
    },
    "language_info": {
      "name": "python"
    }
  },
  "cells": [
    {
      "cell_type": "markdown",
      "source": [
        "1. What is the relationship between def statements and lambda expressions ?\n",
        "2. What is the benefit of lambda?\n",
        "3. Compare and contrast map, filter, and reduce.\n",
        "4. What are function annotations, and how are they used?\n",
        "5. What are recursive functions, and how are they used?\n",
        "6. What are some general design guidelines for coding functions?\n",
        "7. Name three or more ways that functions can communicate results to a caller."
      ],
      "metadata": {
        "id": "UXuxaYpD8aq3"
      }
    },
    {
      "cell_type": "markdown",
      "source": [
        "## **ANS OF ABOVE QUESTIONS ARE AS FOLLOWS**"
      ],
      "metadata": {
        "id": "bgp84JXl8gRF"
      }
    },
    {
      "cell_type": "markdown",
      "source": [
        "1. The main difference between def statements and lambda expressions is that def statements are used to create function objects that can be called later, while lambda expressions create anonymous function objects that are immediately evaluated and returned. Lambda expressions are typically used for small, one-time-use functions, while def statements are used for more complex or reusable functions.\n",
        "\n",
        "2. The benefit of lambda is that it allows you to create simple, anonymous functions on the fly. This can be useful for functions that only need to be used once, or for creating simple, inline functions that are easy to read and understand.\n",
        "\n",
        "3. Map, filter, and reduce are all functions that operate on sequences (lists, tuples, etc.) and return new sequences or scalar values. Map applies a given function to each element of a sequence and returns a new sequence with the results. Filter returns a new sequence containing only the elements of the input sequence that satisfy a given predicate function. Reduce applies a given function to the elements of a sequence to produce a single result.\n",
        "\n",
        "4. Function annotations are a feature added in Python 3 that allow you to attach metadata to function arguments and return values. They are used to specify the expected types and/or meanings of the arguments and return values, and can be used by static type checkers or other tools to verify that the function is being used correctly.\n",
        "\n",
        "5. Recursive functions are functions that call themselves, either directly or indirectly. They are typically used for problems that can be broken down into smaller sub-problems that are similar to the original problem, and can be solved by combining the solutions to the sub-problems. Recursive functions can be a powerful tool for solving complex problems, but they can also be tricky to implement correctly and can lead to performance issues if not used carefully.\n",
        "\n",
        "6. Some general design guidelines for coding functions include making them simple and easy to read, minimizing the use of global variables, avoiding side effects, and following a consistent naming and documentation convention. Functions should also be modular and reusable, so that they can be easily combined with other functions to build more complex programs.\n",
        "\n",
        "7. Functions can communicate results to a caller in a number of ways, including returning a value using the return statement, modifying mutable objects passed as arguments, raising exceptions to indicate errors or special conditions, printing output to the console, or writing results to a file or database. The choice of method depends on the nature of the function and the needs of the caller."
      ],
      "metadata": {
        "id": "-CZKSLh68miX"
      }
    }
  ]
}