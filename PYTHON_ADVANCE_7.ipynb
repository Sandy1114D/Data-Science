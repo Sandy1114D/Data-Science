{
  "nbformat": 4,
  "nbformat_minor": 0,
  "metadata": {
    "colab": {
      "provenance": []
    },
    "kernelspec": {
      "name": "python3",
      "display_name": "Python 3"
    },
    "language_info": {
      "name": "python"
    }
  },
  "cells": [
    {
      "cell_type": "markdown",
      "source": [
        "Q1. What is the purpose of the try statement?\n",
        "\n",
        "Q2. What are the two most popular try statement variations?\n",
        "\n",
        "Q3. What is the purpose of the raise statement?\n",
        "\n",
        "Q4. What does the assert statement do, and what other statement is it like?\n",
        "\n",
        "Q5. What is the purpose of the with/as argument, and what other statement is it like?"
      ],
      "metadata": {
        "id": "8txefHgfU7UV"
      }
    },
    {
      "cell_type": "markdown",
      "source": [
        "## **ANS OF ABOVE QUESTIONS ARE AS FOLLOW**"
      ],
      "metadata": {
        "id": "P6SMYz97VAWw"
      }
    },
    {
      "cell_type": "markdown",
      "source": [
        "Q1. The purpose of the `try` statement in Python is to catch and handle exceptions that might occur during the execution of a program.\n",
        "\n",
        "Q2. The two most popular `try` statement variations are:\n",
        "\n",
        "- `try`/`except`/`else`: This variant allows you to catch and handle specific exceptions and execute some code if no exception is raised.\n",
        "- `try`/`finally`: This variant is used to specify cleanup actions that must be performed regardless of whether an exception was raised or not.\n",
        "\n",
        "Q3. The `raise` statement in Python is used to raise an exception explicitly. It allows you to specify the type of exception and the associated error message.\n",
        "\n",
        "Q4. The `assert` statement in Python is used to check whether a given condition is true or not. If the condition is false, an `AssertionError` is raised. It is similar to the `if` statement, but it is used for debugging purposes.\n",
        "\n",
        "Q5. The `with/as` statement in Python is used to create a context in which a specific resource is used. It is similar to the `try`/`finally` statement, but it provides a cleaner and more concise syntax. The `with/as` statement ensures that the resource is properly initialized and cleaned up, even if an exception is raised during its use."
      ],
      "metadata": {
        "id": "xtT-DgRwVF7p"
      }
    }
  ]
}