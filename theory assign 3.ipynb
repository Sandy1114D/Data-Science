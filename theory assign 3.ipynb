{
  "nbformat": 4,
  "nbformat_minor": 0,
  "metadata": {
    "colab": {
      "provenance": []
    },
    "kernelspec": {
      "name": "python3",
      "display_name": "Python 3"
    },
    "language_info": {
      "name": "python"
    }
  },
  "cells": [
    {
      "cell_type": "markdown",
      "source": [
        "1. Why are functions advantageous to have in your programs?\n",
        "2. When does the code in a function run: when it&#39;s specified or when it&#39;s called?\n",
        "3. What statement creates a function?\n",
        "4. What is the difference between a function and a function call?\n",
        "5. How many global scopes are there in a Python program? How many local scopes?\n",
        "6. What happens to variables in a local scope when the function call returns?\n",
        "7. What is the concept of a return value? Is it possible to have a return value in an expression?\n",
        "8. If a function does not have a return statement, what is the return value of a call to that function?\n",
        "9. How do you make a function variable refer to the global variable?\n",
        "10. What is the data type of None?\n",
        "11. What does the sentence import areallyourpetsnamederic do?\n",
        "12. If you had a bacon() feature in a spam module, what would you call it after importing spam?\n",
        "13. What can you do to save a programme from crashing if it encounters an error?\n",
        "14. What is the purpose of the try clause? What is the purpose of the except clause?"
      ],
      "metadata": {
        "id": "WDTsh14kY_LR"
      }
    },
    {
      "cell_type": "markdown",
      "source": [
        "1. Functions are advantageous in programs because they allow code to be modular and reusable. Instead of duplicating code throughout a program, a function can be defined once and then called multiple times with different inputs. This makes programs easier to write, read, and maintain.\n",
        "\n",
        "2. The code in a function runs when it is called, not when it is specified.\n",
        "\n",
        "3. The def statement creates a function in Python.\n",
        "\n",
        "4. A function is a block of code that performs a specific task, while a function call is the code that tells the program to execute the function with specific arguments.\n",
        "\n",
        "5. There is only one global scope in a Python program, but there can be multiple local scopes depending on how many functions are defined.\n",
        "\n",
        "6. When a function call returns, the local variables in that function are destroyed and their values are lost.\n",
        "\n",
        "7. A return value is the value that a function sends back to the code that called it. It is possible to have a return value in an expression.\n",
        "\n",
        "8. If a function does not have a return statement, the return value of a call to that function is None.\n",
        "\n",
        "9. To make a function variable refer to the global variable, the `global` keyword can be used inside the function before the variable is referenced or assigned.\n",
        "\n",
        "10. The data type of None is `NoneType`.\n",
        "\n",
        "11. The sentence `import areallyourpetsnamederic` is not a valid Python statement and would result in a syntax error.\n",
        "\n",
        "12. If there is a `bacon()` feature in a `spam` module, it would be called using the syntax `spam.bacon()` after importing the `spam` module.\n",
        "\n",
        "13. To save a program from crashing if it encounters an error, you can use error handling techniques such as try-except blocks to catch and handle exceptions.\n",
        "\n",
        "14. The purpose of the `try` clause is to enclose code that might raise an exception. The purpose of the `except` clause is to define a block of code that will execute if an exception is raised within the `try` block."
      ],
      "metadata": {
        "id": "1B2G3599Y_a0"
      }
    }
  ]
}