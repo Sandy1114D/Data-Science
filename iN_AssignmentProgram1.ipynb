{
 "cells": [
  {
   "cell_type": "code",
   "execution_count": null,
   "metadata": {},
   "outputs": [],
   "source": [
    "1. Write a Python program to print \"Hello Python\" ?\n",
    "2. Write a Python program to do arithmetical operations addition and division.?\n",
    "3. Write a Python program to find the area of a triangle?\n",
    "4. Write a Python program to swap two variables?\n",
    "5. Write a Python program to generate a random number?"
   ]
  },
  {
   "cell_type": "code",
   "execution_count": 9,
   "metadata": {},
   "outputs": [
    {
     "name": "stdout",
     "output_type": "stream",
     "text": [
      "Hello  Python\n"
     ]
    }
   ],
   "source": [
    "#-->1]\n",
    "print(\"Hello  Python\")"
   ]
  },
  {
   "cell_type": "code",
   "execution_count": 5,
   "metadata": {},
   "outputs": [
    {
     "name": "stdout",
     "output_type": "stream",
     "text": [
      "Addition is : 5 + 5 = 10\n",
      "Division is : 5 / 5 = 1.0\n"
     ]
    }
   ],
   "source": [
    "#-->2]\n",
    "a=int(input(\"Enter First Number :\"))\n",
    "b=int(input(\"Enter Second Number :\"))\n",
    "print(f\"Addition is : {a} + {b} = {a+b}\") \n",
    "print(f\"Division is : {a} / {b} = {a/b}\") "
   ]
  },
  {
   "cell_type": "code",
   "execution_count": 10,
   "metadata": {},
   "outputs": [
    {
     "name": "stdout",
     "output_type": "stream",
     "text": [
      "Area of triangle is : 12.5\n"
     ]
    }
   ],
   "source": [
    "#-->3]\n",
    "h=int(input(\"Enter Height of Triangle :\"))\n",
    "b=int(input(\"Enter Base of Triangle\"))\n",
    "print(f\"Area of triangle is : {(1/2)*b*h}\")"
   ]
  },
  {
   "cell_type": "code",
   "execution_count": 13,
   "metadata": {},
   "outputs": [
    {
     "name": "stdout",
     "output_type": "stream",
     "text": [
      "After Swapping : \n",
      "20\n",
      "10\n"
     ]
    }
   ],
   "source": [
    "#-->4]\n",
    "a=10\n",
    "b=20\n",
    "a,b=b,a\n",
    "print(\"After Swapping : \")\n",
    "print(a)\n",
    "print(b)"
   ]
  },
  {
   "cell_type": "code",
   "execution_count": 18,
   "metadata": {},
   "outputs": [
    {
     "name": "stdout",
     "output_type": "stream",
     "text": [
      "5\n"
     ]
    }
   ],
   "source": [
    "#-->5]\n",
    "import random\n",
    "print(random.randint(0,9))"
   ]
  }
 ],
 "metadata": {
  "kernelspec": {
   "display_name": "Python 3.10.1 64-bit",
   "language": "python",
   "name": "python3"
  },
  "language_info": {
   "codemirror_mode": {
    "name": "ipython",
    "version": 3
   },
   "file_extension": ".py",
   "mimetype": "text/x-python",
   "name": "python",
   "nbconvert_exporter": "python",
   "pygments_lexer": "ipython3",
   "version": "3.10.1"
  },
  "orig_nbformat": 4,
  "vscode": {
   "interpreter": {
    "hash": "27f6fea6f47ae512550f0b8facdbd035a93e1dd89633f7bf2dd00a2502c71d0d"
   }
  }
 },
 "nbformat": 4,
 "nbformat_minor": 2
}
