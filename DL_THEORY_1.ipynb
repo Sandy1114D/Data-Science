{
  "nbformat": 4,
  "nbformat_minor": 0,
  "metadata": {
    "colab": {
      "provenance": []
    },
    "kernelspec": {
      "name": "python3",
      "display_name": "Python 3"
    },
    "language_info": {
      "name": "python"
    }
  },
  "cells": [
    {
      "cell_type": "markdown",
      "source": [
        "1. What is the function of a summation junction of a neuron? What is threshold activation\n",
        "function?\n",
        "2. What is a step function? What is the difference of step function with threshold function?\n",
        "3. Explain the McCulloch–Pitts model of neuron.\n",
        "4. Explain the ADALINE network model.\n",
        "5. What is the constraint of a simple perceptron? Why it may fail with a real-world data set?\n",
        "6. What is linearly inseparable problem? What is the role of the hidden layer?\n",
        "7. Explain XOR problem in case of a simple perceptron.\n",
        "8. Design a multi-layer perceptron to implement A XOR B.\n",
        "9. Explain the single-layer feed forward architecture of ANN.\n",
        "10. Explain the competitive network architecture of ANN.\n",
        "11. Consider a multi-layer feed forward neural network. Enumerate and explain steps in the\n",
        "backpropagation algorithm used to train the network.\n",
        "12. What are the advantages and disadvantages of neural networks?\n",
        "13. Write short notes on any two of the following:\n",
        "\n",
        "1. Biological neuron\n",
        "2. ReLU function\n",
        "3. Single-layer feed forward ANN\n",
        "4. Gradient descent\n",
        "5. Recurrent networks"
      ],
      "metadata": {
        "id": "pFVr5RWp4L24"
      }
    },
    {
      "cell_type": "markdown",
      "source": [
        "## **ANS OF ABOVE QUESTIONS ARE AS FOLLOW**"
      ],
      "metadata": {
        "id": "Dl2YiUGs4TIw"
      }
    },
    {
      "cell_type": "markdown",
      "source": [
        "\n",
        "\n",
        "1. The summation junction of a neuron adds up the weighted inputs from the previous layer or input layer. The threshold activation function is a non-linear function that is used to determine if the neuron should fire or not based on the sum of the inputs received. If the sum of the inputs is greater than or equal to a certain threshold value, the neuron will fire, otherwise, it will remain inactive.\n",
        "\n",
        "2. A step function is a simple activation function that maps any input value to either 0 or 1. The difference between a step function and a threshold function is that a threshold function can have any output value between 0 and 1 depending on the input, whereas a step function has only two possible output values.\n",
        "\n",
        "3. The McCulloch-Pitts model of neuron is a simplified mathematical model of a biological neuron that takes multiple inputs, sums them up, and outputs a binary value based on whether the sum exceeds a certain threshold or not. It uses a step function as the activation function.\n",
        "\n",
        "4. ADALINE (Adaptive Linear Neuron) is a neural network model that uses a linear activation function and an adaptive weight update rule based on the difference between the network output and the desired output. It is used for linear regression problems.\n",
        "\n",
        "5. The constraint of a simple perceptron is that it can only learn linearly separable problems. It may fail with real-world data sets that are not linearly separable because it cannot model complex decision boundaries.\n",
        "\n",
        "6. A linearly inseparable problem is a classification problem where the classes cannot be separated by a single straight line or hyperplane. The role of the hidden layer in a neural network is to create non-linear decision boundaries that can separate the classes.\n",
        "\n",
        "7. XOR problem is a classic example of a problem that a simple perceptron cannot solve. The XOR function has inputs A and B, and the output is 1 only if either A or B is 1, but not both. A simple perceptron cannot learn the XOR function because it is not linearly separable.\n",
        "\n",
        "8. A multi-layer perceptron with one hidden layer can implement the XOR function. The input layer has two neurons for A and B, the hidden layer has two neurons, and the output layer has one neuron. The activation function used in the hidden layer is usually the sigmoid function.\n",
        "\n",
        "9. The single-layer feedforward architecture of an artificial neural network (ANN) has one input layer, one output layer, and no hidden layers. Each neuron in the output layer is connected to every neuron in the input layer, and the network output is computed as a weighted sum of the input values.\n",
        "\n",
        "10. The competitive network architecture of an ANN is used for clustering and feature extraction. It consists of a single layer of neurons that compete with each other to become active based on the input. Only one neuron is active at a time, and the winner represents the output of the network.\n",
        "\n",
        "11. The backpropagation algorithm is used to train a multi-layer feedforward neural network. The steps are as follows:\n",
        "\n",
        "- Forward pass: compute the output of the network for a given input.\n",
        "- Compute the error between the network output and the desired output.\n",
        "- Backward pass: propagate the error backwards through the network, computing the gradient of the error with respect to the weights and biases.\n",
        "- Update the weights and biases using the gradient descent algorithm.\n",
        "\n",
        "12. The advantages of neural networks include their ability to model complex, non-linear relationships and their ability to learn from data. The disadvantages include their tendency to overfit the training data, their black-box nature, and the difficulty of interpreting the learned representations.\n",
        "\n",
        "13. \n",
        "\n",
        "- Biological neuron: A biological neuron is the basic building block of the nervous system in animals. It consists of a cell body, dendrites, and an axon"
      ],
      "metadata": {
        "id": "GufhUGOX4ZV2"
      }
    }
  ]
}