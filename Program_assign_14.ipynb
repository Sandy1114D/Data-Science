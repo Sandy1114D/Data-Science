{
  "nbformat": 4,
  "nbformat_minor": 0,
  "metadata": {
    "colab": {
      "provenance": []
    },
    "kernelspec": {
      "name": "python3",
      "display_name": "Python 3"
    },
    "language_info": {
      "name": "python"
    }
  },
  "cells": [
    {
      "cell_type": "markdown",
      "source": [
        "Question 1:\n",
        "Define a class with a generator which can iterate the numbers, which are divisible by\n",
        "7, between a given range 0 and n.\n",
        "\n",
        "Question 2:\n",
        "Write a program to compute the frequency of the words from the input. The output\n",
        "should output after sorting the key alphanumerically.\n",
        "Suppose the following input is supplied to the program:\n",
        "New to Python or choosing between Python 2 and Python 3? Read Python 2 or\n",
        "Python 3.\n",
        "Then, the output should be:\n",
        "2:2\n",
        "3.:1\n",
        "3?:1\n",
        "New:1\n",
        "Python:5\n",
        "Read:1\n",
        "and:1\n",
        "between:1\n",
        "choosing:1\n",
        "or:2\n",
        "to:1\n",
        "\n",
        "Question 3:\n",
        "\n",
        "Define a class Person and its two child classes: Male and Female. All classes have a\n",
        "method &quot;getGender&quot; which can print &quot;Male&quot; for Male class and &quot;Female&quot; for Female\n",
        "class.\n",
        "\n",
        "Question 4:\n",
        "Please write a program to generate all sentences where subject is in [&quot;I&quot;, &quot;You&quot;] and\n",
        "verb is in [&quot;Play&quot;, &quot;Love&quot;] and the object is in [&quot;Hockey&quot;,&quot;Football&quot;].\n",
        "\n",
        "Question 5:\n",
        "Please write a program to compress and decompress the string &quot;hello world!hello\n",
        "world!hello world!hello world!&quot;.\n",
        "\n",
        "Question 6:\n",
        "Please write a binary search function which searches an item in a sorted list. The\n",
        "function should return the index of element to be searched in the list."
      ],
      "metadata": {
        "id": "1S0rBR2UIZRj"
      }
    },
    {
      "cell_type": "code",
      "source": [
        "class DivisibleBySeven:\n",
        "    def __init__(self, n):\n",
        "        self.n = n\n",
        "    \n",
        "    def generate(self):\n",
        "        for i in range(self.n):\n",
        "            if i % 7 == 0:\n",
        "                yield i\n",
        "\n",
        "n = int(input(\"Enter the upper limit: \"))\n",
        "divisible_by_seven = DivisibleBySeven(n)\n",
        "result = []\n",
        "for num in divisible_by_seven.generate():\n",
        "    result.append(num)\n",
        "print(result)\n"
      ],
      "metadata": {
        "colab": {
          "base_uri": "https://localhost:8080/"
        },
        "id": "3o7VMQEWIhoq",
        "outputId": "9bdb0fd6-8c86-4e94-b7d9-45d30d035423"
      },
      "execution_count": 1,
      "outputs": [
        {
          "output_type": "stream",
          "name": "stdout",
          "text": [
            "Enter the upper limit: 12\n",
            "[0, 7]\n"
          ]
        }
      ]
    },
    {
      "cell_type": "code",
      "source": [
        "from collections import defaultdict\n",
        "\n",
        "word_freq = defaultdict(int)\n",
        "input_str = input(\"Enter the string: \")\n",
        "for word in input_str.split():\n",
        "    word_freq[word] += 1\n",
        "\n",
        "for word in sorted(word_freq):\n",
        "    print(f\"{word}:{word_freq[word]}\")\n"
      ],
      "metadata": {
        "colab": {
          "base_uri": "https://localhost:8080/"
        },
        "id": "ebFCkFlvIsSc",
        "outputId": "a1014a0a-1c8b-4401-e7d2-02b88fbff223"
      },
      "execution_count": 2,
      "outputs": [
        {
          "output_type": "stream",
          "name": "stdout",
          "text": [
            "Enter the string: sanket\n",
            "sanket:1\n"
          ]
        }
      ]
    },
    {
      "cell_type": "code",
      "source": [
        "class Person:\n",
        "    def getGender(self):\n",
        "        return \"Unknown\"\n",
        "\n",
        "class Male(Person):\n",
        "    def getGender(self):\n",
        "        return \"Male\"\n",
        "\n",
        "class Female(Person):\n",
        "    def getGender(self):\n",
        "        return \"Female\"\n",
        "\n",
        "gender = input(\"Enter gender (M/F): \")\n",
        "if gender == \"M\":\n",
        "    person = Male()\n",
        "elif gender == \"F\":\n",
        "    person = Female()\n",
        "else:\n",
        "    person = Person()\n",
        "\n",
        "print(person.getGender())\n"
      ],
      "metadata": {
        "colab": {
          "base_uri": "https://localhost:8080/"
        },
        "id": "mk4ny1SpI55I",
        "outputId": "9d56d66f-71f6-430b-9e0f-cf7990486d03"
      },
      "execution_count": 3,
      "outputs": [
        {
          "output_type": "stream",
          "name": "stdout",
          "text": [
            "Enter gender (M/F): M\n",
            "Male\n"
          ]
        }
      ]
    },
    {
      "cell_type": "code",
      "source": [
        "subjects = [\"I\", \"You\"]\n",
        "verbs = [\"Play\", \"Love\"]\n",
        "objects = [\"Hockey\", \"Football\"]\n",
        "\n",
        "sentences = []\n",
        "for subject in subjects:\n",
        "    for verb in verbs:\n",
        "        for obj in objects:\n",
        "            sentence = f\"{subject} {verb} {obj}.\"\n",
        "            sentences.append(sentence)\n",
        "\n",
        "print(sentences)\n"
      ],
      "metadata": {
        "colab": {
          "base_uri": "https://localhost:8080/"
        },
        "id": "JKvnIAU2JA56",
        "outputId": "5b7e27fa-5cd8-4af7-f2a3-e05fc4ed591d"
      },
      "execution_count": 4,
      "outputs": [
        {
          "output_type": "stream",
          "name": "stdout",
          "text": [
            "['I Play Hockey.', 'I Play Football.', 'I Love Hockey.', 'I Love Football.', 'You Play Hockey.', 'You Play Football.', 'You Love Hockey.', 'You Love Football.']\n"
          ]
        }
      ]
    },
    {
      "cell_type": "code",
      "source": [
        "import zlib\n",
        "\n",
        "input_str = input(\"Enter the string: \")\n",
        "compressed_str = zlib.compress(input_str.encode())\n",
        "print(f\"Compressed string: {compressed_str}\")\n",
        "decompressed_str = zlib.decompress(compressed_str).decode()\n",
        "print(f\"Decompressed string: {decompressed_str}\")\n"
      ],
      "metadata": {
        "colab": {
          "base_uri": "https://localhost:8080/"
        },
        "id": "Y9vhK3oEJF5M",
        "outputId": "28877a7b-47ed-417c-c689-c3800c6794db"
      },
      "execution_count": 6,
      "outputs": [
        {
          "output_type": "stream",
          "name": "stdout",
          "text": [
            "Enter the string: \"HELLO WORLD!\"\n",
            "Compressed string: b'x\\x9cS\\xf2p\\xf5\\xf1\\xf1W\\x08\\xf7\\x0f\\xf2qQT\\x02\\x00\\x1b\\x06\\x03\\x82'\n",
            "Decompressed string: \"HELLO WORLD!\"\n"
          ]
        }
      ]
    },
    {
      "cell_type": "code",
      "source": [
        "def binary_search(arr, x):\n",
        "    start = 0\n",
        "    end = len(arr) - 1\n",
        "\n",
        "    while start <= end:\n",
        "        mid = (start + end) // 2\n",
        "        if arr[mid] == x:\n",
        "            return mid\n",
        "        elif arr[mid] < x:\n",
        "            start = mid + 1\n",
        "        else:\n",
        "            end = mid - 1\n",
        "\n",
        "    return -1\n",
        "\n",
        "arr = [int(x) for x in input(\"Enter the sorted list of numbers: \").split()]\n",
        "x = int(input(\"Enter the number to search: \"))\n",
        "index = binary_search(arr, x)\n",
        "if index == -1:\n",
        "    print(\"Number not found in the list\")\n",
        "else:\n",
        "    print(f\"Number found at index {index}\")\n"
      ],
      "metadata": {
        "colab": {
          "base_uri": "https://localhost:8080/"
        },
        "id": "VzsU9lqSJvBa",
        "outputId": "fc0bbd86-c01d-4169-ad2e-0405e0782de3"
      },
      "execution_count": 8,
      "outputs": [
        {
          "output_type": "stream",
          "name": "stdout",
          "text": [
            "Enter the sorted list of numbers: 1\n",
            "Enter the number to search: 1\n",
            "Number found at index 0\n"
          ]
        }
      ]
    }
  ]
}