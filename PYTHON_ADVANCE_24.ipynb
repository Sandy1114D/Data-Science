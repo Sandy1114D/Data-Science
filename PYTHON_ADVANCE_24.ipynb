{
  "nbformat": 4,
  "nbformat_minor": 0,
  "metadata": {
    "colab": {
      "provenance": []
    },
    "kernelspec": {
      "name": "python3",
      "display_name": "Python 3"
    },
    "language_info": {
      "name": "python"
    }
  },
  "cells": [
    {
      "cell_type": "markdown",
      "source": [
        "Q1. Is it permissible to use several import statements to import the same module? What would the\n",
        "goal be? Can you think of a situation where it would be beneficial?\n",
        "\n",
        "Q2. What are some of a module&#39;s characteristics? (Name at least one.)\n",
        "\n",
        "Q3. Circular importing, such as when two modules import each other, can lead to dependencies and\n",
        "bugs that aren&#39;t visible. How can you go about creating a program that avoids mutual importing?\n",
        "\n",
        "Q4. Why is _ _all_ _ in Python?\n",
        "\n",
        "Q5. In what situation is it useful to refer to the _ _name_ _ attribute or the string &#39;_ _main_ _&#39;?\n",
        "\n",
        "Q6. What are some of the benefits of attaching a program counter to the RPN interpreter\n",
        "application, which interprets an RPN script line by line?\n",
        "\n",
        "Q7. What are the minimum expressions or statements (or both) that you&#39;d need to render a basic\n",
        "programming language like RPN primitive but complete— that is, capable of carrying out any\n",
        "computerised task theoretically possible?"
      ],
      "metadata": {
        "id": "GNBM4P4C0GDX"
      }
    },
    {
      "cell_type": "markdown",
      "source": [
        "## **ANS OF ABOVE QUESTIONS ARE AS FOLLOW**"
      ],
      "metadata": {
        "id": "jS7fx5jl0KS-"
      }
    },
    {
      "cell_type": "markdown",
      "source": [
        "Q1. Yes, it is permissible to use multiple import statements to import the same module. The goal may be to use different names for the module in different parts of the program or to import specific attributes or functions from the module.\n",
        "\n",
        "Q2. A module is a file containing Python definitions and statements. It can define functions, classes, and variables, and can also include runnable code.\n",
        "\n",
        "Q3. One way to avoid circular importing is to reorganize the modules so that the dependencies are one-way instead of mutual. Another approach is to use a third module that imports the other two modules in the correct order.\n",
        "\n",
        "Q4. The `__all__` variable in Python is used to specify the public interface of a module. It is a list of strings that specifies the names of the attributes that should be imported when a client imports the module using the `from module import *` syntax.\n",
        "\n",
        "Q5. The `__name__` attribute is a built-in variable in Python that is automatically set to the name of the current module. The string `'__main__'` is the name of the module that is executed as the main program. It is useful to refer to these attributes when writing a module that can be used both as a standalone program and as a library module.\n",
        "\n",
        "Q6. Attaching a program counter to the RPN interpreter application allows the interpreter to keep track of the current line of the script being executed. This can be useful for error reporting and debugging.\n",
        "\n",
        "Q7. To make a basic programming language like RPN primitive but complete, it would need to include the following minimum expressions or statements:\n",
        "\n",
        "- Arithmetic and logical operators (e.g., +, -, *, /, and, or, not)\n",
        "- Assignment statements (e.g., x = 10)\n",
        "- Control flow statements (e.g., if/else, while, for)\n",
        "- Input/output statements (e.g., print, input)\n",
        "- Function definitions and calls."
      ],
      "metadata": {
        "id": "GRsV2e7P0RE8"
      }
    }
  ]
}