{
  "nbformat": 4,
  "nbformat_minor": 0,
  "metadata": {
    "colab": {
      "provenance": []
    },
    "kernelspec": {
      "name": "python3",
      "display_name": "Python 3"
    },
    "language_info": {
      "name": "python"
    }
  },
  "cells": [
    {
      "cell_type": "markdown",
      "source": [
        "Q1. What is the meaning of multiple inheritance?\n",
        "\n",
        "Q2. What is the concept of delegation?\n",
        "\n",
        "Q3. What is the concept of composition?\n",
        "\n",
        "Q4. What are bound methods and how do we use them?\n",
        "\n",
        "Q5. What is the purpose of pseudoprivate attributes?"
      ],
      "metadata": {
        "id": "1Gnqz0vtTIHp"
      }
    },
    {
      "cell_type": "markdown",
      "source": [
        "## **ANS OF ABOVE QUESTIONS ARE AS FOLLOW**"
      ],
      "metadata": {
        "id": "zL87_vCvTL-6"
      }
    },
    {
      "cell_type": "markdown",
      "source": [
        "Q1. Multiple inheritance is a feature in object-oriented programming that allows a class to inherit attributes and methods from more than one parent class. This means that a subclass can have multiple direct superclasses, each contributing their own set of attributes and methods to the subclass. Multiple inheritance can be useful in cases where a class needs to exhibit behavior from multiple sources, but care must be taken to avoid conflicts and ambiguity in the inheritance hierarchy.\n",
        "\n",
        "Q2. Delegation is a design pattern in which an object forwards requests to another object to perform the actual behavior. This allows the first object to provide a high-level interface to clients while delegating responsibility for the low-level details to another object. Delegation can be used to achieve modularity, flexibility, and code reuse in object-oriented systems.\n",
        "\n",
        "Q3. Composition is a design pattern in which a class is composed of other objects, rather than inheriting from them. This allows the class to reuse existing functionality without creating complex and fragile inheritance hierarchies. Composition can be used to achieve modularity, flexibility, and code reuse in object-oriented systems.\n",
        "\n",
        "Q4. Bound methods are methods that are associated with a particular instance of a class. When a bound method is called, the instance is automatically passed as the first argument, which is typically named \"self\". Bound methods can be used to operate on the state of the instance, and they have access to the instance's attributes and methods. Bound methods are typically accessed through the instance, using dot notation.\n",
        "\n",
        "Q5. Pseudoprivate attributes are attributes in a Python class that are prefixed with two underscores, but do not end with two underscores. These attributes are treated as private by the Python interpreter, but are not truly private and can still be accessed from outside the class. Pseudoprivate attributes are useful for avoiding naming conflicts with subclasses or other classes that may use the same attribute names, and for indicating to other developers that the attribute should not be used directly. However, they should be used with caution, as they can lead to unexpected behavior if they are accessed incorrectly."
      ],
      "metadata": {
        "id": "w6NjNOV1TUZG"
      }
    }
  ]
}