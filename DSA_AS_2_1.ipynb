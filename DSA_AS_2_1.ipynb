{
  "nbformat": 4,
  "nbformat_minor": 0,
  "metadata": {
    "colab": {
      "provenance": []
    },
    "kernelspec": {
      "name": "python3",
      "display_name": "Python 3"
    },
    "language_info": {
      "name": "python"
    }
  },
  "cells": [
    {
      "cell_type": "markdown",
      "source": [
        "Question 1\n",
        "Given an integer array nums of 2n integers, group these integers into n pairs (a1, b1), (a2, b2),\n",
        "..., (an, bn) such that the sum of min(ai, bi) for all i is maximized. Return the maximized sum.\n",
        "Example 1:\n",
        "Input: nums = [1,4,3,2]\n",
        "Output: 4\n",
        "Explanation: All possible pairings (ignoring the ordering of elements) are:\n",
        "1. (1, 4), (2, 3) -> min(1, 4) + min(2, 3) = 1 + 2 = 3\n",
        "2. (1, 3), (2, 4) -> min(1, 3) + min(2, 4) = 1 + 2 = 3\n",
        "3. (1, 2), (3, 4) -> min(1, 2) + min(3, 4) = 1 + 3 = 4\n",
        "So the maximum possible sum is 4\n",
        "\n",
        "Question 2\n",
        "Alice has n candies, where the ith candy is of type candyType[i]. Alice noticed that she started\n",
        "to gain weight, so she visited a doctor.\n",
        "The doctor advised Alice to only eat n / 2 of the candies she has (n is always even). Alice\n",
        "likes her candies very much, and she wants to eat the maximum number of different types of\n",
        "candies while still following the doctor's advice.\n",
        "Given the integer array candyType of length n, return the maximum number of different types\n",
        "of candies she can eat if she only eats n / 2 of them.\n",
        "Example 1:\n",
        "Input: candyType = [1,1,2,2,3,3]\n",
        "Output: 3\n",
        "Explanation: Alice can only eat 6 / 2 = 3 candies. Since there are only 3 types, she can eat one\n",
        "of each type.\n",
        "\n",
        "Pre Placement Training Program | iNeuron\n",
        "\n",
        "Assignment 2 Questions - Arrays | DSA\n",
        "\n",
        "Question 3\n",
        "We define a harmonious array as an array where the difference between its maximum value\n",
        "and its minimum value is exactly 1.\n",
        "Given an integer array nums, return the length of its longest harmonious subsequence\n",
        "among all its possible subsequences.\n",
        "A subsequence of an array is a sequence that can be derived from the array by deleting some\n",
        "or no elements without changing the order of the remaining elements.\n",
        "Example 1:\n",
        "Input: nums = [1,3,2,2,5,2,3,7]\n",
        "Output: 5\n",
        "Explanation: The longest harmonious subsequence is [3,2,2,2,3].\n",
        "\n",
        "Question 4\n",
        "You have a long flowerbed in which some of the plots are planted, and some are not.\n",
        "However, flowers cannot be planted in adjacent plots.\n",
        "Given an integer array flowerbed containing 0's and 1's, where 0 means empty and 1 means\n",
        "not empty, and an integer n, return true if n new flowers can be planted in the flowerbed\n",
        "without violating the no-adjacent-flowers rule and false otherwise.\n",
        "Example 1:\n",
        "Input: flowerbed = [1,0,0,0,1], n = 1\n",
        "Output: true\n",
        "\n",
        "Question 5\n",
        "Given an integer array nums, find three numbers whose product is maximum and return the\n",
        "maximum product.\n",
        "Example 1:\n",
        "Input: nums = [1,2,3]\n",
        "Output: 6\n",
        "\n",
        "Pre Placement Training Program | iNeuron\n",
        "\n",
        "Assignment 2 Questions - Arrays | DSA\n",
        "\n",
        "Question 6\n",
        "Given an array of integers nums which is sorted in ascending order, and an integer target,\n",
        "write a function to search target in nums. If target exists, then return its index. Otherwise,\n",
        "return -1.\n",
        "You must write an algorithm with O(log n) runtime complexity.\n",
        "Input: nums = [-1,0,3,5,9,12], target = 9\n",
        "Output: 4\n",
        "Explanation: 9 exists in nums and its index is 4\n",
        "\n",
        "Question 7\n",
        "An array is monotonic if it is either monotone increasing or monotone decreasing.\n",
        "An array nums is monotone increasing if for all i <= j, nums[i] <= nums[j]. An array nums is\n",
        "monotone decreasing if for all i <= j, nums[i] >= nums[j].\n",
        "Given an integer array nums, return true if the given array is monotonic, or false otherwise.\n",
        "Example 1:\n",
        "Input: nums = [1,2,2,3]\n",
        "Output: true\n",
        "\n",
        "Question 8\n",
        "You are given an integer array nums and an integer k.\n",
        "In one operation, you can choose any index i where 0 <= i < nums.length and change nums[i]\n",
        "to nums[i] + x where x is an integer from the range [-k, k]. You can apply this operation at\n",
        "most once for each index i.\n",
        "The score of nums is the difference between the maximum and minimum elements in nums.\n",
        "Return the minimum score of nums after applying the mentioned operation at most once for\n",
        "each index in it.\n",
        "Example 1:\n",
        "Input: nums = [1], k = 0\n",
        "Output: 0\n",
        "Explanation: The score is max(nums) - min(nums) = 1 - 1 = 0."
      ],
      "metadata": {
        "id": "4BbbIern5i8_"
      }
    },
    {
      "cell_type": "code",
      "source": [
        "def array_pair_sum(nums):\n",
        "    nums.sort()\n",
        "    pair_sum = 0\n",
        "    for i in range(0, len(nums), 2):\n",
        "        pair_sum += nums[i]\n",
        "    return pair_sum\n",
        "\n",
        "# User input\n",
        "nums = list(map(int, input(\"Enter the array of integers: \").split()))\n",
        "\n",
        "result = array_pair_sum(nums)\n",
        "print(\"Maximized sum:\", result)\n"
      ],
      "metadata": {
        "colab": {
          "base_uri": "https://localhost:8080/"
        },
        "id": "qD9JHgKD5uLS",
        "outputId": "de16cc2e-6bc5-4cba-8812-76a206734468"
      },
      "execution_count": 1,
      "outputs": [
        {
          "output_type": "stream",
          "name": "stdout",
          "text": [
            "Enter the array of integers: 1 2 3 11 22 33 \n",
            "Maximized sum: 26\n"
          ]
        }
      ]
    },
    {
      "cell_type": "code",
      "source": [
        "def max_candies(candyType):\n",
        "    max_candies = len(candyType) // 2\n",
        "    unique_types = len(set(candyType))\n",
        "    return min(max_candies, unique_types)\n",
        "\n",
        "# User input\n",
        "candyType = list(map(int, input(\"Enter the array of candy types: \").split()))\n",
        "\n",
        "result = max_candies(candyType)\n",
        "print(\"Maximum number of different candy types:\", result)\n"
      ],
      "metadata": {
        "colab": {
          "base_uri": "https://localhost:8080/"
        },
        "id": "5vzlwFpa571p",
        "outputId": "82089ce8-70c4-4baa-85cb-685576482f97"
      },
      "execution_count": 2,
      "outputs": [
        {
          "output_type": "stream",
          "name": "stdout",
          "text": [
            "Enter the array of candy types: 1 2 3 22 33 444 55\n",
            "Maximum number of different candy types: 3\n"
          ]
        }
      ]
    },
    {
      "cell_type": "code",
      "source": [
        "from collections import Counter\n",
        "\n",
        "def findLHS(nums):\n",
        "    num_counts = Counter(nums)\n",
        "    longest_subsequence = 0\n",
        "    for num in num_counts:\n",
        "        if num + 1 in num_counts:\n",
        "            longest_subsequence = max(longest_subsequence, num_counts[num] + num_counts[num + 1])\n",
        "    return longest_subsequence\n",
        "\n",
        "# User input\n",
        "nums = list(map(int, input(\"Enter the array of integers: \").split()))\n",
        "\n",
        "result = findLHS(nums)\n",
        "print(\"Length of the longest harmonious subsequence:\", result)\n"
      ],
      "metadata": {
        "colab": {
          "base_uri": "https://localhost:8080/"
        },
        "id": "gidIa9fW6BIp",
        "outputId": "d82d09cc-5d0b-406b-fdc8-0b7c41ed2ecd"
      },
      "execution_count": 3,
      "outputs": [
        {
          "output_type": "stream",
          "name": "stdout",
          "text": [
            "Enter the array of integers: 1 2 3 4 5 6 7 8 \n",
            "Length of the longest harmonious subsequence: 2\n"
          ]
        }
      ]
    },
    {
      "cell_type": "code",
      "source": [
        "def can_place_flowers(flowerbed, n):\n",
        "    count = 0\n",
        "    flowerbed.append(0)\n",
        "    flowerbed.insert(0, 0)\n",
        "    i = 1\n",
        "    while i < len(flowerbed) - 1:\n",
        "        if flowerbed[i - 1] == flowerbed[i] == flowerbed[i + 1] == 0:\n",
        "            flowerbed[i] = 1\n",
        "            count += 1\n",
        "        i += 1\n",
        "    return count >= n\n",
        "\n",
        "# User input\n",
        "flowerbed = list(map(int, input(\"Enter the array of 0's and 1's: \").split()))\n",
        "n = int(input(\"Enter the number of flowers to be planted: \"))\n",
        "\n",
        "result = can_place_flowers(flowerbed, n)\n",
        "print(\"Can place flowers?\", result)\n"
      ],
      "metadata": {
        "colab": {
          "base_uri": "https://localhost:8080/"
        },
        "id": "BPaMDreu6PBb",
        "outputId": "f56e60e3-ce4d-4785-cb4c-83dd3073305d"
      },
      "execution_count": 4,
      "outputs": [
        {
          "output_type": "stream",
          "name": "stdout",
          "text": [
            "Enter the array of 0's and 1's: 1 1 1 1 0 1 0 1 0 \n",
            "Enter the number of flowers to be planted: 11\n",
            "Can place flowers? False\n"
          ]
        }
      ]
    },
    {
      "cell_type": "code",
      "source": [
        "def maximum_product(nums):\n",
        "    nums.sort()\n",
        "    return max(nums[-1] * nums[-2] * nums[-3], nums[0] * nums[1] * nums[-1])\n",
        "\n",
        "# User input\n",
        "nums = list(map(int, input(\"Enter the array of integers: \").split()))\n",
        "\n",
        "result = maximum_product(nums)\n",
        "print(\"Maximum product of three numbers:\", result)\n"
      ],
      "metadata": {
        "colab": {
          "base_uri": "https://localhost:8080/"
        },
        "id": "j5xFCaWu6Yww",
        "outputId": "4dc5d18c-5f4e-48a8-9d4d-de8360c8dffe"
      },
      "execution_count": 5,
      "outputs": [
        {
          "output_type": "stream",
          "name": "stdout",
          "text": [
            "Enter the array of integers: 1 2 3 4 5 6 \n",
            "Maximum product of three numbers: 120\n"
          ]
        }
      ]
    },
    {
      "cell_type": "code",
      "source": [
        "def binary_search(nums, target):\n",
        "    left = 0\n",
        "    right = len(nums) - 1\n",
        "\n",
        "    while left <= right:\n",
        "        mid = (left + right) // 2\n",
        "        if nums[mid] == target:\n",
        "            return mid\n",
        "        elif nums[mid] < target:\n",
        "            left = mid + 1\n",
        "        else:\n",
        "            right = mid - 1\n",
        "\n",
        "    return -1\n",
        "\n",
        "# User input\n",
        "nums = list(map(int, input(\"Enter the sorted array of integers: \").split()))\n",
        "target = int(input(\"Enter the target integer: \"))\n",
        "\n",
        "result = binary_search(nums, target)\n",
        "print(\"Index of the target:\", result)\n"
      ],
      "metadata": {
        "colab": {
          "base_uri": "https://localhost:8080/"
        },
        "id": "yVWX1VxH6e5S",
        "outputId": "a39a9972-9bae-4162-e415-2c128f9559bc"
      },
      "execution_count": 6,
      "outputs": [
        {
          "output_type": "stream",
          "name": "stdout",
          "text": [
            "Enter the sorted array of integers: 1 2 3 4 5 6 7 8 \n",
            "Enter the target integer: 2\n",
            "Index of the target: 1\n"
          ]
        }
      ]
    },
    {
      "cell_type": "code",
      "source": [
        "def is_monotonic(nums):\n",
        "    increasing = decreasing = True\n",
        "\n",
        "    for i in range(len(nums) - 1):\n",
        "        if nums[i] > nums[i + 1]:\n",
        "            increasing = False\n",
        "        if nums[i] < nums[i + 1]:\n",
        "            decreasing = False\n",
        "\n",
        "    return increasing or decreasing\n",
        "\n",
        "# User input\n",
        "nums = list(map(int, input(\"Enter the array of integers: \").split()))\n",
        "\n",
        "result = is_monotonic(nums)\n",
        "print(\"Is the array monotonic?\", result)\n"
      ],
      "metadata": {
        "colab": {
          "base_uri": "https://localhost:8080/"
        },
        "id": "PLr1lbSZ6nFo",
        "outputId": "3d24bb85-d77f-471f-b4a8-25d002b89fc3"
      },
      "execution_count": 7,
      "outputs": [
        {
          "output_type": "stream",
          "name": "stdout",
          "text": [
            "Enter the array of integers: 1 2 3 4 5 6 7 8 \n",
            "Is the array monotonic? True\n"
          ]
        }
      ]
    },
    {
      "cell_type": "code",
      "source": [
        "def min_score_difference(nums, k):\n",
        "    min_num = min(nums)\n",
        "    max_num = max(nums)\n",
        "    return max(0, max_num - min_num - 2 * k)\n",
        "\n",
        "# User input\n",
        "nums = list(map(int, input(\"Enter the array of integers: \").split()))\n",
        "k = int(input(\"Enter the value of k: \"))\n",
        "\n",
        "result = min_score_difference(nums, k)\n",
        "print(\"Minimum score difference:\", result)\n"
      ],
      "metadata": {
        "colab": {
          "base_uri": "https://localhost:8080/"
        },
        "id": "G2Ckh-fp6stC",
        "outputId": "29fc4c76-7cb5-4893-99b5-dc53031112fd"
      },
      "execution_count": 8,
      "outputs": [
        {
          "output_type": "stream",
          "name": "stdout",
          "text": [
            "Enter the array of integers: 1 2 3 4 5 6 7 8 \n",
            "Enter the value of k: 4\n",
            "Minimum score difference: 0\n"
          ]
        }
      ]
    }
  ]
}