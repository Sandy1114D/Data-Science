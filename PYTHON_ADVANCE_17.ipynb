{
  "nbformat": 4,
  "nbformat_minor": 0,
  "metadata": {
    "colab": {
      "provenance": []
    },
    "kernelspec": {
      "name": "python3",
      "display_name": "Python 3"
    },
    "language_info": {
      "name": "python"
    }
  },
  "cells": [
    {
      "cell_type": "markdown",
      "source": [
        "Q1. Explain the difference between greedy and non-greedy syntax with visual terms in as few words\n",
        "as possible. What is the bare minimum effort required to transform a greedy pattern into a non-greedy\n",
        "one? What characters or characters can you introduce or change?\n",
        "\n",
        "Q2. When exactly does greedy versus non-greedy make a difference?  What if you&#39;re looking for a\n",
        "non-greedy match but the only one available is greedy?\n",
        "\n",
        "Q3. In a simple match of a string, which looks only for one match and does not do any replacement, is\n",
        "the use of a nontagged group likely to make any practical difference?\n",
        "\n",
        "Q4. Describe a scenario in which using a nontagged category would have a significant impact on the\n",
        "program&#39;s outcomes.\n",
        "\n",
        "Q5. Unlike a normal regex pattern, a look-ahead condition does not consume the characters it\n",
        "examines. Describe a situation in which this could make a difference in the results of your\n",
        "programme.\n",
        "\n",
        "Q6. In standard expressions, what is the difference between positive look-ahead and negative look-\n",
        "ahead?\n",
        "\n",
        "Q7. What is the benefit of referring to groups by name rather than by number in a standard\n",
        "expression?\n",
        "\n",
        "Q8. Can you identify repeated items within a target string using named groups, as in &quot;The cow\n",
        "jumped over the moon&quot;?\n",
        "\n",
        "Q9. When parsing a string, what is at least one thing that the Scanner interface does for you that the\n",
        "re.findall feature does not?\n",
        "\n",
        "Q10. Does a scanner object have to be named scanner?"
      ],
      "metadata": {
        "id": "36d_JdBFtbEL"
      }
    },
    {
      "cell_type": "markdown",
      "source": [
        "## **ANS OF ABOVE QUESTIONS ARE AS FOLLOW**"
      ],
      "metadata": {
        "id": "mBq6Dn4At2cg"
      }
    },
    {
      "cell_type": "markdown",
      "source": [
        "Q1. Greedy syntax matches the longest possible string that meets the pattern, while non-greedy syntax matches the shortest possible string. To transform a greedy pattern into a non-greedy one, you can add a question mark after the quantifier. For example, changing \".*\" to \".*?\" would make it non-greedy. \n",
        "\n",
        "Q2. Greedy versus non-greedy makes a difference when the target string has multiple possible matches that meet the pattern, and you want to match the smallest or largest possible one. If you're looking for a non-greedy match but the only one available is greedy, you can modify the pattern to include a non-greedy qualifier. \n",
        "\n",
        "Q3. In a simple match of a string, the use of a nontagged group is not likely to make any practical difference, as it does not change the outcome of the match. \n",
        "\n",
        "Q4. Using a nontagged category can have a significant impact when using a find-and-replace feature. For example, if you want to replace all instances of the word \"cat\" with \"dog\", but not if it's part of the word \"catalog\", you can use a nontagged category to exclude the latter. \n",
        "\n",
        "Q5. Look-ahead conditions can be useful when you want to match a pattern only if it is followed or not followed by another pattern. For example, if you want to match all instances of the word \"cat\" that are not followed by the word \"in\", you can use a negative look-ahead condition. \n",
        "\n",
        "Q6. Positive look-ahead matches a pattern only if it is followed by another pattern, while negative look-ahead matches a pattern only if it is not followed by another pattern. \n",
        "\n",
        "Q7. Referring to groups by name rather than by number makes the regular expression easier to read and maintain, especially for complex patterns with multiple groups. \n",
        "\n",
        "Q8. Yes, you can use named groups to identify repeated items within a target string. For example, you can use the pattern \"(?P<word>\\w+) (?P=word)\" to match any repeated word in a string. \n",
        "\n",
        "Q9. The Scanner interface in Python provides more fine-grained control over the parsing process, allowing you to scan the input string and retrieve the matched tokens one at a time. This is useful when dealing with large input files or when you need to perform complex tokenization. \n",
        "\n",
        "Q10. No, a scanner object can be named anything as long as it follows the syntax of the Scanner class constructor."
      ],
      "metadata": {
        "id": "qerfTI0Wt9dj"
      }
    }
  ]
}