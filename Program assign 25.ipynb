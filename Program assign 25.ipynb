{
  "nbformat": 4,
  "nbformat_minor": 0,
  "metadata": {
    "colab": {
      "provenance": []
    },
    "kernelspec": {
      "name": "python3",
      "display_name": "Python 3"
    },
    "language_info": {
      "name": "python"
    }
  },
  "cells": [
    {
      "cell_type": "markdown",
      "source": [
        "Question1\n",
        "Create a function that takes three integer arguments (a, b, c) and returns the amount of\n",
        "integers which are of equal value.\n",
        "Examples\n",
        "equal(3, 4, 3) ➞ 2\n",
        "equal(1, 1, 1) ➞ 3\n",
        "equal(3, 4, 1) ➞ 0\n",
        "Notes\n",
        "Your function must return 0, 2 or 3.\n",
        "\n",
        "Question2\n",
        "Write a function that converts a dictionary into a list of keys-values tuples.\n",
        "Examples\n",
        "dict_to_list({\n",
        "&quot;D&quot;: 1,\n",
        "&quot;B&quot;: 2,\n",
        "&quot;C&quot;: 3\n",
        "}) ➞ [(&quot;B&quot;, 2), (&quot;C&quot;, 3), (&quot;D&quot;, 1)]\n",
        "dict_to_list({\n",
        "&quot;likes&quot;: 2,\n",
        "&quot;dislikes&quot;: 3,\n",
        "&quot;followers&quot;: 10\n",
        "}) ➞ [(&quot;dislikes&quot;, 3), (&quot;followers&quot;, 10), (&quot;likes&quot;, 2)]\n",
        "Notes\n",
        "Return the elements in the list in alphabetical order.\n",
        "\n",
        "Question3\n",
        "Write a function that creates a dictionary with each (key, value) pair being the (lower case,\n",
        "upper case) versions of a letter, respectively.\n",
        "Examples\n",
        "mapping([&quot;p&quot;, &quot;s&quot;]) ➞ { &quot;p&quot;: &quot;P&quot;, &quot;s&quot;: &quot;S&quot; }\n",
        "\n",
        "mapping([&quot;a&quot;, &quot;b&quot;, &quot;c&quot;]) ➞ { &quot;a&quot;: &quot;A&quot;, &quot;b&quot;: &quot;B&quot;, &quot;c&quot;: &quot;C&quot; }\n",
        "mapping([&quot;a&quot;, &quot;v&quot;, &quot;y&quot;, &quot;z&quot;]) ➞ { &quot;a&quot;: &quot;A&quot;, &quot;v&quot;: &quot;V&quot;, &quot;y&quot;: &quot;Y&quot;, &quot;z&quot;: &quot;Z&quot; }\n",
        "Notes\n",
        "All of the letters in the input list will always be lowercase.\n",
        "\n",
        "Question4\n",
        "Write a function, that replaces all vowels in a string with a specified vowel.\n",
        "Examples\n",
        "vow_replace(&quot;apples and bananas&quot;, &quot;u&quot;) ➞ &quot;upplus und bununus&quot;\n",
        "vow_replace(&quot;cheese casserole&quot;, &quot;o&quot;) ➞ &quot;chooso cossorolo&quot;\n",
        "vow_replace(&quot;stuffed jalapeno poppers&quot;, &quot;e&quot;) ➞ &quot;steffed jelepene peppers&quot;\n",
        "Notes\n",
        "All words will be lowercase. Y is not considered a vowel.\n",
        "\n",
        "Question5\n",
        "Create a function that takes a string as input and capitalizes a letter if its ASCII code is even\n",
        "and returns its lower case version if its ASCII code is odd.\n",
        "Examples\n",
        "ascii_capitalize(&quot;to be or not to be!&quot;) ➞ &quot;To Be oR NoT To Be!&quot;\n",
        "ascii_capitalize(&quot;THE LITTLE MERMAID&quot;) ➞ &quot;THe LiTTLe meRmaiD&quot;\n",
        "ascii_capitalize(&quot;Oh what a beautiful morning.&quot;) ➞ &quot;oH wHaT a BeauTiFuL\n",
        "moRNiNg.&quot;"
      ],
      "metadata": {
        "id": "fBCxtw9KnIjq"
      }
    },
    {
      "cell_type": "code",
      "source": [
        "def equal(a, b, c):\n",
        "    count = 0\n",
        "    if a == b == c:\n",
        "        count = 3\n",
        "    elif a == b or b == c or c == a:\n",
        "        count = 2\n",
        "    return count\n",
        "\n",
        "a = int(input(\"Enter the first integer: \"))\n",
        "b = int(input(\"Enter the second integer: \"))\n",
        "c = int(input(\"Enter the third integer: \"))\n",
        "print(equal(a, b, c))\n"
      ],
      "metadata": {
        "colab": {
          "base_uri": "https://localhost:8080/"
        },
        "id": "vL6KhGMMnZWd",
        "outputId": "e04bcea1-1825-4c55-e1da-d42c7773e514"
      },
      "execution_count": 1,
      "outputs": [
        {
          "output_type": "stream",
          "name": "stdout",
          "text": [
            "Enter the first integer: 1\n",
            "Enter the second integer: 2\n",
            "Enter the third integer: 3\n",
            "0\n"
          ]
        }
      ]
    },
    {
      "cell_type": "code",
      "source": [
        "def dict_to_list(d):\n",
        "    return sorted(d.items())\n",
        "\n",
        "d = {\"D\": 1, \"B\": 2, \"C\": 3}\n",
        "print(dict_to_list(d))\n",
        "\n",
        "d = {\"likes\": 2, \"dislikes\": 3, \"followers\": 10}\n",
        "print(dict_to_list(d))\n"
      ],
      "metadata": {
        "colab": {
          "base_uri": "https://localhost:8080/"
        },
        "id": "dTjZUvbBniWm",
        "outputId": "6067acda-52fa-4990-ea98-a7957729e7bd"
      },
      "execution_count": 2,
      "outputs": [
        {
          "output_type": "stream",
          "name": "stdout",
          "text": [
            "[('B', 2), ('C', 3), ('D', 1)]\n",
            "[('dislikes', 3), ('followers', 10), ('likes', 2)]\n"
          ]
        }
      ]
    },
    {
      "cell_type": "code",
      "source": [
        "def mapping(letters):\n",
        "    return {letter: letter.upper() for letter in letters}\n",
        "\n",
        "letters = input(\"Enter the letters separated by space: \").split()\n",
        "print(mapping(letters))\n"
      ],
      "metadata": {
        "colab": {
          "base_uri": "https://localhost:8080/"
        },
        "id": "RAm1XAIPnqzV",
        "outputId": "a599c52b-5aa9-4afc-a250-438898a7562e"
      },
      "execution_count": 3,
      "outputs": [
        {
          "output_type": "stream",
          "name": "stdout",
          "text": [
            "Enter the letters separated by space: s a nk e t\n",
            "{'s': 'S', 'a': 'A', 'nk': 'NK', 'e': 'E', 't': 'T'}\n"
          ]
        }
      ]
    },
    {
      "cell_type": "code",
      "source": [
        "def vow_replace(string, vowel):\n",
        "    vowels = \"aeiou\"\n",
        "    new_string = \"\"\n",
        "    for char in string:\n",
        "        if char in vowels:\n",
        "            new_string += vowel\n",
        "        else:\n",
        "            new_string += char\n",
        "    return new_string\n",
        "\n",
        "string = input(\"Enter a string: \")\n",
        "vowel = input(\"Enter a vowel: \")\n",
        "print(vow_replace(string, vowel))\n"
      ],
      "metadata": {
        "colab": {
          "base_uri": "https://localhost:8080/"
        },
        "id": "JTIu5lvDnwHU",
        "outputId": "2b7fad26-4fc2-415d-ecbc-b1db4a0421ab"
      },
      "execution_count": 5,
      "outputs": [
        {
          "output_type": "stream",
          "name": "stdout",
          "text": [
            "Enter a string: s a n k e t \n",
            "Enter a vowel:  \n",
            "s   n k   t \n"
          ]
        }
      ]
    },
    {
      "cell_type": "code",
      "source": [
        "def ascii_capitalize(string):\n",
        "    new_string = \"\"\n",
        "    for char in string:\n",
        "        if ord(char) % 2 == 0:\n",
        "            new_string += char.upper()\n",
        "        else:\n",
        "            new_string += char.lower()\n",
        "    return new_string\n",
        "\n",
        "string = input(\"Enter a string: \")\n",
        "print(ascii_capitalize(string))\n"
      ],
      "metadata": {
        "colab": {
          "base_uri": "https://localhost:8080/"
        },
        "id": "Tj_7oc69oFkN",
        "outputId": "cb0d1ca6-af14-4858-844a-b36cc3d2afeb"
      },
      "execution_count": 6,
      "outputs": [
        {
          "output_type": "stream",
          "name": "stdout",
          "text": [
            "Enter a string: sanket\n",
            "saNkeT\n"
          ]
        }
      ]
    }
  ]
}