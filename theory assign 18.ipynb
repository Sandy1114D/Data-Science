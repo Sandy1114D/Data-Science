{
  "nbformat": 4,
  "nbformat_minor": 0,
  "metadata": {
    "colab": {
      "provenance": []
    },
    "kernelspec": {
      "name": "python3",
      "display_name": "Python 3"
    },
    "language_info": {
      "name": "python"
    }
  },
  "cells": [
    {
      "cell_type": "markdown",
      "source": [
        "1. Create a zoo.py file first. Define the hours() function, which prints the string &#39;Open 9-5 daily&#39;.\n",
        "Then, use the interactive interpreter to import the zoo module and call its hours() function.\n",
        "2. In the interactive interpreter, import the zoo module as menagerie and call its hours() function.\n",
        "3. Using the interpreter, explicitly import and call the hours() function from zoo.\n",
        "4. Import the hours() function as info and call it.\n",
        "5. Create a plain dictionary with the key-value pairs &#39;a&#39;: 1, &#39;b&#39;: 2, and &#39;c&#39;: 3, and print it out.\n",
        "6.Make an OrderedDict called fancy from the same pairs listed in 5 and print it. Did it print in the\n",
        "same order as plain?\n",
        "7. Make a default dictionary called dict_of_lists and pass it the argument list. Make the list\n",
        "dict_of_lists[&#39;a&#39;] and append the value &#39;something for a&#39; to it in one assignment. Print\n",
        "dict_of_lists[&#39;a&#39;]."
      ],
      "metadata": {
        "id": "AC2ZeQGh4IMU"
      }
    },
    {
      "cell_type": "markdown",
      "source": [
        "## **ANS OF ABOVE  QUESTIONS ARE AS FOLLOWS**"
      ],
      "metadata": {
        "id": "yQ2AfPjo4P2R"
      }
    },
    {
      "cell_type": "markdown",
      "source": [
        "1. Solution:\n",
        "In zoo.py file:\n",
        "```python\n",
        "def hours():\n",
        "    print('Open 9-5 daily')\n",
        "```\n",
        "\n",
        "In the interactive interpreter:\n",
        "```python\n",
        "import zoo\n",
        "zoo.hours()\n",
        "```\n",
        "\n",
        "2. Solution:\n",
        "In the interactive interpreter:\n",
        "```python\n",
        "import zoo as menagerie\n",
        "menagerie.hours()\n",
        "```\n",
        "\n",
        "3. Solution:\n",
        "In the interactive interpreter:\n",
        "```python\n",
        "from zoo import hours\n",
        "hours()\n",
        "```\n",
        "\n",
        "4. Solution:\n",
        "In the interactive interpreter:\n",
        "```python\n",
        "from zoo import hours as info\n",
        "info()\n",
        "```\n",
        "\n",
        "5. Solution:\n",
        "```python\n",
        "plain_dict = {'a': 1, 'b': 2, 'c': 3}\n",
        "print(plain_dict)\n",
        "```\n",
        "\n",
        "6. Solution:\n",
        "```python\n",
        "from collections import OrderedDict\n",
        "\n",
        "fancy = OrderedDict([('a', 1), ('b', 2), ('c', 3)])\n",
        "print(fancy)\n",
        "```\n",
        "Yes, it printed in the same order as plain.\n",
        "\n",
        "7. Solution:\n",
        "```python\n",
        "from collections import defaultdict\n",
        "\n",
        "dict_of_lists = defaultdict(list)\n",
        "dict_of_lists['a'].append('something for a')\n",
        "print(dict_of_lists['a'])\n",
        "```"
      ],
      "metadata": {
        "id": "pkLzZW1u4Y2p"
      }
    }
  ]
}