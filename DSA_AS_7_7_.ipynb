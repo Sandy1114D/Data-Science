{
  "nbformat": 4,
  "nbformat_minor": 0,
  "metadata": {
    "colab": {
      "provenance": []
    },
    "kernelspec": {
      "name": "python3",
      "display_name": "Python 3"
    },
    "language_info": {
      "name": "python"
    }
  },
  "cells": [
    {
      "cell_type": "markdown",
      "source": [
        "<aside>\n",
        "💡 **Question 1**\n",
        "\n",
        "Given two strings s and t, *determine if they are isomorphic*.\n",
        "\n",
        "Two strings s and t are isomorphic if the characters in s can be replaced to get t.\n",
        "\n",
        "All occurrences of a character must be replaced with another character while preserving the order of characters. No two characters may map to the same character, but a character may map to itself.\n",
        "\n",
        "**Example 1:**\n",
        "\n",
        "**Input:** s = \"egg\", t = \"add\"\n",
        "\n",
        "**Output:** true\n",
        "\n",
        "</aside>\n",
        "\n",
        "<aside>\n",
        "💡 **Question 2**\n",
        "\n",
        "Given a string num which represents an integer, return true *if* num *is a **strobogrammatic number***.\n",
        "\n",
        "A **strobogrammatic number** is a number that looks the same when rotated 180 degrees (looked at upside down).\n",
        "\n",
        "**Example 1:**\n",
        "\n",
        "**Input:** num = \"69\"\n",
        "\n",
        "**Output:**\n",
        "\n",
        "true\n",
        "\n",
        "</aside>\n",
        "\n",
        "<aside>\n",
        "💡 **Question 3**\n",
        "\n",
        "Given two non-negative integers, num1 and num2 represented as string, return *the sum of* num1 *and* num2 *as a string*.\n",
        "\n",
        "You must solve the problem without using any built-in library for handling large integers (such as BigInteger). You must also not convert the inputs to integers directly.\n",
        "\n",
        "**Example 1:**\n",
        "\n",
        "**Input:** num1 = \"11\", num2 = \"123\"\n",
        "\n",
        "**Output:**\n",
        "\n",
        "\"134\"\n",
        "\n",
        "</aside>\n",
        "\n",
        "<aside>\n",
        "💡 **Question 4**\n",
        "\n",
        "Given a string s, reverse the order of characters in each word within a sentence while still preserving whitespace and initial word order.\n",
        "\n",
        "**Example 1:**\n",
        "\n",
        "**Input:** s = \"Let's take LeetCode contest\"\n",
        "\n",
        "**Output:** \"s'teL ekat edoCteeL tsetnoc\"\n",
        "\n",
        "</aside>\n",
        "\n",
        "<aside>\n",
        "💡 **Question 5**\n",
        "\n",
        "Given a string s and an integer k, reverse the first k characters for every 2k characters counting from the start of the string.\n",
        "\n",
        "If there are fewer than k characters left, reverse all of them. If there are less than 2k but greater than or equal to k characters, then reverse the first k characters and leave the other as original.\n",
        "\n",
        "**Example 1:**\n",
        "\n",
        "**Input:** s = \"abcdefg\", k = 2\n",
        "\n",
        "**Output:**\n",
        "\n",
        "\"bacdfeg\"\n",
        "\n",
        "</aside>\n",
        "\n",
        "<aside>\n",
        "💡 **Question 6**\n",
        "\n",
        "Given two strings s and goal, return true *if and only if* s *can become* goal *after some number of **shifts** on* s.\n",
        "\n",
        "A **shift** on s consists of moving the leftmost character of s to the rightmost position.\n",
        "\n",
        "- For example, if s = \"abcde\", then it will be \"bcdea\" after one shift.\n",
        "\n",
        "**Example 1:**\n",
        "\n",
        "**Input:** s = \"abcde\", goal = \"cdeab\"\n",
        "\n",
        "**Output:**\n",
        "\n",
        "true\n",
        "\n",
        "</aside>\n",
        "\n",
        "<aside>\n",
        "💡 **Question 7**\n",
        "\n",
        "Given two strings s and t, return true *if they are equal when both are typed into empty text editors*. '#' means a backspace character.\n",
        "\n",
        "Note that after backspacing an empty text, the text will continue empty.\n",
        "\n",
        "**Example 1:**\n",
        "\n",
        "**Input:** s = \"ab#c\", t = \"ad#c\"\n",
        "\n",
        "**Output:** true\n",
        "\n",
        "**Explanation:**\n",
        "\n",
        "Both s and t become \"ac\".\n",
        "\n",
        "</aside>\n",
        "\n",
        "<aside>\n",
        "💡 **Question 8**\n",
        "\n",
        "You are given an array coordinates, coordinates[i] = [x, y], where [x, y] represents the coordinate of a point. Check if these points make a straight line in the XY plane\n",
        "\n",
        "</aside>"
      ],
      "metadata": {
        "id": "klkGm_T1s91O"
      }
    },
    {
      "cell_type": "code",
      "source": [
        "def isIsomorphic(s, t):\n",
        "    if len(s) != len(t):\n",
        "        return False\n",
        "\n",
        "    s_to_t = {}\n",
        "    t_to_s = {}\n",
        "\n",
        "    for i in range(len(s)):\n",
        "        if s[i] in s_to_t and s_to_t[s[i]] != t[i]:\n",
        "            return False\n",
        "        if t[i] in t_to_s and t_to_s[t[i]] != s[i]:\n",
        "            return False\n",
        "        s_to_t[s[i]] = t[i]\n",
        "        t_to_s[t[i]] = s[i]\n",
        "\n",
        "    return True\n",
        "\n",
        "# Take user inputs\n",
        "s = input(\"Enter the first string: \")\n",
        "t = input(\"Enter the second string: \")\n",
        "\n",
        "# Check if strings are isomorphic\n",
        "if isIsomorphic(s, t):\n",
        "    print(\"The strings are isomorphic.\")\n",
        "else:\n",
        "    print(\"The strings are not isomorphic.\")\n"
      ],
      "metadata": {
        "colab": {
          "base_uri": "https://localhost:8080/"
        },
        "id": "xfqt2xtLt3_s",
        "outputId": "12f36036-a09a-4f7f-8db3-3ab4628179d5"
      },
      "execution_count": 2,
      "outputs": [
        {
          "output_type": "stream",
          "name": "stdout",
          "text": [
            "Enter the first string: EGG\n",
            "Enter the second string: SAM\n",
            "The strings are not isomorphic.\n"
          ]
        }
      ]
    },
    {
      "cell_type": "code",
      "source": [
        "def isStrobogrammatic(num):\n",
        "    strobogrammatic_pairs = {'0': '0', '1': '1', '6': '9', '8': '8', '9': '6'}\n",
        "\n",
        "    left = 0\n",
        "    right = len(num) - 1\n",
        "\n",
        "    while left <= right:\n",
        "        if num[left] not in strobogrammatic_pairs or num[right] != strobogrammatic_pairs[num[left]]:\n",
        "            return False\n",
        "        left += 1\n",
        "        right -= 1\n",
        "\n",
        "    return True\n",
        "\n",
        "# Take user input\n",
        "num = input(\"Enter a number: \")\n",
        "\n",
        "# Check if the number is strobogrammatic\n",
        "if isStrobogrammatic(num):\n",
        "    print(\"The number is strobogrammatic.\")\n",
        "else:\n",
        "    print(\"The number is not strobogrammatic.\")\n"
      ],
      "metadata": {
        "colab": {
          "base_uri": "https://localhost:8080/"
        },
        "id": "5QH4rNQxujkL",
        "outputId": "0d346c77-752c-4e41-da22-39c123722102"
      },
      "execution_count": 3,
      "outputs": [
        {
          "output_type": "stream",
          "name": "stdout",
          "text": [
            "Enter a number: 22\n",
            "The number is not strobogrammatic.\n"
          ]
        }
      ]
    },
    {
      "cell_type": "code",
      "source": [
        "def addStrings(num1, num2):\n",
        "    carry = 0\n",
        "    result = []\n",
        "    i = len(num1) - 1\n",
        "    j = len(num2) - 1\n",
        "\n",
        "    while i >= 0 or j >= 0 or carry:\n",
        "        if i >= 0:\n",
        "            digit1 = ord(num1[i]) - ord('0')\n",
        "        else:\n",
        "            digit1 = 0\n",
        "\n",
        "        if j >= 0:\n",
        "            digit2 = ord(num2[j]) - ord('0')\n",
        "        else:\n",
        "            digit2 = 0\n",
        "\n",
        "        carry, digit = divmod(digit1 + digit2 + carry, 10)\n",
        "        result.append(str(digit))\n",
        "        i -= 1\n",
        "        j -= 1\n",
        "\n",
        "    return ''.join(result[::-1])\n",
        "\n",
        "# Take user inputs\n",
        "num1 = input(\"Enter the first number: \")\n",
        "num2 = input(\"Enter the second number: \")\n",
        "\n",
        "# Add the numbers\n",
        "sum_str = addStrings(num1, num2)\n",
        "print(\"The sum is:\", sum_str)\n"
      ],
      "metadata": {
        "colab": {
          "base_uri": "https://localhost:8080/"
        },
        "id": "hPS_Gwg0um4w",
        "outputId": "a36047a7-661f-404a-9d3c-27edfcf70046"
      },
      "execution_count": 4,
      "outputs": [
        {
          "output_type": "stream",
          "name": "stdout",
          "text": [
            "Enter the first number: 32\n",
            "Enter the second number: 76\n",
            "The sum is: 108\n"
          ]
        }
      ]
    },
    {
      "cell_type": "code",
      "source": [
        "def reverseWords(s):\n",
        "    words = s.split()\n",
        "    reversed_words = [word[::-1] for word in words]\n",
        "    return ' '.join(reversed_words)\n",
        "\n",
        "# Take user input\n",
        "s = input(\"Enter a sentence: \")\n",
        "\n",
        "# Reverse the words\n",
        "reversed_sentence = reverseWords(s)\n",
        "print(\"The reversed sentence is:\", reversed_sentence)\n"
      ],
      "metadata": {
        "colab": {
          "base_uri": "https://localhost:8080/"
        },
        "id": "4uGf-oozusRD",
        "outputId": "7ac7b77b-210c-41be-964a-7aa861dec0cc"
      },
      "execution_count": 5,
      "outputs": [
        {
          "output_type": "stream",
          "name": "stdout",
          "text": [
            "Enter a sentence: SANKET IS A MAN\n",
            "The reversed sentence is: TEKNAS SI A NAM\n"
          ]
        }
      ]
    },
    {
      "cell_type": "code",
      "source": [
        "def reverseStr(s, k):\n",
        "    result = ''\n",
        "    for i in range(0, len(s), 2 * k):\n",
        "        result += s[i:i+k][::-1] + s[i+k:i+2*k]\n",
        "    return result\n",
        "\n",
        "# Take user input\n",
        "s = input(\"Enter a string: \")\n",
        "k = int(input(\"Enter the value of k: \"))\n",
        "\n",
        "# Reverse the string\n",
        "reversed_str = reverseStr(s, k)\n",
        "print(\"The reversed string is:\", reversed_str)\n"
      ],
      "metadata": {
        "colab": {
          "base_uri": "https://localhost:8080/"
        },
        "id": "zDEkoF9tu5gH",
        "outputId": "bddb71ca-f57e-4cdc-a31a-9c2e6b5c6bdb"
      },
      "execution_count": 6,
      "outputs": [
        {
          "output_type": "stream",
          "name": "stdout",
          "text": [
            "Enter a string: SANKET IS A BOY\n",
            "Enter the value of k: 5\n",
            "The reversed string is: EKNAST IS YOB A\n"
          ]
        }
      ]
    },
    {
      "cell_type": "code",
      "source": [
        "def rotateString(s, goal):\n",
        "    if len(s) != len(goal):\n",
        "        return False\n",
        "    return goal in s + s\n",
        "\n",
        "# Take user inputs\n",
        "s = input(\"Enter the first string: \")\n",
        "goal = input(\"Enter the second string: \")\n",
        "\n",
        "# Check if the strings can be rotated to match each other\n",
        "if rotateString(s, goal):\n",
        "    print(\"The strings can be rotated to match each other.\")\n",
        "else:\n",
        "    print(\"The strings cannot be rotated to match each other.\")\n"
      ],
      "metadata": {
        "colab": {
          "base_uri": "https://localhost:8080/"
        },
        "id": "o7H_w9OIvU8k",
        "outputId": "35c55dd5-03ea-463c-ce27-bd8f38364d5c"
      },
      "execution_count": 7,
      "outputs": [
        {
          "output_type": "stream",
          "name": "stdout",
          "text": [
            "Enter the first string: sanket is bad\n",
            "Enter the second string: i am not bad\n",
            "The strings cannot be rotated to match each other.\n"
          ]
        }
      ]
    },
    {
      "cell_type": "code",
      "source": [],
      "metadata": {
        "id": "THQ2K3E_vjTn"
      },
      "execution_count": null,
      "outputs": []
    },
    {
      "cell_type": "code",
      "source": [
        "def backspaceCompare(s, t):\n",
        "    def applyBackspace(string):\n",
        "        result = []\n",
        "        for char in string:\n",
        "            if char != '#':\n",
        "                result.append(char)\n",
        "            elif result:\n",
        "                result.pop()\n",
        "        return ''.join(result)\n",
        "\n",
        "    return applyBackspace(s) == applyBackspace(t)\n",
        "\n",
        "# Take user inputs\n",
        "s = input(\"Enter the first string: \")\n",
        "t = input(\"Enter the second string: \")\n",
        "\n",
        "# Check if the strings are equal after backspacing\n",
        "if backspaceCompare(s, t):\n",
        "    print(\"The strings are equal after backspacing.\")\n",
        "else:\n",
        "    print(\"The strings are not equal after backspacing.\")\n"
      ],
      "metadata": {
        "colab": {
          "base_uri": "https://localhost:8080/"
        },
        "id": "JVUpAl0UwmEI",
        "outputId": "69697ce6-1d2d-4f2b-b93e-d2c00ec63777"
      },
      "execution_count": 8,
      "outputs": [
        {
          "output_type": "stream",
          "name": "stdout",
          "text": [
            "Enter the first string: patil is nice\n",
            "Enter the second string: nice is patil\n",
            "The strings are not equal after backspacing.\n"
          ]
        }
      ]
    },
    {
      "cell_type": "code",
      "source": [
        "def checkStraightLine(coordinates):\n",
        "    if len(coordinates) < 2:\n",
        "        return False\n",
        "\n",
        "    x0, y0 = coordinates[0]\n",
        "    x1, y1 = coordinates[1]\n",
        "\n",
        "    for i in range(2, len(coordinates)):\n",
        "        x, y = coordinates[i]\n",
        "        if (x1 - x0) * (y - y0) != (x - x0) * (y1 - y0):\n",
        "            return False\n",
        "\n",
        "    return True\n",
        "\n",
        "# Take user inputs\n",
        "n = int(input(\"Enter the number of points: \"))\n",
        "coordinates = []\n",
        "for i in range(n):\n",
        "    x = int(input(f\"Enter x-coordinate for point {i+1}: \"))\n",
        "    y = int(input(f\"Enter y-coordinate for point {i+1}: \"))\n",
        "    coordinates.append([x, y])\n",
        "\n",
        "# Check if points form a straight line\n",
        "if checkStraightLine(coordinates):\n",
        "    print(\"The given points form a straight line.\")\n",
        "else:\n",
        "    print(\"The given points do not form a straight line.\")\n"
      ],
      "metadata": {
        "colab": {
          "base_uri": "https://localhost:8080/"
        },
        "id": "Sc8X9tiawvEB",
        "outputId": "15f45649-764b-4afc-8770-290f4897360e"
      },
      "execution_count": 9,
      "outputs": [
        {
          "output_type": "stream",
          "name": "stdout",
          "text": [
            "Enter the number of points: 4\n",
            "Enter x-coordinate for point 1: 1\n",
            "Enter y-coordinate for point 1: 1\n",
            "Enter x-coordinate for point 2: 2\n",
            "Enter y-coordinate for point 2: 2\n",
            "Enter x-coordinate for point 3: 3\n",
            "Enter y-coordinate for point 3: 3\n",
            "Enter x-coordinate for point 4: 4\n",
            "Enter y-coordinate for point 4: 4\n",
            "The given points form a straight line.\n"
          ]
        }
      ]
    }
  ]
}