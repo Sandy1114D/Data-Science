{
  "nbformat": 4,
  "nbformat_minor": 0,
  "metadata": {
    "colab": {
      "provenance": []
    },
    "kernelspec": {
      "name": "python3",
      "display_name": "Python 3"
    },
    "language_info": {
      "name": "python"
    }
  },
  "cells": [
    {
      "cell_type": "markdown",
      "source": [
        "Q1. In Python 3.X, what are the names and functions of string object types?\n",
        "\n",
        "Q2. How do the string forms in Python 3.X vary in terms of operations?\n",
        "\n",
        "Q3. In 3.X, how do you put non-ASCII Unicode characters in a string?\n",
        "\n",
        "Q4. In Python 3.X, what are the key differences between text-mode and binary-mode files?\n",
        "\n",
        "Q5. How can you interpret a Unicode text file containing text encoded in a different encoding than\n",
        "your platform&#39;s default?\n",
        "\n",
        "Q6. What is the best way to make a Unicode text file in a particular encoding format?\n",
        "\n",
        "Q7. What qualifies ASCII text as a form of Unicode text?\n",
        "\n",
        "Q8. How much of an effect does the change in string types in Python 3.X have on your code?"
      ],
      "metadata": {
        "id": "3xLquHThWT3B"
      }
    },
    {
      "cell_type": "markdown",
      "source": [
        "## **ANS OF ABOVE QUESTIONS ARE AS FOLLOW**"
      ],
      "metadata": {
        "id": "Ee6DqhXtWbFI"
      }
    },
    {
      "cell_type": "markdown",
      "source": [
        "Q1. In Python 3.X, there are two main string object types: str and bytes. The str type represents a sequence of Unicode characters, while the bytes type represents a sequence of bytes.\n",
        "\n",
        "Q2. The string forms in Python 3.X vary in terms of operations as follows:\n",
        "\n",
        "- The str type supports all string operations and methods, and is used for working with Unicode text.\n",
        "- The bytes type supports a subset of the string operations and methods, and is used for working with binary data.\n",
        "\n",
        "Q3. In Python 3.X, you can put non-ASCII Unicode characters in a string by using Unicode escape sequences. For example, the character 'é' can be represented as '\\u00e9' in a string.\n",
        "\n",
        "Q4. In Python 3.X, the key differences between text-mode and binary-mode files are:\n",
        "\n",
        "- Text-mode files are used for working with Unicode text, and automatically handle encoding and decoding of text data.\n",
        "- Binary-mode files are used for working with binary data, and do not handle encoding or decoding of data.\n",
        "\n",
        "Q5. To interpret a Unicode text file containing text encoded in a different encoding than your platform's default, you can specify the desired encoding when opening the file using the 'encoding' parameter.\n",
        "\n",
        "Q6. The best way to make a Unicode text file in a particular encoding format is to specify the desired encoding when opening the file for writing, and then write Unicode text to the file using the appropriate encoding.\n",
        "\n",
        "Q7. ASCII text qualifies as a form of Unicode text because ASCII characters are a subset of the Unicode character set.\n",
        "\n",
        "Q8. The change in string types in Python 3.X can have a significant effect on code that was written for Python 2.X and relies on implicit string type conversions. Code that explicitly handles Unicode and binary data should be less affected by the change."
      ],
      "metadata": {
        "id": "7hjgjG7RWgfS"
      }
    }
  ]
}