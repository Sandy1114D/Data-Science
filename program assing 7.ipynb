{
  "nbformat": 4,
  "nbformat_minor": 0,
  "metadata": {
    "colab": {
      "provenance": []
    },
    "kernelspec": {
      "name": "python3",
      "display_name": "Python 3"
    },
    "language_info": {
      "name": "python"
    }
  },
  "cells": [
    {
      "cell_type": "markdown",
      "source": [
        "1. Write a Python Program to find sum of array?\n",
        "2. Write a Python Program to find largest element in an array?\n",
        "3. Write a Python Program for array rotation?\n",
        "4. Write a Python Program to Split the array and add the first part to the end?\n",
        "5. Write a Python Program to check if given array is Monotonic?"
      ],
      "metadata": {
        "id": "75h3lKHs-R9R"
      }
    },
    {
      "cell_type": "code",
      "source": [
        "def sum_array(arr):\n",
        "    \"\"\"\n",
        "    Computes the sum of an array.\n",
        "\n",
        "    Args:\n",
        "        arr: list of numbers\n",
        "\n",
        "    Returns:\n",
        "        The sum of the numbers in the array.\n",
        "    \"\"\"\n",
        "    sum = 0\n",
        "    for i in arr:\n",
        "        sum += i\n",
        "    return sum\n",
        "\n",
        "# Example usage:\n",
        "my_array = [1, 2, 3, 4, 5]\n",
        "print(sum_array(my_array))  # Output: 15\n"
      ],
      "metadata": {
        "colab": {
          "base_uri": "https://localhost:8080/"
        },
        "id": "UEsV8sxb-TsS",
        "outputId": "a5f9e8fa-43af-43ee-b7ab-e43170a5ebec"
      },
      "execution_count": 1,
      "outputs": [
        {
          "output_type": "stream",
          "name": "stdout",
          "text": [
            "15\n"
          ]
        }
      ]
    },
    {
      "cell_type": "code",
      "source": [
        "def find_largest(arr):\n",
        "    \"\"\"\n",
        "    Finds the largest element in an array.\n",
        "\n",
        "    Args:\n",
        "        arr: list of numbers\n",
        "\n",
        "    Returns:\n",
        "        The largest number in the array.\n",
        "    \"\"\"\n",
        "    largest = arr[0]\n",
        "    for i in range(1, len(arr)):\n",
        "        if arr[i] > largest:\n",
        "            largest = arr[i]\n",
        "    return largest\n",
        "\n",
        "# Example usage:\n",
        "my_array = [10, 20, 30, 40, 50]\n",
        "print(find_largest(my_array))  # Output: 50"
      ],
      "metadata": {
        "colab": {
          "base_uri": "https://localhost:8080/"
        },
        "id": "9sUFat8I-six",
        "outputId": "a1ac950b-70d0-4b88-c072-f9ac9ea3e4b2"
      },
      "execution_count": 2,
      "outputs": [
        {
          "output_type": "stream",
          "name": "stdout",
          "text": [
            "50\n"
          ]
        }
      ]
    },
    {
      "cell_type": "code",
      "source": [
        "def rotate_array(arr, k):\n",
        "    \"\"\"\n",
        "    Rotates an array k positions to the right.\n",
        "\n",
        "    Args:\n",
        "        arr: list of numbers\n",
        "        k: integer representing number of positions to rotate\n",
        "\n",
        "    Returns:\n",
        "        The rotated array.\n",
        "    \"\"\"\n",
        "    n = len(arr)\n",
        "    # If k is greater than n, reduce it to a value less than n\n",
        "    k = k % n\n",
        "    # Reverse the first n-k elements\n",
        "    arr[:n-k] = arr[:n-k][::-1]\n",
        "    # Reverse the last k elements\n",
        "    arr[n-k:] = arr[n-k:][::-1]\n",
        "    # Reverse the entire array\n",
        "    arr[:] = arr[::-1]\n",
        "    return arr\n",
        "\n",
        "# Example usage:\n",
        "my_array = [1, 2, 3, 4, 5]\n",
        "k = 2\n",
        "print(rotate_array(my_array, k))  # Output: [4, 5, 1, 2, 3]\n"
      ],
      "metadata": {
        "colab": {
          "base_uri": "https://localhost:8080/"
        },
        "id": "RPces-Eq-6Fi",
        "outputId": "66817e7e-6406-4b44-af64-7ebdec181e44"
      },
      "execution_count": 3,
      "outputs": [
        {
          "output_type": "stream",
          "name": "stdout",
          "text": [
            "[4, 5, 1, 2, 3]\n"
          ]
        }
      ]
    },
    {
      "cell_type": "code",
      "source": [
        "def split_and_add(arr, n):\n",
        "    \"\"\"\n",
        "    Splits an array at position n and adds the first part to the end.\n",
        "\n",
        "    Args:\n",
        "        arr: list of numbers\n",
        "        n: integer representing split position\n",
        "\n",
        "    Returns:\n",
        "        The modified array.\n",
        "    \"\"\"\n",
        "    first_part = arr[:n]\n",
        "    second_part = arr[n:]\n",
        "    return second_part + first_part\n",
        "\n",
        "# Example usage:\n",
        "my_array = [1, 2, 3, 4, 5]\n",
        "n = 2\n",
        "print(split_and_add(my_array, n))  \n"
      ],
      "metadata": {
        "colab": {
          "base_uri": "https://localhost:8080/"
        },
        "id": "3-2KHRYf-8t8",
        "outputId": "cf63e3b2-5537-44bb-9001-b7d74f732743"
      },
      "execution_count": 5,
      "outputs": [
        {
          "output_type": "stream",
          "name": "stdout",
          "text": [
            "[3, 4, 5, 1, 2]\n"
          ]
        }
      ]
    },
    {
      "cell_type": "code",
      "source": [
        "def is_monotonic(arr):\n",
        "    \"\"\"\n",
        "    Checks if an array is monotonic.\n",
        "\n",
        "    Args:\n",
        "        arr: list of numbers\n",
        "\n",
        "    Returns:\n",
        "        True if the array is monotonic, False otherwise.\n",
        "    \"\"\"\n",
        "    increasing = decreasing = True\n",
        "    for i in range(1, len(arr)):\n",
        "        if arr[i] > arr[i-1]:\n",
        "            decreasing = False\n",
        "        elif arr[i] < arr[i-1]:\n",
        "            increasing = False\n",
        "        if not increasing and not decreasing:\n",
        "            return False\n",
        "    return True\n",
        "\n",
        "# Example usage:\n",
        "my_array = [1, 2, 3, 4, 5]\n",
        "print(is_monotonic(my_array))  # Output: True\n",
        "\n",
        "my_array = [5, 4, 3, 2, 1]\n",
        "print(is_monotonic(my_array))  # Output: True\n",
        "\n",
        "my_array = [1, 2, 3, 2, 1]\n",
        "print(is_monotonic(my_array))  # Output: False\n"
      ],
      "metadata": {
        "colab": {
          "base_uri": "https://localhost:8080/"
        },
        "id": "vw9sfdK7_JoG",
        "outputId": "1053ce3e-a019-4591-f83c-245b4a528f06"
      },
      "execution_count": 6,
      "outputs": [
        {
          "output_type": "stream",
          "name": "stdout",
          "text": [
            "True\n",
            "True\n",
            "False\n"
          ]
        }
      ]
    },
    {
      "cell_type": "code",
      "source": [],
      "metadata": {
        "id": "sboFMYYU_Pi7"
      },
      "execution_count": null,
      "outputs": []
    }
  ]
}